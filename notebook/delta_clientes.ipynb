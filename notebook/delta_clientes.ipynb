{
 "cells": [
  {
   "cell_type": "markdown",
   "metadata": {
    "application/vnd.databricks.v1+cell": {
     "cellMetadata": {},
     "inputWidgets": {},
     "nuid": "491c0476-44a7-490c-b537-e2f0822d4bea",
     "showTitle": false,
     "title": ""
    }
   },
   "source": [
    "PRIMEIRA CAMADA"
   ]
  },
  {
   "cell_type": "code",
   "execution_count": 0,
   "metadata": {
    "application/vnd.databricks.v1+cell": {
     "cellMetadata": {
      "byteLimit": 2048000,
      "rowLimit": 10000
     },
     "inputWidgets": {},
     "nuid": "3c9001eb-4450-452d-b8e8-63518bd6feec",
     "showTitle": true,
     "title": "Carregando arquivos brutos"
    }
   },
   "outputs": [],
   "source": [
    "file_location_clientes = \"dbfs:/FileStore/seminovos/database/clientes_raw.csv\"\n",
    "clientes_raw = spark.read.csv(file_location_clientes, header=True, inferSchema=False)"
   ]
  },
  {
   "cell_type": "markdown",
   "metadata": {
    "application/vnd.databricks.v1+cell": {
     "cellMetadata": {},
     "inputWidgets": {},
     "nuid": "ca6e63fe-f3ff-4e01-b835-15e5e302e24f",
     "showTitle": false,
     "title": ""
    }
   },
   "source": [
    "SEGUNDA CAMADA"
   ]
  },
  {
   "cell_type": "code",
   "execution_count": 0,
   "metadata": {
    "application/vnd.databricks.v1+cell": {
     "cellMetadata": {
      "byteLimit": 2048000,
      "rowLimit": 10000
     },
     "inputWidgets": {},
     "nuid": "aebb73c6-9f3d-410a-b224-91df60469598",
     "showTitle": true,
     "title": "Salvando como sgt_clientes delta format"
    }
   },
   "outputs": [],
   "source": [
    "clientes_raw.write.format(\"delta\").mode(\"overwrite\").save(\"dbfs:/FileStore/seminovos/database/mnt/delta/stg_clientes\")"
   ]
  },
  {
   "cell_type": "code",
   "execution_count": 0,
   "metadata": {
    "application/vnd.databricks.v1+cell": {
     "cellMetadata": {
      "byteLimit": 2048000,
      "rowLimit": 10000
     },
     "inputWidgets": {},
     "nuid": "9c4c894b-e871-4e9b-86c8-ce05e0b7b6ec",
     "showTitle": true,
     "title": "Localiza e carrega delta table"
    }
   },
   "outputs": [
    {
     "output_type": "stream",
     "name": "stdout",
     "output_type": "stream",
     "text": [
      "+-----------------+--------------+--------------------+----------------+\n|             Nome|           CPF|               Email|        Telefone|\n+-----------------+--------------+--------------------+----------------+\n| Ana Julia Moraes|273.498.651-55|helena71@example.com|+55 84 0413-5930|\n|     Raquel Jesus|352.408.796-56|araujomariana@exa...|+55 11 1666 6664|\n|  Evelyn Caldeira|541.730.986-93|isabel15@example.com|   0500-557-3583|\n|    Alexia Novaes|968.415.302-33|lauramonteiro@exa...|+55 31 6306-4522|\n|Sr. Samuel da Paz|908.324.576-47|  crocha@example.com| (031) 3757-7794|\n+-----------------+--------------+--------------------+----------------+\nonly showing top 5 rows\n\n"
     ]
    }
   ],
   "source": [
    "file_location_clientes = \"dbfs:/FileStore/seminovos/database/mnt/delta/stg_clientes\"\n",
    "stg_clientes = spark.read.format(\"delta\").load(file_location_clientes)\n",
    "stg_clientes.show(5)"
   ]
  },
  {
   "cell_type": "code",
   "execution_count": 0,
   "metadata": {
    "application/vnd.databricks.v1+cell": {
     "cellMetadata": {
      "byteLimit": 2048000,
      "rowLimit": 10000
     },
     "inputWidgets": {},
     "nuid": "6aae9516-3f36-41b2-b4b3-6fbe1c5ba3c9",
     "showTitle": true,
     "title": "Filtrando"
    }
   },
   "outputs": [
    {
     "output_type": "stream",
     "name": "stdout",
     "output_type": "stream",
     "text": [
      "+------------------+--------------+--------------------+---------------+\n|              Nome|           CPF|               Email|       Telefone|\n+------------------+--------------+--------------------+---------------+\n|   Evelyn Caldeira|541.730.986-93|isabel15@example.com|  0500-557-3583|\n|Mariane Nascimento|536.802.419-33|ryanribeiro@examp...|(081) 7530 5447|\n|Caroline das Neves|520.169.874-30|emanuellyjesus@ex...|(061) 7491 1359|\n| Emanuelly da Mata|536.182.074-17|sophieviana@examp...|(021) 0419 0762|\n|      Emilly Jesus|571.490.283-14|raquel48@example.org|(061) 9477-8617|\n+------------------+--------------+--------------------+---------------+\nonly showing top 5 rows\n\n"
     ]
    }
   ],
   "source": [
    "cpf_startwith_5 = stg_clientes.filter(stg_clientes.CPF.startswith(\"5\"))\n",
    "cpf_startwith_5.show(5)"
   ]
  },
  {
   "cell_type": "code",
   "execution_count": 0,
   "metadata": {
    "application/vnd.databricks.v1+cell": {
     "cellMetadata": {
      "byteLimit": 2048000,
      "rowLimit": 10000
     },
     "inputWidgets": {},
     "nuid": "2f3a02ff-e28c-476d-806a-324a616cbc22",
     "showTitle": true,
     "title": "Filtrando"
    }
   },
   "outputs": [
    {
     "output_type": "stream",
     "name": "stdout",
     "output_type": "stream",
     "text": [
      "+----------------+--------------+--------------------+-------------------+\n|            Nome|           CPF|               Email|           Telefone|\n+----------------+--------------+--------------------+-------------------+\n|Ana Julia Moraes|273.498.651-55|helena71@example.com|   +55 84 0413-5930|\n|   Alexia Novaes|968.415.302-33|lauramonteiro@exa...|   +55 31 6306-4522|\n|  Alana da Rocha|132.490.865-33|  levi50@example.net|+55 (031) 7553 0116|\n| Alice Gonçalves|264.850.139-89| tda-luz@example.com|      0300 186 2162|\n| Agatha Ferreira|603.845.972-38|marcos-vinicius64...|       81 9248-9496|\n+----------------+--------------+--------------------+-------------------+\nonly showing top 5 rows\n\n"
     ]
    }
   ],
   "source": [
    "from pyspark.sql.functions import col, count\n",
    "\n",
    "filtered_clientes = stg_clientes.filter(\n",
    "    (col(\"Nome\").startswith(\"A\")) |\n",
    "    (col(\"Nome\").startswith(\"B\")) &\n",
    "    (col(\"CPF\").startswith(\"5\"))\n",
    ")\n",
    "\n",
    "filtered_clientes.show(5)\n"
   ]
  },
  {
   "cell_type": "markdown",
   "metadata": {
    "application/vnd.databricks.v1+cell": {
     "cellMetadata": {},
     "inputWidgets": {},
     "nuid": "7b264e40-6d0e-430a-90c3-ea5442b5274f",
     "showTitle": false,
     "title": ""
    }
   },
   "source": [
    "Aplicando tratamento no camp 'CPF'"
   ]
  },
  {
   "cell_type": "code",
   "execution_count": 0,
   "metadata": {
    "application/vnd.databricks.v1+cell": {
     "cellMetadata": {
      "byteLimit": 2048000,
      "rowLimit": 10000
     },
     "inputWidgets": {},
     "nuid": "8d2f2920-e648-4398-a93f-3cbe07b966d1",
     "showTitle": true,
     "title": "Agrupamento groupBy / Agg / count"
    }
   },
   "outputs": [
    {
     "output_type": "stream",
     "name": "stdout",
     "output_type": "stream",
     "text": [
      "+--------------+--------------+\n|           CPF|quantidade_cpf|\n+--------------+--------------+\n|249.571.380-79|             1|\n|734.128.650-44|             1|\n|037.286.154-71|             1|\n|541.708.963-00|             1|\n|309.541.768-39|             1|\n|365.729.480-56|             1|\n|743.619.852-19|             1|\n|509.213.687-12|             1|\n|237.806.519-12|             1|\n|267.194.358-09|             1|\n|198.053.276-12|             1|\n|173.940.256-16|             1|\n|089.126.734-40|             1|\n|379.285.140-79|             1|\n|708.493.152-04|             1|\n|085.143.296-42|             1|\n|912.306.784-50|             1|\n|360.589.271-02|             1|\n|310.296.574-16|             1|\n|821.903.456-42|             1|\n+--------------+--------------+\nonly showing top 20 rows\n\n"
     ]
    }
   ],
   "source": [
    "count_cpfs = stg_clientes.groupBy(\"CPF\").agg(count(\"cpf\").alias(\"quantidade_cpf\"))\n",
    "count_cpfs.show()"
   ]
  },
  {
   "cell_type": "code",
   "execution_count": 0,
   "metadata": {
    "application/vnd.databricks.v1+cell": {
     "cellMetadata": {
      "byteLimit": 2048000,
      "rowLimit": 10000
     },
     "inputWidgets": {},
     "nuid": "cc915183-5113-4332-bb43-4e3e76c40229",
     "showTitle": false,
     "title": ""
    }
   },
   "outputs": [
    {
     "output_type": "stream",
     "name": "stdout",
     "output_type": "stream",
     "text": [
      "+--------------+--------------+\n|           CPF|quantidade_cpf|\n+--------------+--------------+\n|637.824.051-53|             2|\n+--------------+--------------+\n\n"
     ]
    }
   ],
   "source": [
    "\n",
    "cpfs_duplicados = count_cpfs.filter(col(\"quantidade_cpf\")>1)\n",
    "cpfs_duplicados.show()"
   ]
  },
  {
   "cell_type": "code",
   "execution_count": 0,
   "metadata": {
    "application/vnd.databricks.v1+cell": {
     "cellMetadata": {
      "byteLimit": 2048000,
      "rowLimit": 10000
     },
     "inputWidgets": {},
     "nuid": "16cb6388-f780-411b-9d5a-1097fc57f818",
     "showTitle": false,
     "title": ""
    }
   },
   "outputs": [
    {
     "output_type": "stream",
     "name": "stdout",
     "output_type": "stream",
     "text": [
      "+-------------------+--------------+--------------------------+-------------------+\n|Nome               |CPF           |Email                     |Telefone           |\n+-------------------+--------------+--------------------------+-------------------+\n|Luiz Miguel Pires  |637.824.051-53|bcastro@example.com       |+55 (041) 8718-1716|\n|Murilo da Conceição|637.824.051-53|martinsleandro@example.com|+55 61 2216 2442   |\n+-------------------+--------------+--------------------------+-------------------+\n\n"
     ]
    }
   ],
   "source": [
    "nomes_cpfs_duplicados = stg_clientes.filter(col(\"CPF\")== \"637.824.051-53\")\n",
    "nomes_cpfs_duplicados.show(truncate=False)"
   ]
  },
  {
   "cell_type": "code",
   "execution_count": 0,
   "metadata": {
    "application/vnd.databricks.v1+cell": {
     "cellMetadata": {
      "byteLimit": 2048000,
      "rowLimit": 10000
     },
     "inputWidgets": {},
     "nuid": "b0ec4aeb-3cf4-41a9-9812-475b7b8d7a9e",
     "showTitle": true,
     "title": "Atualizando o registro"
    }
   },
   "outputs": [
    {
     "output_type": "stream",
     "name": "stdout",
     "output_type": "stream",
     "text": [
      "+-----------------------+--------------+-----------------------------+-------------------+\n|Nome                   |CPF           |Email                        |Telefone           |\n+-----------------------+--------------+-----------------------------+-------------------+\n|Ana Julia Moraes       |273.498.651-55|helena71@example.com         |+55 84 0413-5930   |\n|Raquel Jesus           |352.408.796-56|araujomariana@example.net    |+55 11 1666 6664   |\n|Evelyn Caldeira        |541.730.986-93|isabel15@example.com         |0500-557-3583      |\n|Alexia Novaes          |968.415.302-33|lauramonteiro@example.net    |+55 31 6306-4522   |\n|Sr. Samuel da Paz      |908.324.576-47|crocha@example.com           |(031) 3757-7794    |\n|Alana da Rocha         |132.490.865-33|levi50@example.net           |+55 (031) 7553 0116|\n|Eduardo da Rocha       |490.713.682-03|tda-mata@example.net         |+55 51 1723 7105   |\n|Mariane Nascimento     |536.802.419-33|ryanribeiro@example.org      |(081) 7530 5447    |\n|Raul Santos            |014.958.362-15|maria-luiza92@example.com    |0900 579 5980      |\n|Caroline das Neves     |520.169.874-30|emanuellyjesus@example.net   |(061) 7491 1359    |\n|Marcela Silveira       |245.068.713-08|ncavalcanti@example.net      |+55 (071) 6361 0426|\n|Maria Pires            |376.140.859-57|olopes@example.org           |+55 (031) 1007 3802|\n|Gabrielly da Paz       |975.864.130-10|noahlopes@example.org        |(071) 4148 4722    |\n|João Miguel Caldeira   |872.063.591-59|mfarias@example.com          |+55 21 3246 5403   |\n|Gabriel Souza          |619.352.847-46|daniela03@example.org        |31 9109-8384       |\n|Alice Gonçalves        |264.850.139-89|tda-luz@example.com          |0300 186 2162      |\n|Dr. João Gabriel Duarte|069.517.284-02|emanuella58@example.org      |(084) 0733 9731    |\n|Agatha Ferreira        |603.845.972-38|marcos-vinicius64@example.net|81 9248-9496       |\n|Nina Ramos             |279.614.038-50|valentinacaldeira@example.net|+55 (084) 3259-9732|\n|Emanuelly da Mata      |536.182.074-17|sophieviana@example.com      |(021) 0419 0762    |\n+-----------------------+--------------+-----------------------------+-------------------+\nonly showing top 20 rows\n\n"
     ]
    }
   ],
   "source": [
    "from pyspark.sql.functions import col, when\n",
    "cliente_atualizado = stg_clientes.withColumn(\n",
    "    \"CPF\",\n",
    "    when(\n",
    "    (col(\"Nome\")== \"Luiz Miguel Pires\") & (col(\"CPF\")== \"637.824.051-53\"),\n",
    "    \"637.824.059-59\"\n",
    "    ).otherwise\n",
    "    (col(\"CPF\"))\n",
    ")\n",
    "cliente_atualizado.show(truncate=False)\n"
   ]
  },
  {
   "cell_type": "code",
   "execution_count": 0,
   "metadata": {
    "application/vnd.databricks.v1+cell": {
     "cellMetadata": {
      "byteLimit": 2048000,
      "rowLimit": 10000
     },
     "inputWidgets": {},
     "nuid": "9c8c5917-ce14-46e2-9f17-fd25fb16bfb3",
     "showTitle": false,
     "title": ""
    }
   },
   "outputs": [
    {
     "output_type": "stream",
     "name": "stdout",
     "output_type": "stream",
     "text": [
      "CPF atualizado para 637.824.059-59\n"
     ]
    }
   ],
   "source": [
    "cpf_atualizado = cliente_atualizado.filter(\n",
    "    (col(\"Nome\") == \"Luiz Miguel Pires\") & (col(\"CPF\") == \"637.824.059-59\")\n",
    ").select(\"CPF\").collect()\n",
    "\n",
    "if cpf_atualizado:\n",
    "    print(f\"CPF atualizado para {cpf_atualizado[0]['CPF']}\")\n",
    "else:\n",
    "    print(\"O CPF não foi atualizado.\")\n"
   ]
  },
  {
   "cell_type": "code",
   "execution_count": 0,
   "metadata": {
    "application/vnd.databricks.v1+cell": {
     "cellMetadata": {
      "byteLimit": 2048000,
      "rowLimit": 10000
     },
     "inputWidgets": {},
     "nuid": "8c02923a-facc-4899-838f-8cfbe4ebe0f3",
     "showTitle": true,
     "title": "Salvando a alteração"
    }
   },
   "outputs": [],
   "source": [
    "file_location_clientes = \"dbfs:/FileStore/seminovos/database/mnt/delta/stg_clientes\"\n",
    "stg_clientes = spark.read.format(\"delta\").load(file_location_clientes)\n",
    "stg_clientes_telefone_limpo.write.format(\"delta\").mode(\"overwrite\").save(\"dbfs:/FileStore/seminovos/database/mnt/delta/stg_clientes\")"
   ]
  },
  {
   "cell_type": "code",
   "execution_count": 0,
   "metadata": {
    "application/vnd.databricks.v1+cell": {
     "cellMetadata": {
      "byteLimit": 2048000,
      "rowLimit": 10000
     },
     "inputWidgets": {},
     "nuid": "56c7cc77-1feb-49a1-a041-8d4a8fa06b34",
     "showTitle": true,
     "title": "Verificando alteração"
    }
   },
   "outputs": [
    {
     "output_type": "stream",
     "name": "stdout",
     "output_type": "stream",
     "text": [
      "+-------------------+--------------+--------------------+-------------+\n|               Nome|           CPF|               Email|     Telefone|\n+-------------------+--------------+--------------------+-------------+\n|  Luiz Miguel Pires|637.824.059-59| bcastro@example.com|5504187181716|\n|Murilo da Conceição|637.824.051-53|martinsleandro@ex...| 556122162442|\n+-------------------+--------------+--------------------+-------------+\n\n"
     ]
    }
   ],
   "source": [
    "from pyspark.sql.functions import col\n",
    "clientes_atualizados = stg_clientes.filter(\n",
    "    (col(\"Nome\").startswith(\"Luiz Miguel Pires\")) |\n",
    "    (col(\"Nome\").startswith(\"Murilo da Conceição\"))\n",
    ")\n",
    "    \n",
    "clientes_atualizados.show()"
   ]
  },
  {
   "cell_type": "markdown",
   "metadata": {
    "application/vnd.databricks.v1+cell": {
     "cellMetadata": {
      "byteLimit": 2048000,
      "rowLimit": 10000
     },
     "inputWidgets": {},
     "nuid": "3539304e-ba04-40a6-8c12-70864ad8eb1f",
     "showTitle": true,
     "title": ""
    }
   },
   "source": [
    "**Aplicando transformações no campo 'Telefone':**"
   ]
  },
  {
   "cell_type": "code",
   "execution_count": 0,
   "metadata": {
    "application/vnd.databricks.v1+cell": {
     "cellMetadata": {
      "byteLimit": 2048000,
      "rowLimit": 10000
     },
     "inputWidgets": {},
     "nuid": "67bc0655-a0df-498d-a127-05736559298a",
     "showTitle": true,
     "title": "Limpando o campo TELEFONE"
    }
   },
   "outputs": [
    {
     "output_type": "stream",
     "name": "stdout",
     "output_type": "stream",
     "text": [
      "+-----------------+--------------+--------------------+------------+\n|             Nome|           CPF|               Email|    Telefone|\n+-----------------+--------------+--------------------+------------+\n| Ana Julia Moraes|273.498.651-55|helena71@example.com|558404135930|\n|     Raquel Jesus|352.408.796-56|araujomariana@exa...|551116666664|\n|  Evelyn Caldeira|541.730.986-93|isabel15@example.com| 05005573583|\n|    Alexia Novaes|968.415.302-33|lauramonteiro@exa...|553163064522|\n|Sr. Samuel da Paz|908.324.576-47|  crocha@example.com| 03137577794|\n+-----------------+--------------+--------------------+------------+\nonly showing top 5 rows\n\n"
     ]
    }
   ],
   "source": [
    "from pyspark.sql.functions import regexp_replace\n",
    "\n",
    "stg_clientes_telefone_limpo = stg_clientes.withColumn(\n",
    "    \"Telefone\",\n",
    "    regexp_replace(col(\"Telefone\"), \"[^0-9]\", \"\")\n",
    ")\n",
    "stg_clientes_telefone_limpo.show(5)"
   ]
  },
  {
   "cell_type": "code",
   "execution_count": 0,
   "metadata": {
    "application/vnd.databricks.v1+cell": {
     "cellMetadata": {
      "byteLimit": 2048000,
      "rowLimit": 10000
     },
     "inputWidgets": {},
     "nuid": "60a67cc0-fb81-4082-bb56-7d6cae0c1ed5",
     "showTitle": true,
     "title": "Salvamos as alterações"
    }
   },
   "outputs": [],
   "source": [
    "file_location_clientes = \"dbfs:/FileStore/seminovos/database/mnt/delta/stg_clientes\"\n",
    "stg_clientes = spark.read.format(\"delta\").load(file_location_clientes)\n",
    "stg_clientes_telefone_limpo.write.format(\"delta\").mode(\"overwrite\").save(\"dbfs:/FileStore/seminovos/database/mnt/delta/stg_clientes\")"
   ]
  },
  {
   "cell_type": "code",
   "execution_count": 0,
   "metadata": {
    "application/vnd.databricks.v1+cell": {
     "cellMetadata": {
      "byteLimit": 2048000,
      "rowLimit": 10000
     },
     "inputWidgets": {},
     "nuid": "bb3f9017-bcc5-4a6e-b6e6-74dc10246059",
     "showTitle": true,
     "title": "Criar coluna com comprimento dos números"
    }
   },
   "outputs": [
    {
     "output_type": "stream",
     "name": "stdout",
     "output_type": "stream",
     "text": [
      "+-----------------+--------------+--------------------+------------+---------------+\n|             Nome|           CPF|               Email|    Telefone|Telefone_length|\n+-----------------+--------------+--------------------+------------+---------------+\n| Ana Julia Moraes|273.498.651-55|helena71@example.com|558404135930|             12|\n|     Raquel Jesus|352.408.796-56|araujomariana@exa...|551116666664|             12|\n|  Evelyn Caldeira|541.730.986-93|isabel15@example.com| 05005573583|             11|\n|    Alexia Novaes|968.415.302-33|lauramonteiro@exa...|553163064522|             12|\n|Sr. Samuel da Paz|908.324.576-47|  crocha@example.com| 03137577794|             11|\n+-----------------+--------------+--------------------+------------+---------------+\nonly showing top 5 rows\n\n"
     ]
    }
   ],
   "source": [
    "from pyspark.sql.functions import length, col\n",
    "comprimento_telefone = stg_clientes.withColumn(\"Telefone_length\", length(col(\"Telefone\")))\n",
    "comprimento_telefone.show(5)\n"
   ]
  },
  {
   "cell_type": "code",
   "execution_count": 0,
   "metadata": {
    "application/vnd.databricks.v1+cell": {
     "cellMetadata": {
      "byteLimit": 2048000,
      "rowLimit": 10000
     },
     "inputWidgets": {},
     "nuid": "28398740-2487-40c3-bd33-893a537d9183",
     "showTitle": true,
     "title": "Agrupando os comprimentos"
    }
   },
   "outputs": [
    {
     "output_type": "stream",
     "name": "stdout",
     "output_type": "stream",
     "text": [
      "+---------------+-----+\n|Telefone_Length|count|\n+---------------+-----+\n|12             |229  |\n|13             |229  |\n|10             |237  |\n|11             |305  |\n+---------------+-----+\n\n"
     ]
    }
   ],
   "source": [
    "agrupar_comprimento_telefone = comprimento_telefone.groupBy(\"Telefone_Length\").count().filter(\n",
    "    col(\"Telefone_Length\").isin(10, 11, 12, 13,14,15,16)\n",
    ")\n",
    "agrupar_comprimento_telefone.show(truncate=False)"
   ]
  },
  {
   "cell_type": "code",
   "execution_count": 0,
   "metadata": {
    "application/vnd.databricks.v1+cell": {
     "cellMetadata": {
      "byteLimit": 2048000,
      "rowLimit": 10000
     },
     "inputWidgets": {},
     "nuid": "48d30e8e-1e4d-497c-bd63-1de447524450",
     "showTitle": false,
     "title": ""
    }
   },
   "outputs": [
    {
     "output_type": "stream",
     "name": "stdout",
     "output_type": "stream",
     "text": [
      "+------------------+--------------+--------------------+--------------+\n|              Nome|           CPF|               Email|      Telefone|\n+------------------+--------------+--------------------+--------------+\n|  Ana Julia Moraes|273.498.651-55|helena71@example.com|  558404135930|\n|      Raquel Jesus|352.408.796-56|araujomariana@exa...|  551116666664|\n|   Evelyn Caldeira|541.730.986-93|isabel15@example.com|(05) 0055-7358|\n|     Alexia Novaes|968.415.302-33|lauramonteiro@exa...|  553163064522|\n| Sr. Samuel da Paz|908.324.576-47|  crocha@example.com|(03) 1375-7779|\n|    Alana da Rocha|132.490.865-33|  levi50@example.net| 5503175530116|\n|  Eduardo da Rocha|490.713.682-03|tda-mata@example.net|  555117237105|\n|Mariane Nascimento|536.802.419-33|ryanribeiro@examp...|(08) 1753-0544|\n|       Raul Santos|014.958.362-15|maria-luiza92@exa...|(09) 0057-9598|\n|Caroline das Neves|520.169.874-30|emanuellyjesus@ex...|(06) 1749-1135|\n+------------------+--------------+--------------------+--------------+\nonly showing top 10 rows\n\n"
     ]
    }
   ],
   "source": [
    "telefone_11_digitos = stg_clientes.withColumn(\n",
    "    \"Telefone\",\n",
    "    when(\n",
    "        col(\"Telefone\").rlike(\"^[0-9]{11}$\"), \n",
    "        concat(\n",
    "            lit(\"(\"),\n",
    "            substring(col(\"Telefone\"), 1, 2),  \n",
    "            lit(\") \"),\n",
    "            substring(col(\"Telefone\"), 3, 4), \n",
    "            lit(\"-\"),\n",
    "            substring(col(\"Telefone\"), 7, 4) \n",
    "        )\n",
    "    ).otherwise(col(\"Telefone\")) \n",
    ")\n",
    "telefone_11_digitos.show(10)"
   ]
  },
  {
   "cell_type": "code",
   "execution_count": 0,
   "metadata": {
    "application/vnd.databricks.v1+cell": {
     "cellMetadata": {
      "byteLimit": 2048000,
      "rowLimit": 10000
     },
     "inputWidgets": {},
     "nuid": "9584f4a3-3317-45e9-b36d-4465f8a2ac95",
     "showTitle": false,
     "title": ""
    }
   },
   "outputs": [],
   "source": [
    "telefone_11_digitos.write.format(\"delta\").mode(\"overwrite\").save(\"dbfs:/FileStore/seminovos/database/mnt/delta/stg_clientes\")"
   ]
  },
  {
   "cell_type": "code",
   "execution_count": 0,
   "metadata": {
    "application/vnd.databricks.v1+cell": {
     "cellMetadata": {
      "byteLimit": 2048000,
      "rowLimit": 10000
     },
     "inputWidgets": {},
     "nuid": "577d0652-4665-4a4b-b512-2aa7177493c1",
     "showTitle": false,
     "title": ""
    }
   },
   "outputs": [
    {
     "output_type": "stream",
     "name": "stdout",
     "output_type": "stream",
     "text": [
      "+------------------+--------------+--------------------+--------------+\n|              Nome|           CPF|               Email|      Telefone|\n+------------------+--------------+--------------------+--------------+\n|  Ana Julia Moraes|273.498.651-55|helena71@example.com|(55) 8404-1359|\n|      Raquel Jesus|352.408.796-56|araujomariana@exa...|(55) 1116-6666|\n|   Evelyn Caldeira|541.730.986-93|isabel15@example.com|(05) 0055-7358|\n|     Alexia Novaes|968.415.302-33|lauramonteiro@exa...|(55) 3163-0645|\n| Sr. Samuel da Paz|908.324.576-47|  crocha@example.com|(03) 1375-7779|\n|    Alana da Rocha|132.490.865-33|  levi50@example.net| 5503175530116|\n|  Eduardo da Rocha|490.713.682-03|tda-mata@example.net|(55) 5117-2371|\n|Mariane Nascimento|536.802.419-33|ryanribeiro@examp...|(08) 1753-0544|\n|       Raul Santos|014.958.362-15|maria-luiza92@exa...|(09) 0057-9598|\n|Caroline das Neves|520.169.874-30|emanuellyjesus@ex...|(06) 1749-1135|\n+------------------+--------------+--------------------+--------------+\nonly showing top 10 rows\n\n"
     ]
    }
   ],
   "source": [
    "telefone_12_digitos = stg_clientes.withColumn(\n",
    "    \"Telefone\",\n",
    "    when(\n",
    "        col(\"Telefone\").rlike(\"^[0-9]{12}$\"), \n",
    "        concat(\n",
    "            lit(\"(\"),\n",
    "            substring(col(\"Telefone\"), 1, 2),  \n",
    "            lit(\") \"),\n",
    "            substring(col(\"Telefone\"), 3, 4), \n",
    "            lit(\"-\"),\n",
    "            substring(col(\"Telefone\"), 7, 4) \n",
    "        )\n",
    "    ).otherwise(col(\"Telefone\")) \n",
    ")\n",
    "telefone_12_digitos.show(10)"
   ]
  },
  {
   "cell_type": "code",
   "execution_count": 0,
   "metadata": {
    "application/vnd.databricks.v1+cell": {
     "cellMetadata": {
      "byteLimit": 2048000,
      "rowLimit": 10000
     },
     "inputWidgets": {},
     "nuid": "706bc295-8d1e-447d-9ffb-b1b2aefd7188",
     "showTitle": false,
     "title": ""
    }
   },
   "outputs": [],
   "source": [
    "telefone_12_digitos.write.format(\"delta\").mode(\"overwrite\").save(\"dbfs:/FileStore/seminovos/database/mnt/delta/stg_clientes\")"
   ]
  },
  {
   "cell_type": "code",
   "execution_count": 0,
   "metadata": {
    "application/vnd.databricks.v1+cell": {
     "cellMetadata": {
      "byteLimit": 2048000,
      "rowLimit": 10000
     },
     "inputWidgets": {},
     "nuid": "bd464543-746e-4aa0-98dc-6cc9dada6d7a",
     "showTitle": false,
     "title": ""
    }
   },
   "outputs": [
    {
     "output_type": "stream",
     "name": "stdout",
     "output_type": "stream",
     "text": [
      "+------------------+--------------+--------------------+--------------+\n|              Nome|           CPF|               Email|      Telefone|\n+------------------+--------------+--------------------+--------------+\n|  Ana Julia Moraes|273.498.651-55|helena71@example.com|(55) 8404-1359|\n|      Raquel Jesus|352.408.796-56|araujomariana@exa...|(55) 1116-6666|\n|   Evelyn Caldeira|541.730.986-93|isabel15@example.com|(05) 0055-7358|\n|     Alexia Novaes|968.415.302-33|lauramonteiro@exa...|(55) 3163-0645|\n| Sr. Samuel da Paz|908.324.576-47|  crocha@example.com|(03) 1375-7779|\n|    Alana da Rocha|132.490.865-33|  levi50@example.net|(55) 0317-5530|\n|  Eduardo da Rocha|490.713.682-03|tda-mata@example.net|(55) 5117-2371|\n|Mariane Nascimento|536.802.419-33|ryanribeiro@examp...|(08) 1753-0544|\n|       Raul Santos|014.958.362-15|maria-luiza92@exa...|(09) 0057-9598|\n|Caroline das Neves|520.169.874-30|emanuellyjesus@ex...|(06) 1749-1135|\n+------------------+--------------+--------------------+--------------+\nonly showing top 10 rows\n\n"
     ]
    }
   ],
   "source": [
    "telefone_13_digitos = stg_clientes.withColumn(\n",
    "    \"Telefone\",\n",
    "    when(\n",
    "        col(\"Telefone\").rlike(\"^[0-9]{13}$\"), \n",
    "        concat(\n",
    "            lit(\"(\"),\n",
    "            substring(col(\"Telefone\"), 1, 2),  \n",
    "            lit(\") \"),\n",
    "            substring(col(\"Telefone\"), 3, 4), \n",
    "            lit(\"-\"),\n",
    "            substring(col(\"Telefone\"), 7, 4) \n",
    "        )\n",
    "    ).otherwise(col(\"Telefone\")) \n",
    ")\n",
    "telefone_13_digitos.show(10)"
   ]
  },
  {
   "cell_type": "code",
   "execution_count": 0,
   "metadata": {
    "application/vnd.databricks.v1+cell": {
     "cellMetadata": {
      "byteLimit": 2048000,
      "rowLimit": 10000
     },
     "inputWidgets": {},
     "nuid": "f23c4e7a-47a6-4b44-b49e-082ae7b0fc98",
     "showTitle": false,
     "title": ""
    }
   },
   "outputs": [],
   "source": [
    "telefone_13_digitos.write.format(\"delta\").mode(\"overwrite\").save(\"dbfs:/FileStore/seminovos/database/mnt/delta/stg_clientes\")"
   ]
  },
  {
   "cell_type": "markdown",
   "metadata": {
    "application/vnd.databricks.v1+cell": {
     "cellMetadata": {},
     "inputWidgets": {},
     "nuid": "a23c77a6-bc39-4034-88fb-8c6a7e91a725",
     "showTitle": false,
     "title": ""
    }
   },
   "source": [
    "**Aplicando tratamento no campo email**"
   ]
  },
  {
   "cell_type": "code",
   "execution_count": 0,
   "metadata": {
    "application/vnd.databricks.v1+cell": {
     "cellMetadata": {
      "byteLimit": 2048000,
      "rowLimit": 10000
     },
     "inputWidgets": {},
     "nuid": "e776ce1a-bf4b-4ba1-98ac-f21174b49d46",
     "showTitle": false,
     "title": ""
    }
   },
   "outputs": [
    {
     "output_type": "stream",
     "name": "stdout",
     "output_type": "stream",
     "text": [
      "+-----------------------+--------------+---------------------+--------------+\n|Nome                   |CPF           |Email                |Telefone      |\n+-----------------------+--------------+---------------------+--------------+\n|Ana Julia Moraes       |273.498.651-55|ana@exemplo.net      |(55) 8404-1359|\n|Raquel Jesus           |352.408.796-56|raquel@exemplo.net   |(55) 1116-6666|\n|Evelyn Caldeira        |541.730.986-93|evelyn@exemplo.net   |(05) 0055-7358|\n|Alexia Novaes          |968.415.302-33|alexia@exemplo.net   |(55) 3163-0645|\n|Sr. Samuel da Paz      |908.324.576-47|sr@exemplo.net       |(03) 1375-7779|\n|Alana da Rocha         |132.490.865-33|alana@exemplo.net    |(55) 0317-5530|\n|Eduardo da Rocha       |490.713.682-03|eduardo@exemplo.net  |(55) 5117-2371|\n|Mariane Nascimento     |536.802.419-33|mariane@exemplo.net  |(08) 1753-0544|\n|Raul Santos            |014.958.362-15|raul@exemplo.net     |(09) 0057-9598|\n|Caroline das Neves     |520.169.874-30|caroline@exemplo.net |(06) 1749-1135|\n|Marcela Silveira       |245.068.713-08|marcela@exemplo.net  |(55) 0716-3610|\n|Maria Pires            |376.140.859-57|maria@exemplo.net    |(55) 0311-0073|\n|Gabrielly da Paz       |975.864.130-10|gabrielly@exemplo.net|(07) 1414-8472|\n|João Miguel Caldeira   |872.063.591-59|joo@exemplo.net      |(55) 2132-4654|\n|Gabriel Souza          |619.352.847-46|gabriel@exemplo.net  |(31) 9109-8384|\n|Alice Gonçalves        |264.850.139-89|alice@exemplo.net    |(03) 0018-6216|\n|Dr. João Gabriel Duarte|069.517.284-02|dr@exemplo.net       |(08) 4073-3973|\n|Agatha Ferreira        |603.845.972-38|agatha@exemplo.net   |(81) 9248-9496|\n|Nina Ramos             |279.614.038-50|nina@exemplo.net     |(55) 0843-2599|\n|Emanuelly da Mata      |536.182.074-17|emanuelly@exemplo.net|(02) 1041-9076|\n+-----------------------+--------------+---------------------+--------------+\nonly showing top 20 rows\n\n"
     ]
    }
   ],
   "source": [
    "from pyspark.sql.functions import col, concat_ws, lower, regexp_replace, split, lit\n",
    "\n",
    "cliente_email_padronizado = stg_clientes.withColumn(\n",
    "    \"Email\",\n",
    "    concat_ws(\n",
    "        \"\",\n",
    "        lower(\n",
    "            regexp_replace(\n",
    "                split(col(\"Nome\"), \" \")[0],  \n",
    "                \"[^a-zA-Z]\",                  \n",
    "                \"\"\n",
    "            )\n",
    "        ),\n",
    "        lit(\"@exemplo.net\")              \n",
    "    )\n",
    ")\n",
    "cliente_email_padronizado.show(truncate=False)\n"
   ]
  },
  {
   "cell_type": "code",
   "execution_count": 0,
   "metadata": {
    "application/vnd.databricks.v1+cell": {
     "cellMetadata": {
      "byteLimit": 2048000,
      "rowLimit": 10000
     },
     "inputWidgets": {},
     "nuid": "24589a73-8af7-409c-90ad-03b7d4ef4765",
     "showTitle": true,
     "title": "Contanto os prefixos"
    }
   },
   "outputs": [
    {
     "output_type": "stream",
     "name": "stdout",
     "output_type": "stream",
     "text": [
      "Total de linhas com prefixos ['Sr.', 'Dr.', 'Sra.', 'Dra.']: 164\n"
     ]
    }
   ],
   "source": [
    "from pyspark.sql.functions import col\n",
    "\n",
    "prefixos = ['Sr.', 'Dr.', 'Sra.', 'Dra.']\n",
    "\n",
    "contagem_prefixos = stg_clientes.filter(\n",
    "    col('Nome').rlike(f\"^({'|'.join(prefixos)})\")\n",
    ").count()\n",
    "\n",
    "print(f\"Total de linhas com prefixos {prefixos}: {contagem_prefixos}\")\n"
   ]
  },
  {
   "cell_type": "code",
   "execution_count": 0,
   "metadata": {
    "application/vnd.databricks.v1+cell": {
     "cellMetadata": {
      "byteLimit": 2048000,
      "rowLimit": 10000
     },
     "inputWidgets": {},
     "nuid": "c792b7ee-8ef7-4aa6-a11f-6d88eeaff444",
     "showTitle": false,
     "title": ""
    }
   },
   "outputs": [
    {
     "output_type": "stream",
     "name": "stdout",
     "output_type": "stream",
     "text": [
      "+--------------------+--------------+---------------------+--------------+\n|Nome                |CPF           |Email                |Telefone      |\n+--------------------+--------------+---------------------+--------------+\n|Ana Julia Moraes    |273.498.651-55|ana@exemplo.net      |(55) 8404-1359|\n|Raquel Jesus        |352.408.796-56|raquel@exemplo.net   |(55) 1116-6666|\n|Evelyn Caldeira     |541.730.986-93|evelyn@exemplo.net   |(05) 0055-7358|\n|Alexia Novaes       |968.415.302-33|alexia@exemplo.net   |(55) 3163-0645|\n|Alana da Rocha      |132.490.865-33|alana@exemplo.net    |(55) 0317-5530|\n|Eduardo da Rocha    |490.713.682-03|eduardo@exemplo.net  |(55) 5117-2371|\n|Mariane Nascimento  |536.802.419-33|mariane@exemplo.net  |(08) 1753-0544|\n|Raul Santos         |014.958.362-15|raul@exemplo.net     |(09) 0057-9598|\n|Caroline das Neves  |520.169.874-30|caroline@exemplo.net |(06) 1749-1135|\n|Marcela Silveira    |245.068.713-08|marcela@exemplo.net  |(55) 0716-3610|\n|Maria Pires         |376.140.859-57|maria@exemplo.net    |(55) 0311-0073|\n|Gabrielly da Paz    |975.864.130-10|gabrielly@exemplo.net|(07) 1414-8472|\n|João Miguel Caldeira|872.063.591-59|joão@exemplo.net     |(55) 2132-4654|\n|Gabriel Souza       |619.352.847-46|gabriel@exemplo.net  |(31) 9109-8384|\n|Alice Gonçalves     |264.850.139-89|alice@exemplo.net    |(03) 0018-6216|\n|Agatha Ferreira     |603.845.972-38|agatha@exemplo.net   |(81) 9248-9496|\n|Nina Ramos          |279.614.038-50|nina@exemplo.net     |(55) 0843-2599|\n|Emanuelly da Mata   |536.182.074-17|emanuelly@exemplo.net|(02) 1041-9076|\n|Erick Souza         |954.260.173-52|erick@exemplo.net    |(55) 2117-5008|\n|Breno Melo          |692.085.734-00|breno@exemplo.net    |(11) 3661-5034|\n+--------------------+--------------+---------------------+--------------+\nonly showing top 20 rows\n\n"
     ]
    }
   ],
   "source": [
    "clientes_sem_prefixos = stg_clientes.filter(\n",
    "    ~col('Nome').rlike(f\"^({'|'.join(prefixos)})\")\n",
    ")\n",
    "\n",
    "from pyspark.sql.functions import concat_ws, lower\n",
    "\n",
    "clientes_email_normalizados = clientes_sem_prefixos.withColumn(\n",
    "    \"Email\",\n",
    "    concat_ws(\n",
    "        \"@\", \n",
    "        lower(split(col(\"Nome\"), \" \")[0]), \n",
    "        lit(\"exemplo.net\")\n",
    "    )\n",
    ")\n",
    "\n",
    "clientes_email_normalizados.show(truncate=False)\n"
   ]
  },
  {
   "cell_type": "code",
   "execution_count": 0,
   "metadata": {
    "application/vnd.databricks.v1+cell": {
     "cellMetadata": {
      "byteLimit": 2048000,
      "rowLimit": 10000
     },
     "inputWidgets": {},
     "nuid": "b62a4838-32f2-4282-a8f8-f1f458e84887",
     "showTitle": false,
     "title": ""
    }
   },
   "outputs": [],
   "source": [
    "clientes_email_normalizados.write.format(\"delta\").mode(\"overwrite\").save(\"dbfs:/FileStore/seminovos/database/mnt/delta/stg_clientes\")"
   ]
  },
  {
   "cell_type": "code",
   "execution_count": 0,
   "metadata": {
    "application/vnd.databricks.v1+cell": {
     "cellMetadata": {
      "byteLimit": 2048000,
      "rowLimit": 10000
     },
     "inputWidgets": {},
     "nuid": "fb4e29da-e726-4ff3-9e3d-d42129fde260",
     "showTitle": false,
     "title": ""
    }
   },
   "outputs": [
    {
     "output_type": "display_data",
     "data": {
      "text/html": [
       "<style scoped>\n",
       "  .table-result-container {\n",
       "    max-height: 300px;\n",
       "    overflow: auto;\n",
       "  }\n",
       "  table, th, td {\n",
       "    border: 1px solid black;\n",
       "    border-collapse: collapse;\n",
       "  }\n",
       "  th, td {\n",
       "    padding: 5px;\n",
       "  }\n",
       "  th {\n",
       "    text-align: left;\n",
       "  }\n",
       "</style><div class='table-result-container'><table class='table-result'><thead style='background-color: white'><tr><th>Nome</th><th>CPF</th><th>Email</th><th>Telefone</th></tr></thead><tbody><tr><td>Ana Julia Moraes</td><td>273.498.651-55</td><td>ana@exemplo.net</td><td>(55) 8404-1359</td></tr><tr><td>Raquel Jesus</td><td>352.408.796-56</td><td>raquel@exemplo.net</td><td>(55) 1116-6666</td></tr><tr><td>Evelyn Caldeira</td><td>541.730.986-93</td><td>evelyn@exemplo.net</td><td>(05) 0055-7358</td></tr><tr><td>Alexia Novaes</td><td>968.415.302-33</td><td>alexia@exemplo.net</td><td>(55) 3163-0645</td></tr><tr><td>Alana da Rocha</td><td>132.490.865-33</td><td>alana@exemplo.net</td><td>(55) 0317-5530</td></tr><tr><td>Eduardo da Rocha</td><td>490.713.682-03</td><td>eduardo@exemplo.net</td><td>(55) 5117-2371</td></tr><tr><td>Mariane Nascimento</td><td>536.802.419-33</td><td>mariane@exemplo.net</td><td>(08) 1753-0544</td></tr><tr><td>Raul Santos</td><td>014.958.362-15</td><td>raul@exemplo.net</td><td>(09) 0057-9598</td></tr><tr><td>Caroline das Neves</td><td>520.169.874-30</td><td>caroline@exemplo.net</td><td>(06) 1749-1135</td></tr><tr><td>Marcela Silveira</td><td>245.068.713-08</td><td>marcela@exemplo.net</td><td>(55) 0716-3610</td></tr><tr><td>Maria Pires</td><td>376.140.859-57</td><td>maria@exemplo.net</td><td>(55) 0311-0073</td></tr><tr><td>Gabrielly da Paz</td><td>975.864.130-10</td><td>gabrielly@exemplo.net</td><td>(07) 1414-8472</td></tr><tr><td>João Miguel Caldeira</td><td>872.063.591-59</td><td>joão@exemplo.net</td><td>(55) 2132-4654</td></tr><tr><td>Gabriel Souza</td><td>619.352.847-46</td><td>gabriel@exemplo.net</td><td>(31) 9109-8384</td></tr><tr><td>Alice Gonçalves</td><td>264.850.139-89</td><td>alice@exemplo.net</td><td>(03) 0018-6216</td></tr><tr><td>Agatha Ferreira</td><td>603.845.972-38</td><td>agatha@exemplo.net</td><td>(81) 9248-9496</td></tr><tr><td>Nina Ramos</td><td>279.614.038-50</td><td>nina@exemplo.net</td><td>(55) 0843-2599</td></tr><tr><td>Emanuelly da Mata</td><td>536.182.074-17</td><td>emanuelly@exemplo.net</td><td>(02) 1041-9076</td></tr><tr><td>Erick Souza</td><td>954.260.173-52</td><td>erick@exemplo.net</td><td>(55) 2117-5008</td></tr><tr><td>Breno Melo</td><td>692.085.734-00</td><td>breno@exemplo.net</td><td>(11) 3661-5034</td></tr><tr><td>Gustavo Henrique Cavalcanti</td><td>645.390.827-10</td><td>gustavo@exemplo.net</td><td>(02) 1194-5902</td></tr><tr><td>Ana da Rocha</td><td>714.036.529-61</td><td>ana@exemplo.net</td><td>(08) 1544-5847</td></tr><tr><td>João Vitor Dias</td><td>264.109.387-13</td><td>joão@exemplo.net</td><td>(55) 2111-6823</td></tr><tr><td>Luiz Fernando Nogueira</td><td>380.926.574-83</td><td>luiz@exemplo.net</td><td>(55) 3123-6196</td></tr><tr><td>Pietro Silveira</td><td>714.809.652-94</td><td>pietro@exemplo.net</td><td>(07) 1669-8052</td></tr><tr><td>Ryan Nascimento</td><td>736.459.012-99</td><td>ryan@exemplo.net</td><td>(11) 2690-5973</td></tr><tr><td>Caio Carvalho</td><td>631.859.472-82</td><td>caio@exemplo.net</td><td>(31) 9925-6495</td></tr><tr><td>Fernando Melo</td><td>109.834.625-42</td><td>fernando@exemplo.net</td><td>(06) 1046-6578</td></tr><tr><td>Lavínia Santos</td><td>921.530.684-60</td><td>lavínia@exemplo.net</td><td>(03) 0018-0794</td></tr><tr><td>Isaac Ferreira</td><td>246.879.135-55</td><td>isaac@exemplo.net</td><td>(31) 2977-8374</td></tr><tr><td>Ana Luiza Lima</td><td>249.571.380-79</td><td>ana@exemplo.net</td><td>(55) 0413-3951</td></tr><tr><td>Lucca Mendes</td><td>652.739.418-73</td><td>lucca@exemplo.net</td><td>(55) 8149-6002</td></tr><tr><td>Eloah Aragão</td><td>310.546.279-16</td><td>eloah@exemplo.net</td><td>(55) 0210-8048</td></tr><tr><td>Emilly Jesus</td><td>571.490.283-14</td><td>emilly@exemplo.net</td><td>(06) 1947-7861</td></tr><tr><td>Catarina Cunha</td><td>481.926.705-11</td><td>catarina@exemplo.net</td><td>(55) 8152-1900</td></tr><tr><td>Davi Lucca Rodrigues</td><td>091.378.462-13</td><td>davi@exemplo.net</td><td>(55) 0116-4160</td></tr><tr><td>Theo Fogaça</td><td>016.794.528-94</td><td>theo@exemplo.net</td><td>(55) 0817-1406</td></tr><tr><td>Mirella Aragão</td><td>184.652.073-80</td><td>mirella@exemplo.net</td><td>(55) 0711-2713</td></tr><tr><td>Júlia Nascimento</td><td>028.719.645-30</td><td>júlia@exemplo.net</td><td>(55) 0310-1177</td></tr><tr><td>Juliana Nascimento</td><td>586.021.743-90</td><td>juliana@exemplo.net</td><td>(05) 0074-6747</td></tr><tr><td>Davi Lucas Moreira</td><td>598.246.173-37</td><td>davi@exemplo.net</td><td>(55) 0514-0254</td></tr><tr><td>Renan Cardoso</td><td>724.930.681-22</td><td>renan@exemplo.net</td><td>(55) 0517-7798</td></tr><tr><td>Clarice Santos</td><td>820.463.179-04</td><td>clarice@exemplo.net</td><td>(01) 1162-9830</td></tr><tr><td>Enrico Farias</td><td>926.470.315-25</td><td>enrico@exemplo.net</td><td>(55) 0310-4780</td></tr><tr><td>Luna Moura</td><td>598.204.763-56</td><td>luna@exemplo.net</td><td>(55) 0814-3123</td></tr><tr><td>Letícia Ribeiro</td><td>729.564.380-00</td><td>letícia@exemplo.net</td><td>(51) 5801-0562</td></tr><tr><td>Henrique Nascimento</td><td>314.082.957-41</td><td>henrique@exemplo.net</td><td>(41) 5879-2864</td></tr><tr><td>Cauê Nunes</td><td>375.912.608-12</td><td>cauê@exemplo.net</td><td>(08) 1860-2168</td></tr><tr><td>Manuela Novaes</td><td>946.078.325-29</td><td>manuela@exemplo.net</td><td>(21) 8591-4554</td></tr><tr><td>Bianca Fogaça</td><td>271.806.935-02</td><td>bianca@exemplo.net</td><td>(05) 0047-0283</td></tr><tr><td>Miguel Duarte</td><td>451.287.309-05</td><td>miguel@exemplo.net</td><td>(71) 5211-5120</td></tr><tr><td>Joaquim Costela</td><td>754.891.026-67</td><td>joaquim@exemplo.net</td><td>(55) 3163-9672</td></tr><tr><td>Yasmin Nunes</td><td>716.984.325-00</td><td>yasmin@exemplo.net</td><td>(55) 0517-5705</td></tr><tr><td>Ana Júlia Fernandes</td><td>670.894.315-84</td><td>ana@exemplo.net</td><td>(55) 0617-9920</td></tr><tr><td>Luiz Otávio das Neves</td><td>418.065.739-20</td><td>luiz@exemplo.net</td><td>(04) 1677-6020</td></tr><tr><td>Lorena da Rosa</td><td>958.712.604-11</td><td>lorena@exemplo.net</td><td>(55) 6139-0780</td></tr><tr><td>Gabriel da Mata</td><td>604.279.513-99</td><td>gabriel@exemplo.net</td><td>(03) 0033-9950</td></tr><tr><td>Lorena Duarte</td><td>398.420.567-83</td><td>lorena@exemplo.net</td><td>(61) 0554-0977</td></tr><tr><td>Mirella da Paz</td><td>324.697.581-73</td><td>mirella@exemplo.net</td><td>(55) 0812-9511</td></tr><tr><td>Rebeca Cardoso</td><td>369.405.187-20</td><td>rebeca@exemplo.net</td><td>(55) 0810-7933</td></tr><tr><td>Kaique Pereira</td><td>083.475.916-01</td><td>kaique@exemplo.net</td><td>(09) 0030-7667</td></tr><tr><td>Nina Nunes</td><td>791.320.458-32</td><td>nina@exemplo.net</td><td>(55) 0619-5290</td></tr><tr><td>Luiz Fernando Monteiro</td><td>578.916.342-46</td><td>luiz@exemplo.net</td><td>(08) 4825-8172</td></tr><tr><td>Manuela Araújo</td><td>731.694.258-46</td><td>manuela@exemplo.net</td><td>(71) 2535-3040</td></tr><tr><td>Luiz Otávio Cardoso</td><td>870.562.394-47</td><td>luiz@exemplo.net</td><td>(55) 0418-8587</td></tr><tr><td>Bianca Pires</td><td>193.254.806-89</td><td>bianca@exemplo.net</td><td>(55) 1191-1562</td></tr><tr><td>Felipe Sales</td><td>137.894.625-19</td><td>felipe@exemplo.net</td><td>(55) 0111-4786</td></tr><tr><td>Isaac Viana</td><td>728.915.043-05</td><td>isaac@exemplo.net</td><td>(03) 0073-8449</td></tr><tr><td>Nathan Gonçalves</td><td>632.704.591-06</td><td>nathan@exemplo.net</td><td>(55) 0118-0596</td></tr><tr><td>Camila da Conceição</td><td>820.914.675-02</td><td>camila@exemplo.net</td><td>(21) 3884-8839</td></tr><tr><td>Kevin da Costa</td><td>129.764.580-49</td><td>kevin@exemplo.net</td><td>(07) 1639-4846</td></tr><tr><td>Ana Clara das Neves</td><td>605.247.893-47</td><td>ana@exemplo.net</td><td>(08) 0005-2143</td></tr><tr><td>Clara Pereira</td><td>193.762.045-06</td><td>clara@exemplo.net</td><td>(31) 0874-4484</td></tr><tr><td>Pedro Lucas Nunes</td><td>138.925.407-05</td><td>pedro@exemplo.net</td><td>(08) 4247-6630</td></tr><tr><td>Vitor Gabriel Castro</td><td>519.260.483-42</td><td>vitor@exemplo.net</td><td>(55) 0846-1294</td></tr><tr><td>Isabel Nogueira</td><td>625.319.480-15</td><td>isabel@exemplo.net</td><td>(08) 1581-4338</td></tr><tr><td>Bryan da Rocha</td><td>256.874.139-28</td><td>bryan@exemplo.net</td><td>(03) 0035-2271</td></tr><tr><td>Maria Vitória Pinto</td><td>751.863.049-48</td><td>maria@exemplo.net</td><td>(11) 4400-1394</td></tr><tr><td>João Vitor Freitas</td><td>912.306.784-50</td><td>joão@exemplo.net</td><td>(55) 0811-1569</td></tr><tr><td>Maria Vitória da Mota</td><td>416.350.789-20</td><td>maria@exemplo.net</td><td>(31) 5344-3876</td></tr><tr><td>André Viana</td><td>241.583.679-64</td><td>andré@exemplo.net</td><td>(41) 1407-6217</td></tr><tr><td>Anthony Ramos</td><td>076.291.348-78</td><td>anthony@exemplo.net</td><td>(08) 0023-4068</td></tr><tr><td>Maria Vitória Fernandes</td><td>498.150.623-60</td><td>maria@exemplo.net</td><td>(55) 5134-3506</td></tr><tr><td>Eduardo Almeida</td><td>541.927.063-34</td><td>eduardo@exemplo.net</td><td>(55) 8434-1950</td></tr><tr><td>Helena Souza</td><td>783.904.265-10</td><td>helena@exemplo.net</td><td>(05) 1026-0989</td></tr><tr><td>Alícia da Luz</td><td>692.853.104-51</td><td>alícia@exemplo.net</td><td>(21) 6198-8781</td></tr><tr><td>Luiz Henrique Fogaça</td><td>856.021.793-21</td><td>luiz@exemplo.net</td><td>(55) 6103-6479</td></tr><tr><td>Maria Clara Lopes</td><td>926.714.853-28</td><td>maria@exemplo.net</td><td>(55) 2180-0112</td></tr><tr><td>Francisco Costa</td><td>958.214.370-32</td><td>francisco@exemplo.net</td><td>(51) 8272-5728</td></tr><tr><td>Rafael das Neves</td><td>460.312.795-25</td><td>rafael@exemplo.net</td><td>(06) 1389-4964</td></tr><tr><td>Evelyn da Cunha</td><td>185.032.794-79</td><td>evelyn@exemplo.net</td><td>(41) 0241-7186</td></tr><tr><td>Lucas Almeida</td><td>730.182.945-05</td><td>lucas@exemplo.net</td><td>(01) 1360-3614</td></tr><tr><td>João da Rocha</td><td>648.102.975-94</td><td>joão@exemplo.net</td><td>(55) 4126-1157</td></tr><tr><td>Cecília da Rosa</td><td>734.128.650-44</td><td>cecília@exemplo.net</td><td>(07) 1973-6142</td></tr><tr><td>Kaique Azevedo</td><td>398.456.127-09</td><td>kaique@exemplo.net</td><td>(08) 0086-2757</td></tr><tr><td>Vitor Gabriel Porto</td><td>758.142.960-11</td><td>vitor@exemplo.net</td><td>(55) 0217-3238</td></tr><tr><td>Luiz Felipe Moreira</td><td>183.529.740-41</td><td>luiz@exemplo.net</td><td>(31) 3432-8840</td></tr><tr><td>Maria Cecília Nascimento</td><td>503.146.879-39</td><td>maria@exemplo.net</td><td>(55) 4152-6539</td></tr><tr><td>Elisa Barbosa</td><td>165.437.908-57</td><td>elisa@exemplo.net</td><td>(21) 0714-7718</td></tr><tr><td>Cauê Costa</td><td>148.652.307-26</td><td>cauê@exemplo.net</td><td>(55) 0513-3810</td></tr><tr><td>João Miguel Alves</td><td>615.478.209-85</td><td>joão@exemplo.net</td><td>(31) 7311-4995</td></tr><tr><td>Ryan Cavalcanti</td><td>293.567.041-80</td><td>ryan@exemplo.net</td><td>(08) 4611-6302</td></tr><tr><td>Ana Cardoso</td><td>954.316.027-99</td><td>ana@exemplo.net</td><td>(84) 4892-4521</td></tr><tr><td>Luana Fernandes</td><td>329.458.071-14</td><td>luana@exemplo.net</td><td>(08) 1253-0869</td></tr><tr><td>Eduarda da Mata</td><td>146.309.528-70</td><td>eduarda@exemplo.net</td><td>(55) 0612-0055</td></tr><tr><td>Mariana Dias</td><td>968.547.213-00</td><td>mariana@exemplo.net</td><td>(03) 1229-8746</td></tr><tr><td>Gabriel Farias</td><td>016.942.385-98</td><td>gabriel@exemplo.net</td><td>(55) 0718-9347</td></tr><tr><td>Joaquim Vieira</td><td>823.601.957-86</td><td>joaquim@exemplo.net</td><td>(03) 1418-1718</td></tr><tr><td>Maria Julia Costela</td><td>708.341.265-08</td><td>maria@exemplo.net</td><td>(08) 1916-5175</td></tr><tr><td>Milena da Paz</td><td>682.745.031-71</td><td>milena@exemplo.net</td><td>(55) 8415-0441</td></tr><tr><td>Bryan da Rocha</td><td>132.087.569-68</td><td>bryan@exemplo.net</td><td>(55) 0314-2141</td></tr><tr><td>Mariana Castro</td><td>947.630.281-03</td><td>mariana@exemplo.net</td><td>(61) 2578-8452</td></tr><tr><td>Nicolas da Luz</td><td>432.605.817-07</td><td>nicolas@exemplo.net</td><td>(08) 1518-8269</td></tr><tr><td>Lucca Sales</td><td>379.065.128-12</td><td>lucca@exemplo.net</td><td>(55) 4166-6589</td></tr><tr><td>Kaique Duarte</td><td>014.965.273-99</td><td>kaique@exemplo.net</td><td>(55) 0214-9116</td></tr><tr><td>Pedro Henrique Rezende</td><td>876.913.045-01</td><td>pedro@exemplo.net</td><td>(05) 1378-5313</td></tr><tr><td>Renan Monteiro</td><td>694.031.728-78</td><td>renan@exemplo.net</td><td>(11) 6903-2314</td></tr><tr><td>Cauã da Mata</td><td>061.572.938-02</td><td>cauã@exemplo.net</td><td>(55) 8448-1993</td></tr><tr><td>Breno Fogaça</td><td>198.527.406-01</td><td>breno@exemplo.net</td><td>(31) 6245-1892</td></tr><tr><td>Raul da Cunha</td><td>097.625.143-43</td><td>raul@exemplo.net</td><td>(03) 0086-2455</td></tr><tr><td>Emanuella Moura</td><td>961.437.528-00</td><td>emanuella@exemplo.net</td><td>(09) 0090-7396</td></tr><tr><td>Nina Castro</td><td>027.185.463-44</td><td>nina@exemplo.net</td><td>(55) 4166-6847</td></tr><tr><td>Laís Cunha</td><td>346.915.078-84</td><td>laís@exemplo.net</td><td>(55) 2110-0373</td></tr><tr><td>Henrique Lima</td><td>357.824.960-29</td><td>henrique@exemplo.net</td><td>(55) 6160-8213</td></tr><tr><td>Maria Fernanda Costela</td><td>578.239.604-00</td><td>maria@exemplo.net</td><td>(04) 1662-1141</td></tr><tr><td>Gabrielly Aragão</td><td>471.230.896-69</td><td>gabrielly@exemplo.net</td><td>(31) 6889-6042</td></tr><tr><td>João Lucas Cunha</td><td>768.541.029-01</td><td>joão@exemplo.net</td><td>(55) 0713-1380</td></tr><tr><td>Leandro Carvalho</td><td>463.280.957-83</td><td>leandro@exemplo.net</td><td>(05) 0006-0303</td></tr><tr><td>Lívia Silveira</td><td>086.431.275-07</td><td>lívia@exemplo.net</td><td>(55) 0215-7123</td></tr><tr><td>Nina da Mota</td><td>296.738.051-21</td><td>nina@exemplo.net</td><td>(81) 6447-8861</td></tr><tr><td>Ana Vitória Porto</td><td>259.301.874-79</td><td>ana@exemplo.net</td><td>(55) 8133-7051</td></tr><tr><td>Elisa Martins</td><td>074.159.368-84</td><td>elisa@exemplo.net</td><td>(55) 6156-2089</td></tr><tr><td>Julia Almeida</td><td>729.413.065-52</td><td>julia@exemplo.net</td><td>(11) 3354-0608</td></tr><tr><td>Thiago Rezende</td><td>013.459.672-25</td><td>thiago@exemplo.net</td><td>(55) 0517-9819</td></tr><tr><td>Ana Clara Novaes</td><td>208.167.495-58</td><td>ana@exemplo.net</td><td>(61) 0787-3286</td></tr><tr><td>Evelyn Freitas</td><td>137.405.268-07</td><td>evelyn@exemplo.net</td><td>(55) 0844-8738</td></tr><tr><td>Juan Silveira</td><td>518.760.934-39</td><td>juan@exemplo.net</td><td>(41) 9692-9457</td></tr><tr><td>Julia Oliveira</td><td>251.674.930-99</td><td>julia@exemplo.net</td><td>(21) 2643-9475</td></tr><tr><td>Daniela Araújo</td><td>293.407.865-56</td><td>daniela@exemplo.net</td><td>(55) 8100-7739</td></tr><tr><td>Ana Lívia Pires</td><td>419.075.238-04</td><td>ana@exemplo.net</td><td>(11) 1051-9661</td></tr><tr><td>Luiz Fernando Lopes</td><td>037.286.154-71</td><td>luiz@exemplo.net</td><td>(51) 5717-3436</td></tr><tr><td>Leandro Rezende</td><td>581.639.702-86</td><td>leandro@exemplo.net</td><td>(55) 7166-7021</td></tr><tr><td>Ana Beatriz da Rocha</td><td>295.734.108-50</td><td>ana@exemplo.net</td><td>(55) 6169-7026</td></tr><tr><td>Yago Alves</td><td>372.908.154-32</td><td>yago@exemplo.net</td><td>(06) 1007-7948</td></tr><tr><td>Lorenzo Correia</td><td>745.630.298-74</td><td>lorenzo@exemplo.net</td><td>(08) 4790-8714</td></tr><tr><td>Enzo Gabriel Freitas</td><td>145.368.927-37</td><td>enzo@exemplo.net</td><td>(06) 1255-8495</td></tr><tr><td>Francisco Carvalho</td><td>684.250.971-85</td><td>francisco@exemplo.net</td><td>(55) 0317-8104</td></tr><tr><td>Heitor Gomes</td><td>359.728.460-47</td><td>heitor@exemplo.net</td><td>(55) 0815-1733</td></tr><tr><td>Marina da Rocha</td><td>782.394.015-97</td><td>marina@exemplo.net</td><td>(55) 0811-7966</td></tr><tr><td>Laís das Neves</td><td>240.678.359-65</td><td>laís@exemplo.net</td><td>(03) 0038-0861</td></tr><tr><td>Ana Vitória Monteiro</td><td>905.182.634-60</td><td>ana@exemplo.net</td><td>(55) 2183-1688</td></tr><tr><td>João Guilherme Melo</td><td>806.217.459-01</td><td>joão@exemplo.net</td><td>(55) 8492-5227</td></tr><tr><td>Marcela Castro</td><td>401.692.358-15</td><td>marcela@exemplo.net</td><td>(81) 2051-5168</td></tr><tr><td>Alana Campos</td><td>924.150.837-04</td><td>alana@exemplo.net</td><td>(11) 5188-2891</td></tr><tr><td>Isis da Rocha</td><td>395.487.160-20</td><td>isis@exemplo.net</td><td>(31) 5081-8821</td></tr><tr><td>Eloah Castro</td><td>120.547.386-62</td><td>eloah@exemplo.net</td><td>(55) 2121-9102</td></tr><tr><td>Diogo Moraes</td><td>953.647.018-75</td><td>diogo@exemplo.net</td><td>(55) 8417-4708</td></tr><tr><td>Juliana Caldeira</td><td>052.384.791-23</td><td>juliana@exemplo.net</td><td>(55) 0118-4476</td></tr><tr><td>Eduardo Cunha</td><td>162.794.503-25</td><td>eduardo@exemplo.net</td><td>(55) 8420-1223</td></tr><tr><td>Maria Teixeira</td><td>750.964.238-83</td><td>maria@exemplo.net</td><td>(04) 1580-5669</td></tr><tr><td>João Gabriel Novaes</td><td>047.958.261-02</td><td>joão@exemplo.net</td><td>(51) 2070-7949</td></tr><tr><td>Yasmin Fernandes</td><td>492.763.081-13</td><td>yasmin@exemplo.net</td><td>(55) 7100-1728</td></tr><tr><td>Bruno da Rosa</td><td>635.408.719-93</td><td>bruno@exemplo.net</td><td>(04) 1462-9770</td></tr><tr><td>Raquel da Costa</td><td>027.694.851-30</td><td>raquel@exemplo.net</td><td>(05) 1612-1980</td></tr><tr><td>Maria Sophia Rocha</td><td>379.285.140-79</td><td>maria@exemplo.net</td><td>(08) 4851-2286</td></tr><tr><td>Luiz Fernando Jesus</td><td>694.052.317-07</td><td>luiz@exemplo.net</td><td>(09) 0034-4941</td></tr><tr><td>Maitê Freitas</td><td>028.943.175-14</td><td>maitê@exemplo.net</td><td>(84) 6249-0335</td></tr><tr><td>Davi Lucas Cunha</td><td>428.075.196-01</td><td>davi@exemplo.net</td><td>(55) 0215-1524</td></tr><tr><td>João Felipe Ramos</td><td>653.419.802-98</td><td>joão@exemplo.net</td><td>(05) 0021-5850</td></tr><tr><td>Laura Ferreira</td><td>597.143.280-04</td><td>laura@exemplo.net</td><td>(11) 2261-3452</td></tr><tr><td>Lucca Sales</td><td>541.639.207-06</td><td>lucca@exemplo.net</td><td>(08) 4283-9792</td></tr><tr><td>Maria Luiza Azevedo</td><td>398.125.470-88</td><td>maria@exemplo.net</td><td>(02) 1181-6547</td></tr><tr><td>Yago Araújo</td><td>421.837.509-79</td><td>yago@exemplo.net</td><td>(02) 1130-0855</td></tr><tr><td>João Guilherme Martins</td><td>768.251.039-03</td><td>joão@exemplo.net</td><td>(81) 9545-7118</td></tr><tr><td>Erick Ferreira</td><td>598.670.342-10</td><td>erick@exemplo.net</td><td>(11) 3440-3531</td></tr><tr><td>Renan da Rocha</td><td>458.079.236-00</td><td>renan@exemplo.net</td><td>(02) 1879-6445</td></tr><tr><td>João Felipe Pires</td><td>632.105.948-05</td><td>joão@exemplo.net</td><td>(55) 8145-0533</td></tr><tr><td>Júlia Azevedo</td><td>531.970.842-41</td><td>júlia@exemplo.net</td><td>(55) 6152-5323</td></tr><tr><td>Maria Clara Barros</td><td>317.528.906-12</td><td>maria@exemplo.net</td><td>(07) 1288-4613</td></tr><tr><td>Stella Martins</td><td>630.419.258-42</td><td>stella@exemplo.net</td><td>(55) 0818-5047</td></tr><tr><td>Diogo Cardoso</td><td>758.439.062-56</td><td>diogo@exemplo.net</td><td>(81) 0562-4691</td></tr><tr><td>Joaquim Costela</td><td>473.029.185-97</td><td>joaquim@exemplo.net</td><td>(51) 7319-1652</td></tr><tr><td>Anthony Melo</td><td>132.845.760-53</td><td>anthony@exemplo.net</td><td>(04) 1311-0074</td></tr><tr><td>Heloísa Alves</td><td>765.819.403-48</td><td>heloísa@exemplo.net</td><td>(01) 1849-5169</td></tr><tr><td>Felipe Gonçalves</td><td>097.182.453-32</td><td>felipe@exemplo.net</td><td>(55) 0848-0670</td></tr><tr><td>Lucca Cavalcanti</td><td>186.904.257-30</td><td>lucca@exemplo.net</td><td>(55) 4154-5803</td></tr><tr><td>Elisa Costa</td><td>258.461.793-55</td><td>elisa@exemplo.net</td><td>(55) 7103-2088</td></tr><tr><td>Marcelo Cavalcanti</td><td>437.562.108-71</td><td>marcelo@exemplo.net</td><td>(55) 0615-0653</td></tr><tr><td>Heloísa da Rocha</td><td>193.508.467-48</td><td>heloísa@exemplo.net</td><td>(08) 4213-4706</td></tr><tr><td>Eduardo Costela</td><td>431.582.760-62</td><td>eduardo@exemplo.net</td><td>(05) 0096-1559</td></tr><tr><td>Sarah Mendes</td><td>396.702.814-31</td><td>sarah@exemplo.net</td><td>(11) 7410-5900</td></tr><tr><td>Maysa da Rocha</td><td>936.485.270-29</td><td>maysa@exemplo.net</td><td>(08) 4366-9823</td></tr><tr><td>Bruno da Cruz</td><td>514.203.879-79</td><td>bruno@exemplo.net</td><td>(08) 1478-8588</td></tr><tr><td>Lorenzo Pinto</td><td>935.082.174-50</td><td>lorenzo@exemplo.net</td><td>(05) 1374-2565</td></tr><tr><td>Anthony Cunha</td><td>401.273.695-70</td><td>anthony@exemplo.net</td><td>(11) 7015-6750</td></tr><tr><td>Lavínia Peixoto</td><td>462.510.793-80</td><td>lavínia@exemplo.net</td><td>(84) 8447-3854</td></tr><tr><td>Pedro Henrique Barbosa</td><td>583.291.067-21</td><td>pedro@exemplo.net</td><td>(08) 4213-3762</td></tr><tr><td>Emilly Rodrigues</td><td>869.754.213-82</td><td>emilly@exemplo.net</td><td>(08) 1447-3684</td></tr><tr><td>Leonardo Costela</td><td>849.753.016-01</td><td>leonardo@exemplo.net</td><td>(05) 0068-4023</td></tr><tr><td>Fernando Peixoto</td><td>873.914.256-64</td><td>fernando@exemplo.net</td><td>(55) 2198-8182</td></tr><tr><td>Esther Caldeira</td><td>765.149.028-20</td><td>esther@exemplo.net</td><td>(31) 5604-1245</td></tr><tr><td>Cecília Peixoto</td><td>896.501.742-49</td><td>cecília@exemplo.net</td><td>(03) 0088-0895</td></tr><tr><td>Maria Fernanda Moura</td><td>820.139.675-86</td><td>maria@exemplo.net</td><td>(11) 3404-0365</td></tr><tr><td>Evelyn da Paz</td><td>085.396.421-15</td><td>evelyn@exemplo.net</td><td>(55) 0812-4345</td></tr><tr><td>Igor Nascimento</td><td>678.594.130-00</td><td>igor@exemplo.net</td><td>(55) 0812-2150</td></tr><tr><td>Luna Santos</td><td>356.478.219-28</td><td>luna@exemplo.net</td><td>(55) 2196-7285</td></tr><tr><td>Luiz Felipe da Paz</td><td>589.173.426-55</td><td>luiz@exemplo.net</td><td>(05) 1413-9460</td></tr><tr><td>Diogo Oliveira</td><td>128.975.036-02</td><td>diogo@exemplo.net</td><td>(05) 1915-8382</td></tr><tr><td>Nina Costela</td><td>630.217.489-96</td><td>nina@exemplo.net</td><td>(55) 0218-2272</td></tr><tr><td>Breno Sales</td><td>381.769.405-93</td><td>breno@exemplo.net</td><td>(55) 3137-6509</td></tr><tr><td>Julia Azevedo</td><td>093.782.465-83</td><td>julia@exemplo.net</td><td>(55) 3139-1177</td></tr><tr><td>Luigi Gomes</td><td>023.691.478-22</td><td>luigi@exemplo.net</td><td>(55) 8425-2123</td></tr><tr><td>Esther Azevedo</td><td>061.498.372-03</td><td>esther@exemplo.net</td><td>(55) 0717-9202</td></tr><tr><td>Emanuella Campos</td><td>157.368.402-35</td><td>emanuella@exemplo.net</td><td>(55) 0711-8345</td></tr><tr><td>João da Cunha</td><td>360.589.271-02</td><td>joão@exemplo.net</td><td>(55) 8126-0460</td></tr><tr><td>Bruna Lima</td><td>417.260.359-99</td><td>bruna@exemplo.net</td><td>(55) 6167-5170</td></tr><tr><td>Gabrielly Ferreira</td><td>092.356.417-99</td><td>gabrielly@exemplo.net</td><td>(55) 2147-1879</td></tr><tr><td>Pedro das Neves</td><td>648.092.137-22</td><td>pedro@exemplo.net</td><td>(71) 7028-7054</td></tr><tr><td>Luigi Cavalcanti</td><td>569.803.247-56</td><td>luigi@exemplo.net</td><td>(55) 5131-2695</td></tr><tr><td>Davi Lucca Pereira</td><td>812.573.906-86</td><td>davi@exemplo.net</td><td>(11) 0781-3960</td></tr><tr><td>Thiago da Mata</td><td>389.042.516-05</td><td>thiago@exemplo.net</td><td>(55) 8457-6732</td></tr><tr><td>Carlos Eduardo Peixoto</td><td>106.534.792-80</td><td>carlos@exemplo.net</td><td>(03) 1369-3216</td></tr><tr><td>Luiz Miguel Novaes</td><td>246.875.130-26</td><td>luiz@exemplo.net</td><td>(04) 1810-7961</td></tr><tr><td>Raul Ribeiro</td><td>798.305.461-01</td><td>raul@exemplo.net</td><td>(06) 1420-7743</td></tr><tr><td>Thales Cavalcanti</td><td>301.892.765-68</td><td>thales@exemplo.net</td><td>(61) 1537-3580</td></tr><tr><td>Lavínia Barbosa</td><td>239.785.604-29</td><td>lavínia@exemplo.net</td><td>(55) 6192-0205</td></tr><tr><td>Emanuel Gonçalves</td><td>693.125.087-68</td><td>emanuel@exemplo.net</td><td>(55) 8121-4669</td></tr><tr><td>Maria Sophia Duarte</td><td>135.640.728-53</td><td>maria@exemplo.net</td><td>(55) 0110-2729</td></tr><tr><td>Mirella Caldeira</td><td>502.387.196-77</td><td>mirella@exemplo.net</td><td>(06) 1862-1175</td></tr><tr><td>Gabriel Lima</td><td>370.289.164-13</td><td>gabriel@exemplo.net</td><td>(55) 6147-2297</td></tr><tr><td>Marcos Vinicius Moraes</td><td>582.413.960-15</td><td>marcos@exemplo.net</td><td>(02) 1283-2756</td></tr><tr><td>Helena Rocha</td><td>867.190.235-86</td><td>helena@exemplo.net</td><td>(04) 1406-3366</td></tr><tr><td>Caio da Cruz</td><td>527.460.138-35</td><td>caio@exemplo.net</td><td>(55) 8458-6680</td></tr><tr><td>Luiz Gustavo da Costa</td><td>451.920.387-23</td><td>luiz@exemplo.net</td><td>(55) 1117-1213</td></tr><tr><td>Fernanda da Cunha</td><td>765.231.849-19</td><td>fernanda@exemplo.net</td><td>(55) 2102-4399</td></tr><tr><td>Lívia Lima</td><td>419.680.753-48</td><td>lívia@exemplo.net</td><td>(08) 1921-1751</td></tr><tr><td>Davi Luiz Correia</td><td>809.672.431-22</td><td>davi@exemplo.net</td><td>(55) 0213-3490</td></tr><tr><td>Júlia Viana</td><td>708.493.152-04</td><td>júlia@exemplo.net</td><td>(08) 0086-4461</td></tr><tr><td>Pedro Rodrigues</td><td>564.718.293-37</td><td>pedro@exemplo.net</td><td>(55) 1107-8211</td></tr><tr><td>Alice das Neves</td><td>608.194.523-51</td><td>alice@exemplo.net</td><td>(84) 1090-7486</td></tr><tr><td>Isabel Ramos</td><td>094.851.672-02</td><td>isabel@exemplo.net</td><td>(55) 0846-8547</td></tr><tr><td>Nina Monteiro</td><td>351.279.648-64</td><td>nina@exemplo.net</td><td>(09) 0078-8537</td></tr><tr><td>João Pedro Melo</td><td>742.683.509-00</td><td>joão@exemplo.net</td><td>(55) 0612-4425</td></tr><tr><td>Giovanna Fogaça</td><td>143.759.086-10</td><td>giovanna@exemplo.net</td><td>(55) 0517-8625</td></tr><tr><td>Emilly Barros</td><td>721.853.946-73</td><td>emilly@exemplo.net</td><td>(55) 0711-4823</td></tr><tr><td>Thales Ferreira</td><td>850.219.364-33</td><td>thales@exemplo.net</td><td>(55) 0844-9363</td></tr><tr><td>Ana Lívia Campos</td><td>015.736.928-59</td><td>ana@exemplo.net</td><td>(21) 9647-2099</td></tr><tr><td>Valentina Dias</td><td>214.698.507-02</td><td>valentina@exemplo.net</td><td>(55) 5112-0521</td></tr><tr><td>Luiz Otávio Sales</td><td>104.659.832-51</td><td>luiz@exemplo.net</td><td>(55) 0715-3503</td></tr><tr><td>Luiz Felipe Barbosa</td><td>520.431.986-70</td><td>luiz@exemplo.net</td><td>(02) 1549-3939</td></tr><tr><td>Maria Sophia Vieira</td><td>764.923.810-50</td><td>maria@exemplo.net</td><td>(55) 0315-7077</td></tr><tr><td>Melissa Fogaça</td><td>510.926.347-70</td><td>melissa@exemplo.net</td><td>(11) 4676-7212</td></tr><tr><td>Julia Pereira</td><td>185.642.379-46</td><td>julia@exemplo.net</td><td>(03) 0068-5262</td></tr><tr><td>Emanuella Souza</td><td>037.268.195-68</td><td>emanuella@exemplo.net</td><td>(55) 0810-2440</td></tr><tr><td>Brenda Santos</td><td>024.917.653-06</td><td>brenda@exemplo.net</td><td>(55) 0516-9077</td></tr><tr><td>Cauê Novaes</td><td>384.916.720-87</td><td>cauê@exemplo.net</td><td>(31) 8897-0270</td></tr><tr><td>Gustavo Cardoso</td><td>375.069.821-02</td><td>gustavo@exemplo.net</td><td>(55) 7107-1816</td></tr><tr><td>Nina da Paz</td><td>698.321.574-55</td><td>nina@exemplo.net</td><td>(55) 8448-2082</td></tr><tr><td>Pietra Costela</td><td>483.605.921-60</td><td>pietra@exemplo.net</td><td>(55) 4101-0460</td></tr><tr><td>Sofia Moura</td><td>672.048.359-56</td><td>sofia@exemplo.net</td><td>(55) 0413-1838</td></tr><tr><td>Pedro Lucas Fogaça</td><td>518.629.370-95</td><td>pedro@exemplo.net</td><td>(11) 8288-2859</td></tr><tr><td>Maria Cunha</td><td>623.870.154-44</td><td>maria@exemplo.net</td><td>(03) 0024-9050</td></tr><tr><td>Evelyn Pinto</td><td>591.086.742-30</td><td>evelyn@exemplo.net</td><td>(55) 0716-6250</td></tr><tr><td>Lívia Cardoso</td><td>258.146.073-35</td><td>lívia@exemplo.net</td><td>(06) 1187-2864</td></tr><tr><td>Lucas Gabriel Correia</td><td>391.457.208-60</td><td>lucas@exemplo.net</td><td>(84) 0138-4809</td></tr><tr><td>Alexia da Rosa</td><td>249.708.165-49</td><td>alexia@exemplo.net</td><td>(11) 2618-1464</td></tr><tr><td>Luiz Felipe da Rocha</td><td>083.567.941-10</td><td>luiz@exemplo.net</td><td>(55) 5161-5047</td></tr><tr><td>Benjamin Pires</td><td>385.270.146-53</td><td>benjamin@exemplo.net</td><td>(03) 1302-1436</td></tr><tr><td>João Vitor Barbosa</td><td>974.826.305-38</td><td>joão@exemplo.net</td><td>(55) 0319-8706</td></tr><tr><td>Heitor Farias</td><td>103.492.678-04</td><td>heitor@exemplo.net</td><td>(55) 0313-6824</td></tr><tr><td>Natália Castro</td><td>267.354.908-00</td><td>natália@exemplo.net</td><td>(09) 0031-8391</td></tr><tr><td>Olivia Nogueira</td><td>573.140.982-04</td><td>olivia@exemplo.net</td><td>(61) 9241-0953</td></tr><tr><td>Daniel Mendes</td><td>058.421.673-44</td><td>daniel@exemplo.net</td><td>(55) 1153-4177</td></tr><tr><td>Juliana Fernandes</td><td>786.123.059-77</td><td>juliana@exemplo.net</td><td>(02) 1409-6078</td></tr><tr><td>Enzo Gabriel Rodrigues</td><td>973.458.601-75</td><td>enzo@exemplo.net</td><td>(55) 0844-4850</td></tr><tr><td>Eduarda da Cunha</td><td>709.413.268-96</td><td>eduarda@exemplo.net</td><td>(31) 4236-6507</td></tr><tr><td>Lucas Gabriel da Rocha</td><td>458.712.690-01</td><td>lucas@exemplo.net</td><td>(08) 4539-5737</td></tr><tr><td>Augusto Novaes</td><td>380.624.579-74</td><td>augusto@exemplo.net</td><td>(07) 1937-6315</td></tr><tr><td>Thiago Lopes</td><td>852.630.479-83</td><td>thiago@exemplo.net</td><td>(08) 1042-7442</td></tr><tr><td>Daniela Almeida</td><td>465.789.321-19</td><td>daniela@exemplo.net</td><td>(55) 0816-9041</td></tr><tr><td>Vicente Monteiro</td><td>807.135.924-60</td><td>vicente@exemplo.net</td><td>(55) 0314-7431</td></tr><tr><td>Vitória Pinto</td><td>862.135.704-62</td><td>vitória@exemplo.net</td><td>(55) 8167-2415</td></tr><tr><td>Maysa Teixeira</td><td>904.628.315-15</td><td>maysa@exemplo.net</td><td>(55) 6163-8239</td></tr><tr><td>Anthony Martins</td><td>693.802.547-92</td><td>anthony@exemplo.net</td><td>(03) 0097-1008</td></tr><tr><td>Davi Luiz Costa</td><td>217.083.564-44</td><td>davi@exemplo.net</td><td>(61) 2923-3271</td></tr><tr><td>Francisco Nunes</td><td>072.539.164-25</td><td>francisco@exemplo.net</td><td>(55) 0116-7713</td></tr><tr><td>João Gabriel Gomes</td><td>293.140.768-22</td><td>joão@exemplo.net</td><td>(55) 0811-5191</td></tr><tr><td>Vitor Gabriel Oliveira</td><td>340.157.928-23</td><td>vitor@exemplo.net</td><td>(55) 6139-5767</td></tr><tr><td>Isaac Fogaça</td><td>432.915.706-34</td><td>isaac@exemplo.net</td><td>(61) 8709-1408</td></tr><tr><td>Maria Julia Jesus</td><td>045.938.126-15</td><td>maria@exemplo.net</td><td>(08) 4830-6172</td></tr><tr><td>Nina da Mata</td><td>854.621.397-64</td><td>nina@exemplo.net</td><td>(55) 0414-8343</td></tr><tr><td>Benjamin Rocha</td><td>245.836.710-08</td><td>benjamin@exemplo.net</td><td>(55) 0417-3425</td></tr><tr><td>Lucca Pereira</td><td>806.957.243-47</td><td>lucca@exemplo.net</td><td>(55) 5122-2229</td></tr><tr><td>Emanuel Nunes</td><td>461.287.509-58</td><td>emanuel@exemplo.net</td><td>(55) 0817-6829</td></tr><tr><td>Sofia da Costa</td><td>102.576.983-02</td><td>sofia@exemplo.net</td><td>(61) 2734-5532</td></tr><tr><td>Larissa Moraes</td><td>450.792.681-58</td><td>larissa@exemplo.net</td><td>(55) 0119-3550</td></tr><tr><td>Daniel das Neves</td><td>326.914.807-04</td><td>daniel@exemplo.net</td><td>(31) 0579-7349</td></tr><tr><td>João Lucas Farias</td><td>589.074.231-05</td><td>joão@exemplo.net</td><td>(55) 0818-3210</td></tr><tr><td>Natália da Cruz</td><td>138.496.057-01</td><td>natália@exemplo.net</td><td>(55) 5173-0058</td></tr><tr><td>Ana Lívia Almeida</td><td>046.539.827-83</td><td>ana@exemplo.net</td><td>(71) 8274-2674</td></tr><tr><td>Thomas das Neves</td><td>806.294.315-15</td><td>thomas@exemplo.net</td><td>(61) 6123-0971</td></tr><tr><td>Mirella Barbosa</td><td>758.931.426-91</td><td>mirella@exemplo.net</td><td>(71) 5749-2823</td></tr><tr><td>Ana Sophia Mendes</td><td>782.603.145-17</td><td>ana@exemplo.net</td><td>(84) 1353-1695</td></tr><tr><td>Isabelly Silveira</td><td>340.896.215-42</td><td>isabelly@exemplo.net</td><td>(55) 0112-4894</td></tr><tr><td>Valentina Cardoso</td><td>135.986.204-89</td><td>valentina@exemplo.net</td><td>(06) 1586-4009</td></tr><tr><td>Cauã Cardoso</td><td>254.967.013-25</td><td>cauã@exemplo.net</td><td>(55) 0113-8458</td></tr><tr><td>Ana Júlia Araújo</td><td>709.426.153-52</td><td>ana@exemplo.net</td><td>(03) 1010-8949</td></tr><tr><td>Cauê Rezende</td><td>483.150.726-17</td><td>cauê@exemplo.net</td><td>(81) 3587-5508</td></tr><tr><td>Luiz Miguel Lopes</td><td>871.023.569-86</td><td>luiz@exemplo.net</td><td>(51) 5768-8821</td></tr><tr><td>Otávio Alves</td><td>158.407.623-26</td><td>otávio@exemplo.net</td><td>(55) 0517-2210</td></tr><tr><td>Kevin Pinto</td><td>180.435.726-07</td><td>kevin@exemplo.net</td><td>(55) 0414-1808</td></tr><tr><td>Vitor Gabriel Jesus</td><td>968.452.713-64</td><td>vitor@exemplo.net</td><td>(55) 7159-3029</td></tr><tr><td>Calebe da Rosa</td><td>198.640.723-31</td><td>calebe@exemplo.net</td><td>(55) 0817-7878</td></tr><tr><td>João Felipe Fernandes</td><td>168.743.902-87</td><td>joão@exemplo.net</td><td>(55) 5148-2360</td></tr><tr><td>Luna Oliveira</td><td>287.395.610-03</td><td>luna@exemplo.net</td><td>(04) 1379-5447</td></tr><tr><td>Joana Moraes</td><td>682.043.715-35</td><td>joana@exemplo.net</td><td>(55) 0848-2150</td></tr><tr><td>João Gabriel Fogaça</td><td>978.435.621-09</td><td>joão@exemplo.net</td><td>(81) 5509-0461</td></tr><tr><td>Gabriel Mendes</td><td>439.561.720-43</td><td>gabriel@exemplo.net</td><td>(55) 8477-5572</td></tr><tr><td>Ryan Ribeiro</td><td>604.271.358-26</td><td>ryan@exemplo.net</td><td>(55) 0215-5439</td></tr><tr><td>Maria da Mata</td><td>129.573.406-07</td><td>maria@exemplo.net</td><td>(84) 2104-9826</td></tr><tr><td>Ana Beatriz Peixoto</td><td>724.153.609-61</td><td>ana@exemplo.net</td><td>(55) 0219-4757</td></tr><tr><td>Isabelly Sales</td><td>160.924.357-99</td><td>isabelly@exemplo.net</td><td>(81) 2053-6908</td></tr><tr><td>João Felipe da Mota</td><td>679.138.024-13</td><td>joão@exemplo.net</td><td>(55) 2121-4175</td></tr><tr><td>Letícia Cardoso</td><td>905.768.123-40</td><td>letícia@exemplo.net</td><td>(55) 2150-0899</td></tr><tr><td>Eduarda Silveira</td><td>035.164.298-60</td><td>eduarda@exemplo.net</td><td>(07) 1429-1207</td></tr><tr><td>Isabelly Carvalho</td><td>743.165.298-46</td><td>isabelly@exemplo.net</td><td>(06) 1957-3509</td></tr><tr><td>Nicolas Mendes</td><td>645.087.931-93</td><td>nicolas@exemplo.net</td><td>(55) 0512-3801</td></tr><tr><td>Rafael Castro</td><td>743.601.825-62</td><td>rafael@exemplo.net</td><td>(55) 0217-8048</td></tr><tr><td>Gustavo Henrique Azevedo</td><td>365.172.084-53</td><td>gustavo@exemplo.net</td><td>(09) 0098-2835</td></tr><tr><td>João Felipe da Mota</td><td>150.268.397-03</td><td>joão@exemplo.net</td><td>(41) 1728-9907</td></tr><tr><td>André da Mata</td><td>457.962.380-00</td><td>andré@exemplo.net</td><td>(41) 2183-6446</td></tr><tr><td>Ana Carolina da Luz</td><td>328.190.576-59</td><td>ana@exemplo.net</td><td>(81) 5654-9619</td></tr><tr><td>João Vitor Silva</td><td>238.159.604-60</td><td>joão@exemplo.net</td><td>(07) 1325-4756</td></tr><tr><td>Cauê Pires</td><td>847.051.963-84</td><td>cauê@exemplo.net</td><td>(55) 0816-9660</td></tr><tr><td>Ana Laura Correia</td><td>730.954.128-60</td><td>ana@exemplo.net</td><td>(11) 9779-8820</td></tr><tr><td>Diogo da Mota</td><td>043.619.582-89</td><td>diogo@exemplo.net</td><td>(61) 3583-7505</td></tr><tr><td>Luiz Miguel Pires</td><td>637.824.059-59</td><td>luiz@exemplo.net</td><td>(55) 0418-7181</td></tr><tr><td>Bryan Correia</td><td>085.172.936-30</td><td>bryan@exemplo.net</td><td>(55) 6196-7054</td></tr><tr><td>Ryan Viana</td><td>218.970.356-59</td><td>ryan@exemplo.net</td><td>(55) 0849-5096</td></tr><tr><td>Ana Clara Carvalho</td><td>368.142.750-07</td><td>ana@exemplo.net</td><td>(55) 0619-0643</td></tr><tr><td>Isadora Barros</td><td>826.019.457-02</td><td>isadora@exemplo.net</td><td>(55) 3161-1963</td></tr><tr><td>Pedro Martins</td><td>681.940.357-75</td><td>pedro@exemplo.net</td><td>(55) 3186-1890</td></tr><tr><td>Caroline Pires</td><td>895.176.023-59</td><td>caroline@exemplo.net</td><td>(08) 0055-6126</td></tr><tr><td>Júlia Mendes</td><td>562.943.108-06</td><td>júlia@exemplo.net</td><td>(55) 0118-4705</td></tr><tr><td>Leonardo Nascimento</td><td>238.947.160-96</td><td>leonardo@exemplo.net</td><td>(07) 1304-0048</td></tr><tr><td>Ana Beatriz Nascimento</td><td>846.917.530-01</td><td>ana@exemplo.net</td><td>(55) 6135-7353</td></tr><tr><td>Emanuella Moraes</td><td>403.679.215-61</td><td>emanuella@exemplo.net</td><td>(81) 1646-7030</td></tr><tr><td>Lucas Moura</td><td>430.218.569-42</td><td>lucas@exemplo.net</td><td>(04) 1052-6884</td></tr><tr><td>Letícia Rodrigues</td><td>461.753.290-07</td><td>letícia@exemplo.net</td><td>(84) 6609-6533</td></tr><tr><td>Erick Moura</td><td>613.947.028-50</td><td>erick@exemplo.net</td><td>(09) 0095-0754</td></tr><tr><td>Carlos Eduardo Ramos</td><td>980.417.325-50</td><td>carlos@exemplo.net</td><td>(05) 0008-9051</td></tr><tr><td>Henrique Viana</td><td>794.801.253-23</td><td>henrique@exemplo.net</td><td>(55) 0110-5803</td></tr><tr><td>Renan Rocha</td><td>523.698.104-24</td><td>renan@exemplo.net</td><td>(55) 0116-5098</td></tr><tr><td>Sabrina Cunha</td><td>761.829.354-64</td><td>sabrina@exemplo.net</td><td>(08) 0097-7011</td></tr><tr><td>Ana Lívia Freitas</td><td>350.764.829-65</td><td>ana@exemplo.net</td><td>(55) 8488-5254</td></tr><tr><td>Mirella da Paz</td><td>920.514.678-11</td><td>mirella@exemplo.net</td><td>(55) 0416-5904</td></tr><tr><td>Larissa Alves</td><td>726.430.581-35</td><td>larissa@exemplo.net</td><td>(11) 5577-6205</td></tr><tr><td>Ryan Dias</td><td>159.468.720-01</td><td>ryan@exemplo.net</td><td>(07) 1065-9227</td></tr><tr><td>Davi Luiz Duarte</td><td>384.129.065-51</td><td>davi@exemplo.net</td><td>(55) 0849-1260</td></tr><tr><td>Davi Luiz Correia</td><td>805.369.217-68</td><td>davi@exemplo.net</td><td>(84) 5195-5332</td></tr><tr><td>Fernando da Conceição</td><td>681.720.495-01</td><td>fernando@exemplo.net</td><td>(21) 3772-9440</td></tr><tr><td>João Lucas Correia</td><td>035.462.978-65</td><td>joão@exemplo.net</td><td>(55) 0215-2573</td></tr><tr><td>Alice Rodrigues</td><td>268.015.943-89</td><td>alice@exemplo.net</td><td>(55) 0515-5655</td></tr><tr><td>Clarice Rodrigues</td><td>018.736.245-90</td><td>clarice@exemplo.net</td><td>(08) 0081-5939</td></tr><tr><td>Raquel da Cruz</td><td>935.617.240-43</td><td>raquel@exemplo.net</td><td>(11) 3186-1591</td></tr><tr><td>Isabella Caldeira</td><td>514.387.029-14</td><td>isabella@exemplo.net</td><td>(55) 0318-0934</td></tr><tr><td>Diogo Cardoso</td><td>690.518.743-75</td><td>diogo@exemplo.net</td><td>(55) 3195-3485</td></tr><tr><td>Levi Ribeiro</td><td>491.726.850-85</td><td>levi@exemplo.net</td><td>(08) 4866-5935</td></tr><tr><td>Vicente Teixeira</td><td>075.163.924-99</td><td>vicente@exemplo.net</td><td>(01) 1287-6256</td></tr><tr><td>Ryan Silveira</td><td>238.096.471-87</td><td>ryan@exemplo.net</td><td>(31) 7618-7904</td></tr><tr><td>Luiz Fernando Barros</td><td>840.123.679-78</td><td>luiz@exemplo.net</td><td>(55) 5188-1614</td></tr><tr><td>João Vitor Silveira</td><td>130.284.967-04</td><td>joão@exemplo.net</td><td>(55) 3104-6059</td></tr><tr><td>Mariana da Mata</td><td>460.837.192-40</td><td>mariana@exemplo.net</td><td>(03) 0032-1721</td></tr><tr><td>Heloísa Alves</td><td>301.945.268-60</td><td>heloísa@exemplo.net</td><td>(01) 1067-9593</td></tr><tr><td>Arthur Duarte</td><td>756.219.034-80</td><td>arthur@exemplo.net</td><td>(55) 3166-7835</td></tr><tr><td>Davi Lucas da Cunha</td><td>854.791.632-64</td><td>davi@exemplo.net</td><td>(84) 0288-0358</td></tr><tr><td>Stella Costa</td><td>158.296.473-46</td><td>stella@exemplo.net</td><td>(08) 1070-2808</td></tr><tr><td>Breno Viana</td><td>190.253.486-70</td><td>breno@exemplo.net</td><td>(01) 1374-1399</td></tr><tr><td>Clarice Fogaça</td><td>836.429.750-38</td><td>clarice@exemplo.net</td><td>(55) 4105-6318</td></tr><tr><td>Stephany Ramos</td><td>386.907.145-10</td><td>stephany@exemplo.net</td><td>(55) 8164-6788</td></tr><tr><td>Thiago Caldeira</td><td>258.301.946-51</td><td>thiago@exemplo.net</td><td>(55) 2186-5807</td></tr><tr><td>Cauê Cardoso</td><td>940.635.812-33</td><td>cauê@exemplo.net</td><td>(21) 3132-1809</td></tr><tr><td>Diego Campos</td><td>690.278.314-40</td><td>diego@exemplo.net</td><td>(55) 7193-2979</td></tr><tr><td>Heloísa Oliveira</td><td>734.915.028-88</td><td>heloísa@exemplo.net</td><td>(55) 8119-7690</td></tr><tr><td>Joaquim Alves</td><td>031.745.986-48</td><td>joaquim@exemplo.net</td><td>(07) 1472-3988</td></tr><tr><td>Maria Julia Cunha</td><td>892.013.467-78</td><td>maria@exemplo.net</td><td>(31) 8677-2776</td></tr><tr><td>Carolina Barbosa</td><td>189.207.546-67</td><td>carolina@exemplo.net</td><td>(55) 5193-1015</td></tr><tr><td>Juliana Cardoso</td><td>356.480.219-33</td><td>juliana@exemplo.net</td><td>(08) 0060-6790</td></tr><tr><td>Clarice Nascimento</td><td>892.457.103-60</td><td>clarice@exemplo.net</td><td>(55) 3197-1481</td></tr><tr><td>Arthur Ribeiro</td><td>983.710.462-78</td><td>arthur@exemplo.net</td><td>(31) 3727-3443</td></tr><tr><td>Nina Peixoto</td><td>851.732.469-28</td><td>nina@exemplo.net</td><td>(07) 1488-5604</td></tr><tr><td>João Guilherme Ramos</td><td>309.246.185-15</td><td>joão@exemplo.net</td><td>(55) 7119-5061</td></tr><tr><td>Joana Barros</td><td>632.578.019-12</td><td>joana@exemplo.net</td><td>(55) 8107-6602</td></tr><tr><td>Bruno Farias</td><td>741.908.253-79</td><td>bruno@exemplo.net</td><td>(55) 2128-9806</td></tr><tr><td>Isadora Ribeiro</td><td>057.946.132-70</td><td>isadora@exemplo.net</td><td>(21) 1276-1055</td></tr><tr><td>Pietro Souza</td><td>308.429.176-40</td><td>pietro@exemplo.net</td><td>(55) 8430-4989</td></tr><tr><td>Maria Eduarda Dias</td><td>196.705.342-16</td><td>maria@exemplo.net</td><td>(02) 1692-3452</td></tr><tr><td>Emanuelly Moura</td><td>271.096.835-59</td><td>emanuelly@exemplo.net</td><td>(55) 2127-4939</td></tr><tr><td>Ian Novaes</td><td>482.763.910-87</td><td>ian@exemplo.net</td><td>(71) 0245-9596</td></tr><tr><td>Isabelly Costela</td><td>951.408.637-66</td><td>isabelly@exemplo.net</td><td>(55) 6127-6108</td></tr><tr><td>Helena Lopes</td><td>465.793.201-25</td><td>helena@exemplo.net</td><td>(61) 9215-6567</td></tr><tr><td>Breno Souza</td><td>627.309.518-30</td><td>breno@exemplo.net</td><td>(41) 2171-7813</td></tr><tr><td>Bruna Silva</td><td>296.871.043-50</td><td>bruna@exemplo.net</td><td>(55) 0215-5165</td></tr><tr><td>Rafael Cardoso</td><td>413.957.028-88</td><td>rafael@exemplo.net</td><td>(21) 4888-5818</td></tr><tr><td>Marcela Dias</td><td>401.956.278-49</td><td>marcela@exemplo.net</td><td>(55) 0112-3961</td></tr><tr><td>Isis Freitas</td><td>531.946.870-93</td><td>isis@exemplo.net</td><td>(21) 2506-5741</td></tr><tr><td>Ana Beatriz Oliveira</td><td>706.519.238-59</td><td>ana@exemplo.net</td><td>(21) 4871-6086</td></tr><tr><td>Melissa Pires</td><td>431.865.702-71</td><td>melissa@exemplo.net</td><td>(03) 0003-4934</td></tr><tr><td>Giovanna Martins</td><td>617.523.948-28</td><td>giovanna@exemplo.net</td><td>(06) 1245-8390</td></tr><tr><td>Caio Freitas</td><td>237.149.560-34</td><td>caio@exemplo.net</td><td>(09) 0032-2351</td></tr><tr><td>João Vitor Rodrigues</td><td>809.416.257-02</td><td>joão@exemplo.net</td><td>(55) 0518-8944</td></tr><tr><td>Maria Julia Duarte</td><td>809.562.714-30</td><td>maria@exemplo.net</td><td>(01) 1993-3701</td></tr><tr><td>Maria Alice Duarte</td><td>526.983.714-55</td><td>maria@exemplo.net</td><td>(55) 4179-4122</td></tr><tr><td>André Azevedo</td><td>652.914.307-61</td><td>andré@exemplo.net</td><td>(06) 1615-6480</td></tr><tr><td>Caroline Melo</td><td>254.013.698-24</td><td>caroline@exemplo.net</td><td>(07) 1269-9175</td></tr><tr><td>Helena da Costa</td><td>138.952.407-88</td><td>helena@exemplo.net</td><td>(55) 0517-8890</td></tr><tr><td>Luiz Felipe Teixeira</td><td>158.093.247-97</td><td>luiz@exemplo.net</td><td>(09) 0001-8727</td></tr><tr><td>Gabriela Duarte</td><td>763.940.521-16</td><td>gabriela@exemplo.net</td><td>(55) 8114-3174</td></tr><tr><td>Bruno Cardoso</td><td>241.076.895-49</td><td>bruno@exemplo.net</td><td>(08) 1121-7027</td></tr><tr><td>Marcos Vinicius Gonçalves</td><td>794.016.258-67</td><td>marcos@exemplo.net</td><td>(31) 1623-4111</td></tr><tr><td>Olivia Campos</td><td>416.807.329-78</td><td>olivia@exemplo.net</td><td>(81) 1098-6459</td></tr><tr><td>Leonardo Jesus</td><td>487.152.096-01</td><td>leonardo@exemplo.net</td><td>(51) 9589-5669</td></tr><tr><td>Theo da Luz</td><td>794.213.658-28</td><td>theo@exemplo.net</td><td>(55) 7152-7325</td></tr><tr><td>Maria Teixeira</td><td>578.609.123-68</td><td>maria@exemplo.net</td><td>(55) 1163-7766</td></tr><tr><td>Rafael Cavalcanti</td><td>263.107.459-99</td><td>rafael@exemplo.net</td><td>(03) 0030-3939</td></tr><tr><td>Daniela Viana</td><td>741.639.250-07</td><td>daniela@exemplo.net</td><td>(55) 0214-2432</td></tr><tr><td>Eduarda Pinto</td><td>967.452.831-82</td><td>eduarda@exemplo.net</td><td>(55) 6144-2578</td></tr><tr><td>Ana Lívia Pereira</td><td>596.172.480-85</td><td>ana@exemplo.net</td><td>(08) 4898-8225</td></tr><tr><td>Francisco Alves</td><td>549.708.361-75</td><td>francisco@exemplo.net</td><td>(11) 9279-4965</td></tr><tr><td>Diego Nascimento</td><td>217.854.369-37</td><td>diego@exemplo.net</td><td>(55) 7113-5055</td></tr><tr><td>Rafaela Peixoto</td><td>407.318.659-01</td><td>rafaela@exemplo.net</td><td>(55) 0811-1470</td></tr><tr><td>Bianca da Luz</td><td>647.159.382-19</td><td>bianca@exemplo.net</td><td>(41) 1539-2256</td></tr><tr><td>Isaac da Paz</td><td>268.091.347-78</td><td>isaac@exemplo.net</td><td>(09) 0071-8470</td></tr><tr><td>Ana Beatriz Dias</td><td>432.580.761-62</td><td>ana@exemplo.net</td><td>(61) 5225-6588</td></tr><tr><td>Ana Sophia Pires</td><td>706.421.358-35</td><td>ana@exemplo.net</td><td>(02) 1404-5891</td></tr><tr><td>Ana Luiza Moraes</td><td>592.068.147-02</td><td>ana@exemplo.net</td><td>(51) 6645-1663</td></tr><tr><td>Alice da Rosa</td><td>460.982.371-31</td><td>alice@exemplo.net</td><td>(55) 0619-9100</td></tr><tr><td>João Lucas das Neves</td><td>359.624.810-89</td><td>joão@exemplo.net</td><td>(55) 0513-7878</td></tr><tr><td>Ana Clara Ribeiro</td><td>589.420.763-00</td><td>ana@exemplo.net</td><td>(51) 0374-8175</td></tr><tr><td>Camila Silva</td><td>490.756.813-48</td><td>camila@exemplo.net</td><td>(55) 2118-6084</td></tr><tr><td>Augusto Pereira</td><td>903.714.825-50</td><td>augusto@exemplo.net</td><td>(55) 0716-2188</td></tr><tr><td>Emanuel das Neves</td><td>093.726.581-03</td><td>emanuel@exemplo.net</td><td>(41) 0469-0107</td></tr><tr><td>Benjamin Barbosa</td><td>041.837.962-96</td><td>benjamin@exemplo.net</td><td>(55) 0119-7653</td></tr><tr><td>Ana Clara Novaes</td><td>820.971.356-68</td><td>ana@exemplo.net</td><td>(55) 1123-8694</td></tr><tr><td>Davi Luiz Correia</td><td>573.169.402-80</td><td>davi@exemplo.net</td><td>(84) 1226-7474</td></tr><tr><td>Thiago da Mata</td><td>604.892.571-94</td><td>thiago@exemplo.net</td><td>(08) 4827-8488</td></tr><tr><td>Maria Fernanda Ribeiro</td><td>859.613.024-15</td><td>maria@exemplo.net</td><td>(11) 2434-6234</td></tr><tr><td>Pedro Miguel Caldeira</td><td>860.357.941-57</td><td>pedro@exemplo.net</td><td>(41) 9810-5048</td></tr><tr><td>Gustavo Henrique Pinto</td><td>963.057.124-25</td><td>gustavo@exemplo.net</td><td>(41) 9564-3566</td></tr><tr><td>Valentina Peixoto</td><td>967.803.514-66</td><td>valentina@exemplo.net</td><td>(41) 9462-4619</td></tr><tr><td>Pedro Lucas Ramos</td><td>269.853.407-92</td><td>pedro@exemplo.net</td><td>(05) 1842-5600</td></tr><tr><td>Lara Costela</td><td>029.541.836-24</td><td>lara@exemplo.net</td><td>(55) 3190-6593</td></tr><tr><td>João Lucas da Conceição</td><td>627.513.480-17</td><td>joão@exemplo.net</td><td>(55) 0318-0747</td></tr><tr><td>Valentina da Rosa</td><td>156.089.273-03</td><td>valentina@exemplo.net</td><td>(55) 0511-5089</td></tr><tr><td>Esther da Conceição</td><td>952.178.043-60</td><td>esther@exemplo.net</td><td>(02) 1675-7903</td></tr><tr><td>Luiz Gustavo da Costa</td><td>237.485.916-91</td><td>luiz@exemplo.net</td><td>(55) 6188-6670</td></tr><tr><td>Maitê Campos</td><td>083.645.729-38</td><td>maitê@exemplo.net</td><td>(55) 0814-5987</td></tr><tr><td>Luiz Gustavo Ferreira</td><td>509.871.436-20</td><td>luiz@exemplo.net</td><td>(55) 7159-7838</td></tr><tr><td>Francisco Cunha</td><td>780.453.961-48</td><td>francisco@exemplo.net</td><td>(55) 0110-1309</td></tr><tr><td>Vicente Rocha</td><td>014.327.698-04</td><td>vicente@exemplo.net</td><td>(09) 0001-6847</td></tr><tr><td>Pedro Lucas Vieira</td><td>853.096.472-10</td><td>pedro@exemplo.net</td><td>(06) 1588-6238</td></tr><tr><td>Mariana Castro</td><td>502.768.491-67</td><td>mariana@exemplo.net</td><td>(55) 0849-9737</td></tr><tr><td>João da Rocha</td><td>014.625.389-24</td><td>joão@exemplo.net</td><td>(21) 6106-5965</td></tr><tr><td>Luiz Felipe Dias</td><td>038.279.145-23</td><td>luiz@exemplo.net</td><td>(21) 5417-5414</td></tr><tr><td>Lucca da Paz</td><td>957.804.123-32</td><td>lucca@exemplo.net</td><td>(84) 0454-7369</td></tr><tr><td>Ana Laura Sales</td><td>031.796.248-50</td><td>ana@exemplo.net</td><td>(02) 1540-7373</td></tr><tr><td>Renan da Luz</td><td>750.921.463-70</td><td>renan@exemplo.net</td><td>(55) 0813-9704</td></tr><tr><td>Julia Duarte</td><td>236.198.507-12</td><td>julia@exemplo.net</td><td>(55) 0816-8017</td></tr><tr><td>Kaique Novaes</td><td>453.709.618-75</td><td>kaique@exemplo.net</td><td>(01) 1230-5070</td></tr><tr><td>Ana Sophia da Luz</td><td>672.598.043-00</td><td>ana@exemplo.net</td><td>(55) 0218-0561</td></tr><tr><td>Ana Carolina Ribeiro</td><td>245.790.813-23</td><td>ana@exemplo.net</td><td>(04) 1950-1521</td></tr><tr><td>Fernanda Silveira</td><td>823.495.761-91</td><td>fernanda@exemplo.net</td><td>(81) 8662-9478</td></tr><tr><td>Thiago Silveira</td><td>085.143.296-42</td><td>thiago@exemplo.net</td><td>(55) 0610-6273</td></tr><tr><td>Isis Farias</td><td>493.765.821-28</td><td>isis@exemplo.net</td><td>(55) 1153-1325</td></tr><tr><td>Vicente Pires</td><td>859.017.426-30</td><td>vicente@exemplo.net</td><td>(05) 1103-4619</td></tr><tr><td>Luiza Teixeira</td><td>873.106.254-71</td><td>luiza@exemplo.net</td><td>(04) 1130-7477</td></tr><tr><td>Nicolas Souza</td><td>803.619.475-93</td><td>nicolas@exemplo.net</td><td>(55) 0513-9080</td></tr><tr><td>Mariana Pires</td><td>432.869.071-03</td><td>mariana@exemplo.net</td><td>(31) 9368-2860</td></tr><tr><td>Alana Carvalho</td><td>310.296.574-16</td><td>alana@exemplo.net</td><td>(55) 4195-9639</td></tr><tr><td>Leonardo Correia</td><td>351.964.087-20</td><td>leonardo@exemplo.net</td><td>(55) 4191-7435</td></tr><tr><td>Alexia Sales</td><td>176.980.425-02</td><td>alexia@exemplo.net</td><td>(03) 0034-5821</td></tr><tr><td>Eloah Correia</td><td>170.358.926-21</td><td>eloah@exemplo.net</td><td>(03) 0033-2098</td></tr><tr><td>Maria Julia Gonçalves</td><td>387.269.504-56</td><td>maria@exemplo.net</td><td>(84) 8911-8625</td></tr><tr><td>Francisco Pires</td><td>604.529.318-51</td><td>francisco@exemplo.net</td><td>(21) 7588-6310</td></tr><tr><td>Davi Lucas Caldeira</td><td>132.504.967-07</td><td>davi@exemplo.net</td><td>(04) 1504-9794</td></tr><tr><td>Rafael Ferreira</td><td>965.418.027-85</td><td>rafael@exemplo.net</td><td>(01) 1462-1352</td></tr><tr><td>Ana Carolina da Costa</td><td>675.432.908-47</td><td>ana@exemplo.net</td><td>(05) 0057-8090</td></tr><tr><td>Beatriz Cardoso</td><td>296.450.817-85</td><td>beatriz@exemplo.net</td><td>(55) 5128-1460</td></tr><tr><td>Bianca Oliveira</td><td>678.453.920-65</td><td>bianca@exemplo.net</td><td>(01) 1795-2968</td></tr><tr><td>Paulo Ferreira</td><td>619.583.240-51</td><td>paulo@exemplo.net</td><td>(05) 0037-3004</td></tr><tr><td>Noah Peixoto</td><td>512.378.960-02</td><td>noah@exemplo.net</td><td>(55) 1148-2325</td></tr><tr><td>Manuela Jesus</td><td>493.821.056-89</td><td>manuela@exemplo.net</td><td>(55) 6139-6131</td></tr><tr><td>Pedro Henrique Peixoto</td><td>745.261.938-28</td><td>pedro@exemplo.net</td><td>(02) 1435-5033</td></tr><tr><td>Fernando Moraes</td><td>752.189.460-01</td><td>fernando@exemplo.net</td><td>(55) 0711-8363</td></tr><tr><td>Lucca Costela</td><td>140.783.956-00</td><td>lucca@exemplo.net</td><td>(55) 0210-5494</td></tr><tr><td>Maria Vitória Mendes</td><td>364.918.527-09</td><td>maria@exemplo.net</td><td>(55) 1198-0484</td></tr><tr><td>Paulo Silveira</td><td>456.210.983-15</td><td>paulo@exemplo.net</td><td>(55) 0114-2394</td></tr><tr><td>Isabella Gomes</td><td>041.296.358-24</td><td>isabella@exemplo.net</td><td>(55) 8190-3930</td></tr><tr><td>Davi da Rosa</td><td>769.431.852-09</td><td>davi@exemplo.net</td><td>(55) 8179-7880</td></tr><tr><td>João Pedro Pereira</td><td>218.579.340-32</td><td>joão@exemplo.net</td><td>(55) 1163-9966</td></tr><tr><td>Gustavo Farias</td><td>384.510.267-53</td><td>gustavo@exemplo.net</td><td>(55) 0810-1138</td></tr><tr><td>Sophie Rezende</td><td>352.894.160-05</td><td>sophie@exemplo.net</td><td>(07) 1924-9637</td></tr><tr><td>Igor Farias</td><td>697.825.341-37</td><td>igor@exemplo.net</td><td>(55) 0616-4789</td></tr><tr><td>Pedro Henrique Nascimento</td><td>024.173.596-34</td><td>pedro@exemplo.net</td><td>(55) 8433-7824</td></tr><tr><td>Isis Dias</td><td>829.416.730-40</td><td>isis@exemplo.net</td><td>(84) 7868-2741</td></tr><tr><td>Luiz Henrique Sales</td><td>852.934.107-41</td><td>luiz@exemplo.net</td><td>(55) 0710-3172</td></tr><tr><td>Luna Freitas</td><td>718.260.439-69</td><td>luna@exemplo.net</td><td>(05) 0084-0098</td></tr><tr><td>Nathan Correia</td><td>287.649.150-85</td><td>nathan@exemplo.net</td><td>(55) 0848-9835</td></tr><tr><td>Vitor Hugo da Luz</td><td>049.762.831-78</td><td>vitor@exemplo.net</td><td>(08) 1508-5050</td></tr><tr><td>Leonardo da Cunha</td><td>390.687.512-12</td><td>leonardo@exemplo.net</td><td>(04) 1164-9628</td></tr><tr><td>Nicolas da Mota</td><td>714.526.389-00</td><td>nicolas@exemplo.net</td><td>(06) 1425-4542</td></tr><tr><td>Diogo Porto</td><td>251.730.896-95</td><td>diogo@exemplo.net</td><td>(55) 8177-3541</td></tr><tr><td>Luana da Cunha</td><td>063.721.495-16</td><td>luana@exemplo.net</td><td>(55) 0818-8295</td></tr><tr><td>João Guilherme Carvalho</td><td>024.867.913-96</td><td>joão@exemplo.net</td><td>(05) 1013-1757</td></tr><tr><td>Laís da Mata</td><td>281.905.634-24</td><td>laís@exemplo.net</td><td>(55) 6149-5843</td></tr><tr><td>Brenda Gomes</td><td>415.378.260-26</td><td>brenda@exemplo.net</td><td>(55) 0613-7787</td></tr><tr><td>Leandro Castro</td><td>065.813.279-21</td><td>leandro@exemplo.net</td><td>(55) 3139-0241</td></tr><tr><td>Maria Vitória Melo</td><td>607.415.982-30</td><td>maria@exemplo.net</td><td>(55) 3133-9667</td></tr><tr><td>Augusto da Paz</td><td>780.642.395-83</td><td>augusto@exemplo.net</td><td>(08) 1590-7600</td></tr><tr><td>Mirella Moura</td><td>620.489.153-70</td><td>mirella@exemplo.net</td><td>(55) 0414-1945</td></tr><tr><td>Francisco Correia</td><td>902.548.731-97</td><td>francisco@exemplo.net</td><td>(21) 0886-4066</td></tr><tr><td>Alice Melo</td><td>682.094.357-10</td><td>alice@exemplo.net</td><td>(61) 4399-0055</td></tr><tr><td>Elisa Correia</td><td>140.358.697-75</td><td>elisa@exemplo.net</td><td>(55) 4144-4688</td></tr><tr><td>João Lucas Almeida</td><td>405.931.762-43</td><td>joão@exemplo.net</td><td>(07) 1271-6786</td></tr><tr><td>Ian Oliveira</td><td>235.670.891-02</td><td>ian@exemplo.net</td><td>(55) 3151-1650</td></tr><tr><td>Milena Costa</td><td>589.361.247-73</td><td>milena@exemplo.net</td><td>(55) 0116-4758</td></tr><tr><td>Carolina Nascimento</td><td>462.130.578-62</td><td>carolina@exemplo.net</td><td>(55) 0215-0053</td></tr><tr><td>João Vitor Martins</td><td>358.642.970-38</td><td>joão@exemplo.net</td><td>(55) 1128-0468</td></tr><tr><td>Ana Clara Castro</td><td>641.305.279-16</td><td>ana@exemplo.net</td><td>(08) 0045-4683</td></tr><tr><td>Carolina Pires</td><td>807.391.526-02</td><td>carolina@exemplo.net</td><td>(81) 7466-9927</td></tr><tr><td>Alexandre Castro</td><td>094.275.368-29</td><td>alexandre@exemplo.net</td><td>(11) 0858-8990</td></tr><tr><td>Laura Azevedo</td><td>642.819.750-20</td><td>laura@exemplo.net</td><td>(61) 5143-2882</td></tr><tr><td>Gabriel Teixeira</td><td>957.401.682-01</td><td>gabriel@exemplo.net</td><td>(07) 1854-3843</td></tr><tr><td>Francisco Santos</td><td>092.385.167-40</td><td>francisco@exemplo.net</td><td>(55) 7161-1855</td></tr><tr><td>Lorena Dias</td><td>507.918.246-67</td><td>lorena@exemplo.net</td><td>(55) 0713-4200</td></tr><tr><td>Alana Pereira</td><td>651.230.794-16</td><td>alana@exemplo.net</td><td>(55) 0710-7103</td></tr><tr><td>Cauã Monteiro</td><td>921.684.357-82</td><td>cauã@exemplo.net</td><td>(51) 7954-1892</td></tr><tr><td>Milena da Costa</td><td>651.830.472-35</td><td>milena@exemplo.net</td><td>(41) 4801-5610</td></tr><tr><td>Noah Monteiro</td><td>937.042.618-31</td><td>noah@exemplo.net</td><td>(55) 8497-6050</td></tr><tr><td>Helena Silveira</td><td>984.562.017-58</td><td>helena@exemplo.net</td><td>(55) 0516-6693</td></tr><tr><td>Thiago da Cruz</td><td>963.082.471-03</td><td>thiago@exemplo.net</td><td>(55) 0615-2442</td></tr><tr><td>Luiz Otávio Gonçalves</td><td>623.057.819-03</td><td>luiz@exemplo.net</td><td>(55) 0819-5769</td></tr><tr><td>Clara Pinto</td><td>351.062.847-08</td><td>clara@exemplo.net</td><td>(55) 5139-9659</td></tr><tr><td>Guilherme Rodrigues</td><td>157.832.096-86</td><td>guilherme@exemplo.net</td><td>(55) 8478-1127</td></tr><tr><td>Marcelo Duarte</td><td>946.831.250-05</td><td>marcelo@exemplo.net</td><td>(61) 9684-6038</td></tr><tr><td>Yago da Cruz</td><td>981.634.057-75</td><td>yago@exemplo.net</td><td>(55) 0813-3994</td></tr><tr><td>Benjamin Carvalho</td><td>705.296.143-16</td><td>benjamin@exemplo.net</td><td>(06) 1176-3126</td></tr><tr><td>Vinicius Costa</td><td>082.769.531-40</td><td>vinicius@exemplo.net</td><td>(55) 2133-1837</td></tr><tr><td>Ana Sophia Pinto</td><td>892.143.067-96</td><td>ana@exemplo.net</td><td>(55) 0215-7625</td></tr><tr><td>João Miguel Nunes</td><td>967.423.085-83</td><td>joão@exemplo.net</td><td>(55) 3100-4510</td></tr><tr><td>Raul Oliveira</td><td>195.084.736-57</td><td>raul@exemplo.net</td><td>(55) 0847-5706</td></tr><tr><td>Caroline Nogueira</td><td>682.174.509-94</td><td>caroline@exemplo.net</td><td>(55) 1181-2891</td></tr><tr><td>Fernanda Dias</td><td>059.167.842-01</td><td>fernanda@exemplo.net</td><td>(08) 0067-2833</td></tr><tr><td>Maria Vitória Teixeira</td><td>937.806.542-29</td><td>maria@exemplo.net</td><td>(55) 6181-2834</td></tr><tr><td>Isabella Fogaça</td><td>319.507.826-03</td><td>isabella@exemplo.net</td><td>(55) 0212-3188</td></tr><tr><td>Maria Julia Araújo</td><td>031.476.528-07</td><td>maria@exemplo.net</td><td>(55) 0519-0133</td></tr><tr><td>Maria Sophia Caldeira</td><td>309.541.768-39</td><td>maria@exemplo.net</td><td>(07) 1340-1433</td></tr><tr><td>Luiz Gustavo Freitas</td><td>052.641.783-80</td><td>luiz@exemplo.net</td><td>(03) 0068-2728</td></tr><tr><td>Yuri Vieira</td><td>483.961.075-48</td><td>yuri@exemplo.net</td><td>(02) 1428-5043</td></tr><tr><td>João Felipe Fernandes</td><td>094.586.317-93</td><td>joão@exemplo.net</td><td>(08) 4623-8577</td></tr><tr><td>Emanuel Barros</td><td>731.096.582-59</td><td>emanuel@exemplo.net</td><td>(55) 0713-6677</td></tr><tr><td>Vitor Hugo Silveira</td><td>638.270.519-59</td><td>vitor@exemplo.net</td><td>(41) 3973-7364</td></tr><tr><td>Enzo Gabriel Ferreira</td><td>638.721.450-53</td><td>enzo@exemplo.net</td><td>(55) 4105-3764</td></tr><tr><td>Yago Moreira</td><td>325.067.918-68</td><td>yago@exemplo.net</td><td>(05) 1771-5067</td></tr><tr><td>Ana Clara Silva</td><td>769.542.801-94</td><td>ana@exemplo.net</td><td>(55) 8196-3952</td></tr><tr><td>Emilly Carvalho</td><td>271.854.396-55</td><td>emilly@exemplo.net</td><td>(55) 0216-1145</td></tr><tr><td>Caroline Araújo</td><td>763.192.058-30</td><td>caroline@exemplo.net</td><td>(55) 5164-5108</td></tr><tr><td>Anthony Silveira</td><td>586.743.021-90</td><td>anthony@exemplo.net</td><td>(55) 0115-8250</td></tr><tr><td>Esther Rodrigues</td><td>807.316.529-59</td><td>esther@exemplo.net</td><td>(55) 0415-6169</td></tr><tr><td>Alice Nogueira</td><td>956.413.207-06</td><td>alice@exemplo.net</td><td>(84) 5893-6145</td></tr><tr><td>Lavínia da Cruz</td><td>521.683.490-70</td><td>lavínia@exemplo.net</td><td>(55) 4151-7639</td></tr><tr><td>Lavínia da Rosa</td><td>381.642.509-70</td><td>lavínia@exemplo.net</td><td>(55) 0317-0300</td></tr><tr><td>Francisco Rocha</td><td>216.098.435-33</td><td>francisco@exemplo.net</td><td>(71) 3906-8713</td></tr><tr><td>Heloísa Rezende</td><td>352.701.689-95</td><td>heloísa@exemplo.net</td><td>(09) 0082-3767</td></tr><tr><td>Isabella Martins</td><td>863.471.952-91</td><td>isabella@exemplo.net</td><td>(55) 0212-0563</td></tr><tr><td>Thales Mendes</td><td>391.520.478-14</td><td>thales@exemplo.net</td><td>(08) 1513-9926</td></tr><tr><td>Pedro da Mota</td><td>048.739.125-04</td><td>pedro@exemplo.net</td><td>(55) 8432-6020</td></tr><tr><td>Kamilly Gomes</td><td>082.514.736-08</td><td>kamilly@exemplo.net</td><td>(21) 8493-9103</td></tr><tr><td>Pedro Miguel Jesus</td><td>504.316.298-89</td><td>pedro@exemplo.net</td><td>(55) 0412-8451</td></tr><tr><td>Vitor Porto</td><td>214.837.096-04</td><td>vitor@exemplo.net</td><td>(55) 0818-8374</td></tr><tr><td>Vinicius Araújo</td><td>287.694.031-04</td><td>vinicius@exemplo.net</td><td>(81) 7898-8473</td></tr><tr><td>Alice Santos</td><td>621.980.534-89</td><td>alice@exemplo.net</td><td>(07) 1357-4482</td></tr><tr><td>Rafaela da Cruz</td><td>459.312.870-60</td><td>rafaela@exemplo.net</td><td>(55) 7186-3884</td></tr><tr><td>Alícia Azevedo</td><td>159.378.062-12</td><td>alícia@exemplo.net</td><td>(55) 0713-7200</td></tr><tr><td>Alana Correia</td><td>369.728.105-40</td><td>alana@exemplo.net</td><td>(55) 0110-1687</td></tr><tr><td>Levi Gomes</td><td>173.940.256-16</td><td>levi@exemplo.net</td><td>(04) 1979-6403</td></tr><tr><td>Helena Vieira</td><td>653.017.982-86</td><td>helena@exemplo.net</td><td>(55) 8190-2188</td></tr><tr><td>Cecília Ramos</td><td>698.325.147-46</td><td>cecília@exemplo.net</td><td>(55) 4135-8095</td></tr><tr><td>Thales Lopes</td><td>049.713.568-00</td><td>thales@exemplo.net</td><td>(06) 1110-5639</td></tr><tr><td>Sophie Teixeira</td><td>417.265.398-73</td><td>sophie@exemplo.net</td><td>(55) 0112-7123</td></tr><tr><td>Vicente Castro</td><td>921.548.036-60</td><td>vicente@exemplo.net</td><td>(55) 2173-0784</td></tr><tr><td>Danilo Silveira</td><td>160.395.728-68</td><td>danilo@exemplo.net</td><td>(51) 4688-6921</td></tr><tr><td>Leandro Lopes</td><td>781.029.534-97</td><td>leandro@exemplo.net</td><td>(55) 0115-2254</td></tr><tr><td>Isabelly Cardoso</td><td>203.519.467-99</td><td>isabelly@exemplo.net</td><td>(84) 8743-9901</td></tr><tr><td>Benício Costela</td><td>359.842.601-15</td><td>benício@exemplo.net</td><td>(55) 8457-8804</td></tr><tr><td>Mariane Moura</td><td>193.048.572-79</td><td>mariane@exemplo.net</td><td>(55) 0611-2144</td></tr><tr><td>Pedro Henrique Dias</td><td>398.570.426-00</td><td>pedro@exemplo.net</td><td>(55) 0417-6952</td></tr><tr><td>Mariana Aragão</td><td>438.970.526-10</td><td>mariana@exemplo.net</td><td>(55) 0219-6934</td></tr><tr><td>Matheus Rocha</td><td>492.603.175-25</td><td>matheus@exemplo.net</td><td>(21) 6712-2641</td></tr><tr><td>Maria Vitória Barbosa</td><td>349.857.106-01</td><td>maria@exemplo.net</td><td>(55) 0111-2116</td></tr><tr><td>Matheus Peixoto</td><td>083.672.541-71</td><td>matheus@exemplo.net</td><td>(03) 0074-1553</td></tr><tr><td>Ana Carolina Ferreira</td><td>456.798.201-02</td><td>ana@exemplo.net</td><td>(55) 0840-8175</td></tr><tr><td>Luiz Gustavo da Luz</td><td>190.826.543-42</td><td>luiz@exemplo.net</td><td>(06) 1295-7237</td></tr><tr><td>Miguel Lopes</td><td>103.892.754-41</td><td>miguel@exemplo.net</td><td>(31) 5869-3256</td></tr><tr><td>Murilo da Conceição</td><td>637.824.051-53</td><td>murilo@exemplo.net</td><td>(55) 6122-1624</td></tr><tr><td>João Miguel Lopes</td><td>425.016.798-49</td><td>joão@exemplo.net</td><td>(55) 5142-8117</td></tr><tr><td>Ana Laura Carvalho</td><td>648.701.392-78</td><td>ana@exemplo.net</td><td>(11) 6353-3860</td></tr><tr><td>Pedro Lucas Rezende</td><td>186.945.203-89</td><td>pedro@exemplo.net</td><td>(55) 8158-3182</td></tr><tr><td>Isis Oliveira</td><td>184.256.397-19</td><td>isis@exemplo.net</td><td>(09) 0051-8545</td></tr><tr><td>Thomas Barbosa</td><td>653.089.712-77</td><td>thomas@exemplo.net</td><td>(55) 3162-2734</td></tr><tr><td>Nina da Paz</td><td>890.453.612-05</td><td>nina@exemplo.net</td><td>(41) 7667-7648</td></tr><tr><td>Ana Carolina Moreira</td><td>572.908.463-38</td><td>ana@exemplo.net</td><td>(01) 1301-1065</td></tr><tr><td>Maria Eduarda da Paz</td><td>596.231.740-80</td><td>maria@exemplo.net</td><td>(55) 0714-4808</td></tr><tr><td>Ana Júlia Fogaça</td><td>347.092.156-34</td><td>ana@exemplo.net</td><td>(61) 9827-1787</td></tr><tr><td>Marcos Vinicius Jesus</td><td>175.402.863-26</td><td>marcos@exemplo.net</td><td>(55) 2147-9135</td></tr><tr><td>Lívia Duarte</td><td>803.652.794-47</td><td>lívia@exemplo.net</td><td>(55) 5146-5749</td></tr><tr><td>Nicolas Costela</td><td>318.264.095-05</td><td>nicolas@exemplo.net</td><td>(31) 7361-8293</td></tr><tr><td>Murilo Ferreira</td><td>590.218.437-14</td><td>murilo@exemplo.net</td><td>(71) 0066-0853</td></tr><tr><td>Thales da Paz</td><td>671.954.803-48</td><td>thales@exemplo.net</td><td>(07) 1723-5646</td></tr><tr><td>Sarah Costela</td><td>169.702.843-87</td><td>sarah@exemplo.net</td><td>(07) 1246-8415</td></tr><tr><td>Luiza Dias</td><td>524.679.310-99</td><td>luiza@exemplo.net</td><td>(55) 6179-6606</td></tr><tr><td>Leonardo Duarte</td><td>930.856.421-70</td><td>leonardo@exemplo.net</td><td>(51) 2303-4836</td></tr><tr><td>João Felipe Freitas</td><td>584.607.139-20</td><td>joão@exemplo.net</td><td>(04) 1121-4779</td></tr><tr><td>Luiz Otávio Ramos</td><td>396.147.250-52</td><td>luiz@exemplo.net</td><td>(07) 1231-4690</td></tr><tr><td>Fernando Souza</td><td>892.410.536-15</td><td>fernando@exemplo.net</td><td>(41) 5901-0871</td></tr><tr><td>Juliana da Luz</td><td>124.309.578-41</td><td>juliana@exemplo.net</td><td>(08) 1694-2716</td></tr><tr><td>Luiz Gustavo das Neves</td><td>594.386.217-09</td><td>luiz@exemplo.net</td><td>(55) 5111-7472</td></tr><tr><td>Joaquim Cardoso</td><td>697.543.021-70</td><td>joaquim@exemplo.net</td><td>(55) 4198-4769</td></tr><tr><td>Evelyn Fernandes</td><td>385.169.742-19</td><td>evelyn@exemplo.net</td><td>(55) 3192-0105</td></tr><tr><td>Vitor Farias</td><td>560.429.183-89</td><td>vitor@exemplo.net</td><td>(55) 2153-7746</td></tr><tr><td>Davi Lucas Farias</td><td>376.280.194-04</td><td>davi@exemplo.net</td><td>(51) 0741-6481</td></tr><tr><td>Rebeca Martins</td><td>182.347.059-97</td><td>rebeca@exemplo.net</td><td>(55) 0219-1107</td></tr><tr><td>Lucca Martins</td><td>692.348.517-73</td><td>lucca@exemplo.net</td><td>(02) 1543-9888</td></tr><tr><td>Eloah Viana</td><td>064.597.182-02</td><td>eloah@exemplo.net</td><td>(41) 3541-8881</td></tr><tr><td>Heitor da Conceição</td><td>928.704.136-96</td><td>heitor@exemplo.net</td><td>(55) 3184-0826</td></tr><tr><td>Davi Lucca Lima</td><td>572.083.146-08</td><td>davi@exemplo.net</td><td>(06) 1043-5573</td></tr><tr><td>Davi Luiz Freitas</td><td>589.316.240-42</td><td>davi@exemplo.net</td><td>(71) 6148-4936</td></tr><tr><td>Raul Fernandes</td><td>563.189.047-00</td><td>raul@exemplo.net</td><td>(02) 1943-0509</td></tr><tr><td>Luna da Mota</td><td>328.974.051-04</td><td>luna@exemplo.net</td><td>(08) 4517-2037</td></tr><tr><td>Laís Ramos</td><td>457.608.391-01</td><td>laís@exemplo.net</td><td>(04) 1078-6158</td></tr><tr><td>Letícia Moura</td><td>697.125.830-40</td><td>letícia@exemplo.net</td><td>(55) 8480-6548</td></tr><tr><td>Maysa Cavalcanti</td><td>943.062.517-99</td><td>maysa@exemplo.net</td><td>(55) 7163-1702</td></tr><tr><td>Júlia Sales</td><td>764.908.312-87</td><td>júlia@exemplo.net</td><td>(61) 6351-2735</td></tr><tr><td>Lara da Cruz</td><td>974.603.851-66</td><td>lara@exemplo.net</td><td>(55) 2194-8917</td></tr><tr><td>Eloah Freitas</td><td>345.917.802-79</td><td>eloah@exemplo.net</td><td>(11) 0090-4166</td></tr><tr><td>João Pedro Rodrigues</td><td>812.509.734-14</td><td>joão@exemplo.net</td><td>(55) 5113-6882</td></tr><tr><td>Erick Viana</td><td>365.729.480-56</td><td>erick@exemplo.net</td><td>(55) 0114-0460</td></tr><tr><td>Diego da Mota</td><td>456.937.102-70</td><td>diego@exemplo.net</td><td>(11) 7144-1058</td></tr><tr><td>Isabella Costela</td><td>946.723.850-00</td><td>isabella@exemplo.net</td><td>(55) 1103-8504</td></tr><tr><td>Vitória Barbosa</td><td>984.013.765-48</td><td>vitória@exemplo.net</td><td>(01) 1170-0694</td></tr><tr><td>Maria Alice Farias</td><td>803.576.492-65</td><td>maria@exemplo.net</td><td>(55) 8127-9398</td></tr><tr><td>Paulo Cunha</td><td>897.652.130-77</td><td>paulo@exemplo.net</td><td>(55) 0710-0106</td></tr><tr><td>Maria Cecília da Costa</td><td>329.486.017-03</td><td>maria@exemplo.net</td><td>(03) 0072-9580</td></tr><tr><td>João Miguel Vieira</td><td>204.987.531-23</td><td>joão@exemplo.net</td><td>(03) 1741-9859</td></tr><tr><td>Nina Almeida</td><td>674.398.501-57</td><td>nina@exemplo.net</td><td>(04) 1665-4063</td></tr><tr><td>Luiz Gustavo Lima</td><td>753.196.028-12</td><td>luiz@exemplo.net</td><td>(55) 0614-9669</td></tr><tr><td>Maria Vitória Jesus</td><td>586.493.021-06</td><td>maria@exemplo.net</td><td>(55) 0840-1923</td></tr><tr><td>Kevin Novaes</td><td>928.403.516-33</td><td>kevin@exemplo.net</td><td>(55) 8465-0851</td></tr><tr><td>Letícia da Rosa</td><td>026.974.513-07</td><td>letícia@exemplo.net</td><td>(08) 0029-2318</td></tr><tr><td>Isabelly Farias</td><td>259.748.301-05</td><td>isabelly@exemplo.net</td><td>(55) 5162-2587</td></tr><tr><td>Juan Duarte</td><td>156.438.920-06</td><td>juan@exemplo.net</td><td>(11) 2290-1514</td></tr><tr><td>Maitê Campos</td><td>795.084.632-10</td><td>maitê@exemplo.net</td><td>(81) 0610-2497</td></tr><tr><td>Clarice Mendes</td><td>680.371.249-40</td><td>clarice@exemplo.net</td><td>(07) 1340-8323</td></tr><tr><td>João Gabriel Teixeira</td><td>065.941.783-93</td><td>joão@exemplo.net</td><td>(55) 8167-5560</td></tr><tr><td>Eloah Peixoto</td><td>791.382.645-28</td><td>eloah@exemplo.net</td><td>(55) 7122-8768</td></tr><tr><td>Felipe Correia</td><td>792.835.016-59</td><td>felipe@exemplo.net</td><td>(55) 0710-0021</td></tr><tr><td>Maitê Rezende</td><td>219.468.350-05</td><td>maitê@exemplo.net</td><td>(09) 0051-7627</td></tr><tr><td>João Moraes</td><td>192.375.648-64</td><td>joão@exemplo.net</td><td>(03) 1581-9322</td></tr><tr><td>Isadora Cunha</td><td>580.913.276-68</td><td>isadora@exemplo.net</td><td>(09) 0003-8313</td></tr><tr><td>Ana Vitória Pereira</td><td>427.305.698-47</td><td>ana@exemplo.net</td><td>(05) 0092-0024</td></tr><tr><td>João Guilherme Barros</td><td>297.308.164-50</td><td>joão@exemplo.net</td><td>(04) 1422-1410</td></tr><tr><td>Vitor Hugo Nunes</td><td>380.469.725-92</td><td>vitor@exemplo.net</td><td>(08) 0091-8937</td></tr><tr><td>Clara Ribeiro</td><td>219.053.746-07</td><td>clara@exemplo.net</td><td>(05) 1441-2374</td></tr><tr><td>Manuela da Cruz</td><td>935.271.806-21</td><td>manuela@exemplo.net</td><td>(55) 6146-9111</td></tr><tr><td>Felipe Fogaça</td><td>301.249.578-97</td><td>felipe@exemplo.net</td><td>(05) 0009-0615</td></tr><tr><td>Enzo Castro</td><td>450.867.312-08</td><td>enzo@exemplo.net</td><td>(21) 0987-2655</td></tr><tr><td>Igor Azevedo</td><td>140.539.826-42</td><td>igor@exemplo.net</td><td>(51) 5662-5534</td></tr><tr><td>Davi Lucas da Rocha</td><td>083.612.457-07</td><td>davi@exemplo.net</td><td>(02) 1025-7385</td></tr><tr><td>Raquel Silveira</td><td>509.213.687-12</td><td>raquel@exemplo.net</td><td>(55) 2145-0400</td></tr><tr><td>Ana Lívia Peixoto</td><td>189.247.560-01</td><td>ana@exemplo.net</td><td>(03) 0063-5473</td></tr><tr><td>Emanuel Rezende</td><td>791.082.435-14</td><td>emanuel@exemplo.net</td><td>(61) 8720-3403</td></tr><tr><td>Vitor Hugo da Costa</td><td>950.718.463-57</td><td>vitor@exemplo.net</td><td>(03) 0051-7063</td></tr><tr><td>Ana Sophia Fernandes</td><td>237.806.519-12</td><td>ana@exemplo.net</td><td>(31) 9548-5078</td></tr><tr><td>Mariana da Mota</td><td>263.795.810-30</td><td>mariana@exemplo.net</td><td>(55) 0119-2598</td></tr><tr><td>Clarice Costela</td><td>728.435.601-44</td><td>clarice@exemplo.net</td><td>(02) 1050-6027</td></tr><tr><td>Sophia Porto</td><td>340.261.598-33</td><td>sophia@exemplo.net</td><td>(55) 0818-7866</td></tr><tr><td>Juliana Duarte</td><td>587.120.396-59</td><td>juliana@exemplo.net</td><td>(55) 5178-3627</td></tr><tr><td>Vinicius da Rosa</td><td>973.104.586-48</td><td>vinicius@exemplo.net</td><td>(05) 1778-3698</td></tr><tr><td>Igor Ribeiro</td><td>496.712.503-43</td><td>igor@exemplo.net</td><td>(55) 6110-4037</td></tr><tr><td>Marcela Ramos</td><td>138.695.420-98</td><td>marcela@exemplo.net</td><td>(06) 1255-1320</td></tr><tr><td>Clarice Peixoto</td><td>285.690.731-86</td><td>clarice@exemplo.net</td><td>(84) 9185-4619</td></tr><tr><td>Daniela Costela</td><td>861.490.527-02</td><td>daniela@exemplo.net</td><td>(55) 0516-3248</td></tr><tr><td>Valentina Cunha</td><td>803.294.761-22</td><td>valentina@exemplo.net</td><td>(41) 6836-2084</td></tr><tr><td>Ana Nogueira</td><td>821.903.456-42</td><td>ana@exemplo.net</td><td>(84) 9771-5271</td></tr><tr><td>Isabel Rezende</td><td>619.054.732-06</td><td>isabel@exemplo.net</td><td>(55) 0417-6059</td></tr><tr><td>Isabella Campos</td><td>341.708.529-23</td><td>isabella@exemplo.net</td><td>(08) 1485-3323</td></tr><tr><td>Mirella Pereira</td><td>175.204.638-26</td><td>mirella@exemplo.net</td><td>(55) 0716-7731</td></tr><tr><td>Breno Azevedo</td><td>617.438.920-04</td><td>breno@exemplo.net</td><td>(08) 1029-3498</td></tr><tr><td>Stella Fogaça</td><td>873.210.956-30</td><td>stella@exemplo.net</td><td>(09) 0027-1957</td></tr><tr><td>Luiz Gustavo Pereira</td><td>695.823.170-86</td><td>luiz@exemplo.net</td><td>(55) 0610-0417</td></tr><tr><td>Paulo Rocha</td><td>821.659.470-49</td><td>paulo@exemplo.net</td><td>(55) 0711-5987</td></tr><tr><td>Gabriel Dias</td><td>762.041.358-80</td><td>gabriel@exemplo.net</td><td>(55) 2149-7155</td></tr><tr><td>Caio Santos</td><td>827.549.361-73</td><td>caio@exemplo.net</td><td>(08) 0030-1749</td></tr><tr><td>Caroline da Mota</td><td>925.408.361-51</td><td>caroline@exemplo.net</td><td>(05) 1337-8110</td></tr><tr><td>Theo Barbosa</td><td>816.054.397-20</td><td>theo@exemplo.net</td><td>(06) 1771-3233</td></tr><tr><td>Murilo Ribeiro</td><td>618.342.509-51</td><td>murilo@exemplo.net</td><td>(55) 0716-9413</td></tr><tr><td>Vitor Hugo Silveira</td><td>091.862.435-51</td><td>vitor@exemplo.net</td><td>(55) 0817-2799</td></tr><tr><td>Cauã Araújo</td><td>723.698.150-86</td><td>cauã@exemplo.net</td><td>(11) 2786-1235</td></tr><tr><td>Sophie Souza</td><td>089.126.734-40</td><td>sophie@exemplo.net</td><td>(55) 0219-5501</td></tr><tr><td>Clara Nunes</td><td>397.028.614-03</td><td>clara@exemplo.net</td><td>(55) 8493-1877</td></tr><tr><td>Joaquim Gonçalves</td><td>197.520.436-07</td><td>joaquim@exemplo.net</td><td>(55) 8481-9191</td></tr><tr><td>Thiago Silveira</td><td>238.640.597-47</td><td>thiago@exemplo.net</td><td>(04) 1443-2530</td></tr><tr><td>Ana Júlia Campos</td><td>653.021.947-16</td><td>ana@exemplo.net</td><td>(55) 0518-5461</td></tr><tr><td>Isabel da Cruz</td><td>506.428.139-06</td><td>isabel@exemplo.net</td><td>(07) 1630-8589</td></tr><tr><td>Brenda da Rocha</td><td>186.073.952-03</td><td>brenda@exemplo.net</td><td>(55) 0413-9695</td></tr><tr><td>Nathan Nascimento</td><td>854.973.126-91</td><td>nathan@exemplo.net</td><td>(01) 1804-8858</td></tr><tr><td>Ian Pinto</td><td>012.365.897-77</td><td>ian@exemplo.net</td><td>(81) 9725-9068</td></tr><tr><td>Maria Silva</td><td>219.756.480-30</td><td>maria@exemplo.net</td><td>(11) 4903-7448</td></tr><tr><td>Nicole Almeida</td><td>745.281.369-37</td><td>nicole@exemplo.net</td><td>(55) 0842-4498</td></tr><tr><td>Diogo Cardoso</td><td>049.157.863-66</td><td>diogo@exemplo.net</td><td>(21) 0393-7198</td></tr><tr><td>Ana Vitória Ribeiro</td><td>518.397.206-03</td><td>ana@exemplo.net</td><td>(55) 8480-9581</td></tr><tr><td>Benjamin Moreira</td><td>769.508.231-77</td><td>benjamin@exemplo.net</td><td>(03) 0083-5382</td></tr><tr><td>Kaique Gomes</td><td>674.281.539-64</td><td>kaique@exemplo.net</td><td>(55) 0817-5515</td></tr><tr><td>Enrico Aragão</td><td>728.345.916-28</td><td>enrico@exemplo.net</td><td>(21) 0255-1171</td></tr><tr><td>Pietra Peixoto</td><td>752.368.491-28</td><td>pietra@exemplo.net</td><td>(03) 0034-2148</td></tr><tr><td>Francisco Correia</td><td>394.580.716-66</td><td>francisco@exemplo.net</td><td>(08) 1782-0916</td></tr><tr><td>Olivia Rodrigues</td><td>840.593.716-10</td><td>olivia@exemplo.net</td><td>(55) 0715-3545</td></tr><tr><td>Igor Farias</td><td>756.829.013-12</td><td>igor@exemplo.net</td><td>(84) 9514-8576</td></tr><tr><td>Murilo Pires</td><td>816.905.274-20</td><td>murilo@exemplo.net</td><td>(55) 7105-7964</td></tr><tr><td>Calebe da Rocha</td><td>716.853.920-59</td><td>calebe@exemplo.net</td><td>(81) 6019-1529</td></tr><tr><td>Evelyn da Conceição</td><td>410.578.632-62</td><td>evelyn@exemplo.net</td><td>(07) 1844-7243</td></tr><tr><td>Raul Cardoso</td><td>037.548.691-75</td><td>raul@exemplo.net</td><td>(31) 4959-9678</td></tr><tr><td>Ana Carolina Novaes</td><td>905.683.174-75</td><td>ana@exemplo.net</td><td>(55) 0519-5134</td></tr><tr><td>Giovanna das Neves</td><td>708.921.634-96</td><td>giovanna@exemplo.net</td><td>(01) 1772-4359</td></tr><tr><td>Nicole da Paz</td><td>027.154.369-80</td><td>nicole@exemplo.net</td><td>(04) 1594-4680</td></tr><tr><td>Valentina da Mata</td><td>279.140.368-03</td><td>valentina@exemplo.net</td><td>(31) 1155-4114</td></tr><tr><td>Erick Caldeira</td><td>327.691.845-55</td><td>erick@exemplo.net</td><td>(03) 0063-2857</td></tr><tr><td>Fernando da Costa</td><td>230.796.814-87</td><td>fernando@exemplo.net</td><td>(55) 4146-4376</td></tr><tr><td>Catarina Ramos</td><td>296.374.015-80</td><td>catarina@exemplo.net</td><td>(55) 4189-9082</td></tr><tr><td>Larissa Monteiro</td><td>631.840.927-04</td><td>larissa@exemplo.net</td><td>(21) 0855-5454</td></tr><tr><td>Francisco da Cruz</td><td>957.802.614-58</td><td>francisco@exemplo.net</td><td>(55) 0113-9528</td></tr><tr><td>João Felipe Azevedo</td><td>480.713.596-10</td><td>joão@exemplo.net</td><td>(55) 6184-0141</td></tr><tr><td>Caio das Neves</td><td>479.180.356-66</td><td>caio@exemplo.net</td><td>(11) 6548-2480</td></tr><tr><td>Gabrielly Araújo</td><td>612.974.530-34</td><td>gabrielly@exemplo.net</td><td>(55) 8116-2689</td></tr><tr><td>Samuel Silveira</td><td>168.593.420-05</td><td>samuel@exemplo.net</td><td>(55) 0842-1699</td></tr><tr><td>Heloísa Aragão</td><td>652.047.189-58</td><td>heloísa@exemplo.net</td><td>(81) 4197-9778</td></tr><tr><td>Lívia Freitas</td><td>451.906.273-06</td><td>lívia@exemplo.net</td><td>(05) 0070-8789</td></tr><tr><td>Daniela Nogueira</td><td>071.849.236-69</td><td>daniela@exemplo.net</td><td>(31) 2593-7299</td></tr><tr><td>Rafael Jesus</td><td>273.680.915-77</td><td>rafael@exemplo.net</td><td>(08) 1664-2536</td></tr><tr><td>Thiago Duarte</td><td>043.819.752-60</td><td>thiago@exemplo.net</td><td>(08) 0017-9924</td></tr><tr><td>Yasmin Aragão</td><td>923.407.618-40</td><td>yasmin@exemplo.net</td><td>(07) 1465-3750</td></tr><tr><td>Felipe Correia</td><td>137.526.948-82</td><td>felipe@exemplo.net</td><td>(55) 0815-4246</td></tr><tr><td>Gustavo Henrique Cardoso</td><td>831.496.207-40</td><td>gustavo@exemplo.net</td><td>(55) 2135-4435</td></tr><tr><td>Giovanna da Mata</td><td>571.480.932-79</td><td>giovanna@exemplo.net</td><td>(08) 4723-1958</td></tr><tr><td>André Cunha</td><td>306.971.428-50</td><td>andré@exemplo.net</td><td>(01) 1539-5092</td></tr><tr><td>Vitor Hugo Cunha</td><td>903.526.187-95</td><td>vitor@exemplo.net</td><td>(04) 1337-1593</td></tr><tr><td>Luiz Gustavo Alves</td><td>415.932.760-52</td><td>luiz@exemplo.net</td><td>(55) 2139-1060</td></tr><tr><td>Rodrigo Campos</td><td>027.863.195-95</td><td>rodrigo@exemplo.net</td><td>(61) 9707-5630</td></tr><tr><td>Emanuelly Caldeira</td><td>784.163.250-90</td><td>emanuelly@exemplo.net</td><td>(55) 1163-1767</td></tr><tr><td>Breno Jesus</td><td>937.160.485-93</td><td>breno@exemplo.net</td><td>(55) 3131-6984</td></tr><tr><td>Pietra Carvalho</td><td>968.572.430-00</td><td>pietra@exemplo.net</td><td>(81) 2877-0965</td></tr><tr><td>Emilly da Luz</td><td>639.871.054-10</td><td>emilly@exemplo.net</td><td>(55) 3102-9628</td></tr><tr><td>Mariane Ribeiro</td><td>463.917.582-55</td><td>mariane@exemplo.net</td><td>(55) 6153-8328</td></tr><tr><td>Stephany Vieira</td><td>592.316.840-51</td><td>stephany@exemplo.net</td><td>(04) 1267-4971</td></tr><tr><td>Ana Luiza Barros</td><td>568.410.792-30</td><td>ana@exemplo.net</td><td>(08) 0078-1852</td></tr><tr><td>Benjamin Rezende</td><td>745.981.602-76</td><td>benjamin@exemplo.net</td><td>(06) 1946-8779</td></tr><tr><td>Felipe Nogueira</td><td>980.532.467-29</td><td>felipe@exemplo.net</td><td>(03) 0036-6709</td></tr><tr><td>Vicente Nunes</td><td>836.912.074-13</td><td>vicente@exemplo.net</td><td>(55) 0717-1991</td></tr><tr><td>Ana Laura Melo</td><td>920.514.873-32</td><td>ana@exemplo.net</td><td>(03) 1240-1528</td></tr><tr><td>Ryan Ramos</td><td>921.568.403-42</td><td>ryan@exemplo.net</td><td>(41) 9908-1258</td></tr><tr><td>Davi Lucas Ramos</td><td>802.745.163-90</td><td>davi@exemplo.net</td><td>(55) 0118-9162</td></tr><tr><td>Lucas Lopes</td><td>409.572.618-02</td><td>lucas@exemplo.net</td><td>(55) 3135-6558</td></tr><tr><td>Ana Carolina Gomes</td><td>853.406.297-83</td><td>ana@exemplo.net</td><td>(55) 8135-0291</td></tr><tr><td>Esther Sales</td><td>501.963.427-16</td><td>esther@exemplo.net</td><td>(55) 0514-5476</td></tr><tr><td>Elisa da Rosa</td><td>893.061.574-01</td><td>elisa@exemplo.net</td><td>(08) 1580-8584</td></tr><tr><td>Laís Peixoto</td><td>958.046.712-94</td><td>laís@exemplo.net</td><td>(21) 6965-3594</td></tr><tr><td>Gustavo Henrique Freitas</td><td>915.470.368-93</td><td>gustavo@exemplo.net</td><td>(04) 1471-6372</td></tr><tr><td>Sabrina Rezende</td><td>409.751.283-88</td><td>sabrina@exemplo.net</td><td>(11) 9460-8606</td></tr><tr><td>Raul Vieira</td><td>743.568.209-83</td><td>raul@exemplo.net</td><td>(55) 8463-7162</td></tr><tr><td>Pedro Lucas Ramos</td><td>698.301.527-40</td><td>pedro@exemplo.net</td><td>(55) 1130-1612</td></tr><tr><td>Sophie Farias</td><td>568.307.492-47</td><td>sophie@exemplo.net</td><td>(05) 0002-8337</td></tr><tr><td>Heloísa Nunes</td><td>259.046.718-49</td><td>heloísa@exemplo.net</td><td>(11) 3253-3359</td></tr><tr><td>Alícia Gomes</td><td>061.435.879-57</td><td>alícia@exemplo.net</td><td>(81) 6522-8691</td></tr><tr><td>Juan Costela</td><td>981.470.326-50</td><td>juan@exemplo.net</td><td>(55) 0310-8281</td></tr><tr><td>Clara Caldeira</td><td>314.650.287-90</td><td>clara@exemplo.net</td><td>(55) 4112-1805</td></tr><tr><td>Daniela da Rosa</td><td>205.138.947-05</td><td>daniela@exemplo.net</td><td>(11) 9800-0292</td></tr><tr><td>Kaique Melo</td><td>645.290.318-70</td><td>kaique@exemplo.net</td><td>(55) 3170-2139</td></tr><tr><td>Elisa Moreira</td><td>784.965.230-47</td><td>elisa@exemplo.net</td><td>(08) 4989-0789</td></tr><tr><td>Raquel Aragão</td><td>613.794.850-10</td><td>raquel@exemplo.net</td><td>(31) 2322-5572</td></tr><tr><td>Breno Araújo</td><td>375.641.028-53</td><td>breno@exemplo.net</td><td>(55) 5153-4202</td></tr><tr><td>Bruno Martins</td><td>456.239.701-25</td><td>bruno@exemplo.net</td><td>(03) 0089-2678</td></tr><tr><td>Raul Moreira</td><td>579.063.184-39</td><td>raul@exemplo.net</td><td>(61) 5655-9542</td></tr><tr><td>Alana da Mota</td><td>658.270.149-58</td><td>alana@exemplo.net</td><td>(06) 1941-9762</td></tr><tr><td>Stella da Costa</td><td>825.013.794-97</td><td>stella@exemplo.net</td><td>(01) 1609-3446</td></tr><tr><td>Beatriz Nascimento</td><td>931.042.765-52</td><td>beatriz@exemplo.net</td><td>(55) 0317-0620</td></tr><tr><td>Pedro Miguel Cardoso</td><td>783.150.962-30</td><td>pedro@exemplo.net</td><td>(05) 1297-2047</td></tr><tr><td>João Guilherme da Cunha</td><td>105.246.798-94</td><td>joão@exemplo.net</td><td>(08) 1974-5487</td></tr><tr><td>Breno Nogueira</td><td>167.420.385-35</td><td>breno@exemplo.net</td><td>(51) 9613-4613</td></tr><tr><td>Nina Araújo</td><td>973.268.145-46</td><td>nina@exemplo.net</td><td>(55) 0419-2056</td></tr><tr><td>Esther Dias</td><td>176.839.245-55</td><td>esther@exemplo.net</td><td>(03) 0007-2678</td></tr><tr><td>Igor Nogueira</td><td>162.935.840-15</td><td>igor@exemplo.net</td><td>(55) 0814-1077</td></tr><tr><td>Eloah Almeida</td><td>978.230.465-47</td><td>eloah@exemplo.net</td><td>(55) 1199-5495</td></tr><tr><td>Isis Gomes</td><td>704.286.953-29</td><td>isis@exemplo.net</td><td>(08) 0017-1492</td></tr><tr><td>Luiz Felipe Aragão</td><td>756.931.482-46</td><td>luiz@exemplo.net</td><td>(55) 7198-9946</td></tr><tr><td>Kevin Rocha</td><td>798.601.423-78</td><td>kevin@exemplo.net</td><td>(55) 4101-8152</td></tr><tr><td>Kamilly Carvalho</td><td>507.316.984-01</td><td>kamilly@exemplo.net</td><td>(51) 1934-3726</td></tr><tr><td>Luiz Gustavo Correia</td><td>435.708.621-35</td><td>luiz@exemplo.net</td><td>(11) 2310-7969</td></tr><tr><td>Marcela Silva</td><td>410.953.678-20</td><td>marcela@exemplo.net</td><td>(81) 4916-4422</td></tr><tr><td>Luiz Gustavo Porto</td><td>024.531.879-88</td><td>luiz@exemplo.net</td><td>(55) 0616-2873</td></tr><tr><td>Kaique Cunha</td><td>842.596.170-01</td><td>kaique@exemplo.net</td><td>(08) 1952-4448</td></tr><tr><td>Brenda Cardoso</td><td>512.497.386-28</td><td>brenda@exemplo.net</td><td>(11) 1442-4878</td></tr><tr><td>Guilherme Almeida</td><td>850.126.934-42</td><td>guilherme@exemplo.net</td><td>(01) 1379-1511</td></tr><tr><td>Daniela Mendes</td><td>385.619.742-73</td><td>daniela@exemplo.net</td><td>(08) 0094-7374</td></tr><tr><td>Marcos Vinicius Silveira</td><td>714.052.863-26</td><td>marcos@exemplo.net</td><td>(55) 5134-9534</td></tr><tr><td>Alice Lima</td><td>591.423.678-91</td><td>alice@exemplo.net</td><td>(81) 5923-4846</td></tr><tr><td>Emanuelly Souza</td><td>270.163.859-30</td><td>emanuelly@exemplo.net</td><td>(51) 4619-4375</td></tr><tr><td>Amanda Souza</td><td>049.382.167-87</td><td>amanda@exemplo.net</td><td>(55) 0712-5219</td></tr><tr><td>Kamilly Viana</td><td>805.379.126-30</td><td>kamilly@exemplo.net</td><td>(31) 3710-4536</td></tr><tr><td>João Pedro Pires</td><td>126.935.487-64</td><td>joão@exemplo.net</td><td>(05) 0087-2089</td></tr><tr><td>Emilly da Mata</td><td>938.540.176-93</td><td>emilly@exemplo.net</td><td>(04) 1892-1935</td></tr><tr><td>Gustavo Henrique Gonçalves</td><td>365.480.971-57</td><td>gustavo@exemplo.net</td><td>(04) 1980-8652</td></tr><tr><td>Murilo Costela</td><td>362.147.598-28</td><td>murilo@exemplo.net</td><td>(02) 1671-8180</td></tr><tr><td>Lucas da Costa</td><td>253.148.079-04</td><td>lucas@exemplo.net</td><td>(55) 0842-7577</td></tr><tr><td>Letícia Lopes</td><td>538.049.721-79</td><td>letícia@exemplo.net</td><td>(55) 0119-9980</td></tr><tr><td>Helena Silveira</td><td>670.581.324-53</td><td>helena@exemplo.net</td><td>(81) 8935-8605</td></tr><tr><td>Gabriela da Paz</td><td>207.348.951-60</td><td>gabriela@exemplo.net</td><td>(55) 0841-2963</td></tr><tr><td>Francisco Silva</td><td>389.105.276-68</td><td>francisco@exemplo.net</td><td>(61) 8190-7941</td></tr><tr><td>Luiz Henrique Aragão</td><td>629.310.857-40</td><td>luiz@exemplo.net</td><td>(61) 2933-3697</td></tr><tr><td>Caroline Moraes</td><td>827.195.340-05</td><td>caroline@exemplo.net</td><td>(55) 2163-6986</td></tr><tr><td>Benjamin Silva</td><td>186.293.457-64</td><td>benjamin@exemplo.net</td><td>(08) 4038-7780</td></tr><tr><td>João Vitor da Paz</td><td>948.632.051-98</td><td>joão@exemplo.net</td><td>(05) 0010-4129</td></tr><tr><td>Guilherme Pinto</td><td>431.962.587-00</td><td>guilherme@exemplo.net</td><td>(41) 6014-0415</td></tr><tr><td>Paulo Martins</td><td>925.401.863-51</td><td>paulo@exemplo.net</td><td>(55) 0817-7328</td></tr><tr><td>Ana Carolina Ramos</td><td>631.498.507-20</td><td>ana@exemplo.net</td><td>(05) 0088-3895</td></tr><tr><td>Agatha Nogueira</td><td>806.129.453-24</td><td>agatha@exemplo.net</td><td>(03) 1355-2634</td></tr><tr><td>André Novaes</td><td>420.189.763-03</td><td>andré@exemplo.net</td><td>(55) 5170-9271</td></tr></tbody></table></div>"
      ]
     },
     "metadata": {
      "application/vnd.databricks.v1+output": {
       "addedWidgets": {},
       "aggData": [],
       "aggError": "",
       "aggOverflow": false,
       "aggSchema": [],
       "aggSeriesLimitReached": false,
       "aggType": "",
       "arguments": {},
       "columnCustomDisplayInfos": {},
       "data": [
        [
         "Ana Julia Moraes",
         "273.498.651-55",
         "ana@exemplo.net",
         "(55) 8404-1359"
        ],
        [
         "Raquel Jesus",
         "352.408.796-56",
         "raquel@exemplo.net",
         "(55) 1116-6666"
        ],
        [
         "Evelyn Caldeira",
         "541.730.986-93",
         "evelyn@exemplo.net",
         "(05) 0055-7358"
        ],
        [
         "Alexia Novaes",
         "968.415.302-33",
         "alexia@exemplo.net",
         "(55) 3163-0645"
        ],
        [
         "Alana da Rocha",
         "132.490.865-33",
         "alana@exemplo.net",
         "(55) 0317-5530"
        ],
        [
         "Eduardo da Rocha",
         "490.713.682-03",
         "eduardo@exemplo.net",
         "(55) 5117-2371"
        ],
        [
         "Mariane Nascimento",
         "536.802.419-33",
         "mariane@exemplo.net",
         "(08) 1753-0544"
        ],
        [
         "Raul Santos",
         "014.958.362-15",
         "raul@exemplo.net",
         "(09) 0057-9598"
        ],
        [
         "Caroline das Neves",
         "520.169.874-30",
         "caroline@exemplo.net",
         "(06) 1749-1135"
        ],
        [
         "Marcela Silveira",
         "245.068.713-08",
         "marcela@exemplo.net",
         "(55) 0716-3610"
        ],
        [
         "Maria Pires",
         "376.140.859-57",
         "maria@exemplo.net",
         "(55) 0311-0073"
        ],
        [
         "Gabrielly da Paz",
         "975.864.130-10",
         "gabrielly@exemplo.net",
         "(07) 1414-8472"
        ],
        [
         "João Miguel Caldeira",
         "872.063.591-59",
         "joão@exemplo.net",
         "(55) 2132-4654"
        ],
        [
         "Gabriel Souza",
         "619.352.847-46",
         "gabriel@exemplo.net",
         "(31) 9109-8384"
        ],
        [
         "Alice Gonçalves",
         "264.850.139-89",
         "alice@exemplo.net",
         "(03) 0018-6216"
        ],
        [
         "Agatha Ferreira",
         "603.845.972-38",
         "agatha@exemplo.net",
         "(81) 9248-9496"
        ],
        [
         "Nina Ramos",
         "279.614.038-50",
         "nina@exemplo.net",
         "(55) 0843-2599"
        ],
        [
         "Emanuelly da Mata",
         "536.182.074-17",
         "emanuelly@exemplo.net",
         "(02) 1041-9076"
        ],
        [
         "Erick Souza",
         "954.260.173-52",
         "erick@exemplo.net",
         "(55) 2117-5008"
        ],
        [
         "Breno Melo",
         "692.085.734-00",
         "breno@exemplo.net",
         "(11) 3661-5034"
        ],
        [
         "Gustavo Henrique Cavalcanti",
         "645.390.827-10",
         "gustavo@exemplo.net",
         "(02) 1194-5902"
        ],
        [
         "Ana da Rocha",
         "714.036.529-61",
         "ana@exemplo.net",
         "(08) 1544-5847"
        ],
        [
         "João Vitor Dias",
         "264.109.387-13",
         "joão@exemplo.net",
         "(55) 2111-6823"
        ],
        [
         "Luiz Fernando Nogueira",
         "380.926.574-83",
         "luiz@exemplo.net",
         "(55) 3123-6196"
        ],
        [
         "Pietro Silveira",
         "714.809.652-94",
         "pietro@exemplo.net",
         "(07) 1669-8052"
        ],
        [
         "Ryan Nascimento",
         "736.459.012-99",
         "ryan@exemplo.net",
         "(11) 2690-5973"
        ],
        [
         "Caio Carvalho",
         "631.859.472-82",
         "caio@exemplo.net",
         "(31) 9925-6495"
        ],
        [
         "Fernando Melo",
         "109.834.625-42",
         "fernando@exemplo.net",
         "(06) 1046-6578"
        ],
        [
         "Lavínia Santos",
         "921.530.684-60",
         "lavínia@exemplo.net",
         "(03) 0018-0794"
        ],
        [
         "Isaac Ferreira",
         "246.879.135-55",
         "isaac@exemplo.net",
         "(31) 2977-8374"
        ],
        [
         "Ana Luiza Lima",
         "249.571.380-79",
         "ana@exemplo.net",
         "(55) 0413-3951"
        ],
        [
         "Lucca Mendes",
         "652.739.418-73",
         "lucca@exemplo.net",
         "(55) 8149-6002"
        ],
        [
         "Eloah Aragão",
         "310.546.279-16",
         "eloah@exemplo.net",
         "(55) 0210-8048"
        ],
        [
         "Emilly Jesus",
         "571.490.283-14",
         "emilly@exemplo.net",
         "(06) 1947-7861"
        ],
        [
         "Catarina Cunha",
         "481.926.705-11",
         "catarina@exemplo.net",
         "(55) 8152-1900"
        ],
        [
         "Davi Lucca Rodrigues",
         "091.378.462-13",
         "davi@exemplo.net",
         "(55) 0116-4160"
        ],
        [
         "Theo Fogaça",
         "016.794.528-94",
         "theo@exemplo.net",
         "(55) 0817-1406"
        ],
        [
         "Mirella Aragão",
         "184.652.073-80",
         "mirella@exemplo.net",
         "(55) 0711-2713"
        ],
        [
         "Júlia Nascimento",
         "028.719.645-30",
         "júlia@exemplo.net",
         "(55) 0310-1177"
        ],
        [
         "Juliana Nascimento",
         "586.021.743-90",
         "juliana@exemplo.net",
         "(05) 0074-6747"
        ],
        [
         "Davi Lucas Moreira",
         "598.246.173-37",
         "davi@exemplo.net",
         "(55) 0514-0254"
        ],
        [
         "Renan Cardoso",
         "724.930.681-22",
         "renan@exemplo.net",
         "(55) 0517-7798"
        ],
        [
         "Clarice Santos",
         "820.463.179-04",
         "clarice@exemplo.net",
         "(01) 1162-9830"
        ],
        [
         "Enrico Farias",
         "926.470.315-25",
         "enrico@exemplo.net",
         "(55) 0310-4780"
        ],
        [
         "Luna Moura",
         "598.204.763-56",
         "luna@exemplo.net",
         "(55) 0814-3123"
        ],
        [
         "Letícia Ribeiro",
         "729.564.380-00",
         "letícia@exemplo.net",
         "(51) 5801-0562"
        ],
        [
         "Henrique Nascimento",
         "314.082.957-41",
         "henrique@exemplo.net",
         "(41) 5879-2864"
        ],
        [
         "Cauê Nunes",
         "375.912.608-12",
         "cauê@exemplo.net",
         "(08) 1860-2168"
        ],
        [
         "Manuela Novaes",
         "946.078.325-29",
         "manuela@exemplo.net",
         "(21) 8591-4554"
        ],
        [
         "Bianca Fogaça",
         "271.806.935-02",
         "bianca@exemplo.net",
         "(05) 0047-0283"
        ],
        [
         "Miguel Duarte",
         "451.287.309-05",
         "miguel@exemplo.net",
         "(71) 5211-5120"
        ],
        [
         "Joaquim Costela",
         "754.891.026-67",
         "joaquim@exemplo.net",
         "(55) 3163-9672"
        ],
        [
         "Yasmin Nunes",
         "716.984.325-00",
         "yasmin@exemplo.net",
         "(55) 0517-5705"
        ],
        [
         "Ana Júlia Fernandes",
         "670.894.315-84",
         "ana@exemplo.net",
         "(55) 0617-9920"
        ],
        [
         "Luiz Otávio das Neves",
         "418.065.739-20",
         "luiz@exemplo.net",
         "(04) 1677-6020"
        ],
        [
         "Lorena da Rosa",
         "958.712.604-11",
         "lorena@exemplo.net",
         "(55) 6139-0780"
        ],
        [
         "Gabriel da Mata",
         "604.279.513-99",
         "gabriel@exemplo.net",
         "(03) 0033-9950"
        ],
        [
         "Lorena Duarte",
         "398.420.567-83",
         "lorena@exemplo.net",
         "(61) 0554-0977"
        ],
        [
         "Mirella da Paz",
         "324.697.581-73",
         "mirella@exemplo.net",
         "(55) 0812-9511"
        ],
        [
         "Rebeca Cardoso",
         "369.405.187-20",
         "rebeca@exemplo.net",
         "(55) 0810-7933"
        ],
        [
         "Kaique Pereira",
         "083.475.916-01",
         "kaique@exemplo.net",
         "(09) 0030-7667"
        ],
        [
         "Nina Nunes",
         "791.320.458-32",
         "nina@exemplo.net",
         "(55) 0619-5290"
        ],
        [
         "Luiz Fernando Monteiro",
         "578.916.342-46",
         "luiz@exemplo.net",
         "(08) 4825-8172"
        ],
        [
         "Manuela Araújo",
         "731.694.258-46",
         "manuela@exemplo.net",
         "(71) 2535-3040"
        ],
        [
         "Luiz Otávio Cardoso",
         "870.562.394-47",
         "luiz@exemplo.net",
         "(55) 0418-8587"
        ],
        [
         "Bianca Pires",
         "193.254.806-89",
         "bianca@exemplo.net",
         "(55) 1191-1562"
        ],
        [
         "Felipe Sales",
         "137.894.625-19",
         "felipe@exemplo.net",
         "(55) 0111-4786"
        ],
        [
         "Isaac Viana",
         "728.915.043-05",
         "isaac@exemplo.net",
         "(03) 0073-8449"
        ],
        [
         "Nathan Gonçalves",
         "632.704.591-06",
         "nathan@exemplo.net",
         "(55) 0118-0596"
        ],
        [
         "Camila da Conceição",
         "820.914.675-02",
         "camila@exemplo.net",
         "(21) 3884-8839"
        ],
        [
         "Kevin da Costa",
         "129.764.580-49",
         "kevin@exemplo.net",
         "(07) 1639-4846"
        ],
        [
         "Ana Clara das Neves",
         "605.247.893-47",
         "ana@exemplo.net",
         "(08) 0005-2143"
        ],
        [
         "Clara Pereira",
         "193.762.045-06",
         "clara@exemplo.net",
         "(31) 0874-4484"
        ],
        [
         "Pedro Lucas Nunes",
         "138.925.407-05",
         "pedro@exemplo.net",
         "(08) 4247-6630"
        ],
        [
         "Vitor Gabriel Castro",
         "519.260.483-42",
         "vitor@exemplo.net",
         "(55) 0846-1294"
        ],
        [
         "Isabel Nogueira",
         "625.319.480-15",
         "isabel@exemplo.net",
         "(08) 1581-4338"
        ],
        [
         "Bryan da Rocha",
         "256.874.139-28",
         "bryan@exemplo.net",
         "(03) 0035-2271"
        ],
        [
         "Maria Vitória Pinto",
         "751.863.049-48",
         "maria@exemplo.net",
         "(11) 4400-1394"
        ],
        [
         "João Vitor Freitas",
         "912.306.784-50",
         "joão@exemplo.net",
         "(55) 0811-1569"
        ],
        [
         "Maria Vitória da Mota",
         "416.350.789-20",
         "maria@exemplo.net",
         "(31) 5344-3876"
        ],
        [
         "André Viana",
         "241.583.679-64",
         "andré@exemplo.net",
         "(41) 1407-6217"
        ],
        [
         "Anthony Ramos",
         "076.291.348-78",
         "anthony@exemplo.net",
         "(08) 0023-4068"
        ],
        [
         "Maria Vitória Fernandes",
         "498.150.623-60",
         "maria@exemplo.net",
         "(55) 5134-3506"
        ],
        [
         "Eduardo Almeida",
         "541.927.063-34",
         "eduardo@exemplo.net",
         "(55) 8434-1950"
        ],
        [
         "Helena Souza",
         "783.904.265-10",
         "helena@exemplo.net",
         "(05) 1026-0989"
        ],
        [
         "Alícia da Luz",
         "692.853.104-51",
         "alícia@exemplo.net",
         "(21) 6198-8781"
        ],
        [
         "Luiz Henrique Fogaça",
         "856.021.793-21",
         "luiz@exemplo.net",
         "(55) 6103-6479"
        ],
        [
         "Maria Clara Lopes",
         "926.714.853-28",
         "maria@exemplo.net",
         "(55) 2180-0112"
        ],
        [
         "Francisco Costa",
         "958.214.370-32",
         "francisco@exemplo.net",
         "(51) 8272-5728"
        ],
        [
         "Rafael das Neves",
         "460.312.795-25",
         "rafael@exemplo.net",
         "(06) 1389-4964"
        ],
        [
         "Evelyn da Cunha",
         "185.032.794-79",
         "evelyn@exemplo.net",
         "(41) 0241-7186"
        ],
        [
         "Lucas Almeida",
         "730.182.945-05",
         "lucas@exemplo.net",
         "(01) 1360-3614"
        ],
        [
         "João da Rocha",
         "648.102.975-94",
         "joão@exemplo.net",
         "(55) 4126-1157"
        ],
        [
         "Cecília da Rosa",
         "734.128.650-44",
         "cecília@exemplo.net",
         "(07) 1973-6142"
        ],
        [
         "Kaique Azevedo",
         "398.456.127-09",
         "kaique@exemplo.net",
         "(08) 0086-2757"
        ],
        [
         "Vitor Gabriel Porto",
         "758.142.960-11",
         "vitor@exemplo.net",
         "(55) 0217-3238"
        ],
        [
         "Luiz Felipe Moreira",
         "183.529.740-41",
         "luiz@exemplo.net",
         "(31) 3432-8840"
        ],
        [
         "Maria Cecília Nascimento",
         "503.146.879-39",
         "maria@exemplo.net",
         "(55) 4152-6539"
        ],
        [
         "Elisa Barbosa",
         "165.437.908-57",
         "elisa@exemplo.net",
         "(21) 0714-7718"
        ],
        [
         "Cauê Costa",
         "148.652.307-26",
         "cauê@exemplo.net",
         "(55) 0513-3810"
        ],
        [
         "João Miguel Alves",
         "615.478.209-85",
         "joão@exemplo.net",
         "(31) 7311-4995"
        ],
        [
         "Ryan Cavalcanti",
         "293.567.041-80",
         "ryan@exemplo.net",
         "(08) 4611-6302"
        ],
        [
         "Ana Cardoso",
         "954.316.027-99",
         "ana@exemplo.net",
         "(84) 4892-4521"
        ],
        [
         "Luana Fernandes",
         "329.458.071-14",
         "luana@exemplo.net",
         "(08) 1253-0869"
        ],
        [
         "Eduarda da Mata",
         "146.309.528-70",
         "eduarda@exemplo.net",
         "(55) 0612-0055"
        ],
        [
         "Mariana Dias",
         "968.547.213-00",
         "mariana@exemplo.net",
         "(03) 1229-8746"
        ],
        [
         "Gabriel Farias",
         "016.942.385-98",
         "gabriel@exemplo.net",
         "(55) 0718-9347"
        ],
        [
         "Joaquim Vieira",
         "823.601.957-86",
         "joaquim@exemplo.net",
         "(03) 1418-1718"
        ],
        [
         "Maria Julia Costela",
         "708.341.265-08",
         "maria@exemplo.net",
         "(08) 1916-5175"
        ],
        [
         "Milena da Paz",
         "682.745.031-71",
         "milena@exemplo.net",
         "(55) 8415-0441"
        ],
        [
         "Bryan da Rocha",
         "132.087.569-68",
         "bryan@exemplo.net",
         "(55) 0314-2141"
        ],
        [
         "Mariana Castro",
         "947.630.281-03",
         "mariana@exemplo.net",
         "(61) 2578-8452"
        ],
        [
         "Nicolas da Luz",
         "432.605.817-07",
         "nicolas@exemplo.net",
         "(08) 1518-8269"
        ],
        [
         "Lucca Sales",
         "379.065.128-12",
         "lucca@exemplo.net",
         "(55) 4166-6589"
        ],
        [
         "Kaique Duarte",
         "014.965.273-99",
         "kaique@exemplo.net",
         "(55) 0214-9116"
        ],
        [
         "Pedro Henrique Rezende",
         "876.913.045-01",
         "pedro@exemplo.net",
         "(05) 1378-5313"
        ],
        [
         "Renan Monteiro",
         "694.031.728-78",
         "renan@exemplo.net",
         "(11) 6903-2314"
        ],
        [
         "Cauã da Mata",
         "061.572.938-02",
         "cauã@exemplo.net",
         "(55) 8448-1993"
        ],
        [
         "Breno Fogaça",
         "198.527.406-01",
         "breno@exemplo.net",
         "(31) 6245-1892"
        ],
        [
         "Raul da Cunha",
         "097.625.143-43",
         "raul@exemplo.net",
         "(03) 0086-2455"
        ],
        [
         "Emanuella Moura",
         "961.437.528-00",
         "emanuella@exemplo.net",
         "(09) 0090-7396"
        ],
        [
         "Nina Castro",
         "027.185.463-44",
         "nina@exemplo.net",
         "(55) 4166-6847"
        ],
        [
         "Laís Cunha",
         "346.915.078-84",
         "laís@exemplo.net",
         "(55) 2110-0373"
        ],
        [
         "Henrique Lima",
         "357.824.960-29",
         "henrique@exemplo.net",
         "(55) 6160-8213"
        ],
        [
         "Maria Fernanda Costela",
         "578.239.604-00",
         "maria@exemplo.net",
         "(04) 1662-1141"
        ],
        [
         "Gabrielly Aragão",
         "471.230.896-69",
         "gabrielly@exemplo.net",
         "(31) 6889-6042"
        ],
        [
         "João Lucas Cunha",
         "768.541.029-01",
         "joão@exemplo.net",
         "(55) 0713-1380"
        ],
        [
         "Leandro Carvalho",
         "463.280.957-83",
         "leandro@exemplo.net",
         "(05) 0006-0303"
        ],
        [
         "Lívia Silveira",
         "086.431.275-07",
         "lívia@exemplo.net",
         "(55) 0215-7123"
        ],
        [
         "Nina da Mota",
         "296.738.051-21",
         "nina@exemplo.net",
         "(81) 6447-8861"
        ],
        [
         "Ana Vitória Porto",
         "259.301.874-79",
         "ana@exemplo.net",
         "(55) 8133-7051"
        ],
        [
         "Elisa Martins",
         "074.159.368-84",
         "elisa@exemplo.net",
         "(55) 6156-2089"
        ],
        [
         "Julia Almeida",
         "729.413.065-52",
         "julia@exemplo.net",
         "(11) 3354-0608"
        ],
        [
         "Thiago Rezende",
         "013.459.672-25",
         "thiago@exemplo.net",
         "(55) 0517-9819"
        ],
        [
         "Ana Clara Novaes",
         "208.167.495-58",
         "ana@exemplo.net",
         "(61) 0787-3286"
        ],
        [
         "Evelyn Freitas",
         "137.405.268-07",
         "evelyn@exemplo.net",
         "(55) 0844-8738"
        ],
        [
         "Juan Silveira",
         "518.760.934-39",
         "juan@exemplo.net",
         "(41) 9692-9457"
        ],
        [
         "Julia Oliveira",
         "251.674.930-99",
         "julia@exemplo.net",
         "(21) 2643-9475"
        ],
        [
         "Daniela Araújo",
         "293.407.865-56",
         "daniela@exemplo.net",
         "(55) 8100-7739"
        ],
        [
         "Ana Lívia Pires",
         "419.075.238-04",
         "ana@exemplo.net",
         "(11) 1051-9661"
        ],
        [
         "Luiz Fernando Lopes",
         "037.286.154-71",
         "luiz@exemplo.net",
         "(51) 5717-3436"
        ],
        [
         "Leandro Rezende",
         "581.639.702-86",
         "leandro@exemplo.net",
         "(55) 7166-7021"
        ],
        [
         "Ana Beatriz da Rocha",
         "295.734.108-50",
         "ana@exemplo.net",
         "(55) 6169-7026"
        ],
        [
         "Yago Alves",
         "372.908.154-32",
         "yago@exemplo.net",
         "(06) 1007-7948"
        ],
        [
         "Lorenzo Correia",
         "745.630.298-74",
         "lorenzo@exemplo.net",
         "(08) 4790-8714"
        ],
        [
         "Enzo Gabriel Freitas",
         "145.368.927-37",
         "enzo@exemplo.net",
         "(06) 1255-8495"
        ],
        [
         "Francisco Carvalho",
         "684.250.971-85",
         "francisco@exemplo.net",
         "(55) 0317-8104"
        ],
        [
         "Heitor Gomes",
         "359.728.460-47",
         "heitor@exemplo.net",
         "(55) 0815-1733"
        ],
        [
         "Marina da Rocha",
         "782.394.015-97",
         "marina@exemplo.net",
         "(55) 0811-7966"
        ],
        [
         "Laís das Neves",
         "240.678.359-65",
         "laís@exemplo.net",
         "(03) 0038-0861"
        ],
        [
         "Ana Vitória Monteiro",
         "905.182.634-60",
         "ana@exemplo.net",
         "(55) 2183-1688"
        ],
        [
         "João Guilherme Melo",
         "806.217.459-01",
         "joão@exemplo.net",
         "(55) 8492-5227"
        ],
        [
         "Marcela Castro",
         "401.692.358-15",
         "marcela@exemplo.net",
         "(81) 2051-5168"
        ],
        [
         "Alana Campos",
         "924.150.837-04",
         "alana@exemplo.net",
         "(11) 5188-2891"
        ],
        [
         "Isis da Rocha",
         "395.487.160-20",
         "isis@exemplo.net",
         "(31) 5081-8821"
        ],
        [
         "Eloah Castro",
         "120.547.386-62",
         "eloah@exemplo.net",
         "(55) 2121-9102"
        ],
        [
         "Diogo Moraes",
         "953.647.018-75",
         "diogo@exemplo.net",
         "(55) 8417-4708"
        ],
        [
         "Juliana Caldeira",
         "052.384.791-23",
         "juliana@exemplo.net",
         "(55) 0118-4476"
        ],
        [
         "Eduardo Cunha",
         "162.794.503-25",
         "eduardo@exemplo.net",
         "(55) 8420-1223"
        ],
        [
         "Maria Teixeira",
         "750.964.238-83",
         "maria@exemplo.net",
         "(04) 1580-5669"
        ],
        [
         "João Gabriel Novaes",
         "047.958.261-02",
         "joão@exemplo.net",
         "(51) 2070-7949"
        ],
        [
         "Yasmin Fernandes",
         "492.763.081-13",
         "yasmin@exemplo.net",
         "(55) 7100-1728"
        ],
        [
         "Bruno da Rosa",
         "635.408.719-93",
         "bruno@exemplo.net",
         "(04) 1462-9770"
        ],
        [
         "Raquel da Costa",
         "027.694.851-30",
         "raquel@exemplo.net",
         "(05) 1612-1980"
        ],
        [
         "Maria Sophia Rocha",
         "379.285.140-79",
         "maria@exemplo.net",
         "(08) 4851-2286"
        ],
        [
         "Luiz Fernando Jesus",
         "694.052.317-07",
         "luiz@exemplo.net",
         "(09) 0034-4941"
        ],
        [
         "Maitê Freitas",
         "028.943.175-14",
         "maitê@exemplo.net",
         "(84) 6249-0335"
        ],
        [
         "Davi Lucas Cunha",
         "428.075.196-01",
         "davi@exemplo.net",
         "(55) 0215-1524"
        ],
        [
         "João Felipe Ramos",
         "653.419.802-98",
         "joão@exemplo.net",
         "(05) 0021-5850"
        ],
        [
         "Laura Ferreira",
         "597.143.280-04",
         "laura@exemplo.net",
         "(11) 2261-3452"
        ],
        [
         "Lucca Sales",
         "541.639.207-06",
         "lucca@exemplo.net",
         "(08) 4283-9792"
        ],
        [
         "Maria Luiza Azevedo",
         "398.125.470-88",
         "maria@exemplo.net",
         "(02) 1181-6547"
        ],
        [
         "Yago Araújo",
         "421.837.509-79",
         "yago@exemplo.net",
         "(02) 1130-0855"
        ],
        [
         "João Guilherme Martins",
         "768.251.039-03",
         "joão@exemplo.net",
         "(81) 9545-7118"
        ],
        [
         "Erick Ferreira",
         "598.670.342-10",
         "erick@exemplo.net",
         "(11) 3440-3531"
        ],
        [
         "Renan da Rocha",
         "458.079.236-00",
         "renan@exemplo.net",
         "(02) 1879-6445"
        ],
        [
         "João Felipe Pires",
         "632.105.948-05",
         "joão@exemplo.net",
         "(55) 8145-0533"
        ],
        [
         "Júlia Azevedo",
         "531.970.842-41",
         "júlia@exemplo.net",
         "(55) 6152-5323"
        ],
        [
         "Maria Clara Barros",
         "317.528.906-12",
         "maria@exemplo.net",
         "(07) 1288-4613"
        ],
        [
         "Stella Martins",
         "630.419.258-42",
         "stella@exemplo.net",
         "(55) 0818-5047"
        ],
        [
         "Diogo Cardoso",
         "758.439.062-56",
         "diogo@exemplo.net",
         "(81) 0562-4691"
        ],
        [
         "Joaquim Costela",
         "473.029.185-97",
         "joaquim@exemplo.net",
         "(51) 7319-1652"
        ],
        [
         "Anthony Melo",
         "132.845.760-53",
         "anthony@exemplo.net",
         "(04) 1311-0074"
        ],
        [
         "Heloísa Alves",
         "765.819.403-48",
         "heloísa@exemplo.net",
         "(01) 1849-5169"
        ],
        [
         "Felipe Gonçalves",
         "097.182.453-32",
         "felipe@exemplo.net",
         "(55) 0848-0670"
        ],
        [
         "Lucca Cavalcanti",
         "186.904.257-30",
         "lucca@exemplo.net",
         "(55) 4154-5803"
        ],
        [
         "Elisa Costa",
         "258.461.793-55",
         "elisa@exemplo.net",
         "(55) 7103-2088"
        ],
        [
         "Marcelo Cavalcanti",
         "437.562.108-71",
         "marcelo@exemplo.net",
         "(55) 0615-0653"
        ],
        [
         "Heloísa da Rocha",
         "193.508.467-48",
         "heloísa@exemplo.net",
         "(08) 4213-4706"
        ],
        [
         "Eduardo Costela",
         "431.582.760-62",
         "eduardo@exemplo.net",
         "(05) 0096-1559"
        ],
        [
         "Sarah Mendes",
         "396.702.814-31",
         "sarah@exemplo.net",
         "(11) 7410-5900"
        ],
        [
         "Maysa da Rocha",
         "936.485.270-29",
         "maysa@exemplo.net",
         "(08) 4366-9823"
        ],
        [
         "Bruno da Cruz",
         "514.203.879-79",
         "bruno@exemplo.net",
         "(08) 1478-8588"
        ],
        [
         "Lorenzo Pinto",
         "935.082.174-50",
         "lorenzo@exemplo.net",
         "(05) 1374-2565"
        ],
        [
         "Anthony Cunha",
         "401.273.695-70",
         "anthony@exemplo.net",
         "(11) 7015-6750"
        ],
        [
         "Lavínia Peixoto",
         "462.510.793-80",
         "lavínia@exemplo.net",
         "(84) 8447-3854"
        ],
        [
         "Pedro Henrique Barbosa",
         "583.291.067-21",
         "pedro@exemplo.net",
         "(08) 4213-3762"
        ],
        [
         "Emilly Rodrigues",
         "869.754.213-82",
         "emilly@exemplo.net",
         "(08) 1447-3684"
        ],
        [
         "Leonardo Costela",
         "849.753.016-01",
         "leonardo@exemplo.net",
         "(05) 0068-4023"
        ],
        [
         "Fernando Peixoto",
         "873.914.256-64",
         "fernando@exemplo.net",
         "(55) 2198-8182"
        ],
        [
         "Esther Caldeira",
         "765.149.028-20",
         "esther@exemplo.net",
         "(31) 5604-1245"
        ],
        [
         "Cecília Peixoto",
         "896.501.742-49",
         "cecília@exemplo.net",
         "(03) 0088-0895"
        ],
        [
         "Maria Fernanda Moura",
         "820.139.675-86",
         "maria@exemplo.net",
         "(11) 3404-0365"
        ],
        [
         "Evelyn da Paz",
         "085.396.421-15",
         "evelyn@exemplo.net",
         "(55) 0812-4345"
        ],
        [
         "Igor Nascimento",
         "678.594.130-00",
         "igor@exemplo.net",
         "(55) 0812-2150"
        ],
        [
         "Luna Santos",
         "356.478.219-28",
         "luna@exemplo.net",
         "(55) 2196-7285"
        ],
        [
         "Luiz Felipe da Paz",
         "589.173.426-55",
         "luiz@exemplo.net",
         "(05) 1413-9460"
        ],
        [
         "Diogo Oliveira",
         "128.975.036-02",
         "diogo@exemplo.net",
         "(05) 1915-8382"
        ],
        [
         "Nina Costela",
         "630.217.489-96",
         "nina@exemplo.net",
         "(55) 0218-2272"
        ],
        [
         "Breno Sales",
         "381.769.405-93",
         "breno@exemplo.net",
         "(55) 3137-6509"
        ],
        [
         "Julia Azevedo",
         "093.782.465-83",
         "julia@exemplo.net",
         "(55) 3139-1177"
        ],
        [
         "Luigi Gomes",
         "023.691.478-22",
         "luigi@exemplo.net",
         "(55) 8425-2123"
        ],
        [
         "Esther Azevedo",
         "061.498.372-03",
         "esther@exemplo.net",
         "(55) 0717-9202"
        ],
        [
         "Emanuella Campos",
         "157.368.402-35",
         "emanuella@exemplo.net",
         "(55) 0711-8345"
        ],
        [
         "João da Cunha",
         "360.589.271-02",
         "joão@exemplo.net",
         "(55) 8126-0460"
        ],
        [
         "Bruna Lima",
         "417.260.359-99",
         "bruna@exemplo.net",
         "(55) 6167-5170"
        ],
        [
         "Gabrielly Ferreira",
         "092.356.417-99",
         "gabrielly@exemplo.net",
         "(55) 2147-1879"
        ],
        [
         "Pedro das Neves",
         "648.092.137-22",
         "pedro@exemplo.net",
         "(71) 7028-7054"
        ],
        [
         "Luigi Cavalcanti",
         "569.803.247-56",
         "luigi@exemplo.net",
         "(55) 5131-2695"
        ],
        [
         "Davi Lucca Pereira",
         "812.573.906-86",
         "davi@exemplo.net",
         "(11) 0781-3960"
        ],
        [
         "Thiago da Mata",
         "389.042.516-05",
         "thiago@exemplo.net",
         "(55) 8457-6732"
        ],
        [
         "Carlos Eduardo Peixoto",
         "106.534.792-80",
         "carlos@exemplo.net",
         "(03) 1369-3216"
        ],
        [
         "Luiz Miguel Novaes",
         "246.875.130-26",
         "luiz@exemplo.net",
         "(04) 1810-7961"
        ],
        [
         "Raul Ribeiro",
         "798.305.461-01",
         "raul@exemplo.net",
         "(06) 1420-7743"
        ],
        [
         "Thales Cavalcanti",
         "301.892.765-68",
         "thales@exemplo.net",
         "(61) 1537-3580"
        ],
        [
         "Lavínia Barbosa",
         "239.785.604-29",
         "lavínia@exemplo.net",
         "(55) 6192-0205"
        ],
        [
         "Emanuel Gonçalves",
         "693.125.087-68",
         "emanuel@exemplo.net",
         "(55) 8121-4669"
        ],
        [
         "Maria Sophia Duarte",
         "135.640.728-53",
         "maria@exemplo.net",
         "(55) 0110-2729"
        ],
        [
         "Mirella Caldeira",
         "502.387.196-77",
         "mirella@exemplo.net",
         "(06) 1862-1175"
        ],
        [
         "Gabriel Lima",
         "370.289.164-13",
         "gabriel@exemplo.net",
         "(55) 6147-2297"
        ],
        [
         "Marcos Vinicius Moraes",
         "582.413.960-15",
         "marcos@exemplo.net",
         "(02) 1283-2756"
        ],
        [
         "Helena Rocha",
         "867.190.235-86",
         "helena@exemplo.net",
         "(04) 1406-3366"
        ],
        [
         "Caio da Cruz",
         "527.460.138-35",
         "caio@exemplo.net",
         "(55) 8458-6680"
        ],
        [
         "Luiz Gustavo da Costa",
         "451.920.387-23",
         "luiz@exemplo.net",
         "(55) 1117-1213"
        ],
        [
         "Fernanda da Cunha",
         "765.231.849-19",
         "fernanda@exemplo.net",
         "(55) 2102-4399"
        ],
        [
         "Lívia Lima",
         "419.680.753-48",
         "lívia@exemplo.net",
         "(08) 1921-1751"
        ],
        [
         "Davi Luiz Correia",
         "809.672.431-22",
         "davi@exemplo.net",
         "(55) 0213-3490"
        ],
        [
         "Júlia Viana",
         "708.493.152-04",
         "júlia@exemplo.net",
         "(08) 0086-4461"
        ],
        [
         "Pedro Rodrigues",
         "564.718.293-37",
         "pedro@exemplo.net",
         "(55) 1107-8211"
        ],
        [
         "Alice das Neves",
         "608.194.523-51",
         "alice@exemplo.net",
         "(84) 1090-7486"
        ],
        [
         "Isabel Ramos",
         "094.851.672-02",
         "isabel@exemplo.net",
         "(55) 0846-8547"
        ],
        [
         "Nina Monteiro",
         "351.279.648-64",
         "nina@exemplo.net",
         "(09) 0078-8537"
        ],
        [
         "João Pedro Melo",
         "742.683.509-00",
         "joão@exemplo.net",
         "(55) 0612-4425"
        ],
        [
         "Giovanna Fogaça",
         "143.759.086-10",
         "giovanna@exemplo.net",
         "(55) 0517-8625"
        ],
        [
         "Emilly Barros",
         "721.853.946-73",
         "emilly@exemplo.net",
         "(55) 0711-4823"
        ],
        [
         "Thales Ferreira",
         "850.219.364-33",
         "thales@exemplo.net",
         "(55) 0844-9363"
        ],
        [
         "Ana Lívia Campos",
         "015.736.928-59",
         "ana@exemplo.net",
         "(21) 9647-2099"
        ],
        [
         "Valentina Dias",
         "214.698.507-02",
         "valentina@exemplo.net",
         "(55) 5112-0521"
        ],
        [
         "Luiz Otávio Sales",
         "104.659.832-51",
         "luiz@exemplo.net",
         "(55) 0715-3503"
        ],
        [
         "Luiz Felipe Barbosa",
         "520.431.986-70",
         "luiz@exemplo.net",
         "(02) 1549-3939"
        ],
        [
         "Maria Sophia Vieira",
         "764.923.810-50",
         "maria@exemplo.net",
         "(55) 0315-7077"
        ],
        [
         "Melissa Fogaça",
         "510.926.347-70",
         "melissa@exemplo.net",
         "(11) 4676-7212"
        ],
        [
         "Julia Pereira",
         "185.642.379-46",
         "julia@exemplo.net",
         "(03) 0068-5262"
        ],
        [
         "Emanuella Souza",
         "037.268.195-68",
         "emanuella@exemplo.net",
         "(55) 0810-2440"
        ],
        [
         "Brenda Santos",
         "024.917.653-06",
         "brenda@exemplo.net",
         "(55) 0516-9077"
        ],
        [
         "Cauê Novaes",
         "384.916.720-87",
         "cauê@exemplo.net",
         "(31) 8897-0270"
        ],
        [
         "Gustavo Cardoso",
         "375.069.821-02",
         "gustavo@exemplo.net",
         "(55) 7107-1816"
        ],
        [
         "Nina da Paz",
         "698.321.574-55",
         "nina@exemplo.net",
         "(55) 8448-2082"
        ],
        [
         "Pietra Costela",
         "483.605.921-60",
         "pietra@exemplo.net",
         "(55) 4101-0460"
        ],
        [
         "Sofia Moura",
         "672.048.359-56",
         "sofia@exemplo.net",
         "(55) 0413-1838"
        ],
        [
         "Pedro Lucas Fogaça",
         "518.629.370-95",
         "pedro@exemplo.net",
         "(11) 8288-2859"
        ],
        [
         "Maria Cunha",
         "623.870.154-44",
         "maria@exemplo.net",
         "(03) 0024-9050"
        ],
        [
         "Evelyn Pinto",
         "591.086.742-30",
         "evelyn@exemplo.net",
         "(55) 0716-6250"
        ],
        [
         "Lívia Cardoso",
         "258.146.073-35",
         "lívia@exemplo.net",
         "(06) 1187-2864"
        ],
        [
         "Lucas Gabriel Correia",
         "391.457.208-60",
         "lucas@exemplo.net",
         "(84) 0138-4809"
        ],
        [
         "Alexia da Rosa",
         "249.708.165-49",
         "alexia@exemplo.net",
         "(11) 2618-1464"
        ],
        [
         "Luiz Felipe da Rocha",
         "083.567.941-10",
         "luiz@exemplo.net",
         "(55) 5161-5047"
        ],
        [
         "Benjamin Pires",
         "385.270.146-53",
         "benjamin@exemplo.net",
         "(03) 1302-1436"
        ],
        [
         "João Vitor Barbosa",
         "974.826.305-38",
         "joão@exemplo.net",
         "(55) 0319-8706"
        ],
        [
         "Heitor Farias",
         "103.492.678-04",
         "heitor@exemplo.net",
         "(55) 0313-6824"
        ],
        [
         "Natália Castro",
         "267.354.908-00",
         "natália@exemplo.net",
         "(09) 0031-8391"
        ],
        [
         "Olivia Nogueira",
         "573.140.982-04",
         "olivia@exemplo.net",
         "(61) 9241-0953"
        ],
        [
         "Daniel Mendes",
         "058.421.673-44",
         "daniel@exemplo.net",
         "(55) 1153-4177"
        ],
        [
         "Juliana Fernandes",
         "786.123.059-77",
         "juliana@exemplo.net",
         "(02) 1409-6078"
        ],
        [
         "Enzo Gabriel Rodrigues",
         "973.458.601-75",
         "enzo@exemplo.net",
         "(55) 0844-4850"
        ],
        [
         "Eduarda da Cunha",
         "709.413.268-96",
         "eduarda@exemplo.net",
         "(31) 4236-6507"
        ],
        [
         "Lucas Gabriel da Rocha",
         "458.712.690-01",
         "lucas@exemplo.net",
         "(08) 4539-5737"
        ],
        [
         "Augusto Novaes",
         "380.624.579-74",
         "augusto@exemplo.net",
         "(07) 1937-6315"
        ],
        [
         "Thiago Lopes",
         "852.630.479-83",
         "thiago@exemplo.net",
         "(08) 1042-7442"
        ],
        [
         "Daniela Almeida",
         "465.789.321-19",
         "daniela@exemplo.net",
         "(55) 0816-9041"
        ],
        [
         "Vicente Monteiro",
         "807.135.924-60",
         "vicente@exemplo.net",
         "(55) 0314-7431"
        ],
        [
         "Vitória Pinto",
         "862.135.704-62",
         "vitória@exemplo.net",
         "(55) 8167-2415"
        ],
        [
         "Maysa Teixeira",
         "904.628.315-15",
         "maysa@exemplo.net",
         "(55) 6163-8239"
        ],
        [
         "Anthony Martins",
         "693.802.547-92",
         "anthony@exemplo.net",
         "(03) 0097-1008"
        ],
        [
         "Davi Luiz Costa",
         "217.083.564-44",
         "davi@exemplo.net",
         "(61) 2923-3271"
        ],
        [
         "Francisco Nunes",
         "072.539.164-25",
         "francisco@exemplo.net",
         "(55) 0116-7713"
        ],
        [
         "João Gabriel Gomes",
         "293.140.768-22",
         "joão@exemplo.net",
         "(55) 0811-5191"
        ],
        [
         "Vitor Gabriel Oliveira",
         "340.157.928-23",
         "vitor@exemplo.net",
         "(55) 6139-5767"
        ],
        [
         "Isaac Fogaça",
         "432.915.706-34",
         "isaac@exemplo.net",
         "(61) 8709-1408"
        ],
        [
         "Maria Julia Jesus",
         "045.938.126-15",
         "maria@exemplo.net",
         "(08) 4830-6172"
        ],
        [
         "Nina da Mata",
         "854.621.397-64",
         "nina@exemplo.net",
         "(55) 0414-8343"
        ],
        [
         "Benjamin Rocha",
         "245.836.710-08",
         "benjamin@exemplo.net",
         "(55) 0417-3425"
        ],
        [
         "Lucca Pereira",
         "806.957.243-47",
         "lucca@exemplo.net",
         "(55) 5122-2229"
        ],
        [
         "Emanuel Nunes",
         "461.287.509-58",
         "emanuel@exemplo.net",
         "(55) 0817-6829"
        ],
        [
         "Sofia da Costa",
         "102.576.983-02",
         "sofia@exemplo.net",
         "(61) 2734-5532"
        ],
        [
         "Larissa Moraes",
         "450.792.681-58",
         "larissa@exemplo.net",
         "(55) 0119-3550"
        ],
        [
         "Daniel das Neves",
         "326.914.807-04",
         "daniel@exemplo.net",
         "(31) 0579-7349"
        ],
        [
         "João Lucas Farias",
         "589.074.231-05",
         "joão@exemplo.net",
         "(55) 0818-3210"
        ],
        [
         "Natália da Cruz",
         "138.496.057-01",
         "natália@exemplo.net",
         "(55) 5173-0058"
        ],
        [
         "Ana Lívia Almeida",
         "046.539.827-83",
         "ana@exemplo.net",
         "(71) 8274-2674"
        ],
        [
         "Thomas das Neves",
         "806.294.315-15",
         "thomas@exemplo.net",
         "(61) 6123-0971"
        ],
        [
         "Mirella Barbosa",
         "758.931.426-91",
         "mirella@exemplo.net",
         "(71) 5749-2823"
        ],
        [
         "Ana Sophia Mendes",
         "782.603.145-17",
         "ana@exemplo.net",
         "(84) 1353-1695"
        ],
        [
         "Isabelly Silveira",
         "340.896.215-42",
         "isabelly@exemplo.net",
         "(55) 0112-4894"
        ],
        [
         "Valentina Cardoso",
         "135.986.204-89",
         "valentina@exemplo.net",
         "(06) 1586-4009"
        ],
        [
         "Cauã Cardoso",
         "254.967.013-25",
         "cauã@exemplo.net",
         "(55) 0113-8458"
        ],
        [
         "Ana Júlia Araújo",
         "709.426.153-52",
         "ana@exemplo.net",
         "(03) 1010-8949"
        ],
        [
         "Cauê Rezende",
         "483.150.726-17",
         "cauê@exemplo.net",
         "(81) 3587-5508"
        ],
        [
         "Luiz Miguel Lopes",
         "871.023.569-86",
         "luiz@exemplo.net",
         "(51) 5768-8821"
        ],
        [
         "Otávio Alves",
         "158.407.623-26",
         "otávio@exemplo.net",
         "(55) 0517-2210"
        ],
        [
         "Kevin Pinto",
         "180.435.726-07",
         "kevin@exemplo.net",
         "(55) 0414-1808"
        ],
        [
         "Vitor Gabriel Jesus",
         "968.452.713-64",
         "vitor@exemplo.net",
         "(55) 7159-3029"
        ],
        [
         "Calebe da Rosa",
         "198.640.723-31",
         "calebe@exemplo.net",
         "(55) 0817-7878"
        ],
        [
         "João Felipe Fernandes",
         "168.743.902-87",
         "joão@exemplo.net",
         "(55) 5148-2360"
        ],
        [
         "Luna Oliveira",
         "287.395.610-03",
         "luna@exemplo.net",
         "(04) 1379-5447"
        ],
        [
         "Joana Moraes",
         "682.043.715-35",
         "joana@exemplo.net",
         "(55) 0848-2150"
        ],
        [
         "João Gabriel Fogaça",
         "978.435.621-09",
         "joão@exemplo.net",
         "(81) 5509-0461"
        ],
        [
         "Gabriel Mendes",
         "439.561.720-43",
         "gabriel@exemplo.net",
         "(55) 8477-5572"
        ],
        [
         "Ryan Ribeiro",
         "604.271.358-26",
         "ryan@exemplo.net",
         "(55) 0215-5439"
        ],
        [
         "Maria da Mata",
         "129.573.406-07",
         "maria@exemplo.net",
         "(84) 2104-9826"
        ],
        [
         "Ana Beatriz Peixoto",
         "724.153.609-61",
         "ana@exemplo.net",
         "(55) 0219-4757"
        ],
        [
         "Isabelly Sales",
         "160.924.357-99",
         "isabelly@exemplo.net",
         "(81) 2053-6908"
        ],
        [
         "João Felipe da Mota",
         "679.138.024-13",
         "joão@exemplo.net",
         "(55) 2121-4175"
        ],
        [
         "Letícia Cardoso",
         "905.768.123-40",
         "letícia@exemplo.net",
         "(55) 2150-0899"
        ],
        [
         "Eduarda Silveira",
         "035.164.298-60",
         "eduarda@exemplo.net",
         "(07) 1429-1207"
        ],
        [
         "Isabelly Carvalho",
         "743.165.298-46",
         "isabelly@exemplo.net",
         "(06) 1957-3509"
        ],
        [
         "Nicolas Mendes",
         "645.087.931-93",
         "nicolas@exemplo.net",
         "(55) 0512-3801"
        ],
        [
         "Rafael Castro",
         "743.601.825-62",
         "rafael@exemplo.net",
         "(55) 0217-8048"
        ],
        [
         "Gustavo Henrique Azevedo",
         "365.172.084-53",
         "gustavo@exemplo.net",
         "(09) 0098-2835"
        ],
        [
         "João Felipe da Mota",
         "150.268.397-03",
         "joão@exemplo.net",
         "(41) 1728-9907"
        ],
        [
         "André da Mata",
         "457.962.380-00",
         "andré@exemplo.net",
         "(41) 2183-6446"
        ],
        [
         "Ana Carolina da Luz",
         "328.190.576-59",
         "ana@exemplo.net",
         "(81) 5654-9619"
        ],
        [
         "João Vitor Silva",
         "238.159.604-60",
         "joão@exemplo.net",
         "(07) 1325-4756"
        ],
        [
         "Cauê Pires",
         "847.051.963-84",
         "cauê@exemplo.net",
         "(55) 0816-9660"
        ],
        [
         "Ana Laura Correia",
         "730.954.128-60",
         "ana@exemplo.net",
         "(11) 9779-8820"
        ],
        [
         "Diogo da Mota",
         "043.619.582-89",
         "diogo@exemplo.net",
         "(61) 3583-7505"
        ],
        [
         "Luiz Miguel Pires",
         "637.824.059-59",
         "luiz@exemplo.net",
         "(55) 0418-7181"
        ],
        [
         "Bryan Correia",
         "085.172.936-30",
         "bryan@exemplo.net",
         "(55) 6196-7054"
        ],
        [
         "Ryan Viana",
         "218.970.356-59",
         "ryan@exemplo.net",
         "(55) 0849-5096"
        ],
        [
         "Ana Clara Carvalho",
         "368.142.750-07",
         "ana@exemplo.net",
         "(55) 0619-0643"
        ],
        [
         "Isadora Barros",
         "826.019.457-02",
         "isadora@exemplo.net",
         "(55) 3161-1963"
        ],
        [
         "Pedro Martins",
         "681.940.357-75",
         "pedro@exemplo.net",
         "(55) 3186-1890"
        ],
        [
         "Caroline Pires",
         "895.176.023-59",
         "caroline@exemplo.net",
         "(08) 0055-6126"
        ],
        [
         "Júlia Mendes",
         "562.943.108-06",
         "júlia@exemplo.net",
         "(55) 0118-4705"
        ],
        [
         "Leonardo Nascimento",
         "238.947.160-96",
         "leonardo@exemplo.net",
         "(07) 1304-0048"
        ],
        [
         "Ana Beatriz Nascimento",
         "846.917.530-01",
         "ana@exemplo.net",
         "(55) 6135-7353"
        ],
        [
         "Emanuella Moraes",
         "403.679.215-61",
         "emanuella@exemplo.net",
         "(81) 1646-7030"
        ],
        [
         "Lucas Moura",
         "430.218.569-42",
         "lucas@exemplo.net",
         "(04) 1052-6884"
        ],
        [
         "Letícia Rodrigues",
         "461.753.290-07",
         "letícia@exemplo.net",
         "(84) 6609-6533"
        ],
        [
         "Erick Moura",
         "613.947.028-50",
         "erick@exemplo.net",
         "(09) 0095-0754"
        ],
        [
         "Carlos Eduardo Ramos",
         "980.417.325-50",
         "carlos@exemplo.net",
         "(05) 0008-9051"
        ],
        [
         "Henrique Viana",
         "794.801.253-23",
         "henrique@exemplo.net",
         "(55) 0110-5803"
        ],
        [
         "Renan Rocha",
         "523.698.104-24",
         "renan@exemplo.net",
         "(55) 0116-5098"
        ],
        [
         "Sabrina Cunha",
         "761.829.354-64",
         "sabrina@exemplo.net",
         "(08) 0097-7011"
        ],
        [
         "Ana Lívia Freitas",
         "350.764.829-65",
         "ana@exemplo.net",
         "(55) 8488-5254"
        ],
        [
         "Mirella da Paz",
         "920.514.678-11",
         "mirella@exemplo.net",
         "(55) 0416-5904"
        ],
        [
         "Larissa Alves",
         "726.430.581-35",
         "larissa@exemplo.net",
         "(11) 5577-6205"
        ],
        [
         "Ryan Dias",
         "159.468.720-01",
         "ryan@exemplo.net",
         "(07) 1065-9227"
        ],
        [
         "Davi Luiz Duarte",
         "384.129.065-51",
         "davi@exemplo.net",
         "(55) 0849-1260"
        ],
        [
         "Davi Luiz Correia",
         "805.369.217-68",
         "davi@exemplo.net",
         "(84) 5195-5332"
        ],
        [
         "Fernando da Conceição",
         "681.720.495-01",
         "fernando@exemplo.net",
         "(21) 3772-9440"
        ],
        [
         "João Lucas Correia",
         "035.462.978-65",
         "joão@exemplo.net",
         "(55) 0215-2573"
        ],
        [
         "Alice Rodrigues",
         "268.015.943-89",
         "alice@exemplo.net",
         "(55) 0515-5655"
        ],
        [
         "Clarice Rodrigues",
         "018.736.245-90",
         "clarice@exemplo.net",
         "(08) 0081-5939"
        ],
        [
         "Raquel da Cruz",
         "935.617.240-43",
         "raquel@exemplo.net",
         "(11) 3186-1591"
        ],
        [
         "Isabella Caldeira",
         "514.387.029-14",
         "isabella@exemplo.net",
         "(55) 0318-0934"
        ],
        [
         "Diogo Cardoso",
         "690.518.743-75",
         "diogo@exemplo.net",
         "(55) 3195-3485"
        ],
        [
         "Levi Ribeiro",
         "491.726.850-85",
         "levi@exemplo.net",
         "(08) 4866-5935"
        ],
        [
         "Vicente Teixeira",
         "075.163.924-99",
         "vicente@exemplo.net",
         "(01) 1287-6256"
        ],
        [
         "Ryan Silveira",
         "238.096.471-87",
         "ryan@exemplo.net",
         "(31) 7618-7904"
        ],
        [
         "Luiz Fernando Barros",
         "840.123.679-78",
         "luiz@exemplo.net",
         "(55) 5188-1614"
        ],
        [
         "João Vitor Silveira",
         "130.284.967-04",
         "joão@exemplo.net",
         "(55) 3104-6059"
        ],
        [
         "Mariana da Mata",
         "460.837.192-40",
         "mariana@exemplo.net",
         "(03) 0032-1721"
        ],
        [
         "Heloísa Alves",
         "301.945.268-60",
         "heloísa@exemplo.net",
         "(01) 1067-9593"
        ],
        [
         "Arthur Duarte",
         "756.219.034-80",
         "arthur@exemplo.net",
         "(55) 3166-7835"
        ],
        [
         "Davi Lucas da Cunha",
         "854.791.632-64",
         "davi@exemplo.net",
         "(84) 0288-0358"
        ],
        [
         "Stella Costa",
         "158.296.473-46",
         "stella@exemplo.net",
         "(08) 1070-2808"
        ],
        [
         "Breno Viana",
         "190.253.486-70",
         "breno@exemplo.net",
         "(01) 1374-1399"
        ],
        [
         "Clarice Fogaça",
         "836.429.750-38",
         "clarice@exemplo.net",
         "(55) 4105-6318"
        ],
        [
         "Stephany Ramos",
         "386.907.145-10",
         "stephany@exemplo.net",
         "(55) 8164-6788"
        ],
        [
         "Thiago Caldeira",
         "258.301.946-51",
         "thiago@exemplo.net",
         "(55) 2186-5807"
        ],
        [
         "Cauê Cardoso",
         "940.635.812-33",
         "cauê@exemplo.net",
         "(21) 3132-1809"
        ],
        [
         "Diego Campos",
         "690.278.314-40",
         "diego@exemplo.net",
         "(55) 7193-2979"
        ],
        [
         "Heloísa Oliveira",
         "734.915.028-88",
         "heloísa@exemplo.net",
         "(55) 8119-7690"
        ],
        [
         "Joaquim Alves",
         "031.745.986-48",
         "joaquim@exemplo.net",
         "(07) 1472-3988"
        ],
        [
         "Maria Julia Cunha",
         "892.013.467-78",
         "maria@exemplo.net",
         "(31) 8677-2776"
        ],
        [
         "Carolina Barbosa",
         "189.207.546-67",
         "carolina@exemplo.net",
         "(55) 5193-1015"
        ],
        [
         "Juliana Cardoso",
         "356.480.219-33",
         "juliana@exemplo.net",
         "(08) 0060-6790"
        ],
        [
         "Clarice Nascimento",
         "892.457.103-60",
         "clarice@exemplo.net",
         "(55) 3197-1481"
        ],
        [
         "Arthur Ribeiro",
         "983.710.462-78",
         "arthur@exemplo.net",
         "(31) 3727-3443"
        ],
        [
         "Nina Peixoto",
         "851.732.469-28",
         "nina@exemplo.net",
         "(07) 1488-5604"
        ],
        [
         "João Guilherme Ramos",
         "309.246.185-15",
         "joão@exemplo.net",
         "(55) 7119-5061"
        ],
        [
         "Joana Barros",
         "632.578.019-12",
         "joana@exemplo.net",
         "(55) 8107-6602"
        ],
        [
         "Bruno Farias",
         "741.908.253-79",
         "bruno@exemplo.net",
         "(55) 2128-9806"
        ],
        [
         "Isadora Ribeiro",
         "057.946.132-70",
         "isadora@exemplo.net",
         "(21) 1276-1055"
        ],
        [
         "Pietro Souza",
         "308.429.176-40",
         "pietro@exemplo.net",
         "(55) 8430-4989"
        ],
        [
         "Maria Eduarda Dias",
         "196.705.342-16",
         "maria@exemplo.net",
         "(02) 1692-3452"
        ],
        [
         "Emanuelly Moura",
         "271.096.835-59",
         "emanuelly@exemplo.net",
         "(55) 2127-4939"
        ],
        [
         "Ian Novaes",
         "482.763.910-87",
         "ian@exemplo.net",
         "(71) 0245-9596"
        ],
        [
         "Isabelly Costela",
         "951.408.637-66",
         "isabelly@exemplo.net",
         "(55) 6127-6108"
        ],
        [
         "Helena Lopes",
         "465.793.201-25",
         "helena@exemplo.net",
         "(61) 9215-6567"
        ],
        [
         "Breno Souza",
         "627.309.518-30",
         "breno@exemplo.net",
         "(41) 2171-7813"
        ],
        [
         "Bruna Silva",
         "296.871.043-50",
         "bruna@exemplo.net",
         "(55) 0215-5165"
        ],
        [
         "Rafael Cardoso",
         "413.957.028-88",
         "rafael@exemplo.net",
         "(21) 4888-5818"
        ],
        [
         "Marcela Dias",
         "401.956.278-49",
         "marcela@exemplo.net",
         "(55) 0112-3961"
        ],
        [
         "Isis Freitas",
         "531.946.870-93",
         "isis@exemplo.net",
         "(21) 2506-5741"
        ],
        [
         "Ana Beatriz Oliveira",
         "706.519.238-59",
         "ana@exemplo.net",
         "(21) 4871-6086"
        ],
        [
         "Melissa Pires",
         "431.865.702-71",
         "melissa@exemplo.net",
         "(03) 0003-4934"
        ],
        [
         "Giovanna Martins",
         "617.523.948-28",
         "giovanna@exemplo.net",
         "(06) 1245-8390"
        ],
        [
         "Caio Freitas",
         "237.149.560-34",
         "caio@exemplo.net",
         "(09) 0032-2351"
        ],
        [
         "João Vitor Rodrigues",
         "809.416.257-02",
         "joão@exemplo.net",
         "(55) 0518-8944"
        ],
        [
         "Maria Julia Duarte",
         "809.562.714-30",
         "maria@exemplo.net",
         "(01) 1993-3701"
        ],
        [
         "Maria Alice Duarte",
         "526.983.714-55",
         "maria@exemplo.net",
         "(55) 4179-4122"
        ],
        [
         "André Azevedo",
         "652.914.307-61",
         "andré@exemplo.net",
         "(06) 1615-6480"
        ],
        [
         "Caroline Melo",
         "254.013.698-24",
         "caroline@exemplo.net",
         "(07) 1269-9175"
        ],
        [
         "Helena da Costa",
         "138.952.407-88",
         "helena@exemplo.net",
         "(55) 0517-8890"
        ],
        [
         "Luiz Felipe Teixeira",
         "158.093.247-97",
         "luiz@exemplo.net",
         "(09) 0001-8727"
        ],
        [
         "Gabriela Duarte",
         "763.940.521-16",
         "gabriela@exemplo.net",
         "(55) 8114-3174"
        ],
        [
         "Bruno Cardoso",
         "241.076.895-49",
         "bruno@exemplo.net",
         "(08) 1121-7027"
        ],
        [
         "Marcos Vinicius Gonçalves",
         "794.016.258-67",
         "marcos@exemplo.net",
         "(31) 1623-4111"
        ],
        [
         "Olivia Campos",
         "416.807.329-78",
         "olivia@exemplo.net",
         "(81) 1098-6459"
        ],
        [
         "Leonardo Jesus",
         "487.152.096-01",
         "leonardo@exemplo.net",
         "(51) 9589-5669"
        ],
        [
         "Theo da Luz",
         "794.213.658-28",
         "theo@exemplo.net",
         "(55) 7152-7325"
        ],
        [
         "Maria Teixeira",
         "578.609.123-68",
         "maria@exemplo.net",
         "(55) 1163-7766"
        ],
        [
         "Rafael Cavalcanti",
         "263.107.459-99",
         "rafael@exemplo.net",
         "(03) 0030-3939"
        ],
        [
         "Daniela Viana",
         "741.639.250-07",
         "daniela@exemplo.net",
         "(55) 0214-2432"
        ],
        [
         "Eduarda Pinto",
         "967.452.831-82",
         "eduarda@exemplo.net",
         "(55) 6144-2578"
        ],
        [
         "Ana Lívia Pereira",
         "596.172.480-85",
         "ana@exemplo.net",
         "(08) 4898-8225"
        ],
        [
         "Francisco Alves",
         "549.708.361-75",
         "francisco@exemplo.net",
         "(11) 9279-4965"
        ],
        [
         "Diego Nascimento",
         "217.854.369-37",
         "diego@exemplo.net",
         "(55) 7113-5055"
        ],
        [
         "Rafaela Peixoto",
         "407.318.659-01",
         "rafaela@exemplo.net",
         "(55) 0811-1470"
        ],
        [
         "Bianca da Luz",
         "647.159.382-19",
         "bianca@exemplo.net",
         "(41) 1539-2256"
        ],
        [
         "Isaac da Paz",
         "268.091.347-78",
         "isaac@exemplo.net",
         "(09) 0071-8470"
        ],
        [
         "Ana Beatriz Dias",
         "432.580.761-62",
         "ana@exemplo.net",
         "(61) 5225-6588"
        ],
        [
         "Ana Sophia Pires",
         "706.421.358-35",
         "ana@exemplo.net",
         "(02) 1404-5891"
        ],
        [
         "Ana Luiza Moraes",
         "592.068.147-02",
         "ana@exemplo.net",
         "(51) 6645-1663"
        ],
        [
         "Alice da Rosa",
         "460.982.371-31",
         "alice@exemplo.net",
         "(55) 0619-9100"
        ],
        [
         "João Lucas das Neves",
         "359.624.810-89",
         "joão@exemplo.net",
         "(55) 0513-7878"
        ],
        [
         "Ana Clara Ribeiro",
         "589.420.763-00",
         "ana@exemplo.net",
         "(51) 0374-8175"
        ],
        [
         "Camila Silva",
         "490.756.813-48",
         "camila@exemplo.net",
         "(55) 2118-6084"
        ],
        [
         "Augusto Pereira",
         "903.714.825-50",
         "augusto@exemplo.net",
         "(55) 0716-2188"
        ],
        [
         "Emanuel das Neves",
         "093.726.581-03",
         "emanuel@exemplo.net",
         "(41) 0469-0107"
        ],
        [
         "Benjamin Barbosa",
         "041.837.962-96",
         "benjamin@exemplo.net",
         "(55) 0119-7653"
        ],
        [
         "Ana Clara Novaes",
         "820.971.356-68",
         "ana@exemplo.net",
         "(55) 1123-8694"
        ],
        [
         "Davi Luiz Correia",
         "573.169.402-80",
         "davi@exemplo.net",
         "(84) 1226-7474"
        ],
        [
         "Thiago da Mata",
         "604.892.571-94",
         "thiago@exemplo.net",
         "(08) 4827-8488"
        ],
        [
         "Maria Fernanda Ribeiro",
         "859.613.024-15",
         "maria@exemplo.net",
         "(11) 2434-6234"
        ],
        [
         "Pedro Miguel Caldeira",
         "860.357.941-57",
         "pedro@exemplo.net",
         "(41) 9810-5048"
        ],
        [
         "Gustavo Henrique Pinto",
         "963.057.124-25",
         "gustavo@exemplo.net",
         "(41) 9564-3566"
        ],
        [
         "Valentina Peixoto",
         "967.803.514-66",
         "valentina@exemplo.net",
         "(41) 9462-4619"
        ],
        [
         "Pedro Lucas Ramos",
         "269.853.407-92",
         "pedro@exemplo.net",
         "(05) 1842-5600"
        ],
        [
         "Lara Costela",
         "029.541.836-24",
         "lara@exemplo.net",
         "(55) 3190-6593"
        ],
        [
         "João Lucas da Conceição",
         "627.513.480-17",
         "joão@exemplo.net",
         "(55) 0318-0747"
        ],
        [
         "Valentina da Rosa",
         "156.089.273-03",
         "valentina@exemplo.net",
         "(55) 0511-5089"
        ],
        [
         "Esther da Conceição",
         "952.178.043-60",
         "esther@exemplo.net",
         "(02) 1675-7903"
        ],
        [
         "Luiz Gustavo da Costa",
         "237.485.916-91",
         "luiz@exemplo.net",
         "(55) 6188-6670"
        ],
        [
         "Maitê Campos",
         "083.645.729-38",
         "maitê@exemplo.net",
         "(55) 0814-5987"
        ],
        [
         "Luiz Gustavo Ferreira",
         "509.871.436-20",
         "luiz@exemplo.net",
         "(55) 7159-7838"
        ],
        [
         "Francisco Cunha",
         "780.453.961-48",
         "francisco@exemplo.net",
         "(55) 0110-1309"
        ],
        [
         "Vicente Rocha",
         "014.327.698-04",
         "vicente@exemplo.net",
         "(09) 0001-6847"
        ],
        [
         "Pedro Lucas Vieira",
         "853.096.472-10",
         "pedro@exemplo.net",
         "(06) 1588-6238"
        ],
        [
         "Mariana Castro",
         "502.768.491-67",
         "mariana@exemplo.net",
         "(55) 0849-9737"
        ],
        [
         "João da Rocha",
         "014.625.389-24",
         "joão@exemplo.net",
         "(21) 6106-5965"
        ],
        [
         "Luiz Felipe Dias",
         "038.279.145-23",
         "luiz@exemplo.net",
         "(21) 5417-5414"
        ],
        [
         "Lucca da Paz",
         "957.804.123-32",
         "lucca@exemplo.net",
         "(84) 0454-7369"
        ],
        [
         "Ana Laura Sales",
         "031.796.248-50",
         "ana@exemplo.net",
         "(02) 1540-7373"
        ],
        [
         "Renan da Luz",
         "750.921.463-70",
         "renan@exemplo.net",
         "(55) 0813-9704"
        ],
        [
         "Julia Duarte",
         "236.198.507-12",
         "julia@exemplo.net",
         "(55) 0816-8017"
        ],
        [
         "Kaique Novaes",
         "453.709.618-75",
         "kaique@exemplo.net",
         "(01) 1230-5070"
        ],
        [
         "Ana Sophia da Luz",
         "672.598.043-00",
         "ana@exemplo.net",
         "(55) 0218-0561"
        ],
        [
         "Ana Carolina Ribeiro",
         "245.790.813-23",
         "ana@exemplo.net",
         "(04) 1950-1521"
        ],
        [
         "Fernanda Silveira",
         "823.495.761-91",
         "fernanda@exemplo.net",
         "(81) 8662-9478"
        ],
        [
         "Thiago Silveira",
         "085.143.296-42",
         "thiago@exemplo.net",
         "(55) 0610-6273"
        ],
        [
         "Isis Farias",
         "493.765.821-28",
         "isis@exemplo.net",
         "(55) 1153-1325"
        ],
        [
         "Vicente Pires",
         "859.017.426-30",
         "vicente@exemplo.net",
         "(05) 1103-4619"
        ],
        [
         "Luiza Teixeira",
         "873.106.254-71",
         "luiza@exemplo.net",
         "(04) 1130-7477"
        ],
        [
         "Nicolas Souza",
         "803.619.475-93",
         "nicolas@exemplo.net",
         "(55) 0513-9080"
        ],
        [
         "Mariana Pires",
         "432.869.071-03",
         "mariana@exemplo.net",
         "(31) 9368-2860"
        ],
        [
         "Alana Carvalho",
         "310.296.574-16",
         "alana@exemplo.net",
         "(55) 4195-9639"
        ],
        [
         "Leonardo Correia",
         "351.964.087-20",
         "leonardo@exemplo.net",
         "(55) 4191-7435"
        ],
        [
         "Alexia Sales",
         "176.980.425-02",
         "alexia@exemplo.net",
         "(03) 0034-5821"
        ],
        [
         "Eloah Correia",
         "170.358.926-21",
         "eloah@exemplo.net",
         "(03) 0033-2098"
        ],
        [
         "Maria Julia Gonçalves",
         "387.269.504-56",
         "maria@exemplo.net",
         "(84) 8911-8625"
        ],
        [
         "Francisco Pires",
         "604.529.318-51",
         "francisco@exemplo.net",
         "(21) 7588-6310"
        ],
        [
         "Davi Lucas Caldeira",
         "132.504.967-07",
         "davi@exemplo.net",
         "(04) 1504-9794"
        ],
        [
         "Rafael Ferreira",
         "965.418.027-85",
         "rafael@exemplo.net",
         "(01) 1462-1352"
        ],
        [
         "Ana Carolina da Costa",
         "675.432.908-47",
         "ana@exemplo.net",
         "(05) 0057-8090"
        ],
        [
         "Beatriz Cardoso",
         "296.450.817-85",
         "beatriz@exemplo.net",
         "(55) 5128-1460"
        ],
        [
         "Bianca Oliveira",
         "678.453.920-65",
         "bianca@exemplo.net",
         "(01) 1795-2968"
        ],
        [
         "Paulo Ferreira",
         "619.583.240-51",
         "paulo@exemplo.net",
         "(05) 0037-3004"
        ],
        [
         "Noah Peixoto",
         "512.378.960-02",
         "noah@exemplo.net",
         "(55) 1148-2325"
        ],
        [
         "Manuela Jesus",
         "493.821.056-89",
         "manuela@exemplo.net",
         "(55) 6139-6131"
        ],
        [
         "Pedro Henrique Peixoto",
         "745.261.938-28",
         "pedro@exemplo.net",
         "(02) 1435-5033"
        ],
        [
         "Fernando Moraes",
         "752.189.460-01",
         "fernando@exemplo.net",
         "(55) 0711-8363"
        ],
        [
         "Lucca Costela",
         "140.783.956-00",
         "lucca@exemplo.net",
         "(55) 0210-5494"
        ],
        [
         "Maria Vitória Mendes",
         "364.918.527-09",
         "maria@exemplo.net",
         "(55) 1198-0484"
        ],
        [
         "Paulo Silveira",
         "456.210.983-15",
         "paulo@exemplo.net",
         "(55) 0114-2394"
        ],
        [
         "Isabella Gomes",
         "041.296.358-24",
         "isabella@exemplo.net",
         "(55) 8190-3930"
        ],
        [
         "Davi da Rosa",
         "769.431.852-09",
         "davi@exemplo.net",
         "(55) 8179-7880"
        ],
        [
         "João Pedro Pereira",
         "218.579.340-32",
         "joão@exemplo.net",
         "(55) 1163-9966"
        ],
        [
         "Gustavo Farias",
         "384.510.267-53",
         "gustavo@exemplo.net",
         "(55) 0810-1138"
        ],
        [
         "Sophie Rezende",
         "352.894.160-05",
         "sophie@exemplo.net",
         "(07) 1924-9637"
        ],
        [
         "Igor Farias",
         "697.825.341-37",
         "igor@exemplo.net",
         "(55) 0616-4789"
        ],
        [
         "Pedro Henrique Nascimento",
         "024.173.596-34",
         "pedro@exemplo.net",
         "(55) 8433-7824"
        ],
        [
         "Isis Dias",
         "829.416.730-40",
         "isis@exemplo.net",
         "(84) 7868-2741"
        ],
        [
         "Luiz Henrique Sales",
         "852.934.107-41",
         "luiz@exemplo.net",
         "(55) 0710-3172"
        ],
        [
         "Luna Freitas",
         "718.260.439-69",
         "luna@exemplo.net",
         "(05) 0084-0098"
        ],
        [
         "Nathan Correia",
         "287.649.150-85",
         "nathan@exemplo.net",
         "(55) 0848-9835"
        ],
        [
         "Vitor Hugo da Luz",
         "049.762.831-78",
         "vitor@exemplo.net",
         "(08) 1508-5050"
        ],
        [
         "Leonardo da Cunha",
         "390.687.512-12",
         "leonardo@exemplo.net",
         "(04) 1164-9628"
        ],
        [
         "Nicolas da Mota",
         "714.526.389-00",
         "nicolas@exemplo.net",
         "(06) 1425-4542"
        ],
        [
         "Diogo Porto",
         "251.730.896-95",
         "diogo@exemplo.net",
         "(55) 8177-3541"
        ],
        [
         "Luana da Cunha",
         "063.721.495-16",
         "luana@exemplo.net",
         "(55) 0818-8295"
        ],
        [
         "João Guilherme Carvalho",
         "024.867.913-96",
         "joão@exemplo.net",
         "(05) 1013-1757"
        ],
        [
         "Laís da Mata",
         "281.905.634-24",
         "laís@exemplo.net",
         "(55) 6149-5843"
        ],
        [
         "Brenda Gomes",
         "415.378.260-26",
         "brenda@exemplo.net",
         "(55) 0613-7787"
        ],
        [
         "Leandro Castro",
         "065.813.279-21",
         "leandro@exemplo.net",
         "(55) 3139-0241"
        ],
        [
         "Maria Vitória Melo",
         "607.415.982-30",
         "maria@exemplo.net",
         "(55) 3133-9667"
        ],
        [
         "Augusto da Paz",
         "780.642.395-83",
         "augusto@exemplo.net",
         "(08) 1590-7600"
        ],
        [
         "Mirella Moura",
         "620.489.153-70",
         "mirella@exemplo.net",
         "(55) 0414-1945"
        ],
        [
         "Francisco Correia",
         "902.548.731-97",
         "francisco@exemplo.net",
         "(21) 0886-4066"
        ],
        [
         "Alice Melo",
         "682.094.357-10",
         "alice@exemplo.net",
         "(61) 4399-0055"
        ],
        [
         "Elisa Correia",
         "140.358.697-75",
         "elisa@exemplo.net",
         "(55) 4144-4688"
        ],
        [
         "João Lucas Almeida",
         "405.931.762-43",
         "joão@exemplo.net",
         "(07) 1271-6786"
        ],
        [
         "Ian Oliveira",
         "235.670.891-02",
         "ian@exemplo.net",
         "(55) 3151-1650"
        ],
        [
         "Milena Costa",
         "589.361.247-73",
         "milena@exemplo.net",
         "(55) 0116-4758"
        ],
        [
         "Carolina Nascimento",
         "462.130.578-62",
         "carolina@exemplo.net",
         "(55) 0215-0053"
        ],
        [
         "João Vitor Martins",
         "358.642.970-38",
         "joão@exemplo.net",
         "(55) 1128-0468"
        ],
        [
         "Ana Clara Castro",
         "641.305.279-16",
         "ana@exemplo.net",
         "(08) 0045-4683"
        ],
        [
         "Carolina Pires",
         "807.391.526-02",
         "carolina@exemplo.net",
         "(81) 7466-9927"
        ],
        [
         "Alexandre Castro",
         "094.275.368-29",
         "alexandre@exemplo.net",
         "(11) 0858-8990"
        ],
        [
         "Laura Azevedo",
         "642.819.750-20",
         "laura@exemplo.net",
         "(61) 5143-2882"
        ],
        [
         "Gabriel Teixeira",
         "957.401.682-01",
         "gabriel@exemplo.net",
         "(07) 1854-3843"
        ],
        [
         "Francisco Santos",
         "092.385.167-40",
         "francisco@exemplo.net",
         "(55) 7161-1855"
        ],
        [
         "Lorena Dias",
         "507.918.246-67",
         "lorena@exemplo.net",
         "(55) 0713-4200"
        ],
        [
         "Alana Pereira",
         "651.230.794-16",
         "alana@exemplo.net",
         "(55) 0710-7103"
        ],
        [
         "Cauã Monteiro",
         "921.684.357-82",
         "cauã@exemplo.net",
         "(51) 7954-1892"
        ],
        [
         "Milena da Costa",
         "651.830.472-35",
         "milena@exemplo.net",
         "(41) 4801-5610"
        ],
        [
         "Noah Monteiro",
         "937.042.618-31",
         "noah@exemplo.net",
         "(55) 8497-6050"
        ],
        [
         "Helena Silveira",
         "984.562.017-58",
         "helena@exemplo.net",
         "(55) 0516-6693"
        ],
        [
         "Thiago da Cruz",
         "963.082.471-03",
         "thiago@exemplo.net",
         "(55) 0615-2442"
        ],
        [
         "Luiz Otávio Gonçalves",
         "623.057.819-03",
         "luiz@exemplo.net",
         "(55) 0819-5769"
        ],
        [
         "Clara Pinto",
         "351.062.847-08",
         "clara@exemplo.net",
         "(55) 5139-9659"
        ],
        [
         "Guilherme Rodrigues",
         "157.832.096-86",
         "guilherme@exemplo.net",
         "(55) 8478-1127"
        ],
        [
         "Marcelo Duarte",
         "946.831.250-05",
         "marcelo@exemplo.net",
         "(61) 9684-6038"
        ],
        [
         "Yago da Cruz",
         "981.634.057-75",
         "yago@exemplo.net",
         "(55) 0813-3994"
        ],
        [
         "Benjamin Carvalho",
         "705.296.143-16",
         "benjamin@exemplo.net",
         "(06) 1176-3126"
        ],
        [
         "Vinicius Costa",
         "082.769.531-40",
         "vinicius@exemplo.net",
         "(55) 2133-1837"
        ],
        [
         "Ana Sophia Pinto",
         "892.143.067-96",
         "ana@exemplo.net",
         "(55) 0215-7625"
        ],
        [
         "João Miguel Nunes",
         "967.423.085-83",
         "joão@exemplo.net",
         "(55) 3100-4510"
        ],
        [
         "Raul Oliveira",
         "195.084.736-57",
         "raul@exemplo.net",
         "(55) 0847-5706"
        ],
        [
         "Caroline Nogueira",
         "682.174.509-94",
         "caroline@exemplo.net",
         "(55) 1181-2891"
        ],
        [
         "Fernanda Dias",
         "059.167.842-01",
         "fernanda@exemplo.net",
         "(08) 0067-2833"
        ],
        [
         "Maria Vitória Teixeira",
         "937.806.542-29",
         "maria@exemplo.net",
         "(55) 6181-2834"
        ],
        [
         "Isabella Fogaça",
         "319.507.826-03",
         "isabella@exemplo.net",
         "(55) 0212-3188"
        ],
        [
         "Maria Julia Araújo",
         "031.476.528-07",
         "maria@exemplo.net",
         "(55) 0519-0133"
        ],
        [
         "Maria Sophia Caldeira",
         "309.541.768-39",
         "maria@exemplo.net",
         "(07) 1340-1433"
        ],
        [
         "Luiz Gustavo Freitas",
         "052.641.783-80",
         "luiz@exemplo.net",
         "(03) 0068-2728"
        ],
        [
         "Yuri Vieira",
         "483.961.075-48",
         "yuri@exemplo.net",
         "(02) 1428-5043"
        ],
        [
         "João Felipe Fernandes",
         "094.586.317-93",
         "joão@exemplo.net",
         "(08) 4623-8577"
        ],
        [
         "Emanuel Barros",
         "731.096.582-59",
         "emanuel@exemplo.net",
         "(55) 0713-6677"
        ],
        [
         "Vitor Hugo Silveira",
         "638.270.519-59",
         "vitor@exemplo.net",
         "(41) 3973-7364"
        ],
        [
         "Enzo Gabriel Ferreira",
         "638.721.450-53",
         "enzo@exemplo.net",
         "(55) 4105-3764"
        ],
        [
         "Yago Moreira",
         "325.067.918-68",
         "yago@exemplo.net",
         "(05) 1771-5067"
        ],
        [
         "Ana Clara Silva",
         "769.542.801-94",
         "ana@exemplo.net",
         "(55) 8196-3952"
        ],
        [
         "Emilly Carvalho",
         "271.854.396-55",
         "emilly@exemplo.net",
         "(55) 0216-1145"
        ],
        [
         "Caroline Araújo",
         "763.192.058-30",
         "caroline@exemplo.net",
         "(55) 5164-5108"
        ],
        [
         "Anthony Silveira",
         "586.743.021-90",
         "anthony@exemplo.net",
         "(55) 0115-8250"
        ],
        [
         "Esther Rodrigues",
         "807.316.529-59",
         "esther@exemplo.net",
         "(55) 0415-6169"
        ],
        [
         "Alice Nogueira",
         "956.413.207-06",
         "alice@exemplo.net",
         "(84) 5893-6145"
        ],
        [
         "Lavínia da Cruz",
         "521.683.490-70",
         "lavínia@exemplo.net",
         "(55) 4151-7639"
        ],
        [
         "Lavínia da Rosa",
         "381.642.509-70",
         "lavínia@exemplo.net",
         "(55) 0317-0300"
        ],
        [
         "Francisco Rocha",
         "216.098.435-33",
         "francisco@exemplo.net",
         "(71) 3906-8713"
        ],
        [
         "Heloísa Rezende",
         "352.701.689-95",
         "heloísa@exemplo.net",
         "(09) 0082-3767"
        ],
        [
         "Isabella Martins",
         "863.471.952-91",
         "isabella@exemplo.net",
         "(55) 0212-0563"
        ],
        [
         "Thales Mendes",
         "391.520.478-14",
         "thales@exemplo.net",
         "(08) 1513-9926"
        ],
        [
         "Pedro da Mota",
         "048.739.125-04",
         "pedro@exemplo.net",
         "(55) 8432-6020"
        ],
        [
         "Kamilly Gomes",
         "082.514.736-08",
         "kamilly@exemplo.net",
         "(21) 8493-9103"
        ],
        [
         "Pedro Miguel Jesus",
         "504.316.298-89",
         "pedro@exemplo.net",
         "(55) 0412-8451"
        ],
        [
         "Vitor Porto",
         "214.837.096-04",
         "vitor@exemplo.net",
         "(55) 0818-8374"
        ],
        [
         "Vinicius Araújo",
         "287.694.031-04",
         "vinicius@exemplo.net",
         "(81) 7898-8473"
        ],
        [
         "Alice Santos",
         "621.980.534-89",
         "alice@exemplo.net",
         "(07) 1357-4482"
        ],
        [
         "Rafaela da Cruz",
         "459.312.870-60",
         "rafaela@exemplo.net",
         "(55) 7186-3884"
        ],
        [
         "Alícia Azevedo",
         "159.378.062-12",
         "alícia@exemplo.net",
         "(55) 0713-7200"
        ],
        [
         "Alana Correia",
         "369.728.105-40",
         "alana@exemplo.net",
         "(55) 0110-1687"
        ],
        [
         "Levi Gomes",
         "173.940.256-16",
         "levi@exemplo.net",
         "(04) 1979-6403"
        ],
        [
         "Helena Vieira",
         "653.017.982-86",
         "helena@exemplo.net",
         "(55) 8190-2188"
        ],
        [
         "Cecília Ramos",
         "698.325.147-46",
         "cecília@exemplo.net",
         "(55) 4135-8095"
        ],
        [
         "Thales Lopes",
         "049.713.568-00",
         "thales@exemplo.net",
         "(06) 1110-5639"
        ],
        [
         "Sophie Teixeira",
         "417.265.398-73",
         "sophie@exemplo.net",
         "(55) 0112-7123"
        ],
        [
         "Vicente Castro",
         "921.548.036-60",
         "vicente@exemplo.net",
         "(55) 2173-0784"
        ],
        [
         "Danilo Silveira",
         "160.395.728-68",
         "danilo@exemplo.net",
         "(51) 4688-6921"
        ],
        [
         "Leandro Lopes",
         "781.029.534-97",
         "leandro@exemplo.net",
         "(55) 0115-2254"
        ],
        [
         "Isabelly Cardoso",
         "203.519.467-99",
         "isabelly@exemplo.net",
         "(84) 8743-9901"
        ],
        [
         "Benício Costela",
         "359.842.601-15",
         "benício@exemplo.net",
         "(55) 8457-8804"
        ],
        [
         "Mariane Moura",
         "193.048.572-79",
         "mariane@exemplo.net",
         "(55) 0611-2144"
        ],
        [
         "Pedro Henrique Dias",
         "398.570.426-00",
         "pedro@exemplo.net",
         "(55) 0417-6952"
        ],
        [
         "Mariana Aragão",
         "438.970.526-10",
         "mariana@exemplo.net",
         "(55) 0219-6934"
        ],
        [
         "Matheus Rocha",
         "492.603.175-25",
         "matheus@exemplo.net",
         "(21) 6712-2641"
        ],
        [
         "Maria Vitória Barbosa",
         "349.857.106-01",
         "maria@exemplo.net",
         "(55) 0111-2116"
        ],
        [
         "Matheus Peixoto",
         "083.672.541-71",
         "matheus@exemplo.net",
         "(03) 0074-1553"
        ],
        [
         "Ana Carolina Ferreira",
         "456.798.201-02",
         "ana@exemplo.net",
         "(55) 0840-8175"
        ],
        [
         "Luiz Gustavo da Luz",
         "190.826.543-42",
         "luiz@exemplo.net",
         "(06) 1295-7237"
        ],
        [
         "Miguel Lopes",
         "103.892.754-41",
         "miguel@exemplo.net",
         "(31) 5869-3256"
        ],
        [
         "Murilo da Conceição",
         "637.824.051-53",
         "murilo@exemplo.net",
         "(55) 6122-1624"
        ],
        [
         "João Miguel Lopes",
         "425.016.798-49",
         "joão@exemplo.net",
         "(55) 5142-8117"
        ],
        [
         "Ana Laura Carvalho",
         "648.701.392-78",
         "ana@exemplo.net",
         "(11) 6353-3860"
        ],
        [
         "Pedro Lucas Rezende",
         "186.945.203-89",
         "pedro@exemplo.net",
         "(55) 8158-3182"
        ],
        [
         "Isis Oliveira",
         "184.256.397-19",
         "isis@exemplo.net",
         "(09) 0051-8545"
        ],
        [
         "Thomas Barbosa",
         "653.089.712-77",
         "thomas@exemplo.net",
         "(55) 3162-2734"
        ],
        [
         "Nina da Paz",
         "890.453.612-05",
         "nina@exemplo.net",
         "(41) 7667-7648"
        ],
        [
         "Ana Carolina Moreira",
         "572.908.463-38",
         "ana@exemplo.net",
         "(01) 1301-1065"
        ],
        [
         "Maria Eduarda da Paz",
         "596.231.740-80",
         "maria@exemplo.net",
         "(55) 0714-4808"
        ],
        [
         "Ana Júlia Fogaça",
         "347.092.156-34",
         "ana@exemplo.net",
         "(61) 9827-1787"
        ],
        [
         "Marcos Vinicius Jesus",
         "175.402.863-26",
         "marcos@exemplo.net",
         "(55) 2147-9135"
        ],
        [
         "Lívia Duarte",
         "803.652.794-47",
         "lívia@exemplo.net",
         "(55) 5146-5749"
        ],
        [
         "Nicolas Costela",
         "318.264.095-05",
         "nicolas@exemplo.net",
         "(31) 7361-8293"
        ],
        [
         "Murilo Ferreira",
         "590.218.437-14",
         "murilo@exemplo.net",
         "(71) 0066-0853"
        ],
        [
         "Thales da Paz",
         "671.954.803-48",
         "thales@exemplo.net",
         "(07) 1723-5646"
        ],
        [
         "Sarah Costela",
         "169.702.843-87",
         "sarah@exemplo.net",
         "(07) 1246-8415"
        ],
        [
         "Luiza Dias",
         "524.679.310-99",
         "luiza@exemplo.net",
         "(55) 6179-6606"
        ],
        [
         "Leonardo Duarte",
         "930.856.421-70",
         "leonardo@exemplo.net",
         "(51) 2303-4836"
        ],
        [
         "João Felipe Freitas",
         "584.607.139-20",
         "joão@exemplo.net",
         "(04) 1121-4779"
        ],
        [
         "Luiz Otávio Ramos",
         "396.147.250-52",
         "luiz@exemplo.net",
         "(07) 1231-4690"
        ],
        [
         "Fernando Souza",
         "892.410.536-15",
         "fernando@exemplo.net",
         "(41) 5901-0871"
        ],
        [
         "Juliana da Luz",
         "124.309.578-41",
         "juliana@exemplo.net",
         "(08) 1694-2716"
        ],
        [
         "Luiz Gustavo das Neves",
         "594.386.217-09",
         "luiz@exemplo.net",
         "(55) 5111-7472"
        ],
        [
         "Joaquim Cardoso",
         "697.543.021-70",
         "joaquim@exemplo.net",
         "(55) 4198-4769"
        ],
        [
         "Evelyn Fernandes",
         "385.169.742-19",
         "evelyn@exemplo.net",
         "(55) 3192-0105"
        ],
        [
         "Vitor Farias",
         "560.429.183-89",
         "vitor@exemplo.net",
         "(55) 2153-7746"
        ],
        [
         "Davi Lucas Farias",
         "376.280.194-04",
         "davi@exemplo.net",
         "(51) 0741-6481"
        ],
        [
         "Rebeca Martins",
         "182.347.059-97",
         "rebeca@exemplo.net",
         "(55) 0219-1107"
        ],
        [
         "Lucca Martins",
         "692.348.517-73",
         "lucca@exemplo.net",
         "(02) 1543-9888"
        ],
        [
         "Eloah Viana",
         "064.597.182-02",
         "eloah@exemplo.net",
         "(41) 3541-8881"
        ],
        [
         "Heitor da Conceição",
         "928.704.136-96",
         "heitor@exemplo.net",
         "(55) 3184-0826"
        ],
        [
         "Davi Lucca Lima",
         "572.083.146-08",
         "davi@exemplo.net",
         "(06) 1043-5573"
        ],
        [
         "Davi Luiz Freitas",
         "589.316.240-42",
         "davi@exemplo.net",
         "(71) 6148-4936"
        ],
        [
         "Raul Fernandes",
         "563.189.047-00",
         "raul@exemplo.net",
         "(02) 1943-0509"
        ],
        [
         "Luna da Mota",
         "328.974.051-04",
         "luna@exemplo.net",
         "(08) 4517-2037"
        ],
        [
         "Laís Ramos",
         "457.608.391-01",
         "laís@exemplo.net",
         "(04) 1078-6158"
        ],
        [
         "Letícia Moura",
         "697.125.830-40",
         "letícia@exemplo.net",
         "(55) 8480-6548"
        ],
        [
         "Maysa Cavalcanti",
         "943.062.517-99",
         "maysa@exemplo.net",
         "(55) 7163-1702"
        ],
        [
         "Júlia Sales",
         "764.908.312-87",
         "júlia@exemplo.net",
         "(61) 6351-2735"
        ],
        [
         "Lara da Cruz",
         "974.603.851-66",
         "lara@exemplo.net",
         "(55) 2194-8917"
        ],
        [
         "Eloah Freitas",
         "345.917.802-79",
         "eloah@exemplo.net",
         "(11) 0090-4166"
        ],
        [
         "João Pedro Rodrigues",
         "812.509.734-14",
         "joão@exemplo.net",
         "(55) 5113-6882"
        ],
        [
         "Erick Viana",
         "365.729.480-56",
         "erick@exemplo.net",
         "(55) 0114-0460"
        ],
        [
         "Diego da Mota",
         "456.937.102-70",
         "diego@exemplo.net",
         "(11) 7144-1058"
        ],
        [
         "Isabella Costela",
         "946.723.850-00",
         "isabella@exemplo.net",
         "(55) 1103-8504"
        ],
        [
         "Vitória Barbosa",
         "984.013.765-48",
         "vitória@exemplo.net",
         "(01) 1170-0694"
        ],
        [
         "Maria Alice Farias",
         "803.576.492-65",
         "maria@exemplo.net",
         "(55) 8127-9398"
        ],
        [
         "Paulo Cunha",
         "897.652.130-77",
         "paulo@exemplo.net",
         "(55) 0710-0106"
        ],
        [
         "Maria Cecília da Costa",
         "329.486.017-03",
         "maria@exemplo.net",
         "(03) 0072-9580"
        ],
        [
         "João Miguel Vieira",
         "204.987.531-23",
         "joão@exemplo.net",
         "(03) 1741-9859"
        ],
        [
         "Nina Almeida",
         "674.398.501-57",
         "nina@exemplo.net",
         "(04) 1665-4063"
        ],
        [
         "Luiz Gustavo Lima",
         "753.196.028-12",
         "luiz@exemplo.net",
         "(55) 0614-9669"
        ],
        [
         "Maria Vitória Jesus",
         "586.493.021-06",
         "maria@exemplo.net",
         "(55) 0840-1923"
        ],
        [
         "Kevin Novaes",
         "928.403.516-33",
         "kevin@exemplo.net",
         "(55) 8465-0851"
        ],
        [
         "Letícia da Rosa",
         "026.974.513-07",
         "letícia@exemplo.net",
         "(08) 0029-2318"
        ],
        [
         "Isabelly Farias",
         "259.748.301-05",
         "isabelly@exemplo.net",
         "(55) 5162-2587"
        ],
        [
         "Juan Duarte",
         "156.438.920-06",
         "juan@exemplo.net",
         "(11) 2290-1514"
        ],
        [
         "Maitê Campos",
         "795.084.632-10",
         "maitê@exemplo.net",
         "(81) 0610-2497"
        ],
        [
         "Clarice Mendes",
         "680.371.249-40",
         "clarice@exemplo.net",
         "(07) 1340-8323"
        ],
        [
         "João Gabriel Teixeira",
         "065.941.783-93",
         "joão@exemplo.net",
         "(55) 8167-5560"
        ],
        [
         "Eloah Peixoto",
         "791.382.645-28",
         "eloah@exemplo.net",
         "(55) 7122-8768"
        ],
        [
         "Felipe Correia",
         "792.835.016-59",
         "felipe@exemplo.net",
         "(55) 0710-0021"
        ],
        [
         "Maitê Rezende",
         "219.468.350-05",
         "maitê@exemplo.net",
         "(09) 0051-7627"
        ],
        [
         "João Moraes",
         "192.375.648-64",
         "joão@exemplo.net",
         "(03) 1581-9322"
        ],
        [
         "Isadora Cunha",
         "580.913.276-68",
         "isadora@exemplo.net",
         "(09) 0003-8313"
        ],
        [
         "Ana Vitória Pereira",
         "427.305.698-47",
         "ana@exemplo.net",
         "(05) 0092-0024"
        ],
        [
         "João Guilherme Barros",
         "297.308.164-50",
         "joão@exemplo.net",
         "(04) 1422-1410"
        ],
        [
         "Vitor Hugo Nunes",
         "380.469.725-92",
         "vitor@exemplo.net",
         "(08) 0091-8937"
        ],
        [
         "Clara Ribeiro",
         "219.053.746-07",
         "clara@exemplo.net",
         "(05) 1441-2374"
        ],
        [
         "Manuela da Cruz",
         "935.271.806-21",
         "manuela@exemplo.net",
         "(55) 6146-9111"
        ],
        [
         "Felipe Fogaça",
         "301.249.578-97",
         "felipe@exemplo.net",
         "(05) 0009-0615"
        ],
        [
         "Enzo Castro",
         "450.867.312-08",
         "enzo@exemplo.net",
         "(21) 0987-2655"
        ],
        [
         "Igor Azevedo",
         "140.539.826-42",
         "igor@exemplo.net",
         "(51) 5662-5534"
        ],
        [
         "Davi Lucas da Rocha",
         "083.612.457-07",
         "davi@exemplo.net",
         "(02) 1025-7385"
        ],
        [
         "Raquel Silveira",
         "509.213.687-12",
         "raquel@exemplo.net",
         "(55) 2145-0400"
        ],
        [
         "Ana Lívia Peixoto",
         "189.247.560-01",
         "ana@exemplo.net",
         "(03) 0063-5473"
        ],
        [
         "Emanuel Rezende",
         "791.082.435-14",
         "emanuel@exemplo.net",
         "(61) 8720-3403"
        ],
        [
         "Vitor Hugo da Costa",
         "950.718.463-57",
         "vitor@exemplo.net",
         "(03) 0051-7063"
        ],
        [
         "Ana Sophia Fernandes",
         "237.806.519-12",
         "ana@exemplo.net",
         "(31) 9548-5078"
        ],
        [
         "Mariana da Mota",
         "263.795.810-30",
         "mariana@exemplo.net",
         "(55) 0119-2598"
        ],
        [
         "Clarice Costela",
         "728.435.601-44",
         "clarice@exemplo.net",
         "(02) 1050-6027"
        ],
        [
         "Sophia Porto",
         "340.261.598-33",
         "sophia@exemplo.net",
         "(55) 0818-7866"
        ],
        [
         "Juliana Duarte",
         "587.120.396-59",
         "juliana@exemplo.net",
         "(55) 5178-3627"
        ],
        [
         "Vinicius da Rosa",
         "973.104.586-48",
         "vinicius@exemplo.net",
         "(05) 1778-3698"
        ],
        [
         "Igor Ribeiro",
         "496.712.503-43",
         "igor@exemplo.net",
         "(55) 6110-4037"
        ],
        [
         "Marcela Ramos",
         "138.695.420-98",
         "marcela@exemplo.net",
         "(06) 1255-1320"
        ],
        [
         "Clarice Peixoto",
         "285.690.731-86",
         "clarice@exemplo.net",
         "(84) 9185-4619"
        ],
        [
         "Daniela Costela",
         "861.490.527-02",
         "daniela@exemplo.net",
         "(55) 0516-3248"
        ],
        [
         "Valentina Cunha",
         "803.294.761-22",
         "valentina@exemplo.net",
         "(41) 6836-2084"
        ],
        [
         "Ana Nogueira",
         "821.903.456-42",
         "ana@exemplo.net",
         "(84) 9771-5271"
        ],
        [
         "Isabel Rezende",
         "619.054.732-06",
         "isabel@exemplo.net",
         "(55) 0417-6059"
        ],
        [
         "Isabella Campos",
         "341.708.529-23",
         "isabella@exemplo.net",
         "(08) 1485-3323"
        ],
        [
         "Mirella Pereira",
         "175.204.638-26",
         "mirella@exemplo.net",
         "(55) 0716-7731"
        ],
        [
         "Breno Azevedo",
         "617.438.920-04",
         "breno@exemplo.net",
         "(08) 1029-3498"
        ],
        [
         "Stella Fogaça",
         "873.210.956-30",
         "stella@exemplo.net",
         "(09) 0027-1957"
        ],
        [
         "Luiz Gustavo Pereira",
         "695.823.170-86",
         "luiz@exemplo.net",
         "(55) 0610-0417"
        ],
        [
         "Paulo Rocha",
         "821.659.470-49",
         "paulo@exemplo.net",
         "(55) 0711-5987"
        ],
        [
         "Gabriel Dias",
         "762.041.358-80",
         "gabriel@exemplo.net",
         "(55) 2149-7155"
        ],
        [
         "Caio Santos",
         "827.549.361-73",
         "caio@exemplo.net",
         "(08) 0030-1749"
        ],
        [
         "Caroline da Mota",
         "925.408.361-51",
         "caroline@exemplo.net",
         "(05) 1337-8110"
        ],
        [
         "Theo Barbosa",
         "816.054.397-20",
         "theo@exemplo.net",
         "(06) 1771-3233"
        ],
        [
         "Murilo Ribeiro",
         "618.342.509-51",
         "murilo@exemplo.net",
         "(55) 0716-9413"
        ],
        [
         "Vitor Hugo Silveira",
         "091.862.435-51",
         "vitor@exemplo.net",
         "(55) 0817-2799"
        ],
        [
         "Cauã Araújo",
         "723.698.150-86",
         "cauã@exemplo.net",
         "(11) 2786-1235"
        ],
        [
         "Sophie Souza",
         "089.126.734-40",
         "sophie@exemplo.net",
         "(55) 0219-5501"
        ],
        [
         "Clara Nunes",
         "397.028.614-03",
         "clara@exemplo.net",
         "(55) 8493-1877"
        ],
        [
         "Joaquim Gonçalves",
         "197.520.436-07",
         "joaquim@exemplo.net",
         "(55) 8481-9191"
        ],
        [
         "Thiago Silveira",
         "238.640.597-47",
         "thiago@exemplo.net",
         "(04) 1443-2530"
        ],
        [
         "Ana Júlia Campos",
         "653.021.947-16",
         "ana@exemplo.net",
         "(55) 0518-5461"
        ],
        [
         "Isabel da Cruz",
         "506.428.139-06",
         "isabel@exemplo.net",
         "(07) 1630-8589"
        ],
        [
         "Brenda da Rocha",
         "186.073.952-03",
         "brenda@exemplo.net",
         "(55) 0413-9695"
        ],
        [
         "Nathan Nascimento",
         "854.973.126-91",
         "nathan@exemplo.net",
         "(01) 1804-8858"
        ],
        [
         "Ian Pinto",
         "012.365.897-77",
         "ian@exemplo.net",
         "(81) 9725-9068"
        ],
        [
         "Maria Silva",
         "219.756.480-30",
         "maria@exemplo.net",
         "(11) 4903-7448"
        ],
        [
         "Nicole Almeida",
         "745.281.369-37",
         "nicole@exemplo.net",
         "(55) 0842-4498"
        ],
        [
         "Diogo Cardoso",
         "049.157.863-66",
         "diogo@exemplo.net",
         "(21) 0393-7198"
        ],
        [
         "Ana Vitória Ribeiro",
         "518.397.206-03",
         "ana@exemplo.net",
         "(55) 8480-9581"
        ],
        [
         "Benjamin Moreira",
         "769.508.231-77",
         "benjamin@exemplo.net",
         "(03) 0083-5382"
        ],
        [
         "Kaique Gomes",
         "674.281.539-64",
         "kaique@exemplo.net",
         "(55) 0817-5515"
        ],
        [
         "Enrico Aragão",
         "728.345.916-28",
         "enrico@exemplo.net",
         "(21) 0255-1171"
        ],
        [
         "Pietra Peixoto",
         "752.368.491-28",
         "pietra@exemplo.net",
         "(03) 0034-2148"
        ],
        [
         "Francisco Correia",
         "394.580.716-66",
         "francisco@exemplo.net",
         "(08) 1782-0916"
        ],
        [
         "Olivia Rodrigues",
         "840.593.716-10",
         "olivia@exemplo.net",
         "(55) 0715-3545"
        ],
        [
         "Igor Farias",
         "756.829.013-12",
         "igor@exemplo.net",
         "(84) 9514-8576"
        ],
        [
         "Murilo Pires",
         "816.905.274-20",
         "murilo@exemplo.net",
         "(55) 7105-7964"
        ],
        [
         "Calebe da Rocha",
         "716.853.920-59",
         "calebe@exemplo.net",
         "(81) 6019-1529"
        ],
        [
         "Evelyn da Conceição",
         "410.578.632-62",
         "evelyn@exemplo.net",
         "(07) 1844-7243"
        ],
        [
         "Raul Cardoso",
         "037.548.691-75",
         "raul@exemplo.net",
         "(31) 4959-9678"
        ],
        [
         "Ana Carolina Novaes",
         "905.683.174-75",
         "ana@exemplo.net",
         "(55) 0519-5134"
        ],
        [
         "Giovanna das Neves",
         "708.921.634-96",
         "giovanna@exemplo.net",
         "(01) 1772-4359"
        ],
        [
         "Nicole da Paz",
         "027.154.369-80",
         "nicole@exemplo.net",
         "(04) 1594-4680"
        ],
        [
         "Valentina da Mata",
         "279.140.368-03",
         "valentina@exemplo.net",
         "(31) 1155-4114"
        ],
        [
         "Erick Caldeira",
         "327.691.845-55",
         "erick@exemplo.net",
         "(03) 0063-2857"
        ],
        [
         "Fernando da Costa",
         "230.796.814-87",
         "fernando@exemplo.net",
         "(55) 4146-4376"
        ],
        [
         "Catarina Ramos",
         "296.374.015-80",
         "catarina@exemplo.net",
         "(55) 4189-9082"
        ],
        [
         "Larissa Monteiro",
         "631.840.927-04",
         "larissa@exemplo.net",
         "(21) 0855-5454"
        ],
        [
         "Francisco da Cruz",
         "957.802.614-58",
         "francisco@exemplo.net",
         "(55) 0113-9528"
        ],
        [
         "João Felipe Azevedo",
         "480.713.596-10",
         "joão@exemplo.net",
         "(55) 6184-0141"
        ],
        [
         "Caio das Neves",
         "479.180.356-66",
         "caio@exemplo.net",
         "(11) 6548-2480"
        ],
        [
         "Gabrielly Araújo",
         "612.974.530-34",
         "gabrielly@exemplo.net",
         "(55) 8116-2689"
        ],
        [
         "Samuel Silveira",
         "168.593.420-05",
         "samuel@exemplo.net",
         "(55) 0842-1699"
        ],
        [
         "Heloísa Aragão",
         "652.047.189-58",
         "heloísa@exemplo.net",
         "(81) 4197-9778"
        ],
        [
         "Lívia Freitas",
         "451.906.273-06",
         "lívia@exemplo.net",
         "(05) 0070-8789"
        ],
        [
         "Daniela Nogueira",
         "071.849.236-69",
         "daniela@exemplo.net",
         "(31) 2593-7299"
        ],
        [
         "Rafael Jesus",
         "273.680.915-77",
         "rafael@exemplo.net",
         "(08) 1664-2536"
        ],
        [
         "Thiago Duarte",
         "043.819.752-60",
         "thiago@exemplo.net",
         "(08) 0017-9924"
        ],
        [
         "Yasmin Aragão",
         "923.407.618-40",
         "yasmin@exemplo.net",
         "(07) 1465-3750"
        ],
        [
         "Felipe Correia",
         "137.526.948-82",
         "felipe@exemplo.net",
         "(55) 0815-4246"
        ],
        [
         "Gustavo Henrique Cardoso",
         "831.496.207-40",
         "gustavo@exemplo.net",
         "(55) 2135-4435"
        ],
        [
         "Giovanna da Mata",
         "571.480.932-79",
         "giovanna@exemplo.net",
         "(08) 4723-1958"
        ],
        [
         "André Cunha",
         "306.971.428-50",
         "andré@exemplo.net",
         "(01) 1539-5092"
        ],
        [
         "Vitor Hugo Cunha",
         "903.526.187-95",
         "vitor@exemplo.net",
         "(04) 1337-1593"
        ],
        [
         "Luiz Gustavo Alves",
         "415.932.760-52",
         "luiz@exemplo.net",
         "(55) 2139-1060"
        ],
        [
         "Rodrigo Campos",
         "027.863.195-95",
         "rodrigo@exemplo.net",
         "(61) 9707-5630"
        ],
        [
         "Emanuelly Caldeira",
         "784.163.250-90",
         "emanuelly@exemplo.net",
         "(55) 1163-1767"
        ],
        [
         "Breno Jesus",
         "937.160.485-93",
         "breno@exemplo.net",
         "(55) 3131-6984"
        ],
        [
         "Pietra Carvalho",
         "968.572.430-00",
         "pietra@exemplo.net",
         "(81) 2877-0965"
        ],
        [
         "Emilly da Luz",
         "639.871.054-10",
         "emilly@exemplo.net",
         "(55) 3102-9628"
        ],
        [
         "Mariane Ribeiro",
         "463.917.582-55",
         "mariane@exemplo.net",
         "(55) 6153-8328"
        ],
        [
         "Stephany Vieira",
         "592.316.840-51",
         "stephany@exemplo.net",
         "(04) 1267-4971"
        ],
        [
         "Ana Luiza Barros",
         "568.410.792-30",
         "ana@exemplo.net",
         "(08) 0078-1852"
        ],
        [
         "Benjamin Rezende",
         "745.981.602-76",
         "benjamin@exemplo.net",
         "(06) 1946-8779"
        ],
        [
         "Felipe Nogueira",
         "980.532.467-29",
         "felipe@exemplo.net",
         "(03) 0036-6709"
        ],
        [
         "Vicente Nunes",
         "836.912.074-13",
         "vicente@exemplo.net",
         "(55) 0717-1991"
        ],
        [
         "Ana Laura Melo",
         "920.514.873-32",
         "ana@exemplo.net",
         "(03) 1240-1528"
        ],
        [
         "Ryan Ramos",
         "921.568.403-42",
         "ryan@exemplo.net",
         "(41) 9908-1258"
        ],
        [
         "Davi Lucas Ramos",
         "802.745.163-90",
         "davi@exemplo.net",
         "(55) 0118-9162"
        ],
        [
         "Lucas Lopes",
         "409.572.618-02",
         "lucas@exemplo.net",
         "(55) 3135-6558"
        ],
        [
         "Ana Carolina Gomes",
         "853.406.297-83",
         "ana@exemplo.net",
         "(55) 8135-0291"
        ],
        [
         "Esther Sales",
         "501.963.427-16",
         "esther@exemplo.net",
         "(55) 0514-5476"
        ],
        [
         "Elisa da Rosa",
         "893.061.574-01",
         "elisa@exemplo.net",
         "(08) 1580-8584"
        ],
        [
         "Laís Peixoto",
         "958.046.712-94",
         "laís@exemplo.net",
         "(21) 6965-3594"
        ],
        [
         "Gustavo Henrique Freitas",
         "915.470.368-93",
         "gustavo@exemplo.net",
         "(04) 1471-6372"
        ],
        [
         "Sabrina Rezende",
         "409.751.283-88",
         "sabrina@exemplo.net",
         "(11) 9460-8606"
        ],
        [
         "Raul Vieira",
         "743.568.209-83",
         "raul@exemplo.net",
         "(55) 8463-7162"
        ],
        [
         "Pedro Lucas Ramos",
         "698.301.527-40",
         "pedro@exemplo.net",
         "(55) 1130-1612"
        ],
        [
         "Sophie Farias",
         "568.307.492-47",
         "sophie@exemplo.net",
         "(05) 0002-8337"
        ],
        [
         "Heloísa Nunes",
         "259.046.718-49",
         "heloísa@exemplo.net",
         "(11) 3253-3359"
        ],
        [
         "Alícia Gomes",
         "061.435.879-57",
         "alícia@exemplo.net",
         "(81) 6522-8691"
        ],
        [
         "Juan Costela",
         "981.470.326-50",
         "juan@exemplo.net",
         "(55) 0310-8281"
        ],
        [
         "Clara Caldeira",
         "314.650.287-90",
         "clara@exemplo.net",
         "(55) 4112-1805"
        ],
        [
         "Daniela da Rosa",
         "205.138.947-05",
         "daniela@exemplo.net",
         "(11) 9800-0292"
        ],
        [
         "Kaique Melo",
         "645.290.318-70",
         "kaique@exemplo.net",
         "(55) 3170-2139"
        ],
        [
         "Elisa Moreira",
         "784.965.230-47",
         "elisa@exemplo.net",
         "(08) 4989-0789"
        ],
        [
         "Raquel Aragão",
         "613.794.850-10",
         "raquel@exemplo.net",
         "(31) 2322-5572"
        ],
        [
         "Breno Araújo",
         "375.641.028-53",
         "breno@exemplo.net",
         "(55) 5153-4202"
        ],
        [
         "Bruno Martins",
         "456.239.701-25",
         "bruno@exemplo.net",
         "(03) 0089-2678"
        ],
        [
         "Raul Moreira",
         "579.063.184-39",
         "raul@exemplo.net",
         "(61) 5655-9542"
        ],
        [
         "Alana da Mota",
         "658.270.149-58",
         "alana@exemplo.net",
         "(06) 1941-9762"
        ],
        [
         "Stella da Costa",
         "825.013.794-97",
         "stella@exemplo.net",
         "(01) 1609-3446"
        ],
        [
         "Beatriz Nascimento",
         "931.042.765-52",
         "beatriz@exemplo.net",
         "(55) 0317-0620"
        ],
        [
         "Pedro Miguel Cardoso",
         "783.150.962-30",
         "pedro@exemplo.net",
         "(05) 1297-2047"
        ],
        [
         "João Guilherme da Cunha",
         "105.246.798-94",
         "joão@exemplo.net",
         "(08) 1974-5487"
        ],
        [
         "Breno Nogueira",
         "167.420.385-35",
         "breno@exemplo.net",
         "(51) 9613-4613"
        ],
        [
         "Nina Araújo",
         "973.268.145-46",
         "nina@exemplo.net",
         "(55) 0419-2056"
        ],
        [
         "Esther Dias",
         "176.839.245-55",
         "esther@exemplo.net",
         "(03) 0007-2678"
        ],
        [
         "Igor Nogueira",
         "162.935.840-15",
         "igor@exemplo.net",
         "(55) 0814-1077"
        ],
        [
         "Eloah Almeida",
         "978.230.465-47",
         "eloah@exemplo.net",
         "(55) 1199-5495"
        ],
        [
         "Isis Gomes",
         "704.286.953-29",
         "isis@exemplo.net",
         "(08) 0017-1492"
        ],
        [
         "Luiz Felipe Aragão",
         "756.931.482-46",
         "luiz@exemplo.net",
         "(55) 7198-9946"
        ],
        [
         "Kevin Rocha",
         "798.601.423-78",
         "kevin@exemplo.net",
         "(55) 4101-8152"
        ],
        [
         "Kamilly Carvalho",
         "507.316.984-01",
         "kamilly@exemplo.net",
         "(51) 1934-3726"
        ],
        [
         "Luiz Gustavo Correia",
         "435.708.621-35",
         "luiz@exemplo.net",
         "(11) 2310-7969"
        ],
        [
         "Marcela Silva",
         "410.953.678-20",
         "marcela@exemplo.net",
         "(81) 4916-4422"
        ],
        [
         "Luiz Gustavo Porto",
         "024.531.879-88",
         "luiz@exemplo.net",
         "(55) 0616-2873"
        ],
        [
         "Kaique Cunha",
         "842.596.170-01",
         "kaique@exemplo.net",
         "(08) 1952-4448"
        ],
        [
         "Brenda Cardoso",
         "512.497.386-28",
         "brenda@exemplo.net",
         "(11) 1442-4878"
        ],
        [
         "Guilherme Almeida",
         "850.126.934-42",
         "guilherme@exemplo.net",
         "(01) 1379-1511"
        ],
        [
         "Daniela Mendes",
         "385.619.742-73",
         "daniela@exemplo.net",
         "(08) 0094-7374"
        ],
        [
         "Marcos Vinicius Silveira",
         "714.052.863-26",
         "marcos@exemplo.net",
         "(55) 5134-9534"
        ],
        [
         "Alice Lima",
         "591.423.678-91",
         "alice@exemplo.net",
         "(81) 5923-4846"
        ],
        [
         "Emanuelly Souza",
         "270.163.859-30",
         "emanuelly@exemplo.net",
         "(51) 4619-4375"
        ],
        [
         "Amanda Souza",
         "049.382.167-87",
         "amanda@exemplo.net",
         "(55) 0712-5219"
        ],
        [
         "Kamilly Viana",
         "805.379.126-30",
         "kamilly@exemplo.net",
         "(31) 3710-4536"
        ],
        [
         "João Pedro Pires",
         "126.935.487-64",
         "joão@exemplo.net",
         "(05) 0087-2089"
        ],
        [
         "Emilly da Mata",
         "938.540.176-93",
         "emilly@exemplo.net",
         "(04) 1892-1935"
        ],
        [
         "Gustavo Henrique Gonçalves",
         "365.480.971-57",
         "gustavo@exemplo.net",
         "(04) 1980-8652"
        ],
        [
         "Murilo Costela",
         "362.147.598-28",
         "murilo@exemplo.net",
         "(02) 1671-8180"
        ],
        [
         "Lucas da Costa",
         "253.148.079-04",
         "lucas@exemplo.net",
         "(55) 0842-7577"
        ],
        [
         "Letícia Lopes",
         "538.049.721-79",
         "letícia@exemplo.net",
         "(55) 0119-9980"
        ],
        [
         "Helena Silveira",
         "670.581.324-53",
         "helena@exemplo.net",
         "(81) 8935-8605"
        ],
        [
         "Gabriela da Paz",
         "207.348.951-60",
         "gabriela@exemplo.net",
         "(55) 0841-2963"
        ],
        [
         "Francisco Silva",
         "389.105.276-68",
         "francisco@exemplo.net",
         "(61) 8190-7941"
        ],
        [
         "Luiz Henrique Aragão",
         "629.310.857-40",
         "luiz@exemplo.net",
         "(61) 2933-3697"
        ],
        [
         "Caroline Moraes",
         "827.195.340-05",
         "caroline@exemplo.net",
         "(55) 2163-6986"
        ],
        [
         "Benjamin Silva",
         "186.293.457-64",
         "benjamin@exemplo.net",
         "(08) 4038-7780"
        ],
        [
         "João Vitor da Paz",
         "948.632.051-98",
         "joão@exemplo.net",
         "(05) 0010-4129"
        ],
        [
         "Guilherme Pinto",
         "431.962.587-00",
         "guilherme@exemplo.net",
         "(41) 6014-0415"
        ],
        [
         "Paulo Martins",
         "925.401.863-51",
         "paulo@exemplo.net",
         "(55) 0817-7328"
        ],
        [
         "Ana Carolina Ramos",
         "631.498.507-20",
         "ana@exemplo.net",
         "(05) 0088-3895"
        ],
        [
         "Agatha Nogueira",
         "806.129.453-24",
         "agatha@exemplo.net",
         "(03) 1355-2634"
        ],
        [
         "André Novaes",
         "420.189.763-03",
         "andré@exemplo.net",
         "(55) 5170-9271"
        ]
       ],
       "datasetInfos": [],
       "dbfsResultPath": null,
       "isJsonSchema": true,
       "metadata": {},
       "overflow": false,
       "plotOptions": {
        "customPlotOptions": {},
        "displayType": "table",
        "pivotAggregation": null,
        "pivotColumns": null,
        "xColumns": null,
        "yColumns": null
       },
       "removedWidgets": [],
       "schema": [
        {
         "metadata": "{}",
         "name": "Nome",
         "type": "\"string\""
        },
        {
         "metadata": "{}",
         "name": "CPF",
         "type": "\"string\""
        },
        {
         "metadata": "{}",
         "name": "Email",
         "type": "\"string\""
        },
        {
         "metadata": "{}",
         "name": "Telefone",
         "type": "\"string\""
        }
       ],
       "type": "table"
      }
     },
     "output_type": "display_data"
    }
   ],
   "source": [
    "display(stg_clientes)"
   ]
  },
  {
   "cell_type": "code",
   "execution_count": 0,
   "metadata": {
    "application/vnd.databricks.v1+cell": {
     "cellMetadata": {
      "byteLimit": 2048000,
      "rowLimit": 10000
     },
     "inputWidgets": {},
     "nuid": "144c8f34-bccb-4cc0-b9d6-866915fb688b",
     "showTitle": true,
     "title": "Histórico de alterações"
    }
   },
   "outputs": [
    {
     "output_type": "display_data",
     "data": {
      "text/html": [
       "<style scoped>\n",
       "  .table-result-container {\n",
       "    max-height: 300px;\n",
       "    overflow: auto;\n",
       "  }\n",
       "  table, th, td {\n",
       "    border: 1px solid black;\n",
       "    border-collapse: collapse;\n",
       "  }\n",
       "  th, td {\n",
       "    padding: 5px;\n",
       "  }\n",
       "  th {\n",
       "    text-align: left;\n",
       "  }\n",
       "</style><div class='table-result-container'><table class='table-result'><thead style='background-color: white'><tr><th>version</th><th>timestamp</th><th>userId</th><th>userName</th><th>operation</th><th>operationParameters</th><th>job</th><th>notebook</th><th>clusterId</th><th>readVersion</th><th>isolationLevel</th><th>isBlindAppend</th><th>operationMetrics</th><th>userMetadata</th><th>engineInfo</th></tr></thead><tbody><tr><td>12</td><td>2024-08-17T18:30:46.000+0000</td><td>8647403558458507</td><td>regimaria015@gmail.com</td><td>WRITE</td><td>Map(mode -> Overwrite, partitionBy -> [])</td><td>null</td><td>List(1704919530911047)</td><td>0817-131508-gfn0l2g0</td><td>11</td><td>WriteSerializable</td><td>false</td><td>Map(numFiles -> 1, numOutputRows -> 836, numOutputBytes -> 30122)</td><td>null</td><td>Databricks-Runtime/12.2.x-scala2.12</td></tr><tr><td>11</td><td>2024-08-17T17:05:21.000+0000</td><td>8647403558458507</td><td>regimaria015@gmail.com</td><td>WRITE</td><td>Map(mode -> Overwrite, partitionBy -> [])</td><td>null</td><td>List(1704919530911047)</td><td>0817-131508-gfn0l2g0</td><td>10</td><td>WriteSerializable</td><td>false</td><td>Map(numFiles -> 1, numOutputRows -> 1000, numOutputBytes -> 42933)</td><td>null</td><td>Databricks-Runtime/12.2.x-scala2.12</td></tr><tr><td>10</td><td>2024-08-17T17:04:32.000+0000</td><td>8647403558458507</td><td>regimaria015@gmail.com</td><td>WRITE</td><td>Map(mode -> Overwrite, partitionBy -> [])</td><td>null</td><td>List(1704919530911047)</td><td>0817-131508-gfn0l2g0</td><td>9</td><td>WriteSerializable</td><td>false</td><td>Map(numFiles -> 1, numOutputRows -> 1000, numOutputBytes -> 43399)</td><td>null</td><td>Databricks-Runtime/12.2.x-scala2.12</td></tr><tr><td>9</td><td>2024-08-17T17:03:27.000+0000</td><td>8647403558458507</td><td>regimaria015@gmail.com</td><td>WRITE</td><td>Map(mode -> Overwrite, partitionBy -> [])</td><td>null</td><td>List(1704919530911047)</td><td>0817-131508-gfn0l2g0</td><td>8</td><td>WriteSerializable</td><td>false</td><td>Map(numFiles -> 1, numOutputRows -> 1000, numOutputBytes -> 43427)</td><td>null</td><td>Databricks-Runtime/12.2.x-scala2.12</td></tr><tr><td>8</td><td>2024-08-17T17:02:23.000+0000</td><td>8647403558458507</td><td>regimaria015@gmail.com</td><td>WRITE</td><td>Map(mode -> Overwrite, partitionBy -> [])</td><td>null</td><td>List(1704919530911047)</td><td>0817-131508-gfn0l2g0</td><td>7</td><td>WriteSerializable</td><td>false</td><td>Map(numFiles -> 1, numOutputRows -> 1000, numOutputBytes -> 43312)</td><td>null</td><td>Databricks-Runtime/12.2.x-scala2.12</td></tr><tr><td>7</td><td>2024-08-17T17:01:04.000+0000</td><td>8647403558458507</td><td>regimaria015@gmail.com</td><td>WRITE</td><td>Map(mode -> Overwrite, partitionBy -> [])</td><td>null</td><td>List(1704919530911047)</td><td>0817-131508-gfn0l2g0</td><td>6</td><td>WriteSerializable</td><td>false</td><td>Map(numFiles -> 1, numOutputRows -> 1000, numOutputBytes -> 42759)</td><td>null</td><td>Databricks-Runtime/12.2.x-scala2.12</td></tr><tr><td>6</td><td>2024-08-17T16:51:58.000+0000</td><td>8647403558458507</td><td>regimaria015@gmail.com</td><td>WRITE</td><td>Map(mode -> Overwrite, partitionBy -> [])</td><td>null</td><td>List(1704919530911047)</td><td>0817-131508-gfn0l2g0</td><td>5</td><td>WriteSerializable</td><td>false</td><td>Map(numFiles -> 1, numOutputRows -> 1000, numOutputBytes -> 42759)</td><td>null</td><td>Databricks-Runtime/12.2.x-scala2.12</td></tr><tr><td>5</td><td>2024-08-17T16:51:27.000+0000</td><td>8647403558458507</td><td>regimaria015@gmail.com</td><td>WRITE</td><td>Map(mode -> Overwrite, partitionBy -> [])</td><td>null</td><td>List(1704919530911047)</td><td>0817-131508-gfn0l2g0</td><td>4</td><td>WriteSerializable</td><td>false</td><td>Map(numFiles -> 1, numOutputRows -> 1000, numOutputBytes -> 44367)</td><td>null</td><td>Databricks-Runtime/12.2.x-scala2.12</td></tr><tr><td>4</td><td>2024-08-17T15:22:36.000+0000</td><td>8647403558458507</td><td>regimaria015@gmail.com</td><td>WRITE</td><td>Map(mode -> Overwrite, partitionBy -> [])</td><td>null</td><td>List(1704919530911047)</td><td>0817-131508-gfn0l2g0</td><td>3</td><td>WriteSerializable</td><td>false</td><td>Map(numFiles -> 1, numOutputRows -> 1000, numOutputBytes -> 44367)</td><td>null</td><td>Databricks-Runtime/12.2.x-scala2.12</td></tr><tr><td>3</td><td>2024-08-17T15:20:37.000+0000</td><td>8647403558458507</td><td>regimaria015@gmail.com</td><td>WRITE</td><td>Map(mode -> Overwrite, partitionBy -> [])</td><td>null</td><td>List(1704919530911047)</td><td>0817-131508-gfn0l2g0</td><td>2</td><td>WriteSerializable</td><td>false</td><td>Map(numFiles -> 1, numOutputRows -> 1000, numOutputBytes -> 44363)</td><td>null</td><td>Databricks-Runtime/12.2.x-scala2.12</td></tr><tr><td>2</td><td>2024-08-17T15:17:51.000+0000</td><td>8647403558458507</td><td>regimaria015@gmail.com</td><td>WRITE</td><td>Map(mode -> Overwrite, partitionBy -> [])</td><td>null</td><td>List(1704919530911047)</td><td>0817-131508-gfn0l2g0</td><td>1</td><td>WriteSerializable</td><td>false</td><td>Map(numFiles -> 1, numOutputRows -> 1000, numOutputBytes -> 44363)</td><td>null</td><td>Databricks-Runtime/12.2.x-scala2.12</td></tr><tr><td>1</td><td>2024-08-17T15:17:02.000+0000</td><td>8647403558458507</td><td>regimaria015@gmail.com</td><td>WRITE</td><td>Map(mode -> Overwrite, partitionBy -> [])</td><td>null</td><td>List(1704919530911047)</td><td>0817-131508-gfn0l2g0</td><td>0</td><td>WriteSerializable</td><td>false</td><td>Map(numFiles -> 1, numOutputRows -> 1000, numOutputBytes -> 44363)</td><td>null</td><td>Databricks-Runtime/12.2.x-scala2.12</td></tr><tr><td>0</td><td>2024-08-17T13:22:14.000+0000</td><td>8647403558458507</td><td>regimaria015@gmail.com</td><td>WRITE</td><td>Map(mode -> Overwrite, partitionBy -> [])</td><td>null</td><td>List(1704919530911047)</td><td>0817-131508-gfn0l2g0</td><td>null</td><td>WriteSerializable</td><td>false</td><td>Map(numFiles -> 1, numOutputRows -> 1000, numOutputBytes -> 44363)</td><td>null</td><td>Databricks-Runtime/12.2.x-scala2.12</td></tr></tbody></table></div>"
      ]
     },
     "metadata": {
      "application/vnd.databricks.v1+output": {
       "addedWidgets": {},
       "aggData": [],
       "aggError": "",
       "aggOverflow": false,
       "aggSchema": [],
       "aggSeriesLimitReached": false,
       "aggType": "",
       "arguments": {},
       "columnCustomDisplayInfos": {},
       "data": [
        [
         12,
         "2024-08-17T18:30:46.000+0000",
         "8647403558458507",
         "regimaria015@gmail.com",
         "WRITE",
         {
          "mode": "Overwrite",
          "partitionBy": "[]"
         },
         null,
         [
          "1704919530911047"
         ],
         "0817-131508-gfn0l2g0",
         11,
         "WriteSerializable",
         false,
         {
          "numFiles": "1",
          "numOutputBytes": "30122",
          "numOutputRows": "836"
         },
         null,
         "Databricks-Runtime/12.2.x-scala2.12"
        ],
        [
         11,
         "2024-08-17T17:05:21.000+0000",
         "8647403558458507",
         "regimaria015@gmail.com",
         "WRITE",
         {
          "mode": "Overwrite",
          "partitionBy": "[]"
         },
         null,
         [
          "1704919530911047"
         ],
         "0817-131508-gfn0l2g0",
         10,
         "WriteSerializable",
         false,
         {
          "numFiles": "1",
          "numOutputBytes": "42933",
          "numOutputRows": "1000"
         },
         null,
         "Databricks-Runtime/12.2.x-scala2.12"
        ],
        [
         10,
         "2024-08-17T17:04:32.000+0000",
         "8647403558458507",
         "regimaria015@gmail.com",
         "WRITE",
         {
          "mode": "Overwrite",
          "partitionBy": "[]"
         },
         null,
         [
          "1704919530911047"
         ],
         "0817-131508-gfn0l2g0",
         9,
         "WriteSerializable",
         false,
         {
          "numFiles": "1",
          "numOutputBytes": "43399",
          "numOutputRows": "1000"
         },
         null,
         "Databricks-Runtime/12.2.x-scala2.12"
        ],
        [
         9,
         "2024-08-17T17:03:27.000+0000",
         "8647403558458507",
         "regimaria015@gmail.com",
         "WRITE",
         {
          "mode": "Overwrite",
          "partitionBy": "[]"
         },
         null,
         [
          "1704919530911047"
         ],
         "0817-131508-gfn0l2g0",
         8,
         "WriteSerializable",
         false,
         {
          "numFiles": "1",
          "numOutputBytes": "43427",
          "numOutputRows": "1000"
         },
         null,
         "Databricks-Runtime/12.2.x-scala2.12"
        ],
        [
         8,
         "2024-08-17T17:02:23.000+0000",
         "8647403558458507",
         "regimaria015@gmail.com",
         "WRITE",
         {
          "mode": "Overwrite",
          "partitionBy": "[]"
         },
         null,
         [
          "1704919530911047"
         ],
         "0817-131508-gfn0l2g0",
         7,
         "WriteSerializable",
         false,
         {
          "numFiles": "1",
          "numOutputBytes": "43312",
          "numOutputRows": "1000"
         },
         null,
         "Databricks-Runtime/12.2.x-scala2.12"
        ],
        [
         7,
         "2024-08-17T17:01:04.000+0000",
         "8647403558458507",
         "regimaria015@gmail.com",
         "WRITE",
         {
          "mode": "Overwrite",
          "partitionBy": "[]"
         },
         null,
         [
          "1704919530911047"
         ],
         "0817-131508-gfn0l2g0",
         6,
         "WriteSerializable",
         false,
         {
          "numFiles": "1",
          "numOutputBytes": "42759",
          "numOutputRows": "1000"
         },
         null,
         "Databricks-Runtime/12.2.x-scala2.12"
        ],
        [
         6,
         "2024-08-17T16:51:58.000+0000",
         "8647403558458507",
         "regimaria015@gmail.com",
         "WRITE",
         {
          "mode": "Overwrite",
          "partitionBy": "[]"
         },
         null,
         [
          "1704919530911047"
         ],
         "0817-131508-gfn0l2g0",
         5,
         "WriteSerializable",
         false,
         {
          "numFiles": "1",
          "numOutputBytes": "42759",
          "numOutputRows": "1000"
         },
         null,
         "Databricks-Runtime/12.2.x-scala2.12"
        ],
        [
         5,
         "2024-08-17T16:51:27.000+0000",
         "8647403558458507",
         "regimaria015@gmail.com",
         "WRITE",
         {
          "mode": "Overwrite",
          "partitionBy": "[]"
         },
         null,
         [
          "1704919530911047"
         ],
         "0817-131508-gfn0l2g0",
         4,
         "WriteSerializable",
         false,
         {
          "numFiles": "1",
          "numOutputBytes": "44367",
          "numOutputRows": "1000"
         },
         null,
         "Databricks-Runtime/12.2.x-scala2.12"
        ],
        [
         4,
         "2024-08-17T15:22:36.000+0000",
         "8647403558458507",
         "regimaria015@gmail.com",
         "WRITE",
         {
          "mode": "Overwrite",
          "partitionBy": "[]"
         },
         null,
         [
          "1704919530911047"
         ],
         "0817-131508-gfn0l2g0",
         3,
         "WriteSerializable",
         false,
         {
          "numFiles": "1",
          "numOutputBytes": "44367",
          "numOutputRows": "1000"
         },
         null,
         "Databricks-Runtime/12.2.x-scala2.12"
        ],
        [
         3,
         "2024-08-17T15:20:37.000+0000",
         "8647403558458507",
         "regimaria015@gmail.com",
         "WRITE",
         {
          "mode": "Overwrite",
          "partitionBy": "[]"
         },
         null,
         [
          "1704919530911047"
         ],
         "0817-131508-gfn0l2g0",
         2,
         "WriteSerializable",
         false,
         {
          "numFiles": "1",
          "numOutputBytes": "44363",
          "numOutputRows": "1000"
         },
         null,
         "Databricks-Runtime/12.2.x-scala2.12"
        ],
        [
         2,
         "2024-08-17T15:17:51.000+0000",
         "8647403558458507",
         "regimaria015@gmail.com",
         "WRITE",
         {
          "mode": "Overwrite",
          "partitionBy": "[]"
         },
         null,
         [
          "1704919530911047"
         ],
         "0817-131508-gfn0l2g0",
         1,
         "WriteSerializable",
         false,
         {
          "numFiles": "1",
          "numOutputBytes": "44363",
          "numOutputRows": "1000"
         },
         null,
         "Databricks-Runtime/12.2.x-scala2.12"
        ],
        [
         1,
         "2024-08-17T15:17:02.000+0000",
         "8647403558458507",
         "regimaria015@gmail.com",
         "WRITE",
         {
          "mode": "Overwrite",
          "partitionBy": "[]"
         },
         null,
         [
          "1704919530911047"
         ],
         "0817-131508-gfn0l2g0",
         0,
         "WriteSerializable",
         false,
         {
          "numFiles": "1",
          "numOutputBytes": "44363",
          "numOutputRows": "1000"
         },
         null,
         "Databricks-Runtime/12.2.x-scala2.12"
        ],
        [
         0,
         "2024-08-17T13:22:14.000+0000",
         "8647403558458507",
         "regimaria015@gmail.com",
         "WRITE",
         {
          "mode": "Overwrite",
          "partitionBy": "[]"
         },
         null,
         [
          "1704919530911047"
         ],
         "0817-131508-gfn0l2g0",
         null,
         "WriteSerializable",
         false,
         {
          "numFiles": "1",
          "numOutputBytes": "44363",
          "numOutputRows": "1000"
         },
         null,
         "Databricks-Runtime/12.2.x-scala2.12"
        ]
       ],
       "datasetInfos": [],
       "dbfsResultPath": null,
       "isJsonSchema": true,
       "metadata": {},
       "overflow": false,
       "plotOptions": {
        "customPlotOptions": {},
        "displayType": "table",
        "pivotAggregation": null,
        "pivotColumns": null,
        "xColumns": null,
        "yColumns": null
       },
       "removedWidgets": [],
       "schema": [
        {
         "metadata": "{}",
         "name": "version",
         "type": "\"long\""
        },
        {
         "metadata": "{}",
         "name": "timestamp",
         "type": "\"timestamp\""
        },
        {
         "metadata": "{}",
         "name": "userId",
         "type": "\"string\""
        },
        {
         "metadata": "{}",
         "name": "userName",
         "type": "\"string\""
        },
        {
         "metadata": "{}",
         "name": "operation",
         "type": "\"string\""
        },
        {
         "metadata": "{}",
         "name": "operationParameters",
         "type": "{\"type\":\"map\",\"keyType\":\"string\",\"valueType\":\"string\",\"valueContainsNull\":true}"
        },
        {
         "metadata": "{}",
         "name": "job",
         "type": "{\"type\":\"struct\",\"fields\":[{\"name\":\"jobId\",\"type\":\"string\",\"nullable\":true,\"metadata\":{}},{\"name\":\"jobName\",\"type\":\"string\",\"nullable\":true,\"metadata\":{}},{\"name\":\"jobRunId\",\"type\":\"string\",\"nullable\":true,\"metadata\":{}},{\"name\":\"runId\",\"type\":\"string\",\"nullable\":true,\"metadata\":{}},{\"name\":\"jobOwnerId\",\"type\":\"string\",\"nullable\":true,\"metadata\":{}},{\"name\":\"triggerType\",\"type\":\"string\",\"nullable\":true,\"metadata\":{}}]}"
        },
        {
         "metadata": "{}",
         "name": "notebook",
         "type": "{\"type\":\"struct\",\"fields\":[{\"name\":\"notebookId\",\"type\":\"string\",\"nullable\":true,\"metadata\":{}}]}"
        },
        {
         "metadata": "{}",
         "name": "clusterId",
         "type": "\"string\""
        },
        {
         "metadata": "{}",
         "name": "readVersion",
         "type": "\"long\""
        },
        {
         "metadata": "{}",
         "name": "isolationLevel",
         "type": "\"string\""
        },
        {
         "metadata": "{}",
         "name": "isBlindAppend",
         "type": "\"boolean\""
        },
        {
         "metadata": "{}",
         "name": "operationMetrics",
         "type": "{\"type\":\"map\",\"keyType\":\"string\",\"valueType\":\"string\",\"valueContainsNull\":true}"
        },
        {
         "metadata": "{}",
         "name": "userMetadata",
         "type": "\"string\""
        },
        {
         "metadata": "{}",
         "name": "engineInfo",
         "type": "\"string\""
        }
       ],
       "type": "table"
      }
     },
     "output_type": "display_data"
    }
   ],
   "source": [
    "from delta.tables import DeltaTable\n",
    "delta_table = DeltaTable.forPath(spark, \"dbfs:/FileStore/seminovos/database/mnt/delta/stg_clientes\")\n",
    "historico_df = delta_table.history()\n",
    "\n",
    "display(historico_df)"
   ]
  },
  {
   "cell_type": "code",
   "execution_count": 0,
   "metadata": {
    "application/vnd.databricks.v1+cell": {
     "cellMetadata": {
      "byteLimit": 2048000,
      "rowLimit": 10000
     },
     "inputWidgets": {},
     "nuid": "9c2d22dd-9c23-4df9-bb17-0a6066e6b2e4",
     "showTitle": true,
     "title": "Número de versões"
    }
   },
   "outputs": [
    {
     "output_type": "stream",
     "name": "stdout",
     "output_type": "stream",
     "text": [
      "Total de versões disponíveis: 12\n"
     ]
    }
   ],
   "source": [
    "num_versoes = historico_df.count()\n",
    "print(f\"Total de versões disponíveis: {num_versoes}\")"
   ]
  },
  {
   "cell_type": "code",
   "execution_count": 0,
   "metadata": {
    "application/vnd.databricks.v1+cell": {
     "cellMetadata": {
      "byteLimit": 2048000,
      "rowLimit": 10000
     },
     "inputWidgets": {},
     "nuid": "3b0b8c76-93e3-4acf-beba-5add4e3238bd",
     "showTitle": true,
     "title": "Schema"
    }
   },
   "outputs": [
    {
     "output_type": "stream",
     "name": "stdout",
     "output_type": "stream",
     "text": [
      "root\n |-- Nome: string (nullable = true)\n |-- CPF: string (nullable = true)\n |-- Email: string (nullable = true)\n |-- Telefone: string (nullable = true)\n\n"
     ]
    }
   ],
   "source": [
    "schema_df = delta_table.toDF().printSchema()\n"
   ]
  },
  {
   "cell_type": "code",
   "execution_count": 0,
   "metadata": {
    "application/vnd.databricks.v1+cell": {
     "cellMetadata": {
      "byteLimit": 2048000,
      "rowLimit": 10000
     },
     "inputWidgets": {},
     "nuid": "2e0dbc30-dcd6-40b7-944d-1b16168978cc",
     "showTitle": true,
     "title": "Informações estatística"
    }
   },
   "outputs": [
    {
     "output_type": "stream",
     "name": "stdout",
     "output_type": "stream",
     "text": [
      "+-------+---------------+--------------+--------------------+--------------+\n|summary|           Nome|           CPF|               Email|      Telefone|\n+-------+---------------+--------------+--------------------+--------------+\n|  count|           1000|          1000|                1000|          1000|\n|   mean|           null|          null|                null|          null|\n| stddev|           null|          null|                null|          null|\n|    min|Agatha Ferreira|012.365.897-77|aalmeida@example.net|(01) 1067-9593|\n|    max|    Yuri Vieira|984.562.017-58|  zramos@example.net|(84) 9771-5271|\n+-------+---------------+--------------+--------------------+--------------+\n\n"
     ]
    }
   ],
   "source": [
    "table_info = delta_table.toDF().describe()\n",
    "table_info.show()\n"
   ]
  },
  {
   "cell_type": "markdown",
   "metadata": {
    "application/vnd.databricks.v1+cell": {
     "cellMetadata": {},
     "inputWidgets": {},
     "nuid": "5ae51107-f7a3-4e2d-92f3-29e0b27fa4bb",
     "showTitle": false,
     "title": ""
    }
   },
   "source": [
    "Selecionar uma Versão com Base no Timestamp"
   ]
  },
  {
   "cell_type": "code",
   "execution_count": 0,
   "metadata": {
    "application/vnd.databricks.v1+cell": {
     "cellMetadata": {
      "byteLimit": 2048000,
      "rowLimit": 10000
     },
     "inputWidgets": {},
     "nuid": "f989bfe4-8ca7-44ae-9e9d-43650b5d3a07",
     "showTitle": true,
     "title": "Obter o histórico da tabela"
    }
   },
   "outputs": [
    {
     "output_type": "display_data",
     "data": {
      "text/html": [
       "<style scoped>\n",
       "  .table-result-container {\n",
       "    max-height: 300px;\n",
       "    overflow: auto;\n",
       "  }\n",
       "  table, th, td {\n",
       "    border: 1px solid black;\n",
       "    border-collapse: collapse;\n",
       "  }\n",
       "  th, td {\n",
       "    padding: 5px;\n",
       "  }\n",
       "  th {\n",
       "    text-align: left;\n",
       "  }\n",
       "</style><div class='table-result-container'><table class='table-result'><thead style='background-color: white'><tr><th>version</th><th>timestamp</th><th>userId</th><th>userName</th><th>operation</th><th>operationParameters</th><th>job</th><th>notebook</th><th>clusterId</th><th>readVersion</th><th>isolationLevel</th><th>isBlindAppend</th><th>operationMetrics</th><th>userMetadata</th><th>engineInfo</th></tr></thead><tbody><tr><td>12</td><td>2024-08-17T18:30:46.000+0000</td><td>8647403558458507</td><td>regimaria015@gmail.com</td><td>WRITE</td><td>Map(mode -> Overwrite, partitionBy -> [])</td><td>null</td><td>List(1704919530911047)</td><td>0817-131508-gfn0l2g0</td><td>11</td><td>WriteSerializable</td><td>false</td><td>Map(numFiles -> 1, numOutputRows -> 836, numOutputBytes -> 30122)</td><td>null</td><td>Databricks-Runtime/12.2.x-scala2.12</td></tr><tr><td>11</td><td>2024-08-17T17:05:21.000+0000</td><td>8647403558458507</td><td>regimaria015@gmail.com</td><td>WRITE</td><td>Map(mode -> Overwrite, partitionBy -> [])</td><td>null</td><td>List(1704919530911047)</td><td>0817-131508-gfn0l2g0</td><td>10</td><td>WriteSerializable</td><td>false</td><td>Map(numFiles -> 1, numOutputRows -> 1000, numOutputBytes -> 42933)</td><td>null</td><td>Databricks-Runtime/12.2.x-scala2.12</td></tr><tr><td>10</td><td>2024-08-17T17:04:32.000+0000</td><td>8647403558458507</td><td>regimaria015@gmail.com</td><td>WRITE</td><td>Map(mode -> Overwrite, partitionBy -> [])</td><td>null</td><td>List(1704919530911047)</td><td>0817-131508-gfn0l2g0</td><td>9</td><td>WriteSerializable</td><td>false</td><td>Map(numFiles -> 1, numOutputRows -> 1000, numOutputBytes -> 43399)</td><td>null</td><td>Databricks-Runtime/12.2.x-scala2.12</td></tr><tr><td>9</td><td>2024-08-17T17:03:27.000+0000</td><td>8647403558458507</td><td>regimaria015@gmail.com</td><td>WRITE</td><td>Map(mode -> Overwrite, partitionBy -> [])</td><td>null</td><td>List(1704919530911047)</td><td>0817-131508-gfn0l2g0</td><td>8</td><td>WriteSerializable</td><td>false</td><td>Map(numFiles -> 1, numOutputRows -> 1000, numOutputBytes -> 43427)</td><td>null</td><td>Databricks-Runtime/12.2.x-scala2.12</td></tr><tr><td>8</td><td>2024-08-17T17:02:23.000+0000</td><td>8647403558458507</td><td>regimaria015@gmail.com</td><td>WRITE</td><td>Map(mode -> Overwrite, partitionBy -> [])</td><td>null</td><td>List(1704919530911047)</td><td>0817-131508-gfn0l2g0</td><td>7</td><td>WriteSerializable</td><td>false</td><td>Map(numFiles -> 1, numOutputRows -> 1000, numOutputBytes -> 43312)</td><td>null</td><td>Databricks-Runtime/12.2.x-scala2.12</td></tr><tr><td>7</td><td>2024-08-17T17:01:04.000+0000</td><td>8647403558458507</td><td>regimaria015@gmail.com</td><td>WRITE</td><td>Map(mode -> Overwrite, partitionBy -> [])</td><td>null</td><td>List(1704919530911047)</td><td>0817-131508-gfn0l2g0</td><td>6</td><td>WriteSerializable</td><td>false</td><td>Map(numFiles -> 1, numOutputRows -> 1000, numOutputBytes -> 42759)</td><td>null</td><td>Databricks-Runtime/12.2.x-scala2.12</td></tr><tr><td>6</td><td>2024-08-17T16:51:58.000+0000</td><td>8647403558458507</td><td>regimaria015@gmail.com</td><td>WRITE</td><td>Map(mode -> Overwrite, partitionBy -> [])</td><td>null</td><td>List(1704919530911047)</td><td>0817-131508-gfn0l2g0</td><td>5</td><td>WriteSerializable</td><td>false</td><td>Map(numFiles -> 1, numOutputRows -> 1000, numOutputBytes -> 42759)</td><td>null</td><td>Databricks-Runtime/12.2.x-scala2.12</td></tr><tr><td>5</td><td>2024-08-17T16:51:27.000+0000</td><td>8647403558458507</td><td>regimaria015@gmail.com</td><td>WRITE</td><td>Map(mode -> Overwrite, partitionBy -> [])</td><td>null</td><td>List(1704919530911047)</td><td>0817-131508-gfn0l2g0</td><td>4</td><td>WriteSerializable</td><td>false</td><td>Map(numFiles -> 1, numOutputRows -> 1000, numOutputBytes -> 44367)</td><td>null</td><td>Databricks-Runtime/12.2.x-scala2.12</td></tr><tr><td>4</td><td>2024-08-17T15:22:36.000+0000</td><td>8647403558458507</td><td>regimaria015@gmail.com</td><td>WRITE</td><td>Map(mode -> Overwrite, partitionBy -> [])</td><td>null</td><td>List(1704919530911047)</td><td>0817-131508-gfn0l2g0</td><td>3</td><td>WriteSerializable</td><td>false</td><td>Map(numFiles -> 1, numOutputRows -> 1000, numOutputBytes -> 44367)</td><td>null</td><td>Databricks-Runtime/12.2.x-scala2.12</td></tr><tr><td>3</td><td>2024-08-17T15:20:37.000+0000</td><td>8647403558458507</td><td>regimaria015@gmail.com</td><td>WRITE</td><td>Map(mode -> Overwrite, partitionBy -> [])</td><td>null</td><td>List(1704919530911047)</td><td>0817-131508-gfn0l2g0</td><td>2</td><td>WriteSerializable</td><td>false</td><td>Map(numFiles -> 1, numOutputRows -> 1000, numOutputBytes -> 44363)</td><td>null</td><td>Databricks-Runtime/12.2.x-scala2.12</td></tr><tr><td>2</td><td>2024-08-17T15:17:51.000+0000</td><td>8647403558458507</td><td>regimaria015@gmail.com</td><td>WRITE</td><td>Map(mode -> Overwrite, partitionBy -> [])</td><td>null</td><td>List(1704919530911047)</td><td>0817-131508-gfn0l2g0</td><td>1</td><td>WriteSerializable</td><td>false</td><td>Map(numFiles -> 1, numOutputRows -> 1000, numOutputBytes -> 44363)</td><td>null</td><td>Databricks-Runtime/12.2.x-scala2.12</td></tr><tr><td>1</td><td>2024-08-17T15:17:02.000+0000</td><td>8647403558458507</td><td>regimaria015@gmail.com</td><td>WRITE</td><td>Map(mode -> Overwrite, partitionBy -> [])</td><td>null</td><td>List(1704919530911047)</td><td>0817-131508-gfn0l2g0</td><td>0</td><td>WriteSerializable</td><td>false</td><td>Map(numFiles -> 1, numOutputRows -> 1000, numOutputBytes -> 44363)</td><td>null</td><td>Databricks-Runtime/12.2.x-scala2.12</td></tr><tr><td>0</td><td>2024-08-17T13:22:14.000+0000</td><td>8647403558458507</td><td>regimaria015@gmail.com</td><td>WRITE</td><td>Map(mode -> Overwrite, partitionBy -> [])</td><td>null</td><td>List(1704919530911047)</td><td>0817-131508-gfn0l2g0</td><td>null</td><td>WriteSerializable</td><td>false</td><td>Map(numFiles -> 1, numOutputRows -> 1000, numOutputBytes -> 44363)</td><td>null</td><td>Databricks-Runtime/12.2.x-scala2.12</td></tr></tbody></table></div>"
      ]
     },
     "metadata": {
      "application/vnd.databricks.v1+output": {
       "addedWidgets": {},
       "aggData": [],
       "aggError": "",
       "aggOverflow": false,
       "aggSchema": [],
       "aggSeriesLimitReached": false,
       "aggType": "",
       "arguments": {},
       "columnCustomDisplayInfos": {},
       "data": [
        [
         12,
         "2024-08-17T18:30:46.000+0000",
         "8647403558458507",
         "regimaria015@gmail.com",
         "WRITE",
         {
          "mode": "Overwrite",
          "partitionBy": "[]"
         },
         null,
         [
          "1704919530911047"
         ],
         "0817-131508-gfn0l2g0",
         11,
         "WriteSerializable",
         false,
         {
          "numFiles": "1",
          "numOutputBytes": "30122",
          "numOutputRows": "836"
         },
         null,
         "Databricks-Runtime/12.2.x-scala2.12"
        ],
        [
         11,
         "2024-08-17T17:05:21.000+0000",
         "8647403558458507",
         "regimaria015@gmail.com",
         "WRITE",
         {
          "mode": "Overwrite",
          "partitionBy": "[]"
         },
         null,
         [
          "1704919530911047"
         ],
         "0817-131508-gfn0l2g0",
         10,
         "WriteSerializable",
         false,
         {
          "numFiles": "1",
          "numOutputBytes": "42933",
          "numOutputRows": "1000"
         },
         null,
         "Databricks-Runtime/12.2.x-scala2.12"
        ],
        [
         10,
         "2024-08-17T17:04:32.000+0000",
         "8647403558458507",
         "regimaria015@gmail.com",
         "WRITE",
         {
          "mode": "Overwrite",
          "partitionBy": "[]"
         },
         null,
         [
          "1704919530911047"
         ],
         "0817-131508-gfn0l2g0",
         9,
         "WriteSerializable",
         false,
         {
          "numFiles": "1",
          "numOutputBytes": "43399",
          "numOutputRows": "1000"
         },
         null,
         "Databricks-Runtime/12.2.x-scala2.12"
        ],
        [
         9,
         "2024-08-17T17:03:27.000+0000",
         "8647403558458507",
         "regimaria015@gmail.com",
         "WRITE",
         {
          "mode": "Overwrite",
          "partitionBy": "[]"
         },
         null,
         [
          "1704919530911047"
         ],
         "0817-131508-gfn0l2g0",
         8,
         "WriteSerializable",
         false,
         {
          "numFiles": "1",
          "numOutputBytes": "43427",
          "numOutputRows": "1000"
         },
         null,
         "Databricks-Runtime/12.2.x-scala2.12"
        ],
        [
         8,
         "2024-08-17T17:02:23.000+0000",
         "8647403558458507",
         "regimaria015@gmail.com",
         "WRITE",
         {
          "mode": "Overwrite",
          "partitionBy": "[]"
         },
         null,
         [
          "1704919530911047"
         ],
         "0817-131508-gfn0l2g0",
         7,
         "WriteSerializable",
         false,
         {
          "numFiles": "1",
          "numOutputBytes": "43312",
          "numOutputRows": "1000"
         },
         null,
         "Databricks-Runtime/12.2.x-scala2.12"
        ],
        [
         7,
         "2024-08-17T17:01:04.000+0000",
         "8647403558458507",
         "regimaria015@gmail.com",
         "WRITE",
         {
          "mode": "Overwrite",
          "partitionBy": "[]"
         },
         null,
         [
          "1704919530911047"
         ],
         "0817-131508-gfn0l2g0",
         6,
         "WriteSerializable",
         false,
         {
          "numFiles": "1",
          "numOutputBytes": "42759",
          "numOutputRows": "1000"
         },
         null,
         "Databricks-Runtime/12.2.x-scala2.12"
        ],
        [
         6,
         "2024-08-17T16:51:58.000+0000",
         "8647403558458507",
         "regimaria015@gmail.com",
         "WRITE",
         {
          "mode": "Overwrite",
          "partitionBy": "[]"
         },
         null,
         [
          "1704919530911047"
         ],
         "0817-131508-gfn0l2g0",
         5,
         "WriteSerializable",
         false,
         {
          "numFiles": "1",
          "numOutputBytes": "42759",
          "numOutputRows": "1000"
         },
         null,
         "Databricks-Runtime/12.2.x-scala2.12"
        ],
        [
         5,
         "2024-08-17T16:51:27.000+0000",
         "8647403558458507",
         "regimaria015@gmail.com",
         "WRITE",
         {
          "mode": "Overwrite",
          "partitionBy": "[]"
         },
         null,
         [
          "1704919530911047"
         ],
         "0817-131508-gfn0l2g0",
         4,
         "WriteSerializable",
         false,
         {
          "numFiles": "1",
          "numOutputBytes": "44367",
          "numOutputRows": "1000"
         },
         null,
         "Databricks-Runtime/12.2.x-scala2.12"
        ],
        [
         4,
         "2024-08-17T15:22:36.000+0000",
         "8647403558458507",
         "regimaria015@gmail.com",
         "WRITE",
         {
          "mode": "Overwrite",
          "partitionBy": "[]"
         },
         null,
         [
          "1704919530911047"
         ],
         "0817-131508-gfn0l2g0",
         3,
         "WriteSerializable",
         false,
         {
          "numFiles": "1",
          "numOutputBytes": "44367",
          "numOutputRows": "1000"
         },
         null,
         "Databricks-Runtime/12.2.x-scala2.12"
        ],
        [
         3,
         "2024-08-17T15:20:37.000+0000",
         "8647403558458507",
         "regimaria015@gmail.com",
         "WRITE",
         {
          "mode": "Overwrite",
          "partitionBy": "[]"
         },
         null,
         [
          "1704919530911047"
         ],
         "0817-131508-gfn0l2g0",
         2,
         "WriteSerializable",
         false,
         {
          "numFiles": "1",
          "numOutputBytes": "44363",
          "numOutputRows": "1000"
         },
         null,
         "Databricks-Runtime/12.2.x-scala2.12"
        ],
        [
         2,
         "2024-08-17T15:17:51.000+0000",
         "8647403558458507",
         "regimaria015@gmail.com",
         "WRITE",
         {
          "mode": "Overwrite",
          "partitionBy": "[]"
         },
         null,
         [
          "1704919530911047"
         ],
         "0817-131508-gfn0l2g0",
         1,
         "WriteSerializable",
         false,
         {
          "numFiles": "1",
          "numOutputBytes": "44363",
          "numOutputRows": "1000"
         },
         null,
         "Databricks-Runtime/12.2.x-scala2.12"
        ],
        [
         1,
         "2024-08-17T15:17:02.000+0000",
         "8647403558458507",
         "regimaria015@gmail.com",
         "WRITE",
         {
          "mode": "Overwrite",
          "partitionBy": "[]"
         },
         null,
         [
          "1704919530911047"
         ],
         "0817-131508-gfn0l2g0",
         0,
         "WriteSerializable",
         false,
         {
          "numFiles": "1",
          "numOutputBytes": "44363",
          "numOutputRows": "1000"
         },
         null,
         "Databricks-Runtime/12.2.x-scala2.12"
        ],
        [
         0,
         "2024-08-17T13:22:14.000+0000",
         "8647403558458507",
         "regimaria015@gmail.com",
         "WRITE",
         {
          "mode": "Overwrite",
          "partitionBy": "[]"
         },
         null,
         [
          "1704919530911047"
         ],
         "0817-131508-gfn0l2g0",
         null,
         "WriteSerializable",
         false,
         {
          "numFiles": "1",
          "numOutputBytes": "44363",
          "numOutputRows": "1000"
         },
         null,
         "Databricks-Runtime/12.2.x-scala2.12"
        ]
       ],
       "datasetInfos": [],
       "dbfsResultPath": null,
       "isJsonSchema": true,
       "metadata": {},
       "overflow": false,
       "plotOptions": {
        "customPlotOptions": {},
        "displayType": "table",
        "pivotAggregation": null,
        "pivotColumns": null,
        "xColumns": null,
        "yColumns": null
       },
       "removedWidgets": [],
       "schema": [
        {
         "metadata": "{}",
         "name": "version",
         "type": "\"long\""
        },
        {
         "metadata": "{}",
         "name": "timestamp",
         "type": "\"timestamp\""
        },
        {
         "metadata": "{}",
         "name": "userId",
         "type": "\"string\""
        },
        {
         "metadata": "{}",
         "name": "userName",
         "type": "\"string\""
        },
        {
         "metadata": "{}",
         "name": "operation",
         "type": "\"string\""
        },
        {
         "metadata": "{}",
         "name": "operationParameters",
         "type": "{\"type\":\"map\",\"keyType\":\"string\",\"valueType\":\"string\",\"valueContainsNull\":true}"
        },
        {
         "metadata": "{}",
         "name": "job",
         "type": "{\"type\":\"struct\",\"fields\":[{\"name\":\"jobId\",\"type\":\"string\",\"nullable\":true,\"metadata\":{}},{\"name\":\"jobName\",\"type\":\"string\",\"nullable\":true,\"metadata\":{}},{\"name\":\"jobRunId\",\"type\":\"string\",\"nullable\":true,\"metadata\":{}},{\"name\":\"runId\",\"type\":\"string\",\"nullable\":true,\"metadata\":{}},{\"name\":\"jobOwnerId\",\"type\":\"string\",\"nullable\":true,\"metadata\":{}},{\"name\":\"triggerType\",\"type\":\"string\",\"nullable\":true,\"metadata\":{}}]}"
        },
        {
         "metadata": "{}",
         "name": "notebook",
         "type": "{\"type\":\"struct\",\"fields\":[{\"name\":\"notebookId\",\"type\":\"string\",\"nullable\":true,\"metadata\":{}}]}"
        },
        {
         "metadata": "{}",
         "name": "clusterId",
         "type": "\"string\""
        },
        {
         "metadata": "{}",
         "name": "readVersion",
         "type": "\"long\""
        },
        {
         "metadata": "{}",
         "name": "isolationLevel",
         "type": "\"string\""
        },
        {
         "metadata": "{}",
         "name": "isBlindAppend",
         "type": "\"boolean\""
        },
        {
         "metadata": "{}",
         "name": "operationMetrics",
         "type": "{\"type\":\"map\",\"keyType\":\"string\",\"valueType\":\"string\",\"valueContainsNull\":true}"
        },
        {
         "metadata": "{}",
         "name": "userMetadata",
         "type": "\"string\""
        },
        {
         "metadata": "{}",
         "name": "engineInfo",
         "type": "\"string\""
        }
       ],
       "type": "table"
      }
     },
     "output_type": "display_data"
    }
   ],
   "source": [
    "from delta.tables import DeltaTable\n",
    "delta_table_path = \"dbfs:/FileStore/seminovos/database/mnt/delta/stg_clientes\"\n",
    "\n",
    "stg_clientes = DeltaTable.forPath(spark, delta_table_path)\n",
    "historico_df = stg_clientes.history() \n",
    "display(historico_df)"
   ]
  },
  {
   "cell_type": "code",
   "execution_count": 0,
   "metadata": {
    "application/vnd.databricks.v1+cell": {
     "cellMetadata": {
      "byteLimit": 2048000,
      "rowLimit": 10000
     },
     "inputWidgets": {},
     "nuid": "c2e5c62b-4d2a-4abd-bafb-b0788d33e0ae",
     "showTitle": true,
     "title": "Encontre a Versão Baseada no Timestamp:"
    }
   },
   "outputs": [
    {
     "output_type": "stream",
     "name": "stdout",
     "output_type": "stream",
     "text": [
      "Versão correspondente ao timestamp 2024-08-17T16:51:58.000+00:00: 6\n"
     ]
    }
   ],
   "source": [
    "from pyspark.sql.functions import col\n",
    "timestamp_objetivo = \"2024-08-17T16:51:58.000+00:00\"\n",
    "\n",
    "version_df = history_df.filter(col(\"timestamp\") == timestamp_objetivo).select(\"version\")\n",
    "version = version_df.collect()[0][0]\n",
    "\n",
    "print(f\"Versão correspondente ao timestamp {timestamp_objetivo}: {version}\")"
   ]
  },
  {
   "cell_type": "markdown",
   "metadata": {
    "application/vnd.databricks.v1+cell": {
     "cellMetadata": {},
     "inputWidgets": {},
     "nuid": "cb6175fa-e793-4ad6-bb27-d3631821cac7",
     "showTitle": false,
     "title": ""
    }
   },
   "source": [
    "Time travel"
   ]
  },
  {
   "cell_type": "code",
   "execution_count": 0,
   "metadata": {
    "application/vnd.databricks.v1+cell": {
     "cellMetadata": {
      "byteLimit": 2048000,
      "rowLimit": 10000
     },
     "inputWidgets": {},
     "nuid": "7a6f34a6-c77d-4937-ae07-3a968b552534",
     "showTitle": false,
     "title": "Carregar a tabela na versão identificada"
    }
   },
   "outputs": [
    {
     "output_type": "stream",
     "name": "stdout",
     "output_type": "stream",
     "text": [
      "+-----------------------+--------------+-----------------------------+-------------+\n|Nome                   |CPF           |Email                        |Telefone     |\n+-----------------------+--------------+-----------------------------+-------------+\n|Ana Julia Moraes       |273.498.651-55|helena71@example.com         |558404135930 |\n|Raquel Jesus           |352.408.796-56|araujomariana@example.net    |551116666664 |\n|Evelyn Caldeira        |541.730.986-93|isabel15@example.com         |05005573583  |\n|Alexia Novaes          |968.415.302-33|lauramonteiro@example.net    |553163064522 |\n|Sr. Samuel da Paz      |908.324.576-47|crocha@example.com           |03137577794  |\n|Alana da Rocha         |132.490.865-33|levi50@example.net           |5503175530116|\n|Eduardo da Rocha       |490.713.682-03|tda-mata@example.net         |555117237105 |\n|Mariane Nascimento     |536.802.419-33|ryanribeiro@example.org      |08175305447  |\n|Raul Santos            |014.958.362-15|maria-luiza92@example.com    |09005795980  |\n|Caroline das Neves     |520.169.874-30|emanuellyjesus@example.net   |06174911359  |\n|Marcela Silveira       |245.068.713-08|ncavalcanti@example.net      |5507163610426|\n|Maria Pires            |376.140.859-57|olopes@example.org           |5503110073802|\n|Gabrielly da Paz       |975.864.130-10|noahlopes@example.org        |07141484722  |\n|João Miguel Caldeira   |872.063.591-59|mfarias@example.com          |552132465403 |\n|Gabriel Souza          |619.352.847-46|daniela03@example.org        |3191098384   |\n|Alice Gonçalves        |264.850.139-89|tda-luz@example.com          |03001862162  |\n|Dr. João Gabriel Duarte|069.517.284-02|emanuella58@example.org      |08407339731  |\n|Agatha Ferreira        |603.845.972-38|marcos-vinicius64@example.net|8192489496   |\n|Nina Ramos             |279.614.038-50|valentinacaldeira@example.net|5508432599732|\n|Emanuelly da Mata      |536.182.074-17|sophieviana@example.com      |02104190762  |\n+-----------------------+--------------+-----------------------------+-------------+\nonly showing top 20 rows\n\n"
     ]
    }
   ],
   "source": [
    "version = 6\n",
    "df_time_travel = spark.read.format(\"delta\").option(\"versionAsOf\", version).load(\"dbfs:/FileStore/seminovos/database/mnt/delta/stg_clientes\")\n",
    "df_time_travel.show(truncate=False)"
   ]
  },
  {
   "cell_type": "markdown",
   "metadata": {
    "application/vnd.databricks.v1+cell": {
     "cellMetadata": {},
     "inputWidgets": {},
     "nuid": "369a0861-0ea7-4ab6-a67e-470c020cc445",
     "showTitle": false,
     "title": ""
    }
   },
   "source": [
    "TERCEIRA CAMADA"
   ]
  },
  {
   "cell_type": "code",
   "execution_count": 0,
   "metadata": {
    "application/vnd.databricks.v1+cell": {
     "cellMetadata": {
      "byteLimit": 2048000,
      "rowLimit": 10000
     },
     "inputWidgets": {},
     "nuid": "f7dab070-6550-4c95-9730-ac88171ec65e",
     "showTitle": true,
     "title": "Salvanto delta table"
    }
   },
   "outputs": [],
   "source": [
    "file_location_clientes = \"dbfs:/FileStore/seminovos/database/mnt/delta/stg_clientes\"\n",
    "delta_clientes = spark.read.format(\"delta\").load(file_location_clientes)\n",
    "delta_clientes.write.format(\"delta\").mode(\"overwrite\").save(\"dbfs:/FileStore/seminovos/database/mnt/delta/delta_clientes\")"
   ]
  },
  {
   "cell_type": "code",
   "execution_count": 0,
   "metadata": {
    "application/vnd.databricks.v1+cell": {
     "cellMetadata": {
      "byteLimit": 2048000,
      "rowLimit": 10000
     },
     "inputWidgets": {},
     "nuid": "a88df07b-82bf-4aa6-96d7-7774d486db0f",
     "showTitle": false,
     "title": ""
    }
   },
   "outputs": [
    {
     "output_type": "display_data",
     "data": {
      "text/html": [
       "<style scoped>\n",
       "  .table-result-container {\n",
       "    max-height: 300px;\n",
       "    overflow: auto;\n",
       "  }\n",
       "  table, th, td {\n",
       "    border: 1px solid black;\n",
       "    border-collapse: collapse;\n",
       "  }\n",
       "  th, td {\n",
       "    padding: 5px;\n",
       "  }\n",
       "  th {\n",
       "    text-align: left;\n",
       "  }\n",
       "</style><div class='table-result-container'><table class='table-result'><thead style='background-color: white'><tr><th>Nome</th><th>CPF</th><th>Email</th><th>Telefone</th></tr></thead><tbody><tr><td>Ana Julia Moraes</td><td>273.498.651-55</td><td>ana@exemplo.net</td><td>(55) 8404-1359</td></tr><tr><td>Raquel Jesus</td><td>352.408.796-56</td><td>raquel@exemplo.net</td><td>(55) 1116-6666</td></tr><tr><td>Evelyn Caldeira</td><td>541.730.986-93</td><td>evelyn@exemplo.net</td><td>(05) 0055-7358</td></tr><tr><td>Alexia Novaes</td><td>968.415.302-33</td><td>alexia@exemplo.net</td><td>(55) 3163-0645</td></tr><tr><td>Alana da Rocha</td><td>132.490.865-33</td><td>alana@exemplo.net</td><td>(55) 0317-5530</td></tr><tr><td>Eduardo da Rocha</td><td>490.713.682-03</td><td>eduardo@exemplo.net</td><td>(55) 5117-2371</td></tr><tr><td>Mariane Nascimento</td><td>536.802.419-33</td><td>mariane@exemplo.net</td><td>(08) 1753-0544</td></tr><tr><td>Raul Santos</td><td>014.958.362-15</td><td>raul@exemplo.net</td><td>(09) 0057-9598</td></tr><tr><td>Caroline das Neves</td><td>520.169.874-30</td><td>caroline@exemplo.net</td><td>(06) 1749-1135</td></tr><tr><td>Marcela Silveira</td><td>245.068.713-08</td><td>marcela@exemplo.net</td><td>(55) 0716-3610</td></tr><tr><td>Maria Pires</td><td>376.140.859-57</td><td>maria@exemplo.net</td><td>(55) 0311-0073</td></tr><tr><td>Gabrielly da Paz</td><td>975.864.130-10</td><td>gabrielly@exemplo.net</td><td>(07) 1414-8472</td></tr><tr><td>João Miguel Caldeira</td><td>872.063.591-59</td><td>joão@exemplo.net</td><td>(55) 2132-4654</td></tr><tr><td>Gabriel Souza</td><td>619.352.847-46</td><td>gabriel@exemplo.net</td><td>(31) 9109-8384</td></tr><tr><td>Alice Gonçalves</td><td>264.850.139-89</td><td>alice@exemplo.net</td><td>(03) 0018-6216</td></tr><tr><td>Agatha Ferreira</td><td>603.845.972-38</td><td>agatha@exemplo.net</td><td>(81) 9248-9496</td></tr><tr><td>Nina Ramos</td><td>279.614.038-50</td><td>nina@exemplo.net</td><td>(55) 0843-2599</td></tr><tr><td>Emanuelly da Mata</td><td>536.182.074-17</td><td>emanuelly@exemplo.net</td><td>(02) 1041-9076</td></tr><tr><td>Erick Souza</td><td>954.260.173-52</td><td>erick@exemplo.net</td><td>(55) 2117-5008</td></tr><tr><td>Breno Melo</td><td>692.085.734-00</td><td>breno@exemplo.net</td><td>(11) 3661-5034</td></tr><tr><td>Gustavo Henrique Cavalcanti</td><td>645.390.827-10</td><td>gustavo@exemplo.net</td><td>(02) 1194-5902</td></tr><tr><td>Ana da Rocha</td><td>714.036.529-61</td><td>ana@exemplo.net</td><td>(08) 1544-5847</td></tr><tr><td>João Vitor Dias</td><td>264.109.387-13</td><td>joão@exemplo.net</td><td>(55) 2111-6823</td></tr><tr><td>Luiz Fernando Nogueira</td><td>380.926.574-83</td><td>luiz@exemplo.net</td><td>(55) 3123-6196</td></tr><tr><td>Pietro Silveira</td><td>714.809.652-94</td><td>pietro@exemplo.net</td><td>(07) 1669-8052</td></tr><tr><td>Ryan Nascimento</td><td>736.459.012-99</td><td>ryan@exemplo.net</td><td>(11) 2690-5973</td></tr><tr><td>Caio Carvalho</td><td>631.859.472-82</td><td>caio@exemplo.net</td><td>(31) 9925-6495</td></tr><tr><td>Fernando Melo</td><td>109.834.625-42</td><td>fernando@exemplo.net</td><td>(06) 1046-6578</td></tr><tr><td>Lavínia Santos</td><td>921.530.684-60</td><td>lavínia@exemplo.net</td><td>(03) 0018-0794</td></tr><tr><td>Isaac Ferreira</td><td>246.879.135-55</td><td>isaac@exemplo.net</td><td>(31) 2977-8374</td></tr><tr><td>Ana Luiza Lima</td><td>249.571.380-79</td><td>ana@exemplo.net</td><td>(55) 0413-3951</td></tr><tr><td>Lucca Mendes</td><td>652.739.418-73</td><td>lucca@exemplo.net</td><td>(55) 8149-6002</td></tr><tr><td>Eloah Aragão</td><td>310.546.279-16</td><td>eloah@exemplo.net</td><td>(55) 0210-8048</td></tr><tr><td>Emilly Jesus</td><td>571.490.283-14</td><td>emilly@exemplo.net</td><td>(06) 1947-7861</td></tr><tr><td>Catarina Cunha</td><td>481.926.705-11</td><td>catarina@exemplo.net</td><td>(55) 8152-1900</td></tr><tr><td>Davi Lucca Rodrigues</td><td>091.378.462-13</td><td>davi@exemplo.net</td><td>(55) 0116-4160</td></tr><tr><td>Theo Fogaça</td><td>016.794.528-94</td><td>theo@exemplo.net</td><td>(55) 0817-1406</td></tr><tr><td>Mirella Aragão</td><td>184.652.073-80</td><td>mirella@exemplo.net</td><td>(55) 0711-2713</td></tr><tr><td>Júlia Nascimento</td><td>028.719.645-30</td><td>júlia@exemplo.net</td><td>(55) 0310-1177</td></tr><tr><td>Juliana Nascimento</td><td>586.021.743-90</td><td>juliana@exemplo.net</td><td>(05) 0074-6747</td></tr><tr><td>Davi Lucas Moreira</td><td>598.246.173-37</td><td>davi@exemplo.net</td><td>(55) 0514-0254</td></tr><tr><td>Renan Cardoso</td><td>724.930.681-22</td><td>renan@exemplo.net</td><td>(55) 0517-7798</td></tr><tr><td>Clarice Santos</td><td>820.463.179-04</td><td>clarice@exemplo.net</td><td>(01) 1162-9830</td></tr><tr><td>Enrico Farias</td><td>926.470.315-25</td><td>enrico@exemplo.net</td><td>(55) 0310-4780</td></tr><tr><td>Luna Moura</td><td>598.204.763-56</td><td>luna@exemplo.net</td><td>(55) 0814-3123</td></tr><tr><td>Letícia Ribeiro</td><td>729.564.380-00</td><td>letícia@exemplo.net</td><td>(51) 5801-0562</td></tr><tr><td>Henrique Nascimento</td><td>314.082.957-41</td><td>henrique@exemplo.net</td><td>(41) 5879-2864</td></tr><tr><td>Cauê Nunes</td><td>375.912.608-12</td><td>cauê@exemplo.net</td><td>(08) 1860-2168</td></tr><tr><td>Manuela Novaes</td><td>946.078.325-29</td><td>manuela@exemplo.net</td><td>(21) 8591-4554</td></tr><tr><td>Bianca Fogaça</td><td>271.806.935-02</td><td>bianca@exemplo.net</td><td>(05) 0047-0283</td></tr><tr><td>Miguel Duarte</td><td>451.287.309-05</td><td>miguel@exemplo.net</td><td>(71) 5211-5120</td></tr><tr><td>Joaquim Costela</td><td>754.891.026-67</td><td>joaquim@exemplo.net</td><td>(55) 3163-9672</td></tr><tr><td>Yasmin Nunes</td><td>716.984.325-00</td><td>yasmin@exemplo.net</td><td>(55) 0517-5705</td></tr><tr><td>Ana Júlia Fernandes</td><td>670.894.315-84</td><td>ana@exemplo.net</td><td>(55) 0617-9920</td></tr><tr><td>Luiz Otávio das Neves</td><td>418.065.739-20</td><td>luiz@exemplo.net</td><td>(04) 1677-6020</td></tr><tr><td>Lorena da Rosa</td><td>958.712.604-11</td><td>lorena@exemplo.net</td><td>(55) 6139-0780</td></tr><tr><td>Gabriel da Mata</td><td>604.279.513-99</td><td>gabriel@exemplo.net</td><td>(03) 0033-9950</td></tr><tr><td>Lorena Duarte</td><td>398.420.567-83</td><td>lorena@exemplo.net</td><td>(61) 0554-0977</td></tr><tr><td>Mirella da Paz</td><td>324.697.581-73</td><td>mirella@exemplo.net</td><td>(55) 0812-9511</td></tr><tr><td>Rebeca Cardoso</td><td>369.405.187-20</td><td>rebeca@exemplo.net</td><td>(55) 0810-7933</td></tr><tr><td>Kaique Pereira</td><td>083.475.916-01</td><td>kaique@exemplo.net</td><td>(09) 0030-7667</td></tr><tr><td>Nina Nunes</td><td>791.320.458-32</td><td>nina@exemplo.net</td><td>(55) 0619-5290</td></tr><tr><td>Luiz Fernando Monteiro</td><td>578.916.342-46</td><td>luiz@exemplo.net</td><td>(08) 4825-8172</td></tr><tr><td>Manuela Araújo</td><td>731.694.258-46</td><td>manuela@exemplo.net</td><td>(71) 2535-3040</td></tr><tr><td>Luiz Otávio Cardoso</td><td>870.562.394-47</td><td>luiz@exemplo.net</td><td>(55) 0418-8587</td></tr><tr><td>Bianca Pires</td><td>193.254.806-89</td><td>bianca@exemplo.net</td><td>(55) 1191-1562</td></tr><tr><td>Felipe Sales</td><td>137.894.625-19</td><td>felipe@exemplo.net</td><td>(55) 0111-4786</td></tr><tr><td>Isaac Viana</td><td>728.915.043-05</td><td>isaac@exemplo.net</td><td>(03) 0073-8449</td></tr><tr><td>Nathan Gonçalves</td><td>632.704.591-06</td><td>nathan@exemplo.net</td><td>(55) 0118-0596</td></tr><tr><td>Camila da Conceição</td><td>820.914.675-02</td><td>camila@exemplo.net</td><td>(21) 3884-8839</td></tr><tr><td>Kevin da Costa</td><td>129.764.580-49</td><td>kevin@exemplo.net</td><td>(07) 1639-4846</td></tr><tr><td>Ana Clara das Neves</td><td>605.247.893-47</td><td>ana@exemplo.net</td><td>(08) 0005-2143</td></tr><tr><td>Clara Pereira</td><td>193.762.045-06</td><td>clara@exemplo.net</td><td>(31) 0874-4484</td></tr><tr><td>Pedro Lucas Nunes</td><td>138.925.407-05</td><td>pedro@exemplo.net</td><td>(08) 4247-6630</td></tr><tr><td>Vitor Gabriel Castro</td><td>519.260.483-42</td><td>vitor@exemplo.net</td><td>(55) 0846-1294</td></tr><tr><td>Isabel Nogueira</td><td>625.319.480-15</td><td>isabel@exemplo.net</td><td>(08) 1581-4338</td></tr><tr><td>Bryan da Rocha</td><td>256.874.139-28</td><td>bryan@exemplo.net</td><td>(03) 0035-2271</td></tr><tr><td>Maria Vitória Pinto</td><td>751.863.049-48</td><td>maria@exemplo.net</td><td>(11) 4400-1394</td></tr><tr><td>João Vitor Freitas</td><td>912.306.784-50</td><td>joão@exemplo.net</td><td>(55) 0811-1569</td></tr><tr><td>Maria Vitória da Mota</td><td>416.350.789-20</td><td>maria@exemplo.net</td><td>(31) 5344-3876</td></tr><tr><td>André Viana</td><td>241.583.679-64</td><td>andré@exemplo.net</td><td>(41) 1407-6217</td></tr><tr><td>Anthony Ramos</td><td>076.291.348-78</td><td>anthony@exemplo.net</td><td>(08) 0023-4068</td></tr><tr><td>Maria Vitória Fernandes</td><td>498.150.623-60</td><td>maria@exemplo.net</td><td>(55) 5134-3506</td></tr><tr><td>Eduardo Almeida</td><td>541.927.063-34</td><td>eduardo@exemplo.net</td><td>(55) 8434-1950</td></tr><tr><td>Helena Souza</td><td>783.904.265-10</td><td>helena@exemplo.net</td><td>(05) 1026-0989</td></tr><tr><td>Alícia da Luz</td><td>692.853.104-51</td><td>alícia@exemplo.net</td><td>(21) 6198-8781</td></tr><tr><td>Luiz Henrique Fogaça</td><td>856.021.793-21</td><td>luiz@exemplo.net</td><td>(55) 6103-6479</td></tr><tr><td>Maria Clara Lopes</td><td>926.714.853-28</td><td>maria@exemplo.net</td><td>(55) 2180-0112</td></tr><tr><td>Francisco Costa</td><td>958.214.370-32</td><td>francisco@exemplo.net</td><td>(51) 8272-5728</td></tr><tr><td>Rafael das Neves</td><td>460.312.795-25</td><td>rafael@exemplo.net</td><td>(06) 1389-4964</td></tr><tr><td>Evelyn da Cunha</td><td>185.032.794-79</td><td>evelyn@exemplo.net</td><td>(41) 0241-7186</td></tr><tr><td>Lucas Almeida</td><td>730.182.945-05</td><td>lucas@exemplo.net</td><td>(01) 1360-3614</td></tr><tr><td>João da Rocha</td><td>648.102.975-94</td><td>joão@exemplo.net</td><td>(55) 4126-1157</td></tr><tr><td>Cecília da Rosa</td><td>734.128.650-44</td><td>cecília@exemplo.net</td><td>(07) 1973-6142</td></tr><tr><td>Kaique Azevedo</td><td>398.456.127-09</td><td>kaique@exemplo.net</td><td>(08) 0086-2757</td></tr><tr><td>Vitor Gabriel Porto</td><td>758.142.960-11</td><td>vitor@exemplo.net</td><td>(55) 0217-3238</td></tr><tr><td>Luiz Felipe Moreira</td><td>183.529.740-41</td><td>luiz@exemplo.net</td><td>(31) 3432-8840</td></tr><tr><td>Maria Cecília Nascimento</td><td>503.146.879-39</td><td>maria@exemplo.net</td><td>(55) 4152-6539</td></tr><tr><td>Elisa Barbosa</td><td>165.437.908-57</td><td>elisa@exemplo.net</td><td>(21) 0714-7718</td></tr><tr><td>Cauê Costa</td><td>148.652.307-26</td><td>cauê@exemplo.net</td><td>(55) 0513-3810</td></tr><tr><td>João Miguel Alves</td><td>615.478.209-85</td><td>joão@exemplo.net</td><td>(31) 7311-4995</td></tr><tr><td>Ryan Cavalcanti</td><td>293.567.041-80</td><td>ryan@exemplo.net</td><td>(08) 4611-6302</td></tr><tr><td>Ana Cardoso</td><td>954.316.027-99</td><td>ana@exemplo.net</td><td>(84) 4892-4521</td></tr><tr><td>Luana Fernandes</td><td>329.458.071-14</td><td>luana@exemplo.net</td><td>(08) 1253-0869</td></tr><tr><td>Eduarda da Mata</td><td>146.309.528-70</td><td>eduarda@exemplo.net</td><td>(55) 0612-0055</td></tr><tr><td>Mariana Dias</td><td>968.547.213-00</td><td>mariana@exemplo.net</td><td>(03) 1229-8746</td></tr><tr><td>Gabriel Farias</td><td>016.942.385-98</td><td>gabriel@exemplo.net</td><td>(55) 0718-9347</td></tr><tr><td>Joaquim Vieira</td><td>823.601.957-86</td><td>joaquim@exemplo.net</td><td>(03) 1418-1718</td></tr><tr><td>Maria Julia Costela</td><td>708.341.265-08</td><td>maria@exemplo.net</td><td>(08) 1916-5175</td></tr><tr><td>Milena da Paz</td><td>682.745.031-71</td><td>milena@exemplo.net</td><td>(55) 8415-0441</td></tr><tr><td>Bryan da Rocha</td><td>132.087.569-68</td><td>bryan@exemplo.net</td><td>(55) 0314-2141</td></tr><tr><td>Mariana Castro</td><td>947.630.281-03</td><td>mariana@exemplo.net</td><td>(61) 2578-8452</td></tr><tr><td>Nicolas da Luz</td><td>432.605.817-07</td><td>nicolas@exemplo.net</td><td>(08) 1518-8269</td></tr><tr><td>Lucca Sales</td><td>379.065.128-12</td><td>lucca@exemplo.net</td><td>(55) 4166-6589</td></tr><tr><td>Kaique Duarte</td><td>014.965.273-99</td><td>kaique@exemplo.net</td><td>(55) 0214-9116</td></tr><tr><td>Pedro Henrique Rezende</td><td>876.913.045-01</td><td>pedro@exemplo.net</td><td>(05) 1378-5313</td></tr><tr><td>Renan Monteiro</td><td>694.031.728-78</td><td>renan@exemplo.net</td><td>(11) 6903-2314</td></tr><tr><td>Cauã da Mata</td><td>061.572.938-02</td><td>cauã@exemplo.net</td><td>(55) 8448-1993</td></tr><tr><td>Breno Fogaça</td><td>198.527.406-01</td><td>breno@exemplo.net</td><td>(31) 6245-1892</td></tr><tr><td>Raul da Cunha</td><td>097.625.143-43</td><td>raul@exemplo.net</td><td>(03) 0086-2455</td></tr><tr><td>Emanuella Moura</td><td>961.437.528-00</td><td>emanuella@exemplo.net</td><td>(09) 0090-7396</td></tr><tr><td>Nina Castro</td><td>027.185.463-44</td><td>nina@exemplo.net</td><td>(55) 4166-6847</td></tr><tr><td>Laís Cunha</td><td>346.915.078-84</td><td>laís@exemplo.net</td><td>(55) 2110-0373</td></tr><tr><td>Henrique Lima</td><td>357.824.960-29</td><td>henrique@exemplo.net</td><td>(55) 6160-8213</td></tr><tr><td>Maria Fernanda Costela</td><td>578.239.604-00</td><td>maria@exemplo.net</td><td>(04) 1662-1141</td></tr><tr><td>Gabrielly Aragão</td><td>471.230.896-69</td><td>gabrielly@exemplo.net</td><td>(31) 6889-6042</td></tr><tr><td>João Lucas Cunha</td><td>768.541.029-01</td><td>joão@exemplo.net</td><td>(55) 0713-1380</td></tr><tr><td>Leandro Carvalho</td><td>463.280.957-83</td><td>leandro@exemplo.net</td><td>(05) 0006-0303</td></tr><tr><td>Lívia Silveira</td><td>086.431.275-07</td><td>lívia@exemplo.net</td><td>(55) 0215-7123</td></tr><tr><td>Nina da Mota</td><td>296.738.051-21</td><td>nina@exemplo.net</td><td>(81) 6447-8861</td></tr><tr><td>Ana Vitória Porto</td><td>259.301.874-79</td><td>ana@exemplo.net</td><td>(55) 8133-7051</td></tr><tr><td>Elisa Martins</td><td>074.159.368-84</td><td>elisa@exemplo.net</td><td>(55) 6156-2089</td></tr><tr><td>Julia Almeida</td><td>729.413.065-52</td><td>julia@exemplo.net</td><td>(11) 3354-0608</td></tr><tr><td>Thiago Rezende</td><td>013.459.672-25</td><td>thiago@exemplo.net</td><td>(55) 0517-9819</td></tr><tr><td>Ana Clara Novaes</td><td>208.167.495-58</td><td>ana@exemplo.net</td><td>(61) 0787-3286</td></tr><tr><td>Evelyn Freitas</td><td>137.405.268-07</td><td>evelyn@exemplo.net</td><td>(55) 0844-8738</td></tr><tr><td>Juan Silveira</td><td>518.760.934-39</td><td>juan@exemplo.net</td><td>(41) 9692-9457</td></tr><tr><td>Julia Oliveira</td><td>251.674.930-99</td><td>julia@exemplo.net</td><td>(21) 2643-9475</td></tr><tr><td>Daniela Araújo</td><td>293.407.865-56</td><td>daniela@exemplo.net</td><td>(55) 8100-7739</td></tr><tr><td>Ana Lívia Pires</td><td>419.075.238-04</td><td>ana@exemplo.net</td><td>(11) 1051-9661</td></tr><tr><td>Luiz Fernando Lopes</td><td>037.286.154-71</td><td>luiz@exemplo.net</td><td>(51) 5717-3436</td></tr><tr><td>Leandro Rezende</td><td>581.639.702-86</td><td>leandro@exemplo.net</td><td>(55) 7166-7021</td></tr><tr><td>Ana Beatriz da Rocha</td><td>295.734.108-50</td><td>ana@exemplo.net</td><td>(55) 6169-7026</td></tr><tr><td>Yago Alves</td><td>372.908.154-32</td><td>yago@exemplo.net</td><td>(06) 1007-7948</td></tr><tr><td>Lorenzo Correia</td><td>745.630.298-74</td><td>lorenzo@exemplo.net</td><td>(08) 4790-8714</td></tr><tr><td>Enzo Gabriel Freitas</td><td>145.368.927-37</td><td>enzo@exemplo.net</td><td>(06) 1255-8495</td></tr><tr><td>Francisco Carvalho</td><td>684.250.971-85</td><td>francisco@exemplo.net</td><td>(55) 0317-8104</td></tr><tr><td>Heitor Gomes</td><td>359.728.460-47</td><td>heitor@exemplo.net</td><td>(55) 0815-1733</td></tr><tr><td>Marina da Rocha</td><td>782.394.015-97</td><td>marina@exemplo.net</td><td>(55) 0811-7966</td></tr><tr><td>Laís das Neves</td><td>240.678.359-65</td><td>laís@exemplo.net</td><td>(03) 0038-0861</td></tr><tr><td>Ana Vitória Monteiro</td><td>905.182.634-60</td><td>ana@exemplo.net</td><td>(55) 2183-1688</td></tr><tr><td>João Guilherme Melo</td><td>806.217.459-01</td><td>joão@exemplo.net</td><td>(55) 8492-5227</td></tr><tr><td>Marcela Castro</td><td>401.692.358-15</td><td>marcela@exemplo.net</td><td>(81) 2051-5168</td></tr><tr><td>Alana Campos</td><td>924.150.837-04</td><td>alana@exemplo.net</td><td>(11) 5188-2891</td></tr><tr><td>Isis da Rocha</td><td>395.487.160-20</td><td>isis@exemplo.net</td><td>(31) 5081-8821</td></tr><tr><td>Eloah Castro</td><td>120.547.386-62</td><td>eloah@exemplo.net</td><td>(55) 2121-9102</td></tr><tr><td>Diogo Moraes</td><td>953.647.018-75</td><td>diogo@exemplo.net</td><td>(55) 8417-4708</td></tr><tr><td>Juliana Caldeira</td><td>052.384.791-23</td><td>juliana@exemplo.net</td><td>(55) 0118-4476</td></tr><tr><td>Eduardo Cunha</td><td>162.794.503-25</td><td>eduardo@exemplo.net</td><td>(55) 8420-1223</td></tr><tr><td>Maria Teixeira</td><td>750.964.238-83</td><td>maria@exemplo.net</td><td>(04) 1580-5669</td></tr><tr><td>João Gabriel Novaes</td><td>047.958.261-02</td><td>joão@exemplo.net</td><td>(51) 2070-7949</td></tr><tr><td>Yasmin Fernandes</td><td>492.763.081-13</td><td>yasmin@exemplo.net</td><td>(55) 7100-1728</td></tr><tr><td>Bruno da Rosa</td><td>635.408.719-93</td><td>bruno@exemplo.net</td><td>(04) 1462-9770</td></tr><tr><td>Raquel da Costa</td><td>027.694.851-30</td><td>raquel@exemplo.net</td><td>(05) 1612-1980</td></tr><tr><td>Maria Sophia Rocha</td><td>379.285.140-79</td><td>maria@exemplo.net</td><td>(08) 4851-2286</td></tr><tr><td>Luiz Fernando Jesus</td><td>694.052.317-07</td><td>luiz@exemplo.net</td><td>(09) 0034-4941</td></tr><tr><td>Maitê Freitas</td><td>028.943.175-14</td><td>maitê@exemplo.net</td><td>(84) 6249-0335</td></tr><tr><td>Davi Lucas Cunha</td><td>428.075.196-01</td><td>davi@exemplo.net</td><td>(55) 0215-1524</td></tr><tr><td>João Felipe Ramos</td><td>653.419.802-98</td><td>joão@exemplo.net</td><td>(05) 0021-5850</td></tr><tr><td>Laura Ferreira</td><td>597.143.280-04</td><td>laura@exemplo.net</td><td>(11) 2261-3452</td></tr><tr><td>Lucca Sales</td><td>541.639.207-06</td><td>lucca@exemplo.net</td><td>(08) 4283-9792</td></tr><tr><td>Maria Luiza Azevedo</td><td>398.125.470-88</td><td>maria@exemplo.net</td><td>(02) 1181-6547</td></tr><tr><td>Yago Araújo</td><td>421.837.509-79</td><td>yago@exemplo.net</td><td>(02) 1130-0855</td></tr><tr><td>João Guilherme Martins</td><td>768.251.039-03</td><td>joão@exemplo.net</td><td>(81) 9545-7118</td></tr><tr><td>Erick Ferreira</td><td>598.670.342-10</td><td>erick@exemplo.net</td><td>(11) 3440-3531</td></tr><tr><td>Renan da Rocha</td><td>458.079.236-00</td><td>renan@exemplo.net</td><td>(02) 1879-6445</td></tr><tr><td>João Felipe Pires</td><td>632.105.948-05</td><td>joão@exemplo.net</td><td>(55) 8145-0533</td></tr><tr><td>Júlia Azevedo</td><td>531.970.842-41</td><td>júlia@exemplo.net</td><td>(55) 6152-5323</td></tr><tr><td>Maria Clara Barros</td><td>317.528.906-12</td><td>maria@exemplo.net</td><td>(07) 1288-4613</td></tr><tr><td>Stella Martins</td><td>630.419.258-42</td><td>stella@exemplo.net</td><td>(55) 0818-5047</td></tr><tr><td>Diogo Cardoso</td><td>758.439.062-56</td><td>diogo@exemplo.net</td><td>(81) 0562-4691</td></tr><tr><td>Joaquim Costela</td><td>473.029.185-97</td><td>joaquim@exemplo.net</td><td>(51) 7319-1652</td></tr><tr><td>Anthony Melo</td><td>132.845.760-53</td><td>anthony@exemplo.net</td><td>(04) 1311-0074</td></tr><tr><td>Heloísa Alves</td><td>765.819.403-48</td><td>heloísa@exemplo.net</td><td>(01) 1849-5169</td></tr><tr><td>Felipe Gonçalves</td><td>097.182.453-32</td><td>felipe@exemplo.net</td><td>(55) 0848-0670</td></tr><tr><td>Lucca Cavalcanti</td><td>186.904.257-30</td><td>lucca@exemplo.net</td><td>(55) 4154-5803</td></tr><tr><td>Elisa Costa</td><td>258.461.793-55</td><td>elisa@exemplo.net</td><td>(55) 7103-2088</td></tr><tr><td>Marcelo Cavalcanti</td><td>437.562.108-71</td><td>marcelo@exemplo.net</td><td>(55) 0615-0653</td></tr><tr><td>Heloísa da Rocha</td><td>193.508.467-48</td><td>heloísa@exemplo.net</td><td>(08) 4213-4706</td></tr><tr><td>Eduardo Costela</td><td>431.582.760-62</td><td>eduardo@exemplo.net</td><td>(05) 0096-1559</td></tr><tr><td>Sarah Mendes</td><td>396.702.814-31</td><td>sarah@exemplo.net</td><td>(11) 7410-5900</td></tr><tr><td>Maysa da Rocha</td><td>936.485.270-29</td><td>maysa@exemplo.net</td><td>(08) 4366-9823</td></tr><tr><td>Bruno da Cruz</td><td>514.203.879-79</td><td>bruno@exemplo.net</td><td>(08) 1478-8588</td></tr><tr><td>Lorenzo Pinto</td><td>935.082.174-50</td><td>lorenzo@exemplo.net</td><td>(05) 1374-2565</td></tr><tr><td>Anthony Cunha</td><td>401.273.695-70</td><td>anthony@exemplo.net</td><td>(11) 7015-6750</td></tr><tr><td>Lavínia Peixoto</td><td>462.510.793-80</td><td>lavínia@exemplo.net</td><td>(84) 8447-3854</td></tr><tr><td>Pedro Henrique Barbosa</td><td>583.291.067-21</td><td>pedro@exemplo.net</td><td>(08) 4213-3762</td></tr><tr><td>Emilly Rodrigues</td><td>869.754.213-82</td><td>emilly@exemplo.net</td><td>(08) 1447-3684</td></tr><tr><td>Leonardo Costela</td><td>849.753.016-01</td><td>leonardo@exemplo.net</td><td>(05) 0068-4023</td></tr><tr><td>Fernando Peixoto</td><td>873.914.256-64</td><td>fernando@exemplo.net</td><td>(55) 2198-8182</td></tr><tr><td>Esther Caldeira</td><td>765.149.028-20</td><td>esther@exemplo.net</td><td>(31) 5604-1245</td></tr><tr><td>Cecília Peixoto</td><td>896.501.742-49</td><td>cecília@exemplo.net</td><td>(03) 0088-0895</td></tr><tr><td>Maria Fernanda Moura</td><td>820.139.675-86</td><td>maria@exemplo.net</td><td>(11) 3404-0365</td></tr><tr><td>Evelyn da Paz</td><td>085.396.421-15</td><td>evelyn@exemplo.net</td><td>(55) 0812-4345</td></tr><tr><td>Igor Nascimento</td><td>678.594.130-00</td><td>igor@exemplo.net</td><td>(55) 0812-2150</td></tr><tr><td>Luna Santos</td><td>356.478.219-28</td><td>luna@exemplo.net</td><td>(55) 2196-7285</td></tr><tr><td>Luiz Felipe da Paz</td><td>589.173.426-55</td><td>luiz@exemplo.net</td><td>(05) 1413-9460</td></tr><tr><td>Diogo Oliveira</td><td>128.975.036-02</td><td>diogo@exemplo.net</td><td>(05) 1915-8382</td></tr><tr><td>Nina Costela</td><td>630.217.489-96</td><td>nina@exemplo.net</td><td>(55) 0218-2272</td></tr><tr><td>Breno Sales</td><td>381.769.405-93</td><td>breno@exemplo.net</td><td>(55) 3137-6509</td></tr><tr><td>Julia Azevedo</td><td>093.782.465-83</td><td>julia@exemplo.net</td><td>(55) 3139-1177</td></tr><tr><td>Luigi Gomes</td><td>023.691.478-22</td><td>luigi@exemplo.net</td><td>(55) 8425-2123</td></tr><tr><td>Esther Azevedo</td><td>061.498.372-03</td><td>esther@exemplo.net</td><td>(55) 0717-9202</td></tr><tr><td>Emanuella Campos</td><td>157.368.402-35</td><td>emanuella@exemplo.net</td><td>(55) 0711-8345</td></tr><tr><td>João da Cunha</td><td>360.589.271-02</td><td>joão@exemplo.net</td><td>(55) 8126-0460</td></tr><tr><td>Bruna Lima</td><td>417.260.359-99</td><td>bruna@exemplo.net</td><td>(55) 6167-5170</td></tr><tr><td>Gabrielly Ferreira</td><td>092.356.417-99</td><td>gabrielly@exemplo.net</td><td>(55) 2147-1879</td></tr><tr><td>Pedro das Neves</td><td>648.092.137-22</td><td>pedro@exemplo.net</td><td>(71) 7028-7054</td></tr><tr><td>Luigi Cavalcanti</td><td>569.803.247-56</td><td>luigi@exemplo.net</td><td>(55) 5131-2695</td></tr><tr><td>Davi Lucca Pereira</td><td>812.573.906-86</td><td>davi@exemplo.net</td><td>(11) 0781-3960</td></tr><tr><td>Thiago da Mata</td><td>389.042.516-05</td><td>thiago@exemplo.net</td><td>(55) 8457-6732</td></tr><tr><td>Carlos Eduardo Peixoto</td><td>106.534.792-80</td><td>carlos@exemplo.net</td><td>(03) 1369-3216</td></tr><tr><td>Luiz Miguel Novaes</td><td>246.875.130-26</td><td>luiz@exemplo.net</td><td>(04) 1810-7961</td></tr><tr><td>Raul Ribeiro</td><td>798.305.461-01</td><td>raul@exemplo.net</td><td>(06) 1420-7743</td></tr><tr><td>Thales Cavalcanti</td><td>301.892.765-68</td><td>thales@exemplo.net</td><td>(61) 1537-3580</td></tr><tr><td>Lavínia Barbosa</td><td>239.785.604-29</td><td>lavínia@exemplo.net</td><td>(55) 6192-0205</td></tr><tr><td>Emanuel Gonçalves</td><td>693.125.087-68</td><td>emanuel@exemplo.net</td><td>(55) 8121-4669</td></tr><tr><td>Maria Sophia Duarte</td><td>135.640.728-53</td><td>maria@exemplo.net</td><td>(55) 0110-2729</td></tr><tr><td>Mirella Caldeira</td><td>502.387.196-77</td><td>mirella@exemplo.net</td><td>(06) 1862-1175</td></tr><tr><td>Gabriel Lima</td><td>370.289.164-13</td><td>gabriel@exemplo.net</td><td>(55) 6147-2297</td></tr><tr><td>Marcos Vinicius Moraes</td><td>582.413.960-15</td><td>marcos@exemplo.net</td><td>(02) 1283-2756</td></tr><tr><td>Helena Rocha</td><td>867.190.235-86</td><td>helena@exemplo.net</td><td>(04) 1406-3366</td></tr><tr><td>Caio da Cruz</td><td>527.460.138-35</td><td>caio@exemplo.net</td><td>(55) 8458-6680</td></tr><tr><td>Luiz Gustavo da Costa</td><td>451.920.387-23</td><td>luiz@exemplo.net</td><td>(55) 1117-1213</td></tr><tr><td>Fernanda da Cunha</td><td>765.231.849-19</td><td>fernanda@exemplo.net</td><td>(55) 2102-4399</td></tr><tr><td>Lívia Lima</td><td>419.680.753-48</td><td>lívia@exemplo.net</td><td>(08) 1921-1751</td></tr><tr><td>Davi Luiz Correia</td><td>809.672.431-22</td><td>davi@exemplo.net</td><td>(55) 0213-3490</td></tr><tr><td>Júlia Viana</td><td>708.493.152-04</td><td>júlia@exemplo.net</td><td>(08) 0086-4461</td></tr><tr><td>Pedro Rodrigues</td><td>564.718.293-37</td><td>pedro@exemplo.net</td><td>(55) 1107-8211</td></tr><tr><td>Alice das Neves</td><td>608.194.523-51</td><td>alice@exemplo.net</td><td>(84) 1090-7486</td></tr><tr><td>Isabel Ramos</td><td>094.851.672-02</td><td>isabel@exemplo.net</td><td>(55) 0846-8547</td></tr><tr><td>Nina Monteiro</td><td>351.279.648-64</td><td>nina@exemplo.net</td><td>(09) 0078-8537</td></tr><tr><td>João Pedro Melo</td><td>742.683.509-00</td><td>joão@exemplo.net</td><td>(55) 0612-4425</td></tr><tr><td>Giovanna Fogaça</td><td>143.759.086-10</td><td>giovanna@exemplo.net</td><td>(55) 0517-8625</td></tr><tr><td>Emilly Barros</td><td>721.853.946-73</td><td>emilly@exemplo.net</td><td>(55) 0711-4823</td></tr><tr><td>Thales Ferreira</td><td>850.219.364-33</td><td>thales@exemplo.net</td><td>(55) 0844-9363</td></tr><tr><td>Ana Lívia Campos</td><td>015.736.928-59</td><td>ana@exemplo.net</td><td>(21) 9647-2099</td></tr><tr><td>Valentina Dias</td><td>214.698.507-02</td><td>valentina@exemplo.net</td><td>(55) 5112-0521</td></tr><tr><td>Luiz Otávio Sales</td><td>104.659.832-51</td><td>luiz@exemplo.net</td><td>(55) 0715-3503</td></tr><tr><td>Luiz Felipe Barbosa</td><td>520.431.986-70</td><td>luiz@exemplo.net</td><td>(02) 1549-3939</td></tr><tr><td>Maria Sophia Vieira</td><td>764.923.810-50</td><td>maria@exemplo.net</td><td>(55) 0315-7077</td></tr><tr><td>Melissa Fogaça</td><td>510.926.347-70</td><td>melissa@exemplo.net</td><td>(11) 4676-7212</td></tr><tr><td>Julia Pereira</td><td>185.642.379-46</td><td>julia@exemplo.net</td><td>(03) 0068-5262</td></tr><tr><td>Emanuella Souza</td><td>037.268.195-68</td><td>emanuella@exemplo.net</td><td>(55) 0810-2440</td></tr><tr><td>Brenda Santos</td><td>024.917.653-06</td><td>brenda@exemplo.net</td><td>(55) 0516-9077</td></tr><tr><td>Cauê Novaes</td><td>384.916.720-87</td><td>cauê@exemplo.net</td><td>(31) 8897-0270</td></tr><tr><td>Gustavo Cardoso</td><td>375.069.821-02</td><td>gustavo@exemplo.net</td><td>(55) 7107-1816</td></tr><tr><td>Nina da Paz</td><td>698.321.574-55</td><td>nina@exemplo.net</td><td>(55) 8448-2082</td></tr><tr><td>Pietra Costela</td><td>483.605.921-60</td><td>pietra@exemplo.net</td><td>(55) 4101-0460</td></tr><tr><td>Sofia Moura</td><td>672.048.359-56</td><td>sofia@exemplo.net</td><td>(55) 0413-1838</td></tr><tr><td>Pedro Lucas Fogaça</td><td>518.629.370-95</td><td>pedro@exemplo.net</td><td>(11) 8288-2859</td></tr><tr><td>Maria Cunha</td><td>623.870.154-44</td><td>maria@exemplo.net</td><td>(03) 0024-9050</td></tr><tr><td>Evelyn Pinto</td><td>591.086.742-30</td><td>evelyn@exemplo.net</td><td>(55) 0716-6250</td></tr><tr><td>Lívia Cardoso</td><td>258.146.073-35</td><td>lívia@exemplo.net</td><td>(06) 1187-2864</td></tr><tr><td>Lucas Gabriel Correia</td><td>391.457.208-60</td><td>lucas@exemplo.net</td><td>(84) 0138-4809</td></tr><tr><td>Alexia da Rosa</td><td>249.708.165-49</td><td>alexia@exemplo.net</td><td>(11) 2618-1464</td></tr><tr><td>Luiz Felipe da Rocha</td><td>083.567.941-10</td><td>luiz@exemplo.net</td><td>(55) 5161-5047</td></tr><tr><td>Benjamin Pires</td><td>385.270.146-53</td><td>benjamin@exemplo.net</td><td>(03) 1302-1436</td></tr><tr><td>João Vitor Barbosa</td><td>974.826.305-38</td><td>joão@exemplo.net</td><td>(55) 0319-8706</td></tr><tr><td>Heitor Farias</td><td>103.492.678-04</td><td>heitor@exemplo.net</td><td>(55) 0313-6824</td></tr><tr><td>Natália Castro</td><td>267.354.908-00</td><td>natália@exemplo.net</td><td>(09) 0031-8391</td></tr><tr><td>Olivia Nogueira</td><td>573.140.982-04</td><td>olivia@exemplo.net</td><td>(61) 9241-0953</td></tr><tr><td>Daniel Mendes</td><td>058.421.673-44</td><td>daniel@exemplo.net</td><td>(55) 1153-4177</td></tr><tr><td>Juliana Fernandes</td><td>786.123.059-77</td><td>juliana@exemplo.net</td><td>(02) 1409-6078</td></tr><tr><td>Enzo Gabriel Rodrigues</td><td>973.458.601-75</td><td>enzo@exemplo.net</td><td>(55) 0844-4850</td></tr><tr><td>Eduarda da Cunha</td><td>709.413.268-96</td><td>eduarda@exemplo.net</td><td>(31) 4236-6507</td></tr><tr><td>Lucas Gabriel da Rocha</td><td>458.712.690-01</td><td>lucas@exemplo.net</td><td>(08) 4539-5737</td></tr><tr><td>Augusto Novaes</td><td>380.624.579-74</td><td>augusto@exemplo.net</td><td>(07) 1937-6315</td></tr><tr><td>Thiago Lopes</td><td>852.630.479-83</td><td>thiago@exemplo.net</td><td>(08) 1042-7442</td></tr><tr><td>Daniela Almeida</td><td>465.789.321-19</td><td>daniela@exemplo.net</td><td>(55) 0816-9041</td></tr><tr><td>Vicente Monteiro</td><td>807.135.924-60</td><td>vicente@exemplo.net</td><td>(55) 0314-7431</td></tr><tr><td>Vitória Pinto</td><td>862.135.704-62</td><td>vitória@exemplo.net</td><td>(55) 8167-2415</td></tr><tr><td>Maysa Teixeira</td><td>904.628.315-15</td><td>maysa@exemplo.net</td><td>(55) 6163-8239</td></tr><tr><td>Anthony Martins</td><td>693.802.547-92</td><td>anthony@exemplo.net</td><td>(03) 0097-1008</td></tr><tr><td>Davi Luiz Costa</td><td>217.083.564-44</td><td>davi@exemplo.net</td><td>(61) 2923-3271</td></tr><tr><td>Francisco Nunes</td><td>072.539.164-25</td><td>francisco@exemplo.net</td><td>(55) 0116-7713</td></tr><tr><td>João Gabriel Gomes</td><td>293.140.768-22</td><td>joão@exemplo.net</td><td>(55) 0811-5191</td></tr><tr><td>Vitor Gabriel Oliveira</td><td>340.157.928-23</td><td>vitor@exemplo.net</td><td>(55) 6139-5767</td></tr><tr><td>Isaac Fogaça</td><td>432.915.706-34</td><td>isaac@exemplo.net</td><td>(61) 8709-1408</td></tr><tr><td>Maria Julia Jesus</td><td>045.938.126-15</td><td>maria@exemplo.net</td><td>(08) 4830-6172</td></tr><tr><td>Nina da Mata</td><td>854.621.397-64</td><td>nina@exemplo.net</td><td>(55) 0414-8343</td></tr><tr><td>Benjamin Rocha</td><td>245.836.710-08</td><td>benjamin@exemplo.net</td><td>(55) 0417-3425</td></tr><tr><td>Lucca Pereira</td><td>806.957.243-47</td><td>lucca@exemplo.net</td><td>(55) 5122-2229</td></tr><tr><td>Emanuel Nunes</td><td>461.287.509-58</td><td>emanuel@exemplo.net</td><td>(55) 0817-6829</td></tr><tr><td>Sofia da Costa</td><td>102.576.983-02</td><td>sofia@exemplo.net</td><td>(61) 2734-5532</td></tr><tr><td>Larissa Moraes</td><td>450.792.681-58</td><td>larissa@exemplo.net</td><td>(55) 0119-3550</td></tr><tr><td>Daniel das Neves</td><td>326.914.807-04</td><td>daniel@exemplo.net</td><td>(31) 0579-7349</td></tr><tr><td>João Lucas Farias</td><td>589.074.231-05</td><td>joão@exemplo.net</td><td>(55) 0818-3210</td></tr><tr><td>Natália da Cruz</td><td>138.496.057-01</td><td>natália@exemplo.net</td><td>(55) 5173-0058</td></tr><tr><td>Ana Lívia Almeida</td><td>046.539.827-83</td><td>ana@exemplo.net</td><td>(71) 8274-2674</td></tr><tr><td>Thomas das Neves</td><td>806.294.315-15</td><td>thomas@exemplo.net</td><td>(61) 6123-0971</td></tr><tr><td>Mirella Barbosa</td><td>758.931.426-91</td><td>mirella@exemplo.net</td><td>(71) 5749-2823</td></tr><tr><td>Ana Sophia Mendes</td><td>782.603.145-17</td><td>ana@exemplo.net</td><td>(84) 1353-1695</td></tr><tr><td>Isabelly Silveira</td><td>340.896.215-42</td><td>isabelly@exemplo.net</td><td>(55) 0112-4894</td></tr><tr><td>Valentina Cardoso</td><td>135.986.204-89</td><td>valentina@exemplo.net</td><td>(06) 1586-4009</td></tr><tr><td>Cauã Cardoso</td><td>254.967.013-25</td><td>cauã@exemplo.net</td><td>(55) 0113-8458</td></tr><tr><td>Ana Júlia Araújo</td><td>709.426.153-52</td><td>ana@exemplo.net</td><td>(03) 1010-8949</td></tr><tr><td>Cauê Rezende</td><td>483.150.726-17</td><td>cauê@exemplo.net</td><td>(81) 3587-5508</td></tr><tr><td>Luiz Miguel Lopes</td><td>871.023.569-86</td><td>luiz@exemplo.net</td><td>(51) 5768-8821</td></tr><tr><td>Otávio Alves</td><td>158.407.623-26</td><td>otávio@exemplo.net</td><td>(55) 0517-2210</td></tr><tr><td>Kevin Pinto</td><td>180.435.726-07</td><td>kevin@exemplo.net</td><td>(55) 0414-1808</td></tr><tr><td>Vitor Gabriel Jesus</td><td>968.452.713-64</td><td>vitor@exemplo.net</td><td>(55) 7159-3029</td></tr><tr><td>Calebe da Rosa</td><td>198.640.723-31</td><td>calebe@exemplo.net</td><td>(55) 0817-7878</td></tr><tr><td>João Felipe Fernandes</td><td>168.743.902-87</td><td>joão@exemplo.net</td><td>(55) 5148-2360</td></tr><tr><td>Luna Oliveira</td><td>287.395.610-03</td><td>luna@exemplo.net</td><td>(04) 1379-5447</td></tr><tr><td>Joana Moraes</td><td>682.043.715-35</td><td>joana@exemplo.net</td><td>(55) 0848-2150</td></tr><tr><td>João Gabriel Fogaça</td><td>978.435.621-09</td><td>joão@exemplo.net</td><td>(81) 5509-0461</td></tr><tr><td>Gabriel Mendes</td><td>439.561.720-43</td><td>gabriel@exemplo.net</td><td>(55) 8477-5572</td></tr><tr><td>Ryan Ribeiro</td><td>604.271.358-26</td><td>ryan@exemplo.net</td><td>(55) 0215-5439</td></tr><tr><td>Maria da Mata</td><td>129.573.406-07</td><td>maria@exemplo.net</td><td>(84) 2104-9826</td></tr><tr><td>Ana Beatriz Peixoto</td><td>724.153.609-61</td><td>ana@exemplo.net</td><td>(55) 0219-4757</td></tr><tr><td>Isabelly Sales</td><td>160.924.357-99</td><td>isabelly@exemplo.net</td><td>(81) 2053-6908</td></tr><tr><td>João Felipe da Mota</td><td>679.138.024-13</td><td>joão@exemplo.net</td><td>(55) 2121-4175</td></tr><tr><td>Letícia Cardoso</td><td>905.768.123-40</td><td>letícia@exemplo.net</td><td>(55) 2150-0899</td></tr><tr><td>Eduarda Silveira</td><td>035.164.298-60</td><td>eduarda@exemplo.net</td><td>(07) 1429-1207</td></tr><tr><td>Isabelly Carvalho</td><td>743.165.298-46</td><td>isabelly@exemplo.net</td><td>(06) 1957-3509</td></tr><tr><td>Nicolas Mendes</td><td>645.087.931-93</td><td>nicolas@exemplo.net</td><td>(55) 0512-3801</td></tr><tr><td>Rafael Castro</td><td>743.601.825-62</td><td>rafael@exemplo.net</td><td>(55) 0217-8048</td></tr><tr><td>Gustavo Henrique Azevedo</td><td>365.172.084-53</td><td>gustavo@exemplo.net</td><td>(09) 0098-2835</td></tr><tr><td>João Felipe da Mota</td><td>150.268.397-03</td><td>joão@exemplo.net</td><td>(41) 1728-9907</td></tr><tr><td>André da Mata</td><td>457.962.380-00</td><td>andré@exemplo.net</td><td>(41) 2183-6446</td></tr><tr><td>Ana Carolina da Luz</td><td>328.190.576-59</td><td>ana@exemplo.net</td><td>(81) 5654-9619</td></tr><tr><td>João Vitor Silva</td><td>238.159.604-60</td><td>joão@exemplo.net</td><td>(07) 1325-4756</td></tr><tr><td>Cauê Pires</td><td>847.051.963-84</td><td>cauê@exemplo.net</td><td>(55) 0816-9660</td></tr><tr><td>Ana Laura Correia</td><td>730.954.128-60</td><td>ana@exemplo.net</td><td>(11) 9779-8820</td></tr><tr><td>Diogo da Mota</td><td>043.619.582-89</td><td>diogo@exemplo.net</td><td>(61) 3583-7505</td></tr><tr><td>Luiz Miguel Pires</td><td>637.824.059-59</td><td>luiz@exemplo.net</td><td>(55) 0418-7181</td></tr><tr><td>Bryan Correia</td><td>085.172.936-30</td><td>bryan@exemplo.net</td><td>(55) 6196-7054</td></tr><tr><td>Ryan Viana</td><td>218.970.356-59</td><td>ryan@exemplo.net</td><td>(55) 0849-5096</td></tr><tr><td>Ana Clara Carvalho</td><td>368.142.750-07</td><td>ana@exemplo.net</td><td>(55) 0619-0643</td></tr><tr><td>Isadora Barros</td><td>826.019.457-02</td><td>isadora@exemplo.net</td><td>(55) 3161-1963</td></tr><tr><td>Pedro Martins</td><td>681.940.357-75</td><td>pedro@exemplo.net</td><td>(55) 3186-1890</td></tr><tr><td>Caroline Pires</td><td>895.176.023-59</td><td>caroline@exemplo.net</td><td>(08) 0055-6126</td></tr><tr><td>Júlia Mendes</td><td>562.943.108-06</td><td>júlia@exemplo.net</td><td>(55) 0118-4705</td></tr><tr><td>Leonardo Nascimento</td><td>238.947.160-96</td><td>leonardo@exemplo.net</td><td>(07) 1304-0048</td></tr><tr><td>Ana Beatriz Nascimento</td><td>846.917.530-01</td><td>ana@exemplo.net</td><td>(55) 6135-7353</td></tr><tr><td>Emanuella Moraes</td><td>403.679.215-61</td><td>emanuella@exemplo.net</td><td>(81) 1646-7030</td></tr><tr><td>Lucas Moura</td><td>430.218.569-42</td><td>lucas@exemplo.net</td><td>(04) 1052-6884</td></tr><tr><td>Letícia Rodrigues</td><td>461.753.290-07</td><td>letícia@exemplo.net</td><td>(84) 6609-6533</td></tr><tr><td>Erick Moura</td><td>613.947.028-50</td><td>erick@exemplo.net</td><td>(09) 0095-0754</td></tr><tr><td>Carlos Eduardo Ramos</td><td>980.417.325-50</td><td>carlos@exemplo.net</td><td>(05) 0008-9051</td></tr><tr><td>Henrique Viana</td><td>794.801.253-23</td><td>henrique@exemplo.net</td><td>(55) 0110-5803</td></tr><tr><td>Renan Rocha</td><td>523.698.104-24</td><td>renan@exemplo.net</td><td>(55) 0116-5098</td></tr><tr><td>Sabrina Cunha</td><td>761.829.354-64</td><td>sabrina@exemplo.net</td><td>(08) 0097-7011</td></tr><tr><td>Ana Lívia Freitas</td><td>350.764.829-65</td><td>ana@exemplo.net</td><td>(55) 8488-5254</td></tr><tr><td>Mirella da Paz</td><td>920.514.678-11</td><td>mirella@exemplo.net</td><td>(55) 0416-5904</td></tr><tr><td>Larissa Alves</td><td>726.430.581-35</td><td>larissa@exemplo.net</td><td>(11) 5577-6205</td></tr><tr><td>Ryan Dias</td><td>159.468.720-01</td><td>ryan@exemplo.net</td><td>(07) 1065-9227</td></tr><tr><td>Davi Luiz Duarte</td><td>384.129.065-51</td><td>davi@exemplo.net</td><td>(55) 0849-1260</td></tr><tr><td>Davi Luiz Correia</td><td>805.369.217-68</td><td>davi@exemplo.net</td><td>(84) 5195-5332</td></tr><tr><td>Fernando da Conceição</td><td>681.720.495-01</td><td>fernando@exemplo.net</td><td>(21) 3772-9440</td></tr><tr><td>João Lucas Correia</td><td>035.462.978-65</td><td>joão@exemplo.net</td><td>(55) 0215-2573</td></tr><tr><td>Alice Rodrigues</td><td>268.015.943-89</td><td>alice@exemplo.net</td><td>(55) 0515-5655</td></tr><tr><td>Clarice Rodrigues</td><td>018.736.245-90</td><td>clarice@exemplo.net</td><td>(08) 0081-5939</td></tr><tr><td>Raquel da Cruz</td><td>935.617.240-43</td><td>raquel@exemplo.net</td><td>(11) 3186-1591</td></tr><tr><td>Isabella Caldeira</td><td>514.387.029-14</td><td>isabella@exemplo.net</td><td>(55) 0318-0934</td></tr><tr><td>Diogo Cardoso</td><td>690.518.743-75</td><td>diogo@exemplo.net</td><td>(55) 3195-3485</td></tr><tr><td>Levi Ribeiro</td><td>491.726.850-85</td><td>levi@exemplo.net</td><td>(08) 4866-5935</td></tr><tr><td>Vicente Teixeira</td><td>075.163.924-99</td><td>vicente@exemplo.net</td><td>(01) 1287-6256</td></tr><tr><td>Ryan Silveira</td><td>238.096.471-87</td><td>ryan@exemplo.net</td><td>(31) 7618-7904</td></tr><tr><td>Luiz Fernando Barros</td><td>840.123.679-78</td><td>luiz@exemplo.net</td><td>(55) 5188-1614</td></tr><tr><td>João Vitor Silveira</td><td>130.284.967-04</td><td>joão@exemplo.net</td><td>(55) 3104-6059</td></tr><tr><td>Mariana da Mata</td><td>460.837.192-40</td><td>mariana@exemplo.net</td><td>(03) 0032-1721</td></tr><tr><td>Heloísa Alves</td><td>301.945.268-60</td><td>heloísa@exemplo.net</td><td>(01) 1067-9593</td></tr><tr><td>Arthur Duarte</td><td>756.219.034-80</td><td>arthur@exemplo.net</td><td>(55) 3166-7835</td></tr><tr><td>Davi Lucas da Cunha</td><td>854.791.632-64</td><td>davi@exemplo.net</td><td>(84) 0288-0358</td></tr><tr><td>Stella Costa</td><td>158.296.473-46</td><td>stella@exemplo.net</td><td>(08) 1070-2808</td></tr><tr><td>Breno Viana</td><td>190.253.486-70</td><td>breno@exemplo.net</td><td>(01) 1374-1399</td></tr><tr><td>Clarice Fogaça</td><td>836.429.750-38</td><td>clarice@exemplo.net</td><td>(55) 4105-6318</td></tr><tr><td>Stephany Ramos</td><td>386.907.145-10</td><td>stephany@exemplo.net</td><td>(55) 8164-6788</td></tr><tr><td>Thiago Caldeira</td><td>258.301.946-51</td><td>thiago@exemplo.net</td><td>(55) 2186-5807</td></tr><tr><td>Cauê Cardoso</td><td>940.635.812-33</td><td>cauê@exemplo.net</td><td>(21) 3132-1809</td></tr><tr><td>Diego Campos</td><td>690.278.314-40</td><td>diego@exemplo.net</td><td>(55) 7193-2979</td></tr><tr><td>Heloísa Oliveira</td><td>734.915.028-88</td><td>heloísa@exemplo.net</td><td>(55) 8119-7690</td></tr><tr><td>Joaquim Alves</td><td>031.745.986-48</td><td>joaquim@exemplo.net</td><td>(07) 1472-3988</td></tr><tr><td>Maria Julia Cunha</td><td>892.013.467-78</td><td>maria@exemplo.net</td><td>(31) 8677-2776</td></tr><tr><td>Carolina Barbosa</td><td>189.207.546-67</td><td>carolina@exemplo.net</td><td>(55) 5193-1015</td></tr><tr><td>Juliana Cardoso</td><td>356.480.219-33</td><td>juliana@exemplo.net</td><td>(08) 0060-6790</td></tr><tr><td>Clarice Nascimento</td><td>892.457.103-60</td><td>clarice@exemplo.net</td><td>(55) 3197-1481</td></tr><tr><td>Arthur Ribeiro</td><td>983.710.462-78</td><td>arthur@exemplo.net</td><td>(31) 3727-3443</td></tr><tr><td>Nina Peixoto</td><td>851.732.469-28</td><td>nina@exemplo.net</td><td>(07) 1488-5604</td></tr><tr><td>João Guilherme Ramos</td><td>309.246.185-15</td><td>joão@exemplo.net</td><td>(55) 7119-5061</td></tr><tr><td>Joana Barros</td><td>632.578.019-12</td><td>joana@exemplo.net</td><td>(55) 8107-6602</td></tr><tr><td>Bruno Farias</td><td>741.908.253-79</td><td>bruno@exemplo.net</td><td>(55) 2128-9806</td></tr><tr><td>Isadora Ribeiro</td><td>057.946.132-70</td><td>isadora@exemplo.net</td><td>(21) 1276-1055</td></tr><tr><td>Pietro Souza</td><td>308.429.176-40</td><td>pietro@exemplo.net</td><td>(55) 8430-4989</td></tr><tr><td>Maria Eduarda Dias</td><td>196.705.342-16</td><td>maria@exemplo.net</td><td>(02) 1692-3452</td></tr><tr><td>Emanuelly Moura</td><td>271.096.835-59</td><td>emanuelly@exemplo.net</td><td>(55) 2127-4939</td></tr><tr><td>Ian Novaes</td><td>482.763.910-87</td><td>ian@exemplo.net</td><td>(71) 0245-9596</td></tr><tr><td>Isabelly Costela</td><td>951.408.637-66</td><td>isabelly@exemplo.net</td><td>(55) 6127-6108</td></tr><tr><td>Helena Lopes</td><td>465.793.201-25</td><td>helena@exemplo.net</td><td>(61) 9215-6567</td></tr><tr><td>Breno Souza</td><td>627.309.518-30</td><td>breno@exemplo.net</td><td>(41) 2171-7813</td></tr><tr><td>Bruna Silva</td><td>296.871.043-50</td><td>bruna@exemplo.net</td><td>(55) 0215-5165</td></tr><tr><td>Rafael Cardoso</td><td>413.957.028-88</td><td>rafael@exemplo.net</td><td>(21) 4888-5818</td></tr><tr><td>Marcela Dias</td><td>401.956.278-49</td><td>marcela@exemplo.net</td><td>(55) 0112-3961</td></tr><tr><td>Isis Freitas</td><td>531.946.870-93</td><td>isis@exemplo.net</td><td>(21) 2506-5741</td></tr><tr><td>Ana Beatriz Oliveira</td><td>706.519.238-59</td><td>ana@exemplo.net</td><td>(21) 4871-6086</td></tr><tr><td>Melissa Pires</td><td>431.865.702-71</td><td>melissa@exemplo.net</td><td>(03) 0003-4934</td></tr><tr><td>Giovanna Martins</td><td>617.523.948-28</td><td>giovanna@exemplo.net</td><td>(06) 1245-8390</td></tr><tr><td>Caio Freitas</td><td>237.149.560-34</td><td>caio@exemplo.net</td><td>(09) 0032-2351</td></tr><tr><td>João Vitor Rodrigues</td><td>809.416.257-02</td><td>joão@exemplo.net</td><td>(55) 0518-8944</td></tr><tr><td>Maria Julia Duarte</td><td>809.562.714-30</td><td>maria@exemplo.net</td><td>(01) 1993-3701</td></tr><tr><td>Maria Alice Duarte</td><td>526.983.714-55</td><td>maria@exemplo.net</td><td>(55) 4179-4122</td></tr><tr><td>André Azevedo</td><td>652.914.307-61</td><td>andré@exemplo.net</td><td>(06) 1615-6480</td></tr><tr><td>Caroline Melo</td><td>254.013.698-24</td><td>caroline@exemplo.net</td><td>(07) 1269-9175</td></tr><tr><td>Helena da Costa</td><td>138.952.407-88</td><td>helena@exemplo.net</td><td>(55) 0517-8890</td></tr><tr><td>Luiz Felipe Teixeira</td><td>158.093.247-97</td><td>luiz@exemplo.net</td><td>(09) 0001-8727</td></tr><tr><td>Gabriela Duarte</td><td>763.940.521-16</td><td>gabriela@exemplo.net</td><td>(55) 8114-3174</td></tr><tr><td>Bruno Cardoso</td><td>241.076.895-49</td><td>bruno@exemplo.net</td><td>(08) 1121-7027</td></tr><tr><td>Marcos Vinicius Gonçalves</td><td>794.016.258-67</td><td>marcos@exemplo.net</td><td>(31) 1623-4111</td></tr><tr><td>Olivia Campos</td><td>416.807.329-78</td><td>olivia@exemplo.net</td><td>(81) 1098-6459</td></tr><tr><td>Leonardo Jesus</td><td>487.152.096-01</td><td>leonardo@exemplo.net</td><td>(51) 9589-5669</td></tr><tr><td>Theo da Luz</td><td>794.213.658-28</td><td>theo@exemplo.net</td><td>(55) 7152-7325</td></tr><tr><td>Maria Teixeira</td><td>578.609.123-68</td><td>maria@exemplo.net</td><td>(55) 1163-7766</td></tr><tr><td>Rafael Cavalcanti</td><td>263.107.459-99</td><td>rafael@exemplo.net</td><td>(03) 0030-3939</td></tr><tr><td>Daniela Viana</td><td>741.639.250-07</td><td>daniela@exemplo.net</td><td>(55) 0214-2432</td></tr><tr><td>Eduarda Pinto</td><td>967.452.831-82</td><td>eduarda@exemplo.net</td><td>(55) 6144-2578</td></tr><tr><td>Ana Lívia Pereira</td><td>596.172.480-85</td><td>ana@exemplo.net</td><td>(08) 4898-8225</td></tr><tr><td>Francisco Alves</td><td>549.708.361-75</td><td>francisco@exemplo.net</td><td>(11) 9279-4965</td></tr><tr><td>Diego Nascimento</td><td>217.854.369-37</td><td>diego@exemplo.net</td><td>(55) 7113-5055</td></tr><tr><td>Rafaela Peixoto</td><td>407.318.659-01</td><td>rafaela@exemplo.net</td><td>(55) 0811-1470</td></tr><tr><td>Bianca da Luz</td><td>647.159.382-19</td><td>bianca@exemplo.net</td><td>(41) 1539-2256</td></tr><tr><td>Isaac da Paz</td><td>268.091.347-78</td><td>isaac@exemplo.net</td><td>(09) 0071-8470</td></tr><tr><td>Ana Beatriz Dias</td><td>432.580.761-62</td><td>ana@exemplo.net</td><td>(61) 5225-6588</td></tr><tr><td>Ana Sophia Pires</td><td>706.421.358-35</td><td>ana@exemplo.net</td><td>(02) 1404-5891</td></tr><tr><td>Ana Luiza Moraes</td><td>592.068.147-02</td><td>ana@exemplo.net</td><td>(51) 6645-1663</td></tr><tr><td>Alice da Rosa</td><td>460.982.371-31</td><td>alice@exemplo.net</td><td>(55) 0619-9100</td></tr><tr><td>João Lucas das Neves</td><td>359.624.810-89</td><td>joão@exemplo.net</td><td>(55) 0513-7878</td></tr><tr><td>Ana Clara Ribeiro</td><td>589.420.763-00</td><td>ana@exemplo.net</td><td>(51) 0374-8175</td></tr><tr><td>Camila Silva</td><td>490.756.813-48</td><td>camila@exemplo.net</td><td>(55) 2118-6084</td></tr><tr><td>Augusto Pereira</td><td>903.714.825-50</td><td>augusto@exemplo.net</td><td>(55) 0716-2188</td></tr><tr><td>Emanuel das Neves</td><td>093.726.581-03</td><td>emanuel@exemplo.net</td><td>(41) 0469-0107</td></tr><tr><td>Benjamin Barbosa</td><td>041.837.962-96</td><td>benjamin@exemplo.net</td><td>(55) 0119-7653</td></tr><tr><td>Ana Clara Novaes</td><td>820.971.356-68</td><td>ana@exemplo.net</td><td>(55) 1123-8694</td></tr><tr><td>Davi Luiz Correia</td><td>573.169.402-80</td><td>davi@exemplo.net</td><td>(84) 1226-7474</td></tr><tr><td>Thiago da Mata</td><td>604.892.571-94</td><td>thiago@exemplo.net</td><td>(08) 4827-8488</td></tr><tr><td>Maria Fernanda Ribeiro</td><td>859.613.024-15</td><td>maria@exemplo.net</td><td>(11) 2434-6234</td></tr><tr><td>Pedro Miguel Caldeira</td><td>860.357.941-57</td><td>pedro@exemplo.net</td><td>(41) 9810-5048</td></tr><tr><td>Gustavo Henrique Pinto</td><td>963.057.124-25</td><td>gustavo@exemplo.net</td><td>(41) 9564-3566</td></tr><tr><td>Valentina Peixoto</td><td>967.803.514-66</td><td>valentina@exemplo.net</td><td>(41) 9462-4619</td></tr><tr><td>Pedro Lucas Ramos</td><td>269.853.407-92</td><td>pedro@exemplo.net</td><td>(05) 1842-5600</td></tr><tr><td>Lara Costela</td><td>029.541.836-24</td><td>lara@exemplo.net</td><td>(55) 3190-6593</td></tr><tr><td>João Lucas da Conceição</td><td>627.513.480-17</td><td>joão@exemplo.net</td><td>(55) 0318-0747</td></tr><tr><td>Valentina da Rosa</td><td>156.089.273-03</td><td>valentina@exemplo.net</td><td>(55) 0511-5089</td></tr><tr><td>Esther da Conceição</td><td>952.178.043-60</td><td>esther@exemplo.net</td><td>(02) 1675-7903</td></tr><tr><td>Luiz Gustavo da Costa</td><td>237.485.916-91</td><td>luiz@exemplo.net</td><td>(55) 6188-6670</td></tr><tr><td>Maitê Campos</td><td>083.645.729-38</td><td>maitê@exemplo.net</td><td>(55) 0814-5987</td></tr><tr><td>Luiz Gustavo Ferreira</td><td>509.871.436-20</td><td>luiz@exemplo.net</td><td>(55) 7159-7838</td></tr><tr><td>Francisco Cunha</td><td>780.453.961-48</td><td>francisco@exemplo.net</td><td>(55) 0110-1309</td></tr><tr><td>Vicente Rocha</td><td>014.327.698-04</td><td>vicente@exemplo.net</td><td>(09) 0001-6847</td></tr><tr><td>Pedro Lucas Vieira</td><td>853.096.472-10</td><td>pedro@exemplo.net</td><td>(06) 1588-6238</td></tr><tr><td>Mariana Castro</td><td>502.768.491-67</td><td>mariana@exemplo.net</td><td>(55) 0849-9737</td></tr><tr><td>João da Rocha</td><td>014.625.389-24</td><td>joão@exemplo.net</td><td>(21) 6106-5965</td></tr><tr><td>Luiz Felipe Dias</td><td>038.279.145-23</td><td>luiz@exemplo.net</td><td>(21) 5417-5414</td></tr><tr><td>Lucca da Paz</td><td>957.804.123-32</td><td>lucca@exemplo.net</td><td>(84) 0454-7369</td></tr><tr><td>Ana Laura Sales</td><td>031.796.248-50</td><td>ana@exemplo.net</td><td>(02) 1540-7373</td></tr><tr><td>Renan da Luz</td><td>750.921.463-70</td><td>renan@exemplo.net</td><td>(55) 0813-9704</td></tr><tr><td>Julia Duarte</td><td>236.198.507-12</td><td>julia@exemplo.net</td><td>(55) 0816-8017</td></tr><tr><td>Kaique Novaes</td><td>453.709.618-75</td><td>kaique@exemplo.net</td><td>(01) 1230-5070</td></tr><tr><td>Ana Sophia da Luz</td><td>672.598.043-00</td><td>ana@exemplo.net</td><td>(55) 0218-0561</td></tr><tr><td>Ana Carolina Ribeiro</td><td>245.790.813-23</td><td>ana@exemplo.net</td><td>(04) 1950-1521</td></tr><tr><td>Fernanda Silveira</td><td>823.495.761-91</td><td>fernanda@exemplo.net</td><td>(81) 8662-9478</td></tr><tr><td>Thiago Silveira</td><td>085.143.296-42</td><td>thiago@exemplo.net</td><td>(55) 0610-6273</td></tr><tr><td>Isis Farias</td><td>493.765.821-28</td><td>isis@exemplo.net</td><td>(55) 1153-1325</td></tr><tr><td>Vicente Pires</td><td>859.017.426-30</td><td>vicente@exemplo.net</td><td>(05) 1103-4619</td></tr><tr><td>Luiza Teixeira</td><td>873.106.254-71</td><td>luiza@exemplo.net</td><td>(04) 1130-7477</td></tr><tr><td>Nicolas Souza</td><td>803.619.475-93</td><td>nicolas@exemplo.net</td><td>(55) 0513-9080</td></tr><tr><td>Mariana Pires</td><td>432.869.071-03</td><td>mariana@exemplo.net</td><td>(31) 9368-2860</td></tr><tr><td>Alana Carvalho</td><td>310.296.574-16</td><td>alana@exemplo.net</td><td>(55) 4195-9639</td></tr><tr><td>Leonardo Correia</td><td>351.964.087-20</td><td>leonardo@exemplo.net</td><td>(55) 4191-7435</td></tr><tr><td>Alexia Sales</td><td>176.980.425-02</td><td>alexia@exemplo.net</td><td>(03) 0034-5821</td></tr><tr><td>Eloah Correia</td><td>170.358.926-21</td><td>eloah@exemplo.net</td><td>(03) 0033-2098</td></tr><tr><td>Maria Julia Gonçalves</td><td>387.269.504-56</td><td>maria@exemplo.net</td><td>(84) 8911-8625</td></tr><tr><td>Francisco Pires</td><td>604.529.318-51</td><td>francisco@exemplo.net</td><td>(21) 7588-6310</td></tr><tr><td>Davi Lucas Caldeira</td><td>132.504.967-07</td><td>davi@exemplo.net</td><td>(04) 1504-9794</td></tr><tr><td>Rafael Ferreira</td><td>965.418.027-85</td><td>rafael@exemplo.net</td><td>(01) 1462-1352</td></tr><tr><td>Ana Carolina da Costa</td><td>675.432.908-47</td><td>ana@exemplo.net</td><td>(05) 0057-8090</td></tr><tr><td>Beatriz Cardoso</td><td>296.450.817-85</td><td>beatriz@exemplo.net</td><td>(55) 5128-1460</td></tr><tr><td>Bianca Oliveira</td><td>678.453.920-65</td><td>bianca@exemplo.net</td><td>(01) 1795-2968</td></tr><tr><td>Paulo Ferreira</td><td>619.583.240-51</td><td>paulo@exemplo.net</td><td>(05) 0037-3004</td></tr><tr><td>Noah Peixoto</td><td>512.378.960-02</td><td>noah@exemplo.net</td><td>(55) 1148-2325</td></tr><tr><td>Manuela Jesus</td><td>493.821.056-89</td><td>manuela@exemplo.net</td><td>(55) 6139-6131</td></tr><tr><td>Pedro Henrique Peixoto</td><td>745.261.938-28</td><td>pedro@exemplo.net</td><td>(02) 1435-5033</td></tr><tr><td>Fernando Moraes</td><td>752.189.460-01</td><td>fernando@exemplo.net</td><td>(55) 0711-8363</td></tr><tr><td>Lucca Costela</td><td>140.783.956-00</td><td>lucca@exemplo.net</td><td>(55) 0210-5494</td></tr><tr><td>Maria Vitória Mendes</td><td>364.918.527-09</td><td>maria@exemplo.net</td><td>(55) 1198-0484</td></tr><tr><td>Paulo Silveira</td><td>456.210.983-15</td><td>paulo@exemplo.net</td><td>(55) 0114-2394</td></tr><tr><td>Isabella Gomes</td><td>041.296.358-24</td><td>isabella@exemplo.net</td><td>(55) 8190-3930</td></tr><tr><td>Davi da Rosa</td><td>769.431.852-09</td><td>davi@exemplo.net</td><td>(55) 8179-7880</td></tr><tr><td>João Pedro Pereira</td><td>218.579.340-32</td><td>joão@exemplo.net</td><td>(55) 1163-9966</td></tr><tr><td>Gustavo Farias</td><td>384.510.267-53</td><td>gustavo@exemplo.net</td><td>(55) 0810-1138</td></tr><tr><td>Sophie Rezende</td><td>352.894.160-05</td><td>sophie@exemplo.net</td><td>(07) 1924-9637</td></tr><tr><td>Igor Farias</td><td>697.825.341-37</td><td>igor@exemplo.net</td><td>(55) 0616-4789</td></tr><tr><td>Pedro Henrique Nascimento</td><td>024.173.596-34</td><td>pedro@exemplo.net</td><td>(55) 8433-7824</td></tr><tr><td>Isis Dias</td><td>829.416.730-40</td><td>isis@exemplo.net</td><td>(84) 7868-2741</td></tr><tr><td>Luiz Henrique Sales</td><td>852.934.107-41</td><td>luiz@exemplo.net</td><td>(55) 0710-3172</td></tr><tr><td>Luna Freitas</td><td>718.260.439-69</td><td>luna@exemplo.net</td><td>(05) 0084-0098</td></tr><tr><td>Nathan Correia</td><td>287.649.150-85</td><td>nathan@exemplo.net</td><td>(55) 0848-9835</td></tr><tr><td>Vitor Hugo da Luz</td><td>049.762.831-78</td><td>vitor@exemplo.net</td><td>(08) 1508-5050</td></tr><tr><td>Leonardo da Cunha</td><td>390.687.512-12</td><td>leonardo@exemplo.net</td><td>(04) 1164-9628</td></tr><tr><td>Nicolas da Mota</td><td>714.526.389-00</td><td>nicolas@exemplo.net</td><td>(06) 1425-4542</td></tr><tr><td>Diogo Porto</td><td>251.730.896-95</td><td>diogo@exemplo.net</td><td>(55) 8177-3541</td></tr><tr><td>Luana da Cunha</td><td>063.721.495-16</td><td>luana@exemplo.net</td><td>(55) 0818-8295</td></tr><tr><td>João Guilherme Carvalho</td><td>024.867.913-96</td><td>joão@exemplo.net</td><td>(05) 1013-1757</td></tr><tr><td>Laís da Mata</td><td>281.905.634-24</td><td>laís@exemplo.net</td><td>(55) 6149-5843</td></tr><tr><td>Brenda Gomes</td><td>415.378.260-26</td><td>brenda@exemplo.net</td><td>(55) 0613-7787</td></tr><tr><td>Leandro Castro</td><td>065.813.279-21</td><td>leandro@exemplo.net</td><td>(55) 3139-0241</td></tr><tr><td>Maria Vitória Melo</td><td>607.415.982-30</td><td>maria@exemplo.net</td><td>(55) 3133-9667</td></tr><tr><td>Augusto da Paz</td><td>780.642.395-83</td><td>augusto@exemplo.net</td><td>(08) 1590-7600</td></tr><tr><td>Mirella Moura</td><td>620.489.153-70</td><td>mirella@exemplo.net</td><td>(55) 0414-1945</td></tr><tr><td>Francisco Correia</td><td>902.548.731-97</td><td>francisco@exemplo.net</td><td>(21) 0886-4066</td></tr><tr><td>Alice Melo</td><td>682.094.357-10</td><td>alice@exemplo.net</td><td>(61) 4399-0055</td></tr><tr><td>Elisa Correia</td><td>140.358.697-75</td><td>elisa@exemplo.net</td><td>(55) 4144-4688</td></tr><tr><td>João Lucas Almeida</td><td>405.931.762-43</td><td>joão@exemplo.net</td><td>(07) 1271-6786</td></tr><tr><td>Ian Oliveira</td><td>235.670.891-02</td><td>ian@exemplo.net</td><td>(55) 3151-1650</td></tr><tr><td>Milena Costa</td><td>589.361.247-73</td><td>milena@exemplo.net</td><td>(55) 0116-4758</td></tr><tr><td>Carolina Nascimento</td><td>462.130.578-62</td><td>carolina@exemplo.net</td><td>(55) 0215-0053</td></tr><tr><td>João Vitor Martins</td><td>358.642.970-38</td><td>joão@exemplo.net</td><td>(55) 1128-0468</td></tr><tr><td>Ana Clara Castro</td><td>641.305.279-16</td><td>ana@exemplo.net</td><td>(08) 0045-4683</td></tr><tr><td>Carolina Pires</td><td>807.391.526-02</td><td>carolina@exemplo.net</td><td>(81) 7466-9927</td></tr><tr><td>Alexandre Castro</td><td>094.275.368-29</td><td>alexandre@exemplo.net</td><td>(11) 0858-8990</td></tr><tr><td>Laura Azevedo</td><td>642.819.750-20</td><td>laura@exemplo.net</td><td>(61) 5143-2882</td></tr><tr><td>Gabriel Teixeira</td><td>957.401.682-01</td><td>gabriel@exemplo.net</td><td>(07) 1854-3843</td></tr><tr><td>Francisco Santos</td><td>092.385.167-40</td><td>francisco@exemplo.net</td><td>(55) 7161-1855</td></tr><tr><td>Lorena Dias</td><td>507.918.246-67</td><td>lorena@exemplo.net</td><td>(55) 0713-4200</td></tr><tr><td>Alana Pereira</td><td>651.230.794-16</td><td>alana@exemplo.net</td><td>(55) 0710-7103</td></tr><tr><td>Cauã Monteiro</td><td>921.684.357-82</td><td>cauã@exemplo.net</td><td>(51) 7954-1892</td></tr><tr><td>Milena da Costa</td><td>651.830.472-35</td><td>milena@exemplo.net</td><td>(41) 4801-5610</td></tr><tr><td>Noah Monteiro</td><td>937.042.618-31</td><td>noah@exemplo.net</td><td>(55) 8497-6050</td></tr><tr><td>Helena Silveira</td><td>984.562.017-58</td><td>helena@exemplo.net</td><td>(55) 0516-6693</td></tr><tr><td>Thiago da Cruz</td><td>963.082.471-03</td><td>thiago@exemplo.net</td><td>(55) 0615-2442</td></tr><tr><td>Luiz Otávio Gonçalves</td><td>623.057.819-03</td><td>luiz@exemplo.net</td><td>(55) 0819-5769</td></tr><tr><td>Clara Pinto</td><td>351.062.847-08</td><td>clara@exemplo.net</td><td>(55) 5139-9659</td></tr><tr><td>Guilherme Rodrigues</td><td>157.832.096-86</td><td>guilherme@exemplo.net</td><td>(55) 8478-1127</td></tr><tr><td>Marcelo Duarte</td><td>946.831.250-05</td><td>marcelo@exemplo.net</td><td>(61) 9684-6038</td></tr><tr><td>Yago da Cruz</td><td>981.634.057-75</td><td>yago@exemplo.net</td><td>(55) 0813-3994</td></tr><tr><td>Benjamin Carvalho</td><td>705.296.143-16</td><td>benjamin@exemplo.net</td><td>(06) 1176-3126</td></tr><tr><td>Vinicius Costa</td><td>082.769.531-40</td><td>vinicius@exemplo.net</td><td>(55) 2133-1837</td></tr><tr><td>Ana Sophia Pinto</td><td>892.143.067-96</td><td>ana@exemplo.net</td><td>(55) 0215-7625</td></tr><tr><td>João Miguel Nunes</td><td>967.423.085-83</td><td>joão@exemplo.net</td><td>(55) 3100-4510</td></tr><tr><td>Raul Oliveira</td><td>195.084.736-57</td><td>raul@exemplo.net</td><td>(55) 0847-5706</td></tr><tr><td>Caroline Nogueira</td><td>682.174.509-94</td><td>caroline@exemplo.net</td><td>(55) 1181-2891</td></tr><tr><td>Fernanda Dias</td><td>059.167.842-01</td><td>fernanda@exemplo.net</td><td>(08) 0067-2833</td></tr><tr><td>Maria Vitória Teixeira</td><td>937.806.542-29</td><td>maria@exemplo.net</td><td>(55) 6181-2834</td></tr><tr><td>Isabella Fogaça</td><td>319.507.826-03</td><td>isabella@exemplo.net</td><td>(55) 0212-3188</td></tr><tr><td>Maria Julia Araújo</td><td>031.476.528-07</td><td>maria@exemplo.net</td><td>(55) 0519-0133</td></tr><tr><td>Maria Sophia Caldeira</td><td>309.541.768-39</td><td>maria@exemplo.net</td><td>(07) 1340-1433</td></tr><tr><td>Luiz Gustavo Freitas</td><td>052.641.783-80</td><td>luiz@exemplo.net</td><td>(03) 0068-2728</td></tr><tr><td>Yuri Vieira</td><td>483.961.075-48</td><td>yuri@exemplo.net</td><td>(02) 1428-5043</td></tr><tr><td>João Felipe Fernandes</td><td>094.586.317-93</td><td>joão@exemplo.net</td><td>(08) 4623-8577</td></tr><tr><td>Emanuel Barros</td><td>731.096.582-59</td><td>emanuel@exemplo.net</td><td>(55) 0713-6677</td></tr><tr><td>Vitor Hugo Silveira</td><td>638.270.519-59</td><td>vitor@exemplo.net</td><td>(41) 3973-7364</td></tr><tr><td>Enzo Gabriel Ferreira</td><td>638.721.450-53</td><td>enzo@exemplo.net</td><td>(55) 4105-3764</td></tr><tr><td>Yago Moreira</td><td>325.067.918-68</td><td>yago@exemplo.net</td><td>(05) 1771-5067</td></tr><tr><td>Ana Clara Silva</td><td>769.542.801-94</td><td>ana@exemplo.net</td><td>(55) 8196-3952</td></tr><tr><td>Emilly Carvalho</td><td>271.854.396-55</td><td>emilly@exemplo.net</td><td>(55) 0216-1145</td></tr><tr><td>Caroline Araújo</td><td>763.192.058-30</td><td>caroline@exemplo.net</td><td>(55) 5164-5108</td></tr><tr><td>Anthony Silveira</td><td>586.743.021-90</td><td>anthony@exemplo.net</td><td>(55) 0115-8250</td></tr><tr><td>Esther Rodrigues</td><td>807.316.529-59</td><td>esther@exemplo.net</td><td>(55) 0415-6169</td></tr><tr><td>Alice Nogueira</td><td>956.413.207-06</td><td>alice@exemplo.net</td><td>(84) 5893-6145</td></tr><tr><td>Lavínia da Cruz</td><td>521.683.490-70</td><td>lavínia@exemplo.net</td><td>(55) 4151-7639</td></tr><tr><td>Lavínia da Rosa</td><td>381.642.509-70</td><td>lavínia@exemplo.net</td><td>(55) 0317-0300</td></tr><tr><td>Francisco Rocha</td><td>216.098.435-33</td><td>francisco@exemplo.net</td><td>(71) 3906-8713</td></tr><tr><td>Heloísa Rezende</td><td>352.701.689-95</td><td>heloísa@exemplo.net</td><td>(09) 0082-3767</td></tr><tr><td>Isabella Martins</td><td>863.471.952-91</td><td>isabella@exemplo.net</td><td>(55) 0212-0563</td></tr><tr><td>Thales Mendes</td><td>391.520.478-14</td><td>thales@exemplo.net</td><td>(08) 1513-9926</td></tr><tr><td>Pedro da Mota</td><td>048.739.125-04</td><td>pedro@exemplo.net</td><td>(55) 8432-6020</td></tr><tr><td>Kamilly Gomes</td><td>082.514.736-08</td><td>kamilly@exemplo.net</td><td>(21) 8493-9103</td></tr><tr><td>Pedro Miguel Jesus</td><td>504.316.298-89</td><td>pedro@exemplo.net</td><td>(55) 0412-8451</td></tr><tr><td>Vitor Porto</td><td>214.837.096-04</td><td>vitor@exemplo.net</td><td>(55) 0818-8374</td></tr><tr><td>Vinicius Araújo</td><td>287.694.031-04</td><td>vinicius@exemplo.net</td><td>(81) 7898-8473</td></tr><tr><td>Alice Santos</td><td>621.980.534-89</td><td>alice@exemplo.net</td><td>(07) 1357-4482</td></tr><tr><td>Rafaela da Cruz</td><td>459.312.870-60</td><td>rafaela@exemplo.net</td><td>(55) 7186-3884</td></tr><tr><td>Alícia Azevedo</td><td>159.378.062-12</td><td>alícia@exemplo.net</td><td>(55) 0713-7200</td></tr><tr><td>Alana Correia</td><td>369.728.105-40</td><td>alana@exemplo.net</td><td>(55) 0110-1687</td></tr><tr><td>Levi Gomes</td><td>173.940.256-16</td><td>levi@exemplo.net</td><td>(04) 1979-6403</td></tr><tr><td>Helena Vieira</td><td>653.017.982-86</td><td>helena@exemplo.net</td><td>(55) 8190-2188</td></tr><tr><td>Cecília Ramos</td><td>698.325.147-46</td><td>cecília@exemplo.net</td><td>(55) 4135-8095</td></tr><tr><td>Thales Lopes</td><td>049.713.568-00</td><td>thales@exemplo.net</td><td>(06) 1110-5639</td></tr><tr><td>Sophie Teixeira</td><td>417.265.398-73</td><td>sophie@exemplo.net</td><td>(55) 0112-7123</td></tr><tr><td>Vicente Castro</td><td>921.548.036-60</td><td>vicente@exemplo.net</td><td>(55) 2173-0784</td></tr><tr><td>Danilo Silveira</td><td>160.395.728-68</td><td>danilo@exemplo.net</td><td>(51) 4688-6921</td></tr><tr><td>Leandro Lopes</td><td>781.029.534-97</td><td>leandro@exemplo.net</td><td>(55) 0115-2254</td></tr><tr><td>Isabelly Cardoso</td><td>203.519.467-99</td><td>isabelly@exemplo.net</td><td>(84) 8743-9901</td></tr><tr><td>Benício Costela</td><td>359.842.601-15</td><td>benício@exemplo.net</td><td>(55) 8457-8804</td></tr><tr><td>Mariane Moura</td><td>193.048.572-79</td><td>mariane@exemplo.net</td><td>(55) 0611-2144</td></tr><tr><td>Pedro Henrique Dias</td><td>398.570.426-00</td><td>pedro@exemplo.net</td><td>(55) 0417-6952</td></tr><tr><td>Mariana Aragão</td><td>438.970.526-10</td><td>mariana@exemplo.net</td><td>(55) 0219-6934</td></tr><tr><td>Matheus Rocha</td><td>492.603.175-25</td><td>matheus@exemplo.net</td><td>(21) 6712-2641</td></tr><tr><td>Maria Vitória Barbosa</td><td>349.857.106-01</td><td>maria@exemplo.net</td><td>(55) 0111-2116</td></tr><tr><td>Matheus Peixoto</td><td>083.672.541-71</td><td>matheus@exemplo.net</td><td>(03) 0074-1553</td></tr><tr><td>Ana Carolina Ferreira</td><td>456.798.201-02</td><td>ana@exemplo.net</td><td>(55) 0840-8175</td></tr><tr><td>Luiz Gustavo da Luz</td><td>190.826.543-42</td><td>luiz@exemplo.net</td><td>(06) 1295-7237</td></tr><tr><td>Miguel Lopes</td><td>103.892.754-41</td><td>miguel@exemplo.net</td><td>(31) 5869-3256</td></tr><tr><td>Murilo da Conceição</td><td>637.824.051-53</td><td>murilo@exemplo.net</td><td>(55) 6122-1624</td></tr><tr><td>João Miguel Lopes</td><td>425.016.798-49</td><td>joão@exemplo.net</td><td>(55) 5142-8117</td></tr><tr><td>Ana Laura Carvalho</td><td>648.701.392-78</td><td>ana@exemplo.net</td><td>(11) 6353-3860</td></tr><tr><td>Pedro Lucas Rezende</td><td>186.945.203-89</td><td>pedro@exemplo.net</td><td>(55) 8158-3182</td></tr><tr><td>Isis Oliveira</td><td>184.256.397-19</td><td>isis@exemplo.net</td><td>(09) 0051-8545</td></tr><tr><td>Thomas Barbosa</td><td>653.089.712-77</td><td>thomas@exemplo.net</td><td>(55) 3162-2734</td></tr><tr><td>Nina da Paz</td><td>890.453.612-05</td><td>nina@exemplo.net</td><td>(41) 7667-7648</td></tr><tr><td>Ana Carolina Moreira</td><td>572.908.463-38</td><td>ana@exemplo.net</td><td>(01) 1301-1065</td></tr><tr><td>Maria Eduarda da Paz</td><td>596.231.740-80</td><td>maria@exemplo.net</td><td>(55) 0714-4808</td></tr><tr><td>Ana Júlia Fogaça</td><td>347.092.156-34</td><td>ana@exemplo.net</td><td>(61) 9827-1787</td></tr><tr><td>Marcos Vinicius Jesus</td><td>175.402.863-26</td><td>marcos@exemplo.net</td><td>(55) 2147-9135</td></tr><tr><td>Lívia Duarte</td><td>803.652.794-47</td><td>lívia@exemplo.net</td><td>(55) 5146-5749</td></tr><tr><td>Nicolas Costela</td><td>318.264.095-05</td><td>nicolas@exemplo.net</td><td>(31) 7361-8293</td></tr><tr><td>Murilo Ferreira</td><td>590.218.437-14</td><td>murilo@exemplo.net</td><td>(71) 0066-0853</td></tr><tr><td>Thales da Paz</td><td>671.954.803-48</td><td>thales@exemplo.net</td><td>(07) 1723-5646</td></tr><tr><td>Sarah Costela</td><td>169.702.843-87</td><td>sarah@exemplo.net</td><td>(07) 1246-8415</td></tr><tr><td>Luiza Dias</td><td>524.679.310-99</td><td>luiza@exemplo.net</td><td>(55) 6179-6606</td></tr><tr><td>Leonardo Duarte</td><td>930.856.421-70</td><td>leonardo@exemplo.net</td><td>(51) 2303-4836</td></tr><tr><td>João Felipe Freitas</td><td>584.607.139-20</td><td>joão@exemplo.net</td><td>(04) 1121-4779</td></tr><tr><td>Luiz Otávio Ramos</td><td>396.147.250-52</td><td>luiz@exemplo.net</td><td>(07) 1231-4690</td></tr><tr><td>Fernando Souza</td><td>892.410.536-15</td><td>fernando@exemplo.net</td><td>(41) 5901-0871</td></tr><tr><td>Juliana da Luz</td><td>124.309.578-41</td><td>juliana@exemplo.net</td><td>(08) 1694-2716</td></tr><tr><td>Luiz Gustavo das Neves</td><td>594.386.217-09</td><td>luiz@exemplo.net</td><td>(55) 5111-7472</td></tr><tr><td>Joaquim Cardoso</td><td>697.543.021-70</td><td>joaquim@exemplo.net</td><td>(55) 4198-4769</td></tr><tr><td>Evelyn Fernandes</td><td>385.169.742-19</td><td>evelyn@exemplo.net</td><td>(55) 3192-0105</td></tr><tr><td>Vitor Farias</td><td>560.429.183-89</td><td>vitor@exemplo.net</td><td>(55) 2153-7746</td></tr><tr><td>Davi Lucas Farias</td><td>376.280.194-04</td><td>davi@exemplo.net</td><td>(51) 0741-6481</td></tr><tr><td>Rebeca Martins</td><td>182.347.059-97</td><td>rebeca@exemplo.net</td><td>(55) 0219-1107</td></tr><tr><td>Lucca Martins</td><td>692.348.517-73</td><td>lucca@exemplo.net</td><td>(02) 1543-9888</td></tr><tr><td>Eloah Viana</td><td>064.597.182-02</td><td>eloah@exemplo.net</td><td>(41) 3541-8881</td></tr><tr><td>Heitor da Conceição</td><td>928.704.136-96</td><td>heitor@exemplo.net</td><td>(55) 3184-0826</td></tr><tr><td>Davi Lucca Lima</td><td>572.083.146-08</td><td>davi@exemplo.net</td><td>(06) 1043-5573</td></tr><tr><td>Davi Luiz Freitas</td><td>589.316.240-42</td><td>davi@exemplo.net</td><td>(71) 6148-4936</td></tr><tr><td>Raul Fernandes</td><td>563.189.047-00</td><td>raul@exemplo.net</td><td>(02) 1943-0509</td></tr><tr><td>Luna da Mota</td><td>328.974.051-04</td><td>luna@exemplo.net</td><td>(08) 4517-2037</td></tr><tr><td>Laís Ramos</td><td>457.608.391-01</td><td>laís@exemplo.net</td><td>(04) 1078-6158</td></tr><tr><td>Letícia Moura</td><td>697.125.830-40</td><td>letícia@exemplo.net</td><td>(55) 8480-6548</td></tr><tr><td>Maysa Cavalcanti</td><td>943.062.517-99</td><td>maysa@exemplo.net</td><td>(55) 7163-1702</td></tr><tr><td>Júlia Sales</td><td>764.908.312-87</td><td>júlia@exemplo.net</td><td>(61) 6351-2735</td></tr><tr><td>Lara da Cruz</td><td>974.603.851-66</td><td>lara@exemplo.net</td><td>(55) 2194-8917</td></tr><tr><td>Eloah Freitas</td><td>345.917.802-79</td><td>eloah@exemplo.net</td><td>(11) 0090-4166</td></tr><tr><td>João Pedro Rodrigues</td><td>812.509.734-14</td><td>joão@exemplo.net</td><td>(55) 5113-6882</td></tr><tr><td>Erick Viana</td><td>365.729.480-56</td><td>erick@exemplo.net</td><td>(55) 0114-0460</td></tr><tr><td>Diego da Mota</td><td>456.937.102-70</td><td>diego@exemplo.net</td><td>(11) 7144-1058</td></tr><tr><td>Isabella Costela</td><td>946.723.850-00</td><td>isabella@exemplo.net</td><td>(55) 1103-8504</td></tr><tr><td>Vitória Barbosa</td><td>984.013.765-48</td><td>vitória@exemplo.net</td><td>(01) 1170-0694</td></tr><tr><td>Maria Alice Farias</td><td>803.576.492-65</td><td>maria@exemplo.net</td><td>(55) 8127-9398</td></tr><tr><td>Paulo Cunha</td><td>897.652.130-77</td><td>paulo@exemplo.net</td><td>(55) 0710-0106</td></tr><tr><td>Maria Cecília da Costa</td><td>329.486.017-03</td><td>maria@exemplo.net</td><td>(03) 0072-9580</td></tr><tr><td>João Miguel Vieira</td><td>204.987.531-23</td><td>joão@exemplo.net</td><td>(03) 1741-9859</td></tr><tr><td>Nina Almeida</td><td>674.398.501-57</td><td>nina@exemplo.net</td><td>(04) 1665-4063</td></tr><tr><td>Luiz Gustavo Lima</td><td>753.196.028-12</td><td>luiz@exemplo.net</td><td>(55) 0614-9669</td></tr><tr><td>Maria Vitória Jesus</td><td>586.493.021-06</td><td>maria@exemplo.net</td><td>(55) 0840-1923</td></tr><tr><td>Kevin Novaes</td><td>928.403.516-33</td><td>kevin@exemplo.net</td><td>(55) 8465-0851</td></tr><tr><td>Letícia da Rosa</td><td>026.974.513-07</td><td>letícia@exemplo.net</td><td>(08) 0029-2318</td></tr><tr><td>Isabelly Farias</td><td>259.748.301-05</td><td>isabelly@exemplo.net</td><td>(55) 5162-2587</td></tr><tr><td>Juan Duarte</td><td>156.438.920-06</td><td>juan@exemplo.net</td><td>(11) 2290-1514</td></tr><tr><td>Maitê Campos</td><td>795.084.632-10</td><td>maitê@exemplo.net</td><td>(81) 0610-2497</td></tr><tr><td>Clarice Mendes</td><td>680.371.249-40</td><td>clarice@exemplo.net</td><td>(07) 1340-8323</td></tr><tr><td>João Gabriel Teixeira</td><td>065.941.783-93</td><td>joão@exemplo.net</td><td>(55) 8167-5560</td></tr><tr><td>Eloah Peixoto</td><td>791.382.645-28</td><td>eloah@exemplo.net</td><td>(55) 7122-8768</td></tr><tr><td>Felipe Correia</td><td>792.835.016-59</td><td>felipe@exemplo.net</td><td>(55) 0710-0021</td></tr><tr><td>Maitê Rezende</td><td>219.468.350-05</td><td>maitê@exemplo.net</td><td>(09) 0051-7627</td></tr><tr><td>João Moraes</td><td>192.375.648-64</td><td>joão@exemplo.net</td><td>(03) 1581-9322</td></tr><tr><td>Isadora Cunha</td><td>580.913.276-68</td><td>isadora@exemplo.net</td><td>(09) 0003-8313</td></tr><tr><td>Ana Vitória Pereira</td><td>427.305.698-47</td><td>ana@exemplo.net</td><td>(05) 0092-0024</td></tr><tr><td>João Guilherme Barros</td><td>297.308.164-50</td><td>joão@exemplo.net</td><td>(04) 1422-1410</td></tr><tr><td>Vitor Hugo Nunes</td><td>380.469.725-92</td><td>vitor@exemplo.net</td><td>(08) 0091-8937</td></tr><tr><td>Clara Ribeiro</td><td>219.053.746-07</td><td>clara@exemplo.net</td><td>(05) 1441-2374</td></tr><tr><td>Manuela da Cruz</td><td>935.271.806-21</td><td>manuela@exemplo.net</td><td>(55) 6146-9111</td></tr><tr><td>Felipe Fogaça</td><td>301.249.578-97</td><td>felipe@exemplo.net</td><td>(05) 0009-0615</td></tr><tr><td>Enzo Castro</td><td>450.867.312-08</td><td>enzo@exemplo.net</td><td>(21) 0987-2655</td></tr><tr><td>Igor Azevedo</td><td>140.539.826-42</td><td>igor@exemplo.net</td><td>(51) 5662-5534</td></tr><tr><td>Davi Lucas da Rocha</td><td>083.612.457-07</td><td>davi@exemplo.net</td><td>(02) 1025-7385</td></tr><tr><td>Raquel Silveira</td><td>509.213.687-12</td><td>raquel@exemplo.net</td><td>(55) 2145-0400</td></tr><tr><td>Ana Lívia Peixoto</td><td>189.247.560-01</td><td>ana@exemplo.net</td><td>(03) 0063-5473</td></tr><tr><td>Emanuel Rezende</td><td>791.082.435-14</td><td>emanuel@exemplo.net</td><td>(61) 8720-3403</td></tr><tr><td>Vitor Hugo da Costa</td><td>950.718.463-57</td><td>vitor@exemplo.net</td><td>(03) 0051-7063</td></tr><tr><td>Ana Sophia Fernandes</td><td>237.806.519-12</td><td>ana@exemplo.net</td><td>(31) 9548-5078</td></tr><tr><td>Mariana da Mota</td><td>263.795.810-30</td><td>mariana@exemplo.net</td><td>(55) 0119-2598</td></tr><tr><td>Clarice Costela</td><td>728.435.601-44</td><td>clarice@exemplo.net</td><td>(02) 1050-6027</td></tr><tr><td>Sophia Porto</td><td>340.261.598-33</td><td>sophia@exemplo.net</td><td>(55) 0818-7866</td></tr><tr><td>Juliana Duarte</td><td>587.120.396-59</td><td>juliana@exemplo.net</td><td>(55) 5178-3627</td></tr><tr><td>Vinicius da Rosa</td><td>973.104.586-48</td><td>vinicius@exemplo.net</td><td>(05) 1778-3698</td></tr><tr><td>Igor Ribeiro</td><td>496.712.503-43</td><td>igor@exemplo.net</td><td>(55) 6110-4037</td></tr><tr><td>Marcela Ramos</td><td>138.695.420-98</td><td>marcela@exemplo.net</td><td>(06) 1255-1320</td></tr><tr><td>Clarice Peixoto</td><td>285.690.731-86</td><td>clarice@exemplo.net</td><td>(84) 9185-4619</td></tr><tr><td>Daniela Costela</td><td>861.490.527-02</td><td>daniela@exemplo.net</td><td>(55) 0516-3248</td></tr><tr><td>Valentina Cunha</td><td>803.294.761-22</td><td>valentina@exemplo.net</td><td>(41) 6836-2084</td></tr><tr><td>Ana Nogueira</td><td>821.903.456-42</td><td>ana@exemplo.net</td><td>(84) 9771-5271</td></tr><tr><td>Isabel Rezende</td><td>619.054.732-06</td><td>isabel@exemplo.net</td><td>(55) 0417-6059</td></tr><tr><td>Isabella Campos</td><td>341.708.529-23</td><td>isabella@exemplo.net</td><td>(08) 1485-3323</td></tr><tr><td>Mirella Pereira</td><td>175.204.638-26</td><td>mirella@exemplo.net</td><td>(55) 0716-7731</td></tr><tr><td>Breno Azevedo</td><td>617.438.920-04</td><td>breno@exemplo.net</td><td>(08) 1029-3498</td></tr><tr><td>Stella Fogaça</td><td>873.210.956-30</td><td>stella@exemplo.net</td><td>(09) 0027-1957</td></tr><tr><td>Luiz Gustavo Pereira</td><td>695.823.170-86</td><td>luiz@exemplo.net</td><td>(55) 0610-0417</td></tr><tr><td>Paulo Rocha</td><td>821.659.470-49</td><td>paulo@exemplo.net</td><td>(55) 0711-5987</td></tr><tr><td>Gabriel Dias</td><td>762.041.358-80</td><td>gabriel@exemplo.net</td><td>(55) 2149-7155</td></tr><tr><td>Caio Santos</td><td>827.549.361-73</td><td>caio@exemplo.net</td><td>(08) 0030-1749</td></tr><tr><td>Caroline da Mota</td><td>925.408.361-51</td><td>caroline@exemplo.net</td><td>(05) 1337-8110</td></tr><tr><td>Theo Barbosa</td><td>816.054.397-20</td><td>theo@exemplo.net</td><td>(06) 1771-3233</td></tr><tr><td>Murilo Ribeiro</td><td>618.342.509-51</td><td>murilo@exemplo.net</td><td>(55) 0716-9413</td></tr><tr><td>Vitor Hugo Silveira</td><td>091.862.435-51</td><td>vitor@exemplo.net</td><td>(55) 0817-2799</td></tr><tr><td>Cauã Araújo</td><td>723.698.150-86</td><td>cauã@exemplo.net</td><td>(11) 2786-1235</td></tr><tr><td>Sophie Souza</td><td>089.126.734-40</td><td>sophie@exemplo.net</td><td>(55) 0219-5501</td></tr><tr><td>Clara Nunes</td><td>397.028.614-03</td><td>clara@exemplo.net</td><td>(55) 8493-1877</td></tr><tr><td>Joaquim Gonçalves</td><td>197.520.436-07</td><td>joaquim@exemplo.net</td><td>(55) 8481-9191</td></tr><tr><td>Thiago Silveira</td><td>238.640.597-47</td><td>thiago@exemplo.net</td><td>(04) 1443-2530</td></tr><tr><td>Ana Júlia Campos</td><td>653.021.947-16</td><td>ana@exemplo.net</td><td>(55) 0518-5461</td></tr><tr><td>Isabel da Cruz</td><td>506.428.139-06</td><td>isabel@exemplo.net</td><td>(07) 1630-8589</td></tr><tr><td>Brenda da Rocha</td><td>186.073.952-03</td><td>brenda@exemplo.net</td><td>(55) 0413-9695</td></tr><tr><td>Nathan Nascimento</td><td>854.973.126-91</td><td>nathan@exemplo.net</td><td>(01) 1804-8858</td></tr><tr><td>Ian Pinto</td><td>012.365.897-77</td><td>ian@exemplo.net</td><td>(81) 9725-9068</td></tr><tr><td>Maria Silva</td><td>219.756.480-30</td><td>maria@exemplo.net</td><td>(11) 4903-7448</td></tr><tr><td>Nicole Almeida</td><td>745.281.369-37</td><td>nicole@exemplo.net</td><td>(55) 0842-4498</td></tr><tr><td>Diogo Cardoso</td><td>049.157.863-66</td><td>diogo@exemplo.net</td><td>(21) 0393-7198</td></tr><tr><td>Ana Vitória Ribeiro</td><td>518.397.206-03</td><td>ana@exemplo.net</td><td>(55) 8480-9581</td></tr><tr><td>Benjamin Moreira</td><td>769.508.231-77</td><td>benjamin@exemplo.net</td><td>(03) 0083-5382</td></tr><tr><td>Kaique Gomes</td><td>674.281.539-64</td><td>kaique@exemplo.net</td><td>(55) 0817-5515</td></tr><tr><td>Enrico Aragão</td><td>728.345.916-28</td><td>enrico@exemplo.net</td><td>(21) 0255-1171</td></tr><tr><td>Pietra Peixoto</td><td>752.368.491-28</td><td>pietra@exemplo.net</td><td>(03) 0034-2148</td></tr><tr><td>Francisco Correia</td><td>394.580.716-66</td><td>francisco@exemplo.net</td><td>(08) 1782-0916</td></tr><tr><td>Olivia Rodrigues</td><td>840.593.716-10</td><td>olivia@exemplo.net</td><td>(55) 0715-3545</td></tr><tr><td>Igor Farias</td><td>756.829.013-12</td><td>igor@exemplo.net</td><td>(84) 9514-8576</td></tr><tr><td>Murilo Pires</td><td>816.905.274-20</td><td>murilo@exemplo.net</td><td>(55) 7105-7964</td></tr><tr><td>Calebe da Rocha</td><td>716.853.920-59</td><td>calebe@exemplo.net</td><td>(81) 6019-1529</td></tr><tr><td>Evelyn da Conceição</td><td>410.578.632-62</td><td>evelyn@exemplo.net</td><td>(07) 1844-7243</td></tr><tr><td>Raul Cardoso</td><td>037.548.691-75</td><td>raul@exemplo.net</td><td>(31) 4959-9678</td></tr><tr><td>Ana Carolina Novaes</td><td>905.683.174-75</td><td>ana@exemplo.net</td><td>(55) 0519-5134</td></tr><tr><td>Giovanna das Neves</td><td>708.921.634-96</td><td>giovanna@exemplo.net</td><td>(01) 1772-4359</td></tr><tr><td>Nicole da Paz</td><td>027.154.369-80</td><td>nicole@exemplo.net</td><td>(04) 1594-4680</td></tr><tr><td>Valentina da Mata</td><td>279.140.368-03</td><td>valentina@exemplo.net</td><td>(31) 1155-4114</td></tr><tr><td>Erick Caldeira</td><td>327.691.845-55</td><td>erick@exemplo.net</td><td>(03) 0063-2857</td></tr><tr><td>Fernando da Costa</td><td>230.796.814-87</td><td>fernando@exemplo.net</td><td>(55) 4146-4376</td></tr><tr><td>Catarina Ramos</td><td>296.374.015-80</td><td>catarina@exemplo.net</td><td>(55) 4189-9082</td></tr><tr><td>Larissa Monteiro</td><td>631.840.927-04</td><td>larissa@exemplo.net</td><td>(21) 0855-5454</td></tr><tr><td>Francisco da Cruz</td><td>957.802.614-58</td><td>francisco@exemplo.net</td><td>(55) 0113-9528</td></tr><tr><td>João Felipe Azevedo</td><td>480.713.596-10</td><td>joão@exemplo.net</td><td>(55) 6184-0141</td></tr><tr><td>Caio das Neves</td><td>479.180.356-66</td><td>caio@exemplo.net</td><td>(11) 6548-2480</td></tr><tr><td>Gabrielly Araújo</td><td>612.974.530-34</td><td>gabrielly@exemplo.net</td><td>(55) 8116-2689</td></tr><tr><td>Samuel Silveira</td><td>168.593.420-05</td><td>samuel@exemplo.net</td><td>(55) 0842-1699</td></tr><tr><td>Heloísa Aragão</td><td>652.047.189-58</td><td>heloísa@exemplo.net</td><td>(81) 4197-9778</td></tr><tr><td>Lívia Freitas</td><td>451.906.273-06</td><td>lívia@exemplo.net</td><td>(05) 0070-8789</td></tr><tr><td>Daniela Nogueira</td><td>071.849.236-69</td><td>daniela@exemplo.net</td><td>(31) 2593-7299</td></tr><tr><td>Rafael Jesus</td><td>273.680.915-77</td><td>rafael@exemplo.net</td><td>(08) 1664-2536</td></tr><tr><td>Thiago Duarte</td><td>043.819.752-60</td><td>thiago@exemplo.net</td><td>(08) 0017-9924</td></tr><tr><td>Yasmin Aragão</td><td>923.407.618-40</td><td>yasmin@exemplo.net</td><td>(07) 1465-3750</td></tr><tr><td>Felipe Correia</td><td>137.526.948-82</td><td>felipe@exemplo.net</td><td>(55) 0815-4246</td></tr><tr><td>Gustavo Henrique Cardoso</td><td>831.496.207-40</td><td>gustavo@exemplo.net</td><td>(55) 2135-4435</td></tr><tr><td>Giovanna da Mata</td><td>571.480.932-79</td><td>giovanna@exemplo.net</td><td>(08) 4723-1958</td></tr><tr><td>André Cunha</td><td>306.971.428-50</td><td>andré@exemplo.net</td><td>(01) 1539-5092</td></tr><tr><td>Vitor Hugo Cunha</td><td>903.526.187-95</td><td>vitor@exemplo.net</td><td>(04) 1337-1593</td></tr><tr><td>Luiz Gustavo Alves</td><td>415.932.760-52</td><td>luiz@exemplo.net</td><td>(55) 2139-1060</td></tr><tr><td>Rodrigo Campos</td><td>027.863.195-95</td><td>rodrigo@exemplo.net</td><td>(61) 9707-5630</td></tr><tr><td>Emanuelly Caldeira</td><td>784.163.250-90</td><td>emanuelly@exemplo.net</td><td>(55) 1163-1767</td></tr><tr><td>Breno Jesus</td><td>937.160.485-93</td><td>breno@exemplo.net</td><td>(55) 3131-6984</td></tr><tr><td>Pietra Carvalho</td><td>968.572.430-00</td><td>pietra@exemplo.net</td><td>(81) 2877-0965</td></tr><tr><td>Emilly da Luz</td><td>639.871.054-10</td><td>emilly@exemplo.net</td><td>(55) 3102-9628</td></tr><tr><td>Mariane Ribeiro</td><td>463.917.582-55</td><td>mariane@exemplo.net</td><td>(55) 6153-8328</td></tr><tr><td>Stephany Vieira</td><td>592.316.840-51</td><td>stephany@exemplo.net</td><td>(04) 1267-4971</td></tr><tr><td>Ana Luiza Barros</td><td>568.410.792-30</td><td>ana@exemplo.net</td><td>(08) 0078-1852</td></tr><tr><td>Benjamin Rezende</td><td>745.981.602-76</td><td>benjamin@exemplo.net</td><td>(06) 1946-8779</td></tr><tr><td>Felipe Nogueira</td><td>980.532.467-29</td><td>felipe@exemplo.net</td><td>(03) 0036-6709</td></tr><tr><td>Vicente Nunes</td><td>836.912.074-13</td><td>vicente@exemplo.net</td><td>(55) 0717-1991</td></tr><tr><td>Ana Laura Melo</td><td>920.514.873-32</td><td>ana@exemplo.net</td><td>(03) 1240-1528</td></tr><tr><td>Ryan Ramos</td><td>921.568.403-42</td><td>ryan@exemplo.net</td><td>(41) 9908-1258</td></tr><tr><td>Davi Lucas Ramos</td><td>802.745.163-90</td><td>davi@exemplo.net</td><td>(55) 0118-9162</td></tr><tr><td>Lucas Lopes</td><td>409.572.618-02</td><td>lucas@exemplo.net</td><td>(55) 3135-6558</td></tr><tr><td>Ana Carolina Gomes</td><td>853.406.297-83</td><td>ana@exemplo.net</td><td>(55) 8135-0291</td></tr><tr><td>Esther Sales</td><td>501.963.427-16</td><td>esther@exemplo.net</td><td>(55) 0514-5476</td></tr><tr><td>Elisa da Rosa</td><td>893.061.574-01</td><td>elisa@exemplo.net</td><td>(08) 1580-8584</td></tr><tr><td>Laís Peixoto</td><td>958.046.712-94</td><td>laís@exemplo.net</td><td>(21) 6965-3594</td></tr><tr><td>Gustavo Henrique Freitas</td><td>915.470.368-93</td><td>gustavo@exemplo.net</td><td>(04) 1471-6372</td></tr><tr><td>Sabrina Rezende</td><td>409.751.283-88</td><td>sabrina@exemplo.net</td><td>(11) 9460-8606</td></tr><tr><td>Raul Vieira</td><td>743.568.209-83</td><td>raul@exemplo.net</td><td>(55) 8463-7162</td></tr><tr><td>Pedro Lucas Ramos</td><td>698.301.527-40</td><td>pedro@exemplo.net</td><td>(55) 1130-1612</td></tr><tr><td>Sophie Farias</td><td>568.307.492-47</td><td>sophie@exemplo.net</td><td>(05) 0002-8337</td></tr><tr><td>Heloísa Nunes</td><td>259.046.718-49</td><td>heloísa@exemplo.net</td><td>(11) 3253-3359</td></tr><tr><td>Alícia Gomes</td><td>061.435.879-57</td><td>alícia@exemplo.net</td><td>(81) 6522-8691</td></tr><tr><td>Juan Costela</td><td>981.470.326-50</td><td>juan@exemplo.net</td><td>(55) 0310-8281</td></tr><tr><td>Clara Caldeira</td><td>314.650.287-90</td><td>clara@exemplo.net</td><td>(55) 4112-1805</td></tr><tr><td>Daniela da Rosa</td><td>205.138.947-05</td><td>daniela@exemplo.net</td><td>(11) 9800-0292</td></tr><tr><td>Kaique Melo</td><td>645.290.318-70</td><td>kaique@exemplo.net</td><td>(55) 3170-2139</td></tr><tr><td>Elisa Moreira</td><td>784.965.230-47</td><td>elisa@exemplo.net</td><td>(08) 4989-0789</td></tr><tr><td>Raquel Aragão</td><td>613.794.850-10</td><td>raquel@exemplo.net</td><td>(31) 2322-5572</td></tr><tr><td>Breno Araújo</td><td>375.641.028-53</td><td>breno@exemplo.net</td><td>(55) 5153-4202</td></tr><tr><td>Bruno Martins</td><td>456.239.701-25</td><td>bruno@exemplo.net</td><td>(03) 0089-2678</td></tr><tr><td>Raul Moreira</td><td>579.063.184-39</td><td>raul@exemplo.net</td><td>(61) 5655-9542</td></tr><tr><td>Alana da Mota</td><td>658.270.149-58</td><td>alana@exemplo.net</td><td>(06) 1941-9762</td></tr><tr><td>Stella da Costa</td><td>825.013.794-97</td><td>stella@exemplo.net</td><td>(01) 1609-3446</td></tr><tr><td>Beatriz Nascimento</td><td>931.042.765-52</td><td>beatriz@exemplo.net</td><td>(55) 0317-0620</td></tr><tr><td>Pedro Miguel Cardoso</td><td>783.150.962-30</td><td>pedro@exemplo.net</td><td>(05) 1297-2047</td></tr><tr><td>João Guilherme da Cunha</td><td>105.246.798-94</td><td>joão@exemplo.net</td><td>(08) 1974-5487</td></tr><tr><td>Breno Nogueira</td><td>167.420.385-35</td><td>breno@exemplo.net</td><td>(51) 9613-4613</td></tr><tr><td>Nina Araújo</td><td>973.268.145-46</td><td>nina@exemplo.net</td><td>(55) 0419-2056</td></tr><tr><td>Esther Dias</td><td>176.839.245-55</td><td>esther@exemplo.net</td><td>(03) 0007-2678</td></tr><tr><td>Igor Nogueira</td><td>162.935.840-15</td><td>igor@exemplo.net</td><td>(55) 0814-1077</td></tr><tr><td>Eloah Almeida</td><td>978.230.465-47</td><td>eloah@exemplo.net</td><td>(55) 1199-5495</td></tr><tr><td>Isis Gomes</td><td>704.286.953-29</td><td>isis@exemplo.net</td><td>(08) 0017-1492</td></tr><tr><td>Luiz Felipe Aragão</td><td>756.931.482-46</td><td>luiz@exemplo.net</td><td>(55) 7198-9946</td></tr><tr><td>Kevin Rocha</td><td>798.601.423-78</td><td>kevin@exemplo.net</td><td>(55) 4101-8152</td></tr><tr><td>Kamilly Carvalho</td><td>507.316.984-01</td><td>kamilly@exemplo.net</td><td>(51) 1934-3726</td></tr><tr><td>Luiz Gustavo Correia</td><td>435.708.621-35</td><td>luiz@exemplo.net</td><td>(11) 2310-7969</td></tr><tr><td>Marcela Silva</td><td>410.953.678-20</td><td>marcela@exemplo.net</td><td>(81) 4916-4422</td></tr><tr><td>Luiz Gustavo Porto</td><td>024.531.879-88</td><td>luiz@exemplo.net</td><td>(55) 0616-2873</td></tr><tr><td>Kaique Cunha</td><td>842.596.170-01</td><td>kaique@exemplo.net</td><td>(08) 1952-4448</td></tr><tr><td>Brenda Cardoso</td><td>512.497.386-28</td><td>brenda@exemplo.net</td><td>(11) 1442-4878</td></tr><tr><td>Guilherme Almeida</td><td>850.126.934-42</td><td>guilherme@exemplo.net</td><td>(01) 1379-1511</td></tr><tr><td>Daniela Mendes</td><td>385.619.742-73</td><td>daniela@exemplo.net</td><td>(08) 0094-7374</td></tr><tr><td>Marcos Vinicius Silveira</td><td>714.052.863-26</td><td>marcos@exemplo.net</td><td>(55) 5134-9534</td></tr><tr><td>Alice Lima</td><td>591.423.678-91</td><td>alice@exemplo.net</td><td>(81) 5923-4846</td></tr><tr><td>Emanuelly Souza</td><td>270.163.859-30</td><td>emanuelly@exemplo.net</td><td>(51) 4619-4375</td></tr><tr><td>Amanda Souza</td><td>049.382.167-87</td><td>amanda@exemplo.net</td><td>(55) 0712-5219</td></tr><tr><td>Kamilly Viana</td><td>805.379.126-30</td><td>kamilly@exemplo.net</td><td>(31) 3710-4536</td></tr><tr><td>João Pedro Pires</td><td>126.935.487-64</td><td>joão@exemplo.net</td><td>(05) 0087-2089</td></tr><tr><td>Emilly da Mata</td><td>938.540.176-93</td><td>emilly@exemplo.net</td><td>(04) 1892-1935</td></tr><tr><td>Gustavo Henrique Gonçalves</td><td>365.480.971-57</td><td>gustavo@exemplo.net</td><td>(04) 1980-8652</td></tr><tr><td>Murilo Costela</td><td>362.147.598-28</td><td>murilo@exemplo.net</td><td>(02) 1671-8180</td></tr><tr><td>Lucas da Costa</td><td>253.148.079-04</td><td>lucas@exemplo.net</td><td>(55) 0842-7577</td></tr><tr><td>Letícia Lopes</td><td>538.049.721-79</td><td>letícia@exemplo.net</td><td>(55) 0119-9980</td></tr><tr><td>Helena Silveira</td><td>670.581.324-53</td><td>helena@exemplo.net</td><td>(81) 8935-8605</td></tr><tr><td>Gabriela da Paz</td><td>207.348.951-60</td><td>gabriela@exemplo.net</td><td>(55) 0841-2963</td></tr><tr><td>Francisco Silva</td><td>389.105.276-68</td><td>francisco@exemplo.net</td><td>(61) 8190-7941</td></tr><tr><td>Luiz Henrique Aragão</td><td>629.310.857-40</td><td>luiz@exemplo.net</td><td>(61) 2933-3697</td></tr><tr><td>Caroline Moraes</td><td>827.195.340-05</td><td>caroline@exemplo.net</td><td>(55) 2163-6986</td></tr><tr><td>Benjamin Silva</td><td>186.293.457-64</td><td>benjamin@exemplo.net</td><td>(08) 4038-7780</td></tr><tr><td>João Vitor da Paz</td><td>948.632.051-98</td><td>joão@exemplo.net</td><td>(05) 0010-4129</td></tr><tr><td>Guilherme Pinto</td><td>431.962.587-00</td><td>guilherme@exemplo.net</td><td>(41) 6014-0415</td></tr><tr><td>Paulo Martins</td><td>925.401.863-51</td><td>paulo@exemplo.net</td><td>(55) 0817-7328</td></tr><tr><td>Ana Carolina Ramos</td><td>631.498.507-20</td><td>ana@exemplo.net</td><td>(05) 0088-3895</td></tr><tr><td>Agatha Nogueira</td><td>806.129.453-24</td><td>agatha@exemplo.net</td><td>(03) 1355-2634</td></tr><tr><td>André Novaes</td><td>420.189.763-03</td><td>andré@exemplo.net</td><td>(55) 5170-9271</td></tr></tbody></table></div>"
      ]
     },
     "metadata": {
      "application/vnd.databricks.v1+output": {
       "addedWidgets": {},
       "aggData": [],
       "aggError": "",
       "aggOverflow": false,
       "aggSchema": [],
       "aggSeriesLimitReached": false,
       "aggType": "",
       "arguments": {},
       "columnCustomDisplayInfos": {},
       "data": [
        [
         "Ana Julia Moraes",
         "273.498.651-55",
         "ana@exemplo.net",
         "(55) 8404-1359"
        ],
        [
         "Raquel Jesus",
         "352.408.796-56",
         "raquel@exemplo.net",
         "(55) 1116-6666"
        ],
        [
         "Evelyn Caldeira",
         "541.730.986-93",
         "evelyn@exemplo.net",
         "(05) 0055-7358"
        ],
        [
         "Alexia Novaes",
         "968.415.302-33",
         "alexia@exemplo.net",
         "(55) 3163-0645"
        ],
        [
         "Alana da Rocha",
         "132.490.865-33",
         "alana@exemplo.net",
         "(55) 0317-5530"
        ],
        [
         "Eduardo da Rocha",
         "490.713.682-03",
         "eduardo@exemplo.net",
         "(55) 5117-2371"
        ],
        [
         "Mariane Nascimento",
         "536.802.419-33",
         "mariane@exemplo.net",
         "(08) 1753-0544"
        ],
        [
         "Raul Santos",
         "014.958.362-15",
         "raul@exemplo.net",
         "(09) 0057-9598"
        ],
        [
         "Caroline das Neves",
         "520.169.874-30",
         "caroline@exemplo.net",
         "(06) 1749-1135"
        ],
        [
         "Marcela Silveira",
         "245.068.713-08",
         "marcela@exemplo.net",
         "(55) 0716-3610"
        ],
        [
         "Maria Pires",
         "376.140.859-57",
         "maria@exemplo.net",
         "(55) 0311-0073"
        ],
        [
         "Gabrielly da Paz",
         "975.864.130-10",
         "gabrielly@exemplo.net",
         "(07) 1414-8472"
        ],
        [
         "João Miguel Caldeira",
         "872.063.591-59",
         "joão@exemplo.net",
         "(55) 2132-4654"
        ],
        [
         "Gabriel Souza",
         "619.352.847-46",
         "gabriel@exemplo.net",
         "(31) 9109-8384"
        ],
        [
         "Alice Gonçalves",
         "264.850.139-89",
         "alice@exemplo.net",
         "(03) 0018-6216"
        ],
        [
         "Agatha Ferreira",
         "603.845.972-38",
         "agatha@exemplo.net",
         "(81) 9248-9496"
        ],
        [
         "Nina Ramos",
         "279.614.038-50",
         "nina@exemplo.net",
         "(55) 0843-2599"
        ],
        [
         "Emanuelly da Mata",
         "536.182.074-17",
         "emanuelly@exemplo.net",
         "(02) 1041-9076"
        ],
        [
         "Erick Souza",
         "954.260.173-52",
         "erick@exemplo.net",
         "(55) 2117-5008"
        ],
        [
         "Breno Melo",
         "692.085.734-00",
         "breno@exemplo.net",
         "(11) 3661-5034"
        ],
        [
         "Gustavo Henrique Cavalcanti",
         "645.390.827-10",
         "gustavo@exemplo.net",
         "(02) 1194-5902"
        ],
        [
         "Ana da Rocha",
         "714.036.529-61",
         "ana@exemplo.net",
         "(08) 1544-5847"
        ],
        [
         "João Vitor Dias",
         "264.109.387-13",
         "joão@exemplo.net",
         "(55) 2111-6823"
        ],
        [
         "Luiz Fernando Nogueira",
         "380.926.574-83",
         "luiz@exemplo.net",
         "(55) 3123-6196"
        ],
        [
         "Pietro Silveira",
         "714.809.652-94",
         "pietro@exemplo.net",
         "(07) 1669-8052"
        ],
        [
         "Ryan Nascimento",
         "736.459.012-99",
         "ryan@exemplo.net",
         "(11) 2690-5973"
        ],
        [
         "Caio Carvalho",
         "631.859.472-82",
         "caio@exemplo.net",
         "(31) 9925-6495"
        ],
        [
         "Fernando Melo",
         "109.834.625-42",
         "fernando@exemplo.net",
         "(06) 1046-6578"
        ],
        [
         "Lavínia Santos",
         "921.530.684-60",
         "lavínia@exemplo.net",
         "(03) 0018-0794"
        ],
        [
         "Isaac Ferreira",
         "246.879.135-55",
         "isaac@exemplo.net",
         "(31) 2977-8374"
        ],
        [
         "Ana Luiza Lima",
         "249.571.380-79",
         "ana@exemplo.net",
         "(55) 0413-3951"
        ],
        [
         "Lucca Mendes",
         "652.739.418-73",
         "lucca@exemplo.net",
         "(55) 8149-6002"
        ],
        [
         "Eloah Aragão",
         "310.546.279-16",
         "eloah@exemplo.net",
         "(55) 0210-8048"
        ],
        [
         "Emilly Jesus",
         "571.490.283-14",
         "emilly@exemplo.net",
         "(06) 1947-7861"
        ],
        [
         "Catarina Cunha",
         "481.926.705-11",
         "catarina@exemplo.net",
         "(55) 8152-1900"
        ],
        [
         "Davi Lucca Rodrigues",
         "091.378.462-13",
         "davi@exemplo.net",
         "(55) 0116-4160"
        ],
        [
         "Theo Fogaça",
         "016.794.528-94",
         "theo@exemplo.net",
         "(55) 0817-1406"
        ],
        [
         "Mirella Aragão",
         "184.652.073-80",
         "mirella@exemplo.net",
         "(55) 0711-2713"
        ],
        [
         "Júlia Nascimento",
         "028.719.645-30",
         "júlia@exemplo.net",
         "(55) 0310-1177"
        ],
        [
         "Juliana Nascimento",
         "586.021.743-90",
         "juliana@exemplo.net",
         "(05) 0074-6747"
        ],
        [
         "Davi Lucas Moreira",
         "598.246.173-37",
         "davi@exemplo.net",
         "(55) 0514-0254"
        ],
        [
         "Renan Cardoso",
         "724.930.681-22",
         "renan@exemplo.net",
         "(55) 0517-7798"
        ],
        [
         "Clarice Santos",
         "820.463.179-04",
         "clarice@exemplo.net",
         "(01) 1162-9830"
        ],
        [
         "Enrico Farias",
         "926.470.315-25",
         "enrico@exemplo.net",
         "(55) 0310-4780"
        ],
        [
         "Luna Moura",
         "598.204.763-56",
         "luna@exemplo.net",
         "(55) 0814-3123"
        ],
        [
         "Letícia Ribeiro",
         "729.564.380-00",
         "letícia@exemplo.net",
         "(51) 5801-0562"
        ],
        [
         "Henrique Nascimento",
         "314.082.957-41",
         "henrique@exemplo.net",
         "(41) 5879-2864"
        ],
        [
         "Cauê Nunes",
         "375.912.608-12",
         "cauê@exemplo.net",
         "(08) 1860-2168"
        ],
        [
         "Manuela Novaes",
         "946.078.325-29",
         "manuela@exemplo.net",
         "(21) 8591-4554"
        ],
        [
         "Bianca Fogaça",
         "271.806.935-02",
         "bianca@exemplo.net",
         "(05) 0047-0283"
        ],
        [
         "Miguel Duarte",
         "451.287.309-05",
         "miguel@exemplo.net",
         "(71) 5211-5120"
        ],
        [
         "Joaquim Costela",
         "754.891.026-67",
         "joaquim@exemplo.net",
         "(55) 3163-9672"
        ],
        [
         "Yasmin Nunes",
         "716.984.325-00",
         "yasmin@exemplo.net",
         "(55) 0517-5705"
        ],
        [
         "Ana Júlia Fernandes",
         "670.894.315-84",
         "ana@exemplo.net",
         "(55) 0617-9920"
        ],
        [
         "Luiz Otávio das Neves",
         "418.065.739-20",
         "luiz@exemplo.net",
         "(04) 1677-6020"
        ],
        [
         "Lorena da Rosa",
         "958.712.604-11",
         "lorena@exemplo.net",
         "(55) 6139-0780"
        ],
        [
         "Gabriel da Mata",
         "604.279.513-99",
         "gabriel@exemplo.net",
         "(03) 0033-9950"
        ],
        [
         "Lorena Duarte",
         "398.420.567-83",
         "lorena@exemplo.net",
         "(61) 0554-0977"
        ],
        [
         "Mirella da Paz",
         "324.697.581-73",
         "mirella@exemplo.net",
         "(55) 0812-9511"
        ],
        [
         "Rebeca Cardoso",
         "369.405.187-20",
         "rebeca@exemplo.net",
         "(55) 0810-7933"
        ],
        [
         "Kaique Pereira",
         "083.475.916-01",
         "kaique@exemplo.net",
         "(09) 0030-7667"
        ],
        [
         "Nina Nunes",
         "791.320.458-32",
         "nina@exemplo.net",
         "(55) 0619-5290"
        ],
        [
         "Luiz Fernando Monteiro",
         "578.916.342-46",
         "luiz@exemplo.net",
         "(08) 4825-8172"
        ],
        [
         "Manuela Araújo",
         "731.694.258-46",
         "manuela@exemplo.net",
         "(71) 2535-3040"
        ],
        [
         "Luiz Otávio Cardoso",
         "870.562.394-47",
         "luiz@exemplo.net",
         "(55) 0418-8587"
        ],
        [
         "Bianca Pires",
         "193.254.806-89",
         "bianca@exemplo.net",
         "(55) 1191-1562"
        ],
        [
         "Felipe Sales",
         "137.894.625-19",
         "felipe@exemplo.net",
         "(55) 0111-4786"
        ],
        [
         "Isaac Viana",
         "728.915.043-05",
         "isaac@exemplo.net",
         "(03) 0073-8449"
        ],
        [
         "Nathan Gonçalves",
         "632.704.591-06",
         "nathan@exemplo.net",
         "(55) 0118-0596"
        ],
        [
         "Camila da Conceição",
         "820.914.675-02",
         "camila@exemplo.net",
         "(21) 3884-8839"
        ],
        [
         "Kevin da Costa",
         "129.764.580-49",
         "kevin@exemplo.net",
         "(07) 1639-4846"
        ],
        [
         "Ana Clara das Neves",
         "605.247.893-47",
         "ana@exemplo.net",
         "(08) 0005-2143"
        ],
        [
         "Clara Pereira",
         "193.762.045-06",
         "clara@exemplo.net",
         "(31) 0874-4484"
        ],
        [
         "Pedro Lucas Nunes",
         "138.925.407-05",
         "pedro@exemplo.net",
         "(08) 4247-6630"
        ],
        [
         "Vitor Gabriel Castro",
         "519.260.483-42",
         "vitor@exemplo.net",
         "(55) 0846-1294"
        ],
        [
         "Isabel Nogueira",
         "625.319.480-15",
         "isabel@exemplo.net",
         "(08) 1581-4338"
        ],
        [
         "Bryan da Rocha",
         "256.874.139-28",
         "bryan@exemplo.net",
         "(03) 0035-2271"
        ],
        [
         "Maria Vitória Pinto",
         "751.863.049-48",
         "maria@exemplo.net",
         "(11) 4400-1394"
        ],
        [
         "João Vitor Freitas",
         "912.306.784-50",
         "joão@exemplo.net",
         "(55) 0811-1569"
        ],
        [
         "Maria Vitória da Mota",
         "416.350.789-20",
         "maria@exemplo.net",
         "(31) 5344-3876"
        ],
        [
         "André Viana",
         "241.583.679-64",
         "andré@exemplo.net",
         "(41) 1407-6217"
        ],
        [
         "Anthony Ramos",
         "076.291.348-78",
         "anthony@exemplo.net",
         "(08) 0023-4068"
        ],
        [
         "Maria Vitória Fernandes",
         "498.150.623-60",
         "maria@exemplo.net",
         "(55) 5134-3506"
        ],
        [
         "Eduardo Almeida",
         "541.927.063-34",
         "eduardo@exemplo.net",
         "(55) 8434-1950"
        ],
        [
         "Helena Souza",
         "783.904.265-10",
         "helena@exemplo.net",
         "(05) 1026-0989"
        ],
        [
         "Alícia da Luz",
         "692.853.104-51",
         "alícia@exemplo.net",
         "(21) 6198-8781"
        ],
        [
         "Luiz Henrique Fogaça",
         "856.021.793-21",
         "luiz@exemplo.net",
         "(55) 6103-6479"
        ],
        [
         "Maria Clara Lopes",
         "926.714.853-28",
         "maria@exemplo.net",
         "(55) 2180-0112"
        ],
        [
         "Francisco Costa",
         "958.214.370-32",
         "francisco@exemplo.net",
         "(51) 8272-5728"
        ],
        [
         "Rafael das Neves",
         "460.312.795-25",
         "rafael@exemplo.net",
         "(06) 1389-4964"
        ],
        [
         "Evelyn da Cunha",
         "185.032.794-79",
         "evelyn@exemplo.net",
         "(41) 0241-7186"
        ],
        [
         "Lucas Almeida",
         "730.182.945-05",
         "lucas@exemplo.net",
         "(01) 1360-3614"
        ],
        [
         "João da Rocha",
         "648.102.975-94",
         "joão@exemplo.net",
         "(55) 4126-1157"
        ],
        [
         "Cecília da Rosa",
         "734.128.650-44",
         "cecília@exemplo.net",
         "(07) 1973-6142"
        ],
        [
         "Kaique Azevedo",
         "398.456.127-09",
         "kaique@exemplo.net",
         "(08) 0086-2757"
        ],
        [
         "Vitor Gabriel Porto",
         "758.142.960-11",
         "vitor@exemplo.net",
         "(55) 0217-3238"
        ],
        [
         "Luiz Felipe Moreira",
         "183.529.740-41",
         "luiz@exemplo.net",
         "(31) 3432-8840"
        ],
        [
         "Maria Cecília Nascimento",
         "503.146.879-39",
         "maria@exemplo.net",
         "(55) 4152-6539"
        ],
        [
         "Elisa Barbosa",
         "165.437.908-57",
         "elisa@exemplo.net",
         "(21) 0714-7718"
        ],
        [
         "Cauê Costa",
         "148.652.307-26",
         "cauê@exemplo.net",
         "(55) 0513-3810"
        ],
        [
         "João Miguel Alves",
         "615.478.209-85",
         "joão@exemplo.net",
         "(31) 7311-4995"
        ],
        [
         "Ryan Cavalcanti",
         "293.567.041-80",
         "ryan@exemplo.net",
         "(08) 4611-6302"
        ],
        [
         "Ana Cardoso",
         "954.316.027-99",
         "ana@exemplo.net",
         "(84) 4892-4521"
        ],
        [
         "Luana Fernandes",
         "329.458.071-14",
         "luana@exemplo.net",
         "(08) 1253-0869"
        ],
        [
         "Eduarda da Mata",
         "146.309.528-70",
         "eduarda@exemplo.net",
         "(55) 0612-0055"
        ],
        [
         "Mariana Dias",
         "968.547.213-00",
         "mariana@exemplo.net",
         "(03) 1229-8746"
        ],
        [
         "Gabriel Farias",
         "016.942.385-98",
         "gabriel@exemplo.net",
         "(55) 0718-9347"
        ],
        [
         "Joaquim Vieira",
         "823.601.957-86",
         "joaquim@exemplo.net",
         "(03) 1418-1718"
        ],
        [
         "Maria Julia Costela",
         "708.341.265-08",
         "maria@exemplo.net",
         "(08) 1916-5175"
        ],
        [
         "Milena da Paz",
         "682.745.031-71",
         "milena@exemplo.net",
         "(55) 8415-0441"
        ],
        [
         "Bryan da Rocha",
         "132.087.569-68",
         "bryan@exemplo.net",
         "(55) 0314-2141"
        ],
        [
         "Mariana Castro",
         "947.630.281-03",
         "mariana@exemplo.net",
         "(61) 2578-8452"
        ],
        [
         "Nicolas da Luz",
         "432.605.817-07",
         "nicolas@exemplo.net",
         "(08) 1518-8269"
        ],
        [
         "Lucca Sales",
         "379.065.128-12",
         "lucca@exemplo.net",
         "(55) 4166-6589"
        ],
        [
         "Kaique Duarte",
         "014.965.273-99",
         "kaique@exemplo.net",
         "(55) 0214-9116"
        ],
        [
         "Pedro Henrique Rezende",
         "876.913.045-01",
         "pedro@exemplo.net",
         "(05) 1378-5313"
        ],
        [
         "Renan Monteiro",
         "694.031.728-78",
         "renan@exemplo.net",
         "(11) 6903-2314"
        ],
        [
         "Cauã da Mata",
         "061.572.938-02",
         "cauã@exemplo.net",
         "(55) 8448-1993"
        ],
        [
         "Breno Fogaça",
         "198.527.406-01",
         "breno@exemplo.net",
         "(31) 6245-1892"
        ],
        [
         "Raul da Cunha",
         "097.625.143-43",
         "raul@exemplo.net",
         "(03) 0086-2455"
        ],
        [
         "Emanuella Moura",
         "961.437.528-00",
         "emanuella@exemplo.net",
         "(09) 0090-7396"
        ],
        [
         "Nina Castro",
         "027.185.463-44",
         "nina@exemplo.net",
         "(55) 4166-6847"
        ],
        [
         "Laís Cunha",
         "346.915.078-84",
         "laís@exemplo.net",
         "(55) 2110-0373"
        ],
        [
         "Henrique Lima",
         "357.824.960-29",
         "henrique@exemplo.net",
         "(55) 6160-8213"
        ],
        [
         "Maria Fernanda Costela",
         "578.239.604-00",
         "maria@exemplo.net",
         "(04) 1662-1141"
        ],
        [
         "Gabrielly Aragão",
         "471.230.896-69",
         "gabrielly@exemplo.net",
         "(31) 6889-6042"
        ],
        [
         "João Lucas Cunha",
         "768.541.029-01",
         "joão@exemplo.net",
         "(55) 0713-1380"
        ],
        [
         "Leandro Carvalho",
         "463.280.957-83",
         "leandro@exemplo.net",
         "(05) 0006-0303"
        ],
        [
         "Lívia Silveira",
         "086.431.275-07",
         "lívia@exemplo.net",
         "(55) 0215-7123"
        ],
        [
         "Nina da Mota",
         "296.738.051-21",
         "nina@exemplo.net",
         "(81) 6447-8861"
        ],
        [
         "Ana Vitória Porto",
         "259.301.874-79",
         "ana@exemplo.net",
         "(55) 8133-7051"
        ],
        [
         "Elisa Martins",
         "074.159.368-84",
         "elisa@exemplo.net",
         "(55) 6156-2089"
        ],
        [
         "Julia Almeida",
         "729.413.065-52",
         "julia@exemplo.net",
         "(11) 3354-0608"
        ],
        [
         "Thiago Rezende",
         "013.459.672-25",
         "thiago@exemplo.net",
         "(55) 0517-9819"
        ],
        [
         "Ana Clara Novaes",
         "208.167.495-58",
         "ana@exemplo.net",
         "(61) 0787-3286"
        ],
        [
         "Evelyn Freitas",
         "137.405.268-07",
         "evelyn@exemplo.net",
         "(55) 0844-8738"
        ],
        [
         "Juan Silveira",
         "518.760.934-39",
         "juan@exemplo.net",
         "(41) 9692-9457"
        ],
        [
         "Julia Oliveira",
         "251.674.930-99",
         "julia@exemplo.net",
         "(21) 2643-9475"
        ],
        [
         "Daniela Araújo",
         "293.407.865-56",
         "daniela@exemplo.net",
         "(55) 8100-7739"
        ],
        [
         "Ana Lívia Pires",
         "419.075.238-04",
         "ana@exemplo.net",
         "(11) 1051-9661"
        ],
        [
         "Luiz Fernando Lopes",
         "037.286.154-71",
         "luiz@exemplo.net",
         "(51) 5717-3436"
        ],
        [
         "Leandro Rezende",
         "581.639.702-86",
         "leandro@exemplo.net",
         "(55) 7166-7021"
        ],
        [
         "Ana Beatriz da Rocha",
         "295.734.108-50",
         "ana@exemplo.net",
         "(55) 6169-7026"
        ],
        [
         "Yago Alves",
         "372.908.154-32",
         "yago@exemplo.net",
         "(06) 1007-7948"
        ],
        [
         "Lorenzo Correia",
         "745.630.298-74",
         "lorenzo@exemplo.net",
         "(08) 4790-8714"
        ],
        [
         "Enzo Gabriel Freitas",
         "145.368.927-37",
         "enzo@exemplo.net",
         "(06) 1255-8495"
        ],
        [
         "Francisco Carvalho",
         "684.250.971-85",
         "francisco@exemplo.net",
         "(55) 0317-8104"
        ],
        [
         "Heitor Gomes",
         "359.728.460-47",
         "heitor@exemplo.net",
         "(55) 0815-1733"
        ],
        [
         "Marina da Rocha",
         "782.394.015-97",
         "marina@exemplo.net",
         "(55) 0811-7966"
        ],
        [
         "Laís das Neves",
         "240.678.359-65",
         "laís@exemplo.net",
         "(03) 0038-0861"
        ],
        [
         "Ana Vitória Monteiro",
         "905.182.634-60",
         "ana@exemplo.net",
         "(55) 2183-1688"
        ],
        [
         "João Guilherme Melo",
         "806.217.459-01",
         "joão@exemplo.net",
         "(55) 8492-5227"
        ],
        [
         "Marcela Castro",
         "401.692.358-15",
         "marcela@exemplo.net",
         "(81) 2051-5168"
        ],
        [
         "Alana Campos",
         "924.150.837-04",
         "alana@exemplo.net",
         "(11) 5188-2891"
        ],
        [
         "Isis da Rocha",
         "395.487.160-20",
         "isis@exemplo.net",
         "(31) 5081-8821"
        ],
        [
         "Eloah Castro",
         "120.547.386-62",
         "eloah@exemplo.net",
         "(55) 2121-9102"
        ],
        [
         "Diogo Moraes",
         "953.647.018-75",
         "diogo@exemplo.net",
         "(55) 8417-4708"
        ],
        [
         "Juliana Caldeira",
         "052.384.791-23",
         "juliana@exemplo.net",
         "(55) 0118-4476"
        ],
        [
         "Eduardo Cunha",
         "162.794.503-25",
         "eduardo@exemplo.net",
         "(55) 8420-1223"
        ],
        [
         "Maria Teixeira",
         "750.964.238-83",
         "maria@exemplo.net",
         "(04) 1580-5669"
        ],
        [
         "João Gabriel Novaes",
         "047.958.261-02",
         "joão@exemplo.net",
         "(51) 2070-7949"
        ],
        [
         "Yasmin Fernandes",
         "492.763.081-13",
         "yasmin@exemplo.net",
         "(55) 7100-1728"
        ],
        [
         "Bruno da Rosa",
         "635.408.719-93",
         "bruno@exemplo.net",
         "(04) 1462-9770"
        ],
        [
         "Raquel da Costa",
         "027.694.851-30",
         "raquel@exemplo.net",
         "(05) 1612-1980"
        ],
        [
         "Maria Sophia Rocha",
         "379.285.140-79",
         "maria@exemplo.net",
         "(08) 4851-2286"
        ],
        [
         "Luiz Fernando Jesus",
         "694.052.317-07",
         "luiz@exemplo.net",
         "(09) 0034-4941"
        ],
        [
         "Maitê Freitas",
         "028.943.175-14",
         "maitê@exemplo.net",
         "(84) 6249-0335"
        ],
        [
         "Davi Lucas Cunha",
         "428.075.196-01",
         "davi@exemplo.net",
         "(55) 0215-1524"
        ],
        [
         "João Felipe Ramos",
         "653.419.802-98",
         "joão@exemplo.net",
         "(05) 0021-5850"
        ],
        [
         "Laura Ferreira",
         "597.143.280-04",
         "laura@exemplo.net",
         "(11) 2261-3452"
        ],
        [
         "Lucca Sales",
         "541.639.207-06",
         "lucca@exemplo.net",
         "(08) 4283-9792"
        ],
        [
         "Maria Luiza Azevedo",
         "398.125.470-88",
         "maria@exemplo.net",
         "(02) 1181-6547"
        ],
        [
         "Yago Araújo",
         "421.837.509-79",
         "yago@exemplo.net",
         "(02) 1130-0855"
        ],
        [
         "João Guilherme Martins",
         "768.251.039-03",
         "joão@exemplo.net",
         "(81) 9545-7118"
        ],
        [
         "Erick Ferreira",
         "598.670.342-10",
         "erick@exemplo.net",
         "(11) 3440-3531"
        ],
        [
         "Renan da Rocha",
         "458.079.236-00",
         "renan@exemplo.net",
         "(02) 1879-6445"
        ],
        [
         "João Felipe Pires",
         "632.105.948-05",
         "joão@exemplo.net",
         "(55) 8145-0533"
        ],
        [
         "Júlia Azevedo",
         "531.970.842-41",
         "júlia@exemplo.net",
         "(55) 6152-5323"
        ],
        [
         "Maria Clara Barros",
         "317.528.906-12",
         "maria@exemplo.net",
         "(07) 1288-4613"
        ],
        [
         "Stella Martins",
         "630.419.258-42",
         "stella@exemplo.net",
         "(55) 0818-5047"
        ],
        [
         "Diogo Cardoso",
         "758.439.062-56",
         "diogo@exemplo.net",
         "(81) 0562-4691"
        ],
        [
         "Joaquim Costela",
         "473.029.185-97",
         "joaquim@exemplo.net",
         "(51) 7319-1652"
        ],
        [
         "Anthony Melo",
         "132.845.760-53",
         "anthony@exemplo.net",
         "(04) 1311-0074"
        ],
        [
         "Heloísa Alves",
         "765.819.403-48",
         "heloísa@exemplo.net",
         "(01) 1849-5169"
        ],
        [
         "Felipe Gonçalves",
         "097.182.453-32",
         "felipe@exemplo.net",
         "(55) 0848-0670"
        ],
        [
         "Lucca Cavalcanti",
         "186.904.257-30",
         "lucca@exemplo.net",
         "(55) 4154-5803"
        ],
        [
         "Elisa Costa",
         "258.461.793-55",
         "elisa@exemplo.net",
         "(55) 7103-2088"
        ],
        [
         "Marcelo Cavalcanti",
         "437.562.108-71",
         "marcelo@exemplo.net",
         "(55) 0615-0653"
        ],
        [
         "Heloísa da Rocha",
         "193.508.467-48",
         "heloísa@exemplo.net",
         "(08) 4213-4706"
        ],
        [
         "Eduardo Costela",
         "431.582.760-62",
         "eduardo@exemplo.net",
         "(05) 0096-1559"
        ],
        [
         "Sarah Mendes",
         "396.702.814-31",
         "sarah@exemplo.net",
         "(11) 7410-5900"
        ],
        [
         "Maysa da Rocha",
         "936.485.270-29",
         "maysa@exemplo.net",
         "(08) 4366-9823"
        ],
        [
         "Bruno da Cruz",
         "514.203.879-79",
         "bruno@exemplo.net",
         "(08) 1478-8588"
        ],
        [
         "Lorenzo Pinto",
         "935.082.174-50",
         "lorenzo@exemplo.net",
         "(05) 1374-2565"
        ],
        [
         "Anthony Cunha",
         "401.273.695-70",
         "anthony@exemplo.net",
         "(11) 7015-6750"
        ],
        [
         "Lavínia Peixoto",
         "462.510.793-80",
         "lavínia@exemplo.net",
         "(84) 8447-3854"
        ],
        [
         "Pedro Henrique Barbosa",
         "583.291.067-21",
         "pedro@exemplo.net",
         "(08) 4213-3762"
        ],
        [
         "Emilly Rodrigues",
         "869.754.213-82",
         "emilly@exemplo.net",
         "(08) 1447-3684"
        ],
        [
         "Leonardo Costela",
         "849.753.016-01",
         "leonardo@exemplo.net",
         "(05) 0068-4023"
        ],
        [
         "Fernando Peixoto",
         "873.914.256-64",
         "fernando@exemplo.net",
         "(55) 2198-8182"
        ],
        [
         "Esther Caldeira",
         "765.149.028-20",
         "esther@exemplo.net",
         "(31) 5604-1245"
        ],
        [
         "Cecília Peixoto",
         "896.501.742-49",
         "cecília@exemplo.net",
         "(03) 0088-0895"
        ],
        [
         "Maria Fernanda Moura",
         "820.139.675-86",
         "maria@exemplo.net",
         "(11) 3404-0365"
        ],
        [
         "Evelyn da Paz",
         "085.396.421-15",
         "evelyn@exemplo.net",
         "(55) 0812-4345"
        ],
        [
         "Igor Nascimento",
         "678.594.130-00",
         "igor@exemplo.net",
         "(55) 0812-2150"
        ],
        [
         "Luna Santos",
         "356.478.219-28",
         "luna@exemplo.net",
         "(55) 2196-7285"
        ],
        [
         "Luiz Felipe da Paz",
         "589.173.426-55",
         "luiz@exemplo.net",
         "(05) 1413-9460"
        ],
        [
         "Diogo Oliveira",
         "128.975.036-02",
         "diogo@exemplo.net",
         "(05) 1915-8382"
        ],
        [
         "Nina Costela",
         "630.217.489-96",
         "nina@exemplo.net",
         "(55) 0218-2272"
        ],
        [
         "Breno Sales",
         "381.769.405-93",
         "breno@exemplo.net",
         "(55) 3137-6509"
        ],
        [
         "Julia Azevedo",
         "093.782.465-83",
         "julia@exemplo.net",
         "(55) 3139-1177"
        ],
        [
         "Luigi Gomes",
         "023.691.478-22",
         "luigi@exemplo.net",
         "(55) 8425-2123"
        ],
        [
         "Esther Azevedo",
         "061.498.372-03",
         "esther@exemplo.net",
         "(55) 0717-9202"
        ],
        [
         "Emanuella Campos",
         "157.368.402-35",
         "emanuella@exemplo.net",
         "(55) 0711-8345"
        ],
        [
         "João da Cunha",
         "360.589.271-02",
         "joão@exemplo.net",
         "(55) 8126-0460"
        ],
        [
         "Bruna Lima",
         "417.260.359-99",
         "bruna@exemplo.net",
         "(55) 6167-5170"
        ],
        [
         "Gabrielly Ferreira",
         "092.356.417-99",
         "gabrielly@exemplo.net",
         "(55) 2147-1879"
        ],
        [
         "Pedro das Neves",
         "648.092.137-22",
         "pedro@exemplo.net",
         "(71) 7028-7054"
        ],
        [
         "Luigi Cavalcanti",
         "569.803.247-56",
         "luigi@exemplo.net",
         "(55) 5131-2695"
        ],
        [
         "Davi Lucca Pereira",
         "812.573.906-86",
         "davi@exemplo.net",
         "(11) 0781-3960"
        ],
        [
         "Thiago da Mata",
         "389.042.516-05",
         "thiago@exemplo.net",
         "(55) 8457-6732"
        ],
        [
         "Carlos Eduardo Peixoto",
         "106.534.792-80",
         "carlos@exemplo.net",
         "(03) 1369-3216"
        ],
        [
         "Luiz Miguel Novaes",
         "246.875.130-26",
         "luiz@exemplo.net",
         "(04) 1810-7961"
        ],
        [
         "Raul Ribeiro",
         "798.305.461-01",
         "raul@exemplo.net",
         "(06) 1420-7743"
        ],
        [
         "Thales Cavalcanti",
         "301.892.765-68",
         "thales@exemplo.net",
         "(61) 1537-3580"
        ],
        [
         "Lavínia Barbosa",
         "239.785.604-29",
         "lavínia@exemplo.net",
         "(55) 6192-0205"
        ],
        [
         "Emanuel Gonçalves",
         "693.125.087-68",
         "emanuel@exemplo.net",
         "(55) 8121-4669"
        ],
        [
         "Maria Sophia Duarte",
         "135.640.728-53",
         "maria@exemplo.net",
         "(55) 0110-2729"
        ],
        [
         "Mirella Caldeira",
         "502.387.196-77",
         "mirella@exemplo.net",
         "(06) 1862-1175"
        ],
        [
         "Gabriel Lima",
         "370.289.164-13",
         "gabriel@exemplo.net",
         "(55) 6147-2297"
        ],
        [
         "Marcos Vinicius Moraes",
         "582.413.960-15",
         "marcos@exemplo.net",
         "(02) 1283-2756"
        ],
        [
         "Helena Rocha",
         "867.190.235-86",
         "helena@exemplo.net",
         "(04) 1406-3366"
        ],
        [
         "Caio da Cruz",
         "527.460.138-35",
         "caio@exemplo.net",
         "(55) 8458-6680"
        ],
        [
         "Luiz Gustavo da Costa",
         "451.920.387-23",
         "luiz@exemplo.net",
         "(55) 1117-1213"
        ],
        [
         "Fernanda da Cunha",
         "765.231.849-19",
         "fernanda@exemplo.net",
         "(55) 2102-4399"
        ],
        [
         "Lívia Lima",
         "419.680.753-48",
         "lívia@exemplo.net",
         "(08) 1921-1751"
        ],
        [
         "Davi Luiz Correia",
         "809.672.431-22",
         "davi@exemplo.net",
         "(55) 0213-3490"
        ],
        [
         "Júlia Viana",
         "708.493.152-04",
         "júlia@exemplo.net",
         "(08) 0086-4461"
        ],
        [
         "Pedro Rodrigues",
         "564.718.293-37",
         "pedro@exemplo.net",
         "(55) 1107-8211"
        ],
        [
         "Alice das Neves",
         "608.194.523-51",
         "alice@exemplo.net",
         "(84) 1090-7486"
        ],
        [
         "Isabel Ramos",
         "094.851.672-02",
         "isabel@exemplo.net",
         "(55) 0846-8547"
        ],
        [
         "Nina Monteiro",
         "351.279.648-64",
         "nina@exemplo.net",
         "(09) 0078-8537"
        ],
        [
         "João Pedro Melo",
         "742.683.509-00",
         "joão@exemplo.net",
         "(55) 0612-4425"
        ],
        [
         "Giovanna Fogaça",
         "143.759.086-10",
         "giovanna@exemplo.net",
         "(55) 0517-8625"
        ],
        [
         "Emilly Barros",
         "721.853.946-73",
         "emilly@exemplo.net",
         "(55) 0711-4823"
        ],
        [
         "Thales Ferreira",
         "850.219.364-33",
         "thales@exemplo.net",
         "(55) 0844-9363"
        ],
        [
         "Ana Lívia Campos",
         "015.736.928-59",
         "ana@exemplo.net",
         "(21) 9647-2099"
        ],
        [
         "Valentina Dias",
         "214.698.507-02",
         "valentina@exemplo.net",
         "(55) 5112-0521"
        ],
        [
         "Luiz Otávio Sales",
         "104.659.832-51",
         "luiz@exemplo.net",
         "(55) 0715-3503"
        ],
        [
         "Luiz Felipe Barbosa",
         "520.431.986-70",
         "luiz@exemplo.net",
         "(02) 1549-3939"
        ],
        [
         "Maria Sophia Vieira",
         "764.923.810-50",
         "maria@exemplo.net",
         "(55) 0315-7077"
        ],
        [
         "Melissa Fogaça",
         "510.926.347-70",
         "melissa@exemplo.net",
         "(11) 4676-7212"
        ],
        [
         "Julia Pereira",
         "185.642.379-46",
         "julia@exemplo.net",
         "(03) 0068-5262"
        ],
        [
         "Emanuella Souza",
         "037.268.195-68",
         "emanuella@exemplo.net",
         "(55) 0810-2440"
        ],
        [
         "Brenda Santos",
         "024.917.653-06",
         "brenda@exemplo.net",
         "(55) 0516-9077"
        ],
        [
         "Cauê Novaes",
         "384.916.720-87",
         "cauê@exemplo.net",
         "(31) 8897-0270"
        ],
        [
         "Gustavo Cardoso",
         "375.069.821-02",
         "gustavo@exemplo.net",
         "(55) 7107-1816"
        ],
        [
         "Nina da Paz",
         "698.321.574-55",
         "nina@exemplo.net",
         "(55) 8448-2082"
        ],
        [
         "Pietra Costela",
         "483.605.921-60",
         "pietra@exemplo.net",
         "(55) 4101-0460"
        ],
        [
         "Sofia Moura",
         "672.048.359-56",
         "sofia@exemplo.net",
         "(55) 0413-1838"
        ],
        [
         "Pedro Lucas Fogaça",
         "518.629.370-95",
         "pedro@exemplo.net",
         "(11) 8288-2859"
        ],
        [
         "Maria Cunha",
         "623.870.154-44",
         "maria@exemplo.net",
         "(03) 0024-9050"
        ],
        [
         "Evelyn Pinto",
         "591.086.742-30",
         "evelyn@exemplo.net",
         "(55) 0716-6250"
        ],
        [
         "Lívia Cardoso",
         "258.146.073-35",
         "lívia@exemplo.net",
         "(06) 1187-2864"
        ],
        [
         "Lucas Gabriel Correia",
         "391.457.208-60",
         "lucas@exemplo.net",
         "(84) 0138-4809"
        ],
        [
         "Alexia da Rosa",
         "249.708.165-49",
         "alexia@exemplo.net",
         "(11) 2618-1464"
        ],
        [
         "Luiz Felipe da Rocha",
         "083.567.941-10",
         "luiz@exemplo.net",
         "(55) 5161-5047"
        ],
        [
         "Benjamin Pires",
         "385.270.146-53",
         "benjamin@exemplo.net",
         "(03) 1302-1436"
        ],
        [
         "João Vitor Barbosa",
         "974.826.305-38",
         "joão@exemplo.net",
         "(55) 0319-8706"
        ],
        [
         "Heitor Farias",
         "103.492.678-04",
         "heitor@exemplo.net",
         "(55) 0313-6824"
        ],
        [
         "Natália Castro",
         "267.354.908-00",
         "natália@exemplo.net",
         "(09) 0031-8391"
        ],
        [
         "Olivia Nogueira",
         "573.140.982-04",
         "olivia@exemplo.net",
         "(61) 9241-0953"
        ],
        [
         "Daniel Mendes",
         "058.421.673-44",
         "daniel@exemplo.net",
         "(55) 1153-4177"
        ],
        [
         "Juliana Fernandes",
         "786.123.059-77",
         "juliana@exemplo.net",
         "(02) 1409-6078"
        ],
        [
         "Enzo Gabriel Rodrigues",
         "973.458.601-75",
         "enzo@exemplo.net",
         "(55) 0844-4850"
        ],
        [
         "Eduarda da Cunha",
         "709.413.268-96",
         "eduarda@exemplo.net",
         "(31) 4236-6507"
        ],
        [
         "Lucas Gabriel da Rocha",
         "458.712.690-01",
         "lucas@exemplo.net",
         "(08) 4539-5737"
        ],
        [
         "Augusto Novaes",
         "380.624.579-74",
         "augusto@exemplo.net",
         "(07) 1937-6315"
        ],
        [
         "Thiago Lopes",
         "852.630.479-83",
         "thiago@exemplo.net",
         "(08) 1042-7442"
        ],
        [
         "Daniela Almeida",
         "465.789.321-19",
         "daniela@exemplo.net",
         "(55) 0816-9041"
        ],
        [
         "Vicente Monteiro",
         "807.135.924-60",
         "vicente@exemplo.net",
         "(55) 0314-7431"
        ],
        [
         "Vitória Pinto",
         "862.135.704-62",
         "vitória@exemplo.net",
         "(55) 8167-2415"
        ],
        [
         "Maysa Teixeira",
         "904.628.315-15",
         "maysa@exemplo.net",
         "(55) 6163-8239"
        ],
        [
         "Anthony Martins",
         "693.802.547-92",
         "anthony@exemplo.net",
         "(03) 0097-1008"
        ],
        [
         "Davi Luiz Costa",
         "217.083.564-44",
         "davi@exemplo.net",
         "(61) 2923-3271"
        ],
        [
         "Francisco Nunes",
         "072.539.164-25",
         "francisco@exemplo.net",
         "(55) 0116-7713"
        ],
        [
         "João Gabriel Gomes",
         "293.140.768-22",
         "joão@exemplo.net",
         "(55) 0811-5191"
        ],
        [
         "Vitor Gabriel Oliveira",
         "340.157.928-23",
         "vitor@exemplo.net",
         "(55) 6139-5767"
        ],
        [
         "Isaac Fogaça",
         "432.915.706-34",
         "isaac@exemplo.net",
         "(61) 8709-1408"
        ],
        [
         "Maria Julia Jesus",
         "045.938.126-15",
         "maria@exemplo.net",
         "(08) 4830-6172"
        ],
        [
         "Nina da Mata",
         "854.621.397-64",
         "nina@exemplo.net",
         "(55) 0414-8343"
        ],
        [
         "Benjamin Rocha",
         "245.836.710-08",
         "benjamin@exemplo.net",
         "(55) 0417-3425"
        ],
        [
         "Lucca Pereira",
         "806.957.243-47",
         "lucca@exemplo.net",
         "(55) 5122-2229"
        ],
        [
         "Emanuel Nunes",
         "461.287.509-58",
         "emanuel@exemplo.net",
         "(55) 0817-6829"
        ],
        [
         "Sofia da Costa",
         "102.576.983-02",
         "sofia@exemplo.net",
         "(61) 2734-5532"
        ],
        [
         "Larissa Moraes",
         "450.792.681-58",
         "larissa@exemplo.net",
         "(55) 0119-3550"
        ],
        [
         "Daniel das Neves",
         "326.914.807-04",
         "daniel@exemplo.net",
         "(31) 0579-7349"
        ],
        [
         "João Lucas Farias",
         "589.074.231-05",
         "joão@exemplo.net",
         "(55) 0818-3210"
        ],
        [
         "Natália da Cruz",
         "138.496.057-01",
         "natália@exemplo.net",
         "(55) 5173-0058"
        ],
        [
         "Ana Lívia Almeida",
         "046.539.827-83",
         "ana@exemplo.net",
         "(71) 8274-2674"
        ],
        [
         "Thomas das Neves",
         "806.294.315-15",
         "thomas@exemplo.net",
         "(61) 6123-0971"
        ],
        [
         "Mirella Barbosa",
         "758.931.426-91",
         "mirella@exemplo.net",
         "(71) 5749-2823"
        ],
        [
         "Ana Sophia Mendes",
         "782.603.145-17",
         "ana@exemplo.net",
         "(84) 1353-1695"
        ],
        [
         "Isabelly Silveira",
         "340.896.215-42",
         "isabelly@exemplo.net",
         "(55) 0112-4894"
        ],
        [
         "Valentina Cardoso",
         "135.986.204-89",
         "valentina@exemplo.net",
         "(06) 1586-4009"
        ],
        [
         "Cauã Cardoso",
         "254.967.013-25",
         "cauã@exemplo.net",
         "(55) 0113-8458"
        ],
        [
         "Ana Júlia Araújo",
         "709.426.153-52",
         "ana@exemplo.net",
         "(03) 1010-8949"
        ],
        [
         "Cauê Rezende",
         "483.150.726-17",
         "cauê@exemplo.net",
         "(81) 3587-5508"
        ],
        [
         "Luiz Miguel Lopes",
         "871.023.569-86",
         "luiz@exemplo.net",
         "(51) 5768-8821"
        ],
        [
         "Otávio Alves",
         "158.407.623-26",
         "otávio@exemplo.net",
         "(55) 0517-2210"
        ],
        [
         "Kevin Pinto",
         "180.435.726-07",
         "kevin@exemplo.net",
         "(55) 0414-1808"
        ],
        [
         "Vitor Gabriel Jesus",
         "968.452.713-64",
         "vitor@exemplo.net",
         "(55) 7159-3029"
        ],
        [
         "Calebe da Rosa",
         "198.640.723-31",
         "calebe@exemplo.net",
         "(55) 0817-7878"
        ],
        [
         "João Felipe Fernandes",
         "168.743.902-87",
         "joão@exemplo.net",
         "(55) 5148-2360"
        ],
        [
         "Luna Oliveira",
         "287.395.610-03",
         "luna@exemplo.net",
         "(04) 1379-5447"
        ],
        [
         "Joana Moraes",
         "682.043.715-35",
         "joana@exemplo.net",
         "(55) 0848-2150"
        ],
        [
         "João Gabriel Fogaça",
         "978.435.621-09",
         "joão@exemplo.net",
         "(81) 5509-0461"
        ],
        [
         "Gabriel Mendes",
         "439.561.720-43",
         "gabriel@exemplo.net",
         "(55) 8477-5572"
        ],
        [
         "Ryan Ribeiro",
         "604.271.358-26",
         "ryan@exemplo.net",
         "(55) 0215-5439"
        ],
        [
         "Maria da Mata",
         "129.573.406-07",
         "maria@exemplo.net",
         "(84) 2104-9826"
        ],
        [
         "Ana Beatriz Peixoto",
         "724.153.609-61",
         "ana@exemplo.net",
         "(55) 0219-4757"
        ],
        [
         "Isabelly Sales",
         "160.924.357-99",
         "isabelly@exemplo.net",
         "(81) 2053-6908"
        ],
        [
         "João Felipe da Mota",
         "679.138.024-13",
         "joão@exemplo.net",
         "(55) 2121-4175"
        ],
        [
         "Letícia Cardoso",
         "905.768.123-40",
         "letícia@exemplo.net",
         "(55) 2150-0899"
        ],
        [
         "Eduarda Silveira",
         "035.164.298-60",
         "eduarda@exemplo.net",
         "(07) 1429-1207"
        ],
        [
         "Isabelly Carvalho",
         "743.165.298-46",
         "isabelly@exemplo.net",
         "(06) 1957-3509"
        ],
        [
         "Nicolas Mendes",
         "645.087.931-93",
         "nicolas@exemplo.net",
         "(55) 0512-3801"
        ],
        [
         "Rafael Castro",
         "743.601.825-62",
         "rafael@exemplo.net",
         "(55) 0217-8048"
        ],
        [
         "Gustavo Henrique Azevedo",
         "365.172.084-53",
         "gustavo@exemplo.net",
         "(09) 0098-2835"
        ],
        [
         "João Felipe da Mota",
         "150.268.397-03",
         "joão@exemplo.net",
         "(41) 1728-9907"
        ],
        [
         "André da Mata",
         "457.962.380-00",
         "andré@exemplo.net",
         "(41) 2183-6446"
        ],
        [
         "Ana Carolina da Luz",
         "328.190.576-59",
         "ana@exemplo.net",
         "(81) 5654-9619"
        ],
        [
         "João Vitor Silva",
         "238.159.604-60",
         "joão@exemplo.net",
         "(07) 1325-4756"
        ],
        [
         "Cauê Pires",
         "847.051.963-84",
         "cauê@exemplo.net",
         "(55) 0816-9660"
        ],
        [
         "Ana Laura Correia",
         "730.954.128-60",
         "ana@exemplo.net",
         "(11) 9779-8820"
        ],
        [
         "Diogo da Mota",
         "043.619.582-89",
         "diogo@exemplo.net",
         "(61) 3583-7505"
        ],
        [
         "Luiz Miguel Pires",
         "637.824.059-59",
         "luiz@exemplo.net",
         "(55) 0418-7181"
        ],
        [
         "Bryan Correia",
         "085.172.936-30",
         "bryan@exemplo.net",
         "(55) 6196-7054"
        ],
        [
         "Ryan Viana",
         "218.970.356-59",
         "ryan@exemplo.net",
         "(55) 0849-5096"
        ],
        [
         "Ana Clara Carvalho",
         "368.142.750-07",
         "ana@exemplo.net",
         "(55) 0619-0643"
        ],
        [
         "Isadora Barros",
         "826.019.457-02",
         "isadora@exemplo.net",
         "(55) 3161-1963"
        ],
        [
         "Pedro Martins",
         "681.940.357-75",
         "pedro@exemplo.net",
         "(55) 3186-1890"
        ],
        [
         "Caroline Pires",
         "895.176.023-59",
         "caroline@exemplo.net",
         "(08) 0055-6126"
        ],
        [
         "Júlia Mendes",
         "562.943.108-06",
         "júlia@exemplo.net",
         "(55) 0118-4705"
        ],
        [
         "Leonardo Nascimento",
         "238.947.160-96",
         "leonardo@exemplo.net",
         "(07) 1304-0048"
        ],
        [
         "Ana Beatriz Nascimento",
         "846.917.530-01",
         "ana@exemplo.net",
         "(55) 6135-7353"
        ],
        [
         "Emanuella Moraes",
         "403.679.215-61",
         "emanuella@exemplo.net",
         "(81) 1646-7030"
        ],
        [
         "Lucas Moura",
         "430.218.569-42",
         "lucas@exemplo.net",
         "(04) 1052-6884"
        ],
        [
         "Letícia Rodrigues",
         "461.753.290-07",
         "letícia@exemplo.net",
         "(84) 6609-6533"
        ],
        [
         "Erick Moura",
         "613.947.028-50",
         "erick@exemplo.net",
         "(09) 0095-0754"
        ],
        [
         "Carlos Eduardo Ramos",
         "980.417.325-50",
         "carlos@exemplo.net",
         "(05) 0008-9051"
        ],
        [
         "Henrique Viana",
         "794.801.253-23",
         "henrique@exemplo.net",
         "(55) 0110-5803"
        ],
        [
         "Renan Rocha",
         "523.698.104-24",
         "renan@exemplo.net",
         "(55) 0116-5098"
        ],
        [
         "Sabrina Cunha",
         "761.829.354-64",
         "sabrina@exemplo.net",
         "(08) 0097-7011"
        ],
        [
         "Ana Lívia Freitas",
         "350.764.829-65",
         "ana@exemplo.net",
         "(55) 8488-5254"
        ],
        [
         "Mirella da Paz",
         "920.514.678-11",
         "mirella@exemplo.net",
         "(55) 0416-5904"
        ],
        [
         "Larissa Alves",
         "726.430.581-35",
         "larissa@exemplo.net",
         "(11) 5577-6205"
        ],
        [
         "Ryan Dias",
         "159.468.720-01",
         "ryan@exemplo.net",
         "(07) 1065-9227"
        ],
        [
         "Davi Luiz Duarte",
         "384.129.065-51",
         "davi@exemplo.net",
         "(55) 0849-1260"
        ],
        [
         "Davi Luiz Correia",
         "805.369.217-68",
         "davi@exemplo.net",
         "(84) 5195-5332"
        ],
        [
         "Fernando da Conceição",
         "681.720.495-01",
         "fernando@exemplo.net",
         "(21) 3772-9440"
        ],
        [
         "João Lucas Correia",
         "035.462.978-65",
         "joão@exemplo.net",
         "(55) 0215-2573"
        ],
        [
         "Alice Rodrigues",
         "268.015.943-89",
         "alice@exemplo.net",
         "(55) 0515-5655"
        ],
        [
         "Clarice Rodrigues",
         "018.736.245-90",
         "clarice@exemplo.net",
         "(08) 0081-5939"
        ],
        [
         "Raquel da Cruz",
         "935.617.240-43",
         "raquel@exemplo.net",
         "(11) 3186-1591"
        ],
        [
         "Isabella Caldeira",
         "514.387.029-14",
         "isabella@exemplo.net",
         "(55) 0318-0934"
        ],
        [
         "Diogo Cardoso",
         "690.518.743-75",
         "diogo@exemplo.net",
         "(55) 3195-3485"
        ],
        [
         "Levi Ribeiro",
         "491.726.850-85",
         "levi@exemplo.net",
         "(08) 4866-5935"
        ],
        [
         "Vicente Teixeira",
         "075.163.924-99",
         "vicente@exemplo.net",
         "(01) 1287-6256"
        ],
        [
         "Ryan Silveira",
         "238.096.471-87",
         "ryan@exemplo.net",
         "(31) 7618-7904"
        ],
        [
         "Luiz Fernando Barros",
         "840.123.679-78",
         "luiz@exemplo.net",
         "(55) 5188-1614"
        ],
        [
         "João Vitor Silveira",
         "130.284.967-04",
         "joão@exemplo.net",
         "(55) 3104-6059"
        ],
        [
         "Mariana da Mata",
         "460.837.192-40",
         "mariana@exemplo.net",
         "(03) 0032-1721"
        ],
        [
         "Heloísa Alves",
         "301.945.268-60",
         "heloísa@exemplo.net",
         "(01) 1067-9593"
        ],
        [
         "Arthur Duarte",
         "756.219.034-80",
         "arthur@exemplo.net",
         "(55) 3166-7835"
        ],
        [
         "Davi Lucas da Cunha",
         "854.791.632-64",
         "davi@exemplo.net",
         "(84) 0288-0358"
        ],
        [
         "Stella Costa",
         "158.296.473-46",
         "stella@exemplo.net",
         "(08) 1070-2808"
        ],
        [
         "Breno Viana",
         "190.253.486-70",
         "breno@exemplo.net",
         "(01) 1374-1399"
        ],
        [
         "Clarice Fogaça",
         "836.429.750-38",
         "clarice@exemplo.net",
         "(55) 4105-6318"
        ],
        [
         "Stephany Ramos",
         "386.907.145-10",
         "stephany@exemplo.net",
         "(55) 8164-6788"
        ],
        [
         "Thiago Caldeira",
         "258.301.946-51",
         "thiago@exemplo.net",
         "(55) 2186-5807"
        ],
        [
         "Cauê Cardoso",
         "940.635.812-33",
         "cauê@exemplo.net",
         "(21) 3132-1809"
        ],
        [
         "Diego Campos",
         "690.278.314-40",
         "diego@exemplo.net",
         "(55) 7193-2979"
        ],
        [
         "Heloísa Oliveira",
         "734.915.028-88",
         "heloísa@exemplo.net",
         "(55) 8119-7690"
        ],
        [
         "Joaquim Alves",
         "031.745.986-48",
         "joaquim@exemplo.net",
         "(07) 1472-3988"
        ],
        [
         "Maria Julia Cunha",
         "892.013.467-78",
         "maria@exemplo.net",
         "(31) 8677-2776"
        ],
        [
         "Carolina Barbosa",
         "189.207.546-67",
         "carolina@exemplo.net",
         "(55) 5193-1015"
        ],
        [
         "Juliana Cardoso",
         "356.480.219-33",
         "juliana@exemplo.net",
         "(08) 0060-6790"
        ],
        [
         "Clarice Nascimento",
         "892.457.103-60",
         "clarice@exemplo.net",
         "(55) 3197-1481"
        ],
        [
         "Arthur Ribeiro",
         "983.710.462-78",
         "arthur@exemplo.net",
         "(31) 3727-3443"
        ],
        [
         "Nina Peixoto",
         "851.732.469-28",
         "nina@exemplo.net",
         "(07) 1488-5604"
        ],
        [
         "João Guilherme Ramos",
         "309.246.185-15",
         "joão@exemplo.net",
         "(55) 7119-5061"
        ],
        [
         "Joana Barros",
         "632.578.019-12",
         "joana@exemplo.net",
         "(55) 8107-6602"
        ],
        [
         "Bruno Farias",
         "741.908.253-79",
         "bruno@exemplo.net",
         "(55) 2128-9806"
        ],
        [
         "Isadora Ribeiro",
         "057.946.132-70",
         "isadora@exemplo.net",
         "(21) 1276-1055"
        ],
        [
         "Pietro Souza",
         "308.429.176-40",
         "pietro@exemplo.net",
         "(55) 8430-4989"
        ],
        [
         "Maria Eduarda Dias",
         "196.705.342-16",
         "maria@exemplo.net",
         "(02) 1692-3452"
        ],
        [
         "Emanuelly Moura",
         "271.096.835-59",
         "emanuelly@exemplo.net",
         "(55) 2127-4939"
        ],
        [
         "Ian Novaes",
         "482.763.910-87",
         "ian@exemplo.net",
         "(71) 0245-9596"
        ],
        [
         "Isabelly Costela",
         "951.408.637-66",
         "isabelly@exemplo.net",
         "(55) 6127-6108"
        ],
        [
         "Helena Lopes",
         "465.793.201-25",
         "helena@exemplo.net",
         "(61) 9215-6567"
        ],
        [
         "Breno Souza",
         "627.309.518-30",
         "breno@exemplo.net",
         "(41) 2171-7813"
        ],
        [
         "Bruna Silva",
         "296.871.043-50",
         "bruna@exemplo.net",
         "(55) 0215-5165"
        ],
        [
         "Rafael Cardoso",
         "413.957.028-88",
         "rafael@exemplo.net",
         "(21) 4888-5818"
        ],
        [
         "Marcela Dias",
         "401.956.278-49",
         "marcela@exemplo.net",
         "(55) 0112-3961"
        ],
        [
         "Isis Freitas",
         "531.946.870-93",
         "isis@exemplo.net",
         "(21) 2506-5741"
        ],
        [
         "Ana Beatriz Oliveira",
         "706.519.238-59",
         "ana@exemplo.net",
         "(21) 4871-6086"
        ],
        [
         "Melissa Pires",
         "431.865.702-71",
         "melissa@exemplo.net",
         "(03) 0003-4934"
        ],
        [
         "Giovanna Martins",
         "617.523.948-28",
         "giovanna@exemplo.net",
         "(06) 1245-8390"
        ],
        [
         "Caio Freitas",
         "237.149.560-34",
         "caio@exemplo.net",
         "(09) 0032-2351"
        ],
        [
         "João Vitor Rodrigues",
         "809.416.257-02",
         "joão@exemplo.net",
         "(55) 0518-8944"
        ],
        [
         "Maria Julia Duarte",
         "809.562.714-30",
         "maria@exemplo.net",
         "(01) 1993-3701"
        ],
        [
         "Maria Alice Duarte",
         "526.983.714-55",
         "maria@exemplo.net",
         "(55) 4179-4122"
        ],
        [
         "André Azevedo",
         "652.914.307-61",
         "andré@exemplo.net",
         "(06) 1615-6480"
        ],
        [
         "Caroline Melo",
         "254.013.698-24",
         "caroline@exemplo.net",
         "(07) 1269-9175"
        ],
        [
         "Helena da Costa",
         "138.952.407-88",
         "helena@exemplo.net",
         "(55) 0517-8890"
        ],
        [
         "Luiz Felipe Teixeira",
         "158.093.247-97",
         "luiz@exemplo.net",
         "(09) 0001-8727"
        ],
        [
         "Gabriela Duarte",
         "763.940.521-16",
         "gabriela@exemplo.net",
         "(55) 8114-3174"
        ],
        [
         "Bruno Cardoso",
         "241.076.895-49",
         "bruno@exemplo.net",
         "(08) 1121-7027"
        ],
        [
         "Marcos Vinicius Gonçalves",
         "794.016.258-67",
         "marcos@exemplo.net",
         "(31) 1623-4111"
        ],
        [
         "Olivia Campos",
         "416.807.329-78",
         "olivia@exemplo.net",
         "(81) 1098-6459"
        ],
        [
         "Leonardo Jesus",
         "487.152.096-01",
         "leonardo@exemplo.net",
         "(51) 9589-5669"
        ],
        [
         "Theo da Luz",
         "794.213.658-28",
         "theo@exemplo.net",
         "(55) 7152-7325"
        ],
        [
         "Maria Teixeira",
         "578.609.123-68",
         "maria@exemplo.net",
         "(55) 1163-7766"
        ],
        [
         "Rafael Cavalcanti",
         "263.107.459-99",
         "rafael@exemplo.net",
         "(03) 0030-3939"
        ],
        [
         "Daniela Viana",
         "741.639.250-07",
         "daniela@exemplo.net",
         "(55) 0214-2432"
        ],
        [
         "Eduarda Pinto",
         "967.452.831-82",
         "eduarda@exemplo.net",
         "(55) 6144-2578"
        ],
        [
         "Ana Lívia Pereira",
         "596.172.480-85",
         "ana@exemplo.net",
         "(08) 4898-8225"
        ],
        [
         "Francisco Alves",
         "549.708.361-75",
         "francisco@exemplo.net",
         "(11) 9279-4965"
        ],
        [
         "Diego Nascimento",
         "217.854.369-37",
         "diego@exemplo.net",
         "(55) 7113-5055"
        ],
        [
         "Rafaela Peixoto",
         "407.318.659-01",
         "rafaela@exemplo.net",
         "(55) 0811-1470"
        ],
        [
         "Bianca da Luz",
         "647.159.382-19",
         "bianca@exemplo.net",
         "(41) 1539-2256"
        ],
        [
         "Isaac da Paz",
         "268.091.347-78",
         "isaac@exemplo.net",
         "(09) 0071-8470"
        ],
        [
         "Ana Beatriz Dias",
         "432.580.761-62",
         "ana@exemplo.net",
         "(61) 5225-6588"
        ],
        [
         "Ana Sophia Pires",
         "706.421.358-35",
         "ana@exemplo.net",
         "(02) 1404-5891"
        ],
        [
         "Ana Luiza Moraes",
         "592.068.147-02",
         "ana@exemplo.net",
         "(51) 6645-1663"
        ],
        [
         "Alice da Rosa",
         "460.982.371-31",
         "alice@exemplo.net",
         "(55) 0619-9100"
        ],
        [
         "João Lucas das Neves",
         "359.624.810-89",
         "joão@exemplo.net",
         "(55) 0513-7878"
        ],
        [
         "Ana Clara Ribeiro",
         "589.420.763-00",
         "ana@exemplo.net",
         "(51) 0374-8175"
        ],
        [
         "Camila Silva",
         "490.756.813-48",
         "camila@exemplo.net",
         "(55) 2118-6084"
        ],
        [
         "Augusto Pereira",
         "903.714.825-50",
         "augusto@exemplo.net",
         "(55) 0716-2188"
        ],
        [
         "Emanuel das Neves",
         "093.726.581-03",
         "emanuel@exemplo.net",
         "(41) 0469-0107"
        ],
        [
         "Benjamin Barbosa",
         "041.837.962-96",
         "benjamin@exemplo.net",
         "(55) 0119-7653"
        ],
        [
         "Ana Clara Novaes",
         "820.971.356-68",
         "ana@exemplo.net",
         "(55) 1123-8694"
        ],
        [
         "Davi Luiz Correia",
         "573.169.402-80",
         "davi@exemplo.net",
         "(84) 1226-7474"
        ],
        [
         "Thiago da Mata",
         "604.892.571-94",
         "thiago@exemplo.net",
         "(08) 4827-8488"
        ],
        [
         "Maria Fernanda Ribeiro",
         "859.613.024-15",
         "maria@exemplo.net",
         "(11) 2434-6234"
        ],
        [
         "Pedro Miguel Caldeira",
         "860.357.941-57",
         "pedro@exemplo.net",
         "(41) 9810-5048"
        ],
        [
         "Gustavo Henrique Pinto",
         "963.057.124-25",
         "gustavo@exemplo.net",
         "(41) 9564-3566"
        ],
        [
         "Valentina Peixoto",
         "967.803.514-66",
         "valentina@exemplo.net",
         "(41) 9462-4619"
        ],
        [
         "Pedro Lucas Ramos",
         "269.853.407-92",
         "pedro@exemplo.net",
         "(05) 1842-5600"
        ],
        [
         "Lara Costela",
         "029.541.836-24",
         "lara@exemplo.net",
         "(55) 3190-6593"
        ],
        [
         "João Lucas da Conceição",
         "627.513.480-17",
         "joão@exemplo.net",
         "(55) 0318-0747"
        ],
        [
         "Valentina da Rosa",
         "156.089.273-03",
         "valentina@exemplo.net",
         "(55) 0511-5089"
        ],
        [
         "Esther da Conceição",
         "952.178.043-60",
         "esther@exemplo.net",
         "(02) 1675-7903"
        ],
        [
         "Luiz Gustavo da Costa",
         "237.485.916-91",
         "luiz@exemplo.net",
         "(55) 6188-6670"
        ],
        [
         "Maitê Campos",
         "083.645.729-38",
         "maitê@exemplo.net",
         "(55) 0814-5987"
        ],
        [
         "Luiz Gustavo Ferreira",
         "509.871.436-20",
         "luiz@exemplo.net",
         "(55) 7159-7838"
        ],
        [
         "Francisco Cunha",
         "780.453.961-48",
         "francisco@exemplo.net",
         "(55) 0110-1309"
        ],
        [
         "Vicente Rocha",
         "014.327.698-04",
         "vicente@exemplo.net",
         "(09) 0001-6847"
        ],
        [
         "Pedro Lucas Vieira",
         "853.096.472-10",
         "pedro@exemplo.net",
         "(06) 1588-6238"
        ],
        [
         "Mariana Castro",
         "502.768.491-67",
         "mariana@exemplo.net",
         "(55) 0849-9737"
        ],
        [
         "João da Rocha",
         "014.625.389-24",
         "joão@exemplo.net",
         "(21) 6106-5965"
        ],
        [
         "Luiz Felipe Dias",
         "038.279.145-23",
         "luiz@exemplo.net",
         "(21) 5417-5414"
        ],
        [
         "Lucca da Paz",
         "957.804.123-32",
         "lucca@exemplo.net",
         "(84) 0454-7369"
        ],
        [
         "Ana Laura Sales",
         "031.796.248-50",
         "ana@exemplo.net",
         "(02) 1540-7373"
        ],
        [
         "Renan da Luz",
         "750.921.463-70",
         "renan@exemplo.net",
         "(55) 0813-9704"
        ],
        [
         "Julia Duarte",
         "236.198.507-12",
         "julia@exemplo.net",
         "(55) 0816-8017"
        ],
        [
         "Kaique Novaes",
         "453.709.618-75",
         "kaique@exemplo.net",
         "(01) 1230-5070"
        ],
        [
         "Ana Sophia da Luz",
         "672.598.043-00",
         "ana@exemplo.net",
         "(55) 0218-0561"
        ],
        [
         "Ana Carolina Ribeiro",
         "245.790.813-23",
         "ana@exemplo.net",
         "(04) 1950-1521"
        ],
        [
         "Fernanda Silveira",
         "823.495.761-91",
         "fernanda@exemplo.net",
         "(81) 8662-9478"
        ],
        [
         "Thiago Silveira",
         "085.143.296-42",
         "thiago@exemplo.net",
         "(55) 0610-6273"
        ],
        [
         "Isis Farias",
         "493.765.821-28",
         "isis@exemplo.net",
         "(55) 1153-1325"
        ],
        [
         "Vicente Pires",
         "859.017.426-30",
         "vicente@exemplo.net",
         "(05) 1103-4619"
        ],
        [
         "Luiza Teixeira",
         "873.106.254-71",
         "luiza@exemplo.net",
         "(04) 1130-7477"
        ],
        [
         "Nicolas Souza",
         "803.619.475-93",
         "nicolas@exemplo.net",
         "(55) 0513-9080"
        ],
        [
         "Mariana Pires",
         "432.869.071-03",
         "mariana@exemplo.net",
         "(31) 9368-2860"
        ],
        [
         "Alana Carvalho",
         "310.296.574-16",
         "alana@exemplo.net",
         "(55) 4195-9639"
        ],
        [
         "Leonardo Correia",
         "351.964.087-20",
         "leonardo@exemplo.net",
         "(55) 4191-7435"
        ],
        [
         "Alexia Sales",
         "176.980.425-02",
         "alexia@exemplo.net",
         "(03) 0034-5821"
        ],
        [
         "Eloah Correia",
         "170.358.926-21",
         "eloah@exemplo.net",
         "(03) 0033-2098"
        ],
        [
         "Maria Julia Gonçalves",
         "387.269.504-56",
         "maria@exemplo.net",
         "(84) 8911-8625"
        ],
        [
         "Francisco Pires",
         "604.529.318-51",
         "francisco@exemplo.net",
         "(21) 7588-6310"
        ],
        [
         "Davi Lucas Caldeira",
         "132.504.967-07",
         "davi@exemplo.net",
         "(04) 1504-9794"
        ],
        [
         "Rafael Ferreira",
         "965.418.027-85",
         "rafael@exemplo.net",
         "(01) 1462-1352"
        ],
        [
         "Ana Carolina da Costa",
         "675.432.908-47",
         "ana@exemplo.net",
         "(05) 0057-8090"
        ],
        [
         "Beatriz Cardoso",
         "296.450.817-85",
         "beatriz@exemplo.net",
         "(55) 5128-1460"
        ],
        [
         "Bianca Oliveira",
         "678.453.920-65",
         "bianca@exemplo.net",
         "(01) 1795-2968"
        ],
        [
         "Paulo Ferreira",
         "619.583.240-51",
         "paulo@exemplo.net",
         "(05) 0037-3004"
        ],
        [
         "Noah Peixoto",
         "512.378.960-02",
         "noah@exemplo.net",
         "(55) 1148-2325"
        ],
        [
         "Manuela Jesus",
         "493.821.056-89",
         "manuela@exemplo.net",
         "(55) 6139-6131"
        ],
        [
         "Pedro Henrique Peixoto",
         "745.261.938-28",
         "pedro@exemplo.net",
         "(02) 1435-5033"
        ],
        [
         "Fernando Moraes",
         "752.189.460-01",
         "fernando@exemplo.net",
         "(55) 0711-8363"
        ],
        [
         "Lucca Costela",
         "140.783.956-00",
         "lucca@exemplo.net",
         "(55) 0210-5494"
        ],
        [
         "Maria Vitória Mendes",
         "364.918.527-09",
         "maria@exemplo.net",
         "(55) 1198-0484"
        ],
        [
         "Paulo Silveira",
         "456.210.983-15",
         "paulo@exemplo.net",
         "(55) 0114-2394"
        ],
        [
         "Isabella Gomes",
         "041.296.358-24",
         "isabella@exemplo.net",
         "(55) 8190-3930"
        ],
        [
         "Davi da Rosa",
         "769.431.852-09",
         "davi@exemplo.net",
         "(55) 8179-7880"
        ],
        [
         "João Pedro Pereira",
         "218.579.340-32",
         "joão@exemplo.net",
         "(55) 1163-9966"
        ],
        [
         "Gustavo Farias",
         "384.510.267-53",
         "gustavo@exemplo.net",
         "(55) 0810-1138"
        ],
        [
         "Sophie Rezende",
         "352.894.160-05",
         "sophie@exemplo.net",
         "(07) 1924-9637"
        ],
        [
         "Igor Farias",
         "697.825.341-37",
         "igor@exemplo.net",
         "(55) 0616-4789"
        ],
        [
         "Pedro Henrique Nascimento",
         "024.173.596-34",
         "pedro@exemplo.net",
         "(55) 8433-7824"
        ],
        [
         "Isis Dias",
         "829.416.730-40",
         "isis@exemplo.net",
         "(84) 7868-2741"
        ],
        [
         "Luiz Henrique Sales",
         "852.934.107-41",
         "luiz@exemplo.net",
         "(55) 0710-3172"
        ],
        [
         "Luna Freitas",
         "718.260.439-69",
         "luna@exemplo.net",
         "(05) 0084-0098"
        ],
        [
         "Nathan Correia",
         "287.649.150-85",
         "nathan@exemplo.net",
         "(55) 0848-9835"
        ],
        [
         "Vitor Hugo da Luz",
         "049.762.831-78",
         "vitor@exemplo.net",
         "(08) 1508-5050"
        ],
        [
         "Leonardo da Cunha",
         "390.687.512-12",
         "leonardo@exemplo.net",
         "(04) 1164-9628"
        ],
        [
         "Nicolas da Mota",
         "714.526.389-00",
         "nicolas@exemplo.net",
         "(06) 1425-4542"
        ],
        [
         "Diogo Porto",
         "251.730.896-95",
         "diogo@exemplo.net",
         "(55) 8177-3541"
        ],
        [
         "Luana da Cunha",
         "063.721.495-16",
         "luana@exemplo.net",
         "(55) 0818-8295"
        ],
        [
         "João Guilherme Carvalho",
         "024.867.913-96",
         "joão@exemplo.net",
         "(05) 1013-1757"
        ],
        [
         "Laís da Mata",
         "281.905.634-24",
         "laís@exemplo.net",
         "(55) 6149-5843"
        ],
        [
         "Brenda Gomes",
         "415.378.260-26",
         "brenda@exemplo.net",
         "(55) 0613-7787"
        ],
        [
         "Leandro Castro",
         "065.813.279-21",
         "leandro@exemplo.net",
         "(55) 3139-0241"
        ],
        [
         "Maria Vitória Melo",
         "607.415.982-30",
         "maria@exemplo.net",
         "(55) 3133-9667"
        ],
        [
         "Augusto da Paz",
         "780.642.395-83",
         "augusto@exemplo.net",
         "(08) 1590-7600"
        ],
        [
         "Mirella Moura",
         "620.489.153-70",
         "mirella@exemplo.net",
         "(55) 0414-1945"
        ],
        [
         "Francisco Correia",
         "902.548.731-97",
         "francisco@exemplo.net",
         "(21) 0886-4066"
        ],
        [
         "Alice Melo",
         "682.094.357-10",
         "alice@exemplo.net",
         "(61) 4399-0055"
        ],
        [
         "Elisa Correia",
         "140.358.697-75",
         "elisa@exemplo.net",
         "(55) 4144-4688"
        ],
        [
         "João Lucas Almeida",
         "405.931.762-43",
         "joão@exemplo.net",
         "(07) 1271-6786"
        ],
        [
         "Ian Oliveira",
         "235.670.891-02",
         "ian@exemplo.net",
         "(55) 3151-1650"
        ],
        [
         "Milena Costa",
         "589.361.247-73",
         "milena@exemplo.net",
         "(55) 0116-4758"
        ],
        [
         "Carolina Nascimento",
         "462.130.578-62",
         "carolina@exemplo.net",
         "(55) 0215-0053"
        ],
        [
         "João Vitor Martins",
         "358.642.970-38",
         "joão@exemplo.net",
         "(55) 1128-0468"
        ],
        [
         "Ana Clara Castro",
         "641.305.279-16",
         "ana@exemplo.net",
         "(08) 0045-4683"
        ],
        [
         "Carolina Pires",
         "807.391.526-02",
         "carolina@exemplo.net",
         "(81) 7466-9927"
        ],
        [
         "Alexandre Castro",
         "094.275.368-29",
         "alexandre@exemplo.net",
         "(11) 0858-8990"
        ],
        [
         "Laura Azevedo",
         "642.819.750-20",
         "laura@exemplo.net",
         "(61) 5143-2882"
        ],
        [
         "Gabriel Teixeira",
         "957.401.682-01",
         "gabriel@exemplo.net",
         "(07) 1854-3843"
        ],
        [
         "Francisco Santos",
         "092.385.167-40",
         "francisco@exemplo.net",
         "(55) 7161-1855"
        ],
        [
         "Lorena Dias",
         "507.918.246-67",
         "lorena@exemplo.net",
         "(55) 0713-4200"
        ],
        [
         "Alana Pereira",
         "651.230.794-16",
         "alana@exemplo.net",
         "(55) 0710-7103"
        ],
        [
         "Cauã Monteiro",
         "921.684.357-82",
         "cauã@exemplo.net",
         "(51) 7954-1892"
        ],
        [
         "Milena da Costa",
         "651.830.472-35",
         "milena@exemplo.net",
         "(41) 4801-5610"
        ],
        [
         "Noah Monteiro",
         "937.042.618-31",
         "noah@exemplo.net",
         "(55) 8497-6050"
        ],
        [
         "Helena Silveira",
         "984.562.017-58",
         "helena@exemplo.net",
         "(55) 0516-6693"
        ],
        [
         "Thiago da Cruz",
         "963.082.471-03",
         "thiago@exemplo.net",
         "(55) 0615-2442"
        ],
        [
         "Luiz Otávio Gonçalves",
         "623.057.819-03",
         "luiz@exemplo.net",
         "(55) 0819-5769"
        ],
        [
         "Clara Pinto",
         "351.062.847-08",
         "clara@exemplo.net",
         "(55) 5139-9659"
        ],
        [
         "Guilherme Rodrigues",
         "157.832.096-86",
         "guilherme@exemplo.net",
         "(55) 8478-1127"
        ],
        [
         "Marcelo Duarte",
         "946.831.250-05",
         "marcelo@exemplo.net",
         "(61) 9684-6038"
        ],
        [
         "Yago da Cruz",
         "981.634.057-75",
         "yago@exemplo.net",
         "(55) 0813-3994"
        ],
        [
         "Benjamin Carvalho",
         "705.296.143-16",
         "benjamin@exemplo.net",
         "(06) 1176-3126"
        ],
        [
         "Vinicius Costa",
         "082.769.531-40",
         "vinicius@exemplo.net",
         "(55) 2133-1837"
        ],
        [
         "Ana Sophia Pinto",
         "892.143.067-96",
         "ana@exemplo.net",
         "(55) 0215-7625"
        ],
        [
         "João Miguel Nunes",
         "967.423.085-83",
         "joão@exemplo.net",
         "(55) 3100-4510"
        ],
        [
         "Raul Oliveira",
         "195.084.736-57",
         "raul@exemplo.net",
         "(55) 0847-5706"
        ],
        [
         "Caroline Nogueira",
         "682.174.509-94",
         "caroline@exemplo.net",
         "(55) 1181-2891"
        ],
        [
         "Fernanda Dias",
         "059.167.842-01",
         "fernanda@exemplo.net",
         "(08) 0067-2833"
        ],
        [
         "Maria Vitória Teixeira",
         "937.806.542-29",
         "maria@exemplo.net",
         "(55) 6181-2834"
        ],
        [
         "Isabella Fogaça",
         "319.507.826-03",
         "isabella@exemplo.net",
         "(55) 0212-3188"
        ],
        [
         "Maria Julia Araújo",
         "031.476.528-07",
         "maria@exemplo.net",
         "(55) 0519-0133"
        ],
        [
         "Maria Sophia Caldeira",
         "309.541.768-39",
         "maria@exemplo.net",
         "(07) 1340-1433"
        ],
        [
         "Luiz Gustavo Freitas",
         "052.641.783-80",
         "luiz@exemplo.net",
         "(03) 0068-2728"
        ],
        [
         "Yuri Vieira",
         "483.961.075-48",
         "yuri@exemplo.net",
         "(02) 1428-5043"
        ],
        [
         "João Felipe Fernandes",
         "094.586.317-93",
         "joão@exemplo.net",
         "(08) 4623-8577"
        ],
        [
         "Emanuel Barros",
         "731.096.582-59",
         "emanuel@exemplo.net",
         "(55) 0713-6677"
        ],
        [
         "Vitor Hugo Silveira",
         "638.270.519-59",
         "vitor@exemplo.net",
         "(41) 3973-7364"
        ],
        [
         "Enzo Gabriel Ferreira",
         "638.721.450-53",
         "enzo@exemplo.net",
         "(55) 4105-3764"
        ],
        [
         "Yago Moreira",
         "325.067.918-68",
         "yago@exemplo.net",
         "(05) 1771-5067"
        ],
        [
         "Ana Clara Silva",
         "769.542.801-94",
         "ana@exemplo.net",
         "(55) 8196-3952"
        ],
        [
         "Emilly Carvalho",
         "271.854.396-55",
         "emilly@exemplo.net",
         "(55) 0216-1145"
        ],
        [
         "Caroline Araújo",
         "763.192.058-30",
         "caroline@exemplo.net",
         "(55) 5164-5108"
        ],
        [
         "Anthony Silveira",
         "586.743.021-90",
         "anthony@exemplo.net",
         "(55) 0115-8250"
        ],
        [
         "Esther Rodrigues",
         "807.316.529-59",
         "esther@exemplo.net",
         "(55) 0415-6169"
        ],
        [
         "Alice Nogueira",
         "956.413.207-06",
         "alice@exemplo.net",
         "(84) 5893-6145"
        ],
        [
         "Lavínia da Cruz",
         "521.683.490-70",
         "lavínia@exemplo.net",
         "(55) 4151-7639"
        ],
        [
         "Lavínia da Rosa",
         "381.642.509-70",
         "lavínia@exemplo.net",
         "(55) 0317-0300"
        ],
        [
         "Francisco Rocha",
         "216.098.435-33",
         "francisco@exemplo.net",
         "(71) 3906-8713"
        ],
        [
         "Heloísa Rezende",
         "352.701.689-95",
         "heloísa@exemplo.net",
         "(09) 0082-3767"
        ],
        [
         "Isabella Martins",
         "863.471.952-91",
         "isabella@exemplo.net",
         "(55) 0212-0563"
        ],
        [
         "Thales Mendes",
         "391.520.478-14",
         "thales@exemplo.net",
         "(08) 1513-9926"
        ],
        [
         "Pedro da Mota",
         "048.739.125-04",
         "pedro@exemplo.net",
         "(55) 8432-6020"
        ],
        [
         "Kamilly Gomes",
         "082.514.736-08",
         "kamilly@exemplo.net",
         "(21) 8493-9103"
        ],
        [
         "Pedro Miguel Jesus",
         "504.316.298-89",
         "pedro@exemplo.net",
         "(55) 0412-8451"
        ],
        [
         "Vitor Porto",
         "214.837.096-04",
         "vitor@exemplo.net",
         "(55) 0818-8374"
        ],
        [
         "Vinicius Araújo",
         "287.694.031-04",
         "vinicius@exemplo.net",
         "(81) 7898-8473"
        ],
        [
         "Alice Santos",
         "621.980.534-89",
         "alice@exemplo.net",
         "(07) 1357-4482"
        ],
        [
         "Rafaela da Cruz",
         "459.312.870-60",
         "rafaela@exemplo.net",
         "(55) 7186-3884"
        ],
        [
         "Alícia Azevedo",
         "159.378.062-12",
         "alícia@exemplo.net",
         "(55) 0713-7200"
        ],
        [
         "Alana Correia",
         "369.728.105-40",
         "alana@exemplo.net",
         "(55) 0110-1687"
        ],
        [
         "Levi Gomes",
         "173.940.256-16",
         "levi@exemplo.net",
         "(04) 1979-6403"
        ],
        [
         "Helena Vieira",
         "653.017.982-86",
         "helena@exemplo.net",
         "(55) 8190-2188"
        ],
        [
         "Cecília Ramos",
         "698.325.147-46",
         "cecília@exemplo.net",
         "(55) 4135-8095"
        ],
        [
         "Thales Lopes",
         "049.713.568-00",
         "thales@exemplo.net",
         "(06) 1110-5639"
        ],
        [
         "Sophie Teixeira",
         "417.265.398-73",
         "sophie@exemplo.net",
         "(55) 0112-7123"
        ],
        [
         "Vicente Castro",
         "921.548.036-60",
         "vicente@exemplo.net",
         "(55) 2173-0784"
        ],
        [
         "Danilo Silveira",
         "160.395.728-68",
         "danilo@exemplo.net",
         "(51) 4688-6921"
        ],
        [
         "Leandro Lopes",
         "781.029.534-97",
         "leandro@exemplo.net",
         "(55) 0115-2254"
        ],
        [
         "Isabelly Cardoso",
         "203.519.467-99",
         "isabelly@exemplo.net",
         "(84) 8743-9901"
        ],
        [
         "Benício Costela",
         "359.842.601-15",
         "benício@exemplo.net",
         "(55) 8457-8804"
        ],
        [
         "Mariane Moura",
         "193.048.572-79",
         "mariane@exemplo.net",
         "(55) 0611-2144"
        ],
        [
         "Pedro Henrique Dias",
         "398.570.426-00",
         "pedro@exemplo.net",
         "(55) 0417-6952"
        ],
        [
         "Mariana Aragão",
         "438.970.526-10",
         "mariana@exemplo.net",
         "(55) 0219-6934"
        ],
        [
         "Matheus Rocha",
         "492.603.175-25",
         "matheus@exemplo.net",
         "(21) 6712-2641"
        ],
        [
         "Maria Vitória Barbosa",
         "349.857.106-01",
         "maria@exemplo.net",
         "(55) 0111-2116"
        ],
        [
         "Matheus Peixoto",
         "083.672.541-71",
         "matheus@exemplo.net",
         "(03) 0074-1553"
        ],
        [
         "Ana Carolina Ferreira",
         "456.798.201-02",
         "ana@exemplo.net",
         "(55) 0840-8175"
        ],
        [
         "Luiz Gustavo da Luz",
         "190.826.543-42",
         "luiz@exemplo.net",
         "(06) 1295-7237"
        ],
        [
         "Miguel Lopes",
         "103.892.754-41",
         "miguel@exemplo.net",
         "(31) 5869-3256"
        ],
        [
         "Murilo da Conceição",
         "637.824.051-53",
         "murilo@exemplo.net",
         "(55) 6122-1624"
        ],
        [
         "João Miguel Lopes",
         "425.016.798-49",
         "joão@exemplo.net",
         "(55) 5142-8117"
        ],
        [
         "Ana Laura Carvalho",
         "648.701.392-78",
         "ana@exemplo.net",
         "(11) 6353-3860"
        ],
        [
         "Pedro Lucas Rezende",
         "186.945.203-89",
         "pedro@exemplo.net",
         "(55) 8158-3182"
        ],
        [
         "Isis Oliveira",
         "184.256.397-19",
         "isis@exemplo.net",
         "(09) 0051-8545"
        ],
        [
         "Thomas Barbosa",
         "653.089.712-77",
         "thomas@exemplo.net",
         "(55) 3162-2734"
        ],
        [
         "Nina da Paz",
         "890.453.612-05",
         "nina@exemplo.net",
         "(41) 7667-7648"
        ],
        [
         "Ana Carolina Moreira",
         "572.908.463-38",
         "ana@exemplo.net",
         "(01) 1301-1065"
        ],
        [
         "Maria Eduarda da Paz",
         "596.231.740-80",
         "maria@exemplo.net",
         "(55) 0714-4808"
        ],
        [
         "Ana Júlia Fogaça",
         "347.092.156-34",
         "ana@exemplo.net",
         "(61) 9827-1787"
        ],
        [
         "Marcos Vinicius Jesus",
         "175.402.863-26",
         "marcos@exemplo.net",
         "(55) 2147-9135"
        ],
        [
         "Lívia Duarte",
         "803.652.794-47",
         "lívia@exemplo.net",
         "(55) 5146-5749"
        ],
        [
         "Nicolas Costela",
         "318.264.095-05",
         "nicolas@exemplo.net",
         "(31) 7361-8293"
        ],
        [
         "Murilo Ferreira",
         "590.218.437-14",
         "murilo@exemplo.net",
         "(71) 0066-0853"
        ],
        [
         "Thales da Paz",
         "671.954.803-48",
         "thales@exemplo.net",
         "(07) 1723-5646"
        ],
        [
         "Sarah Costela",
         "169.702.843-87",
         "sarah@exemplo.net",
         "(07) 1246-8415"
        ],
        [
         "Luiza Dias",
         "524.679.310-99",
         "luiza@exemplo.net",
         "(55) 6179-6606"
        ],
        [
         "Leonardo Duarte",
         "930.856.421-70",
         "leonardo@exemplo.net",
         "(51) 2303-4836"
        ],
        [
         "João Felipe Freitas",
         "584.607.139-20",
         "joão@exemplo.net",
         "(04) 1121-4779"
        ],
        [
         "Luiz Otávio Ramos",
         "396.147.250-52",
         "luiz@exemplo.net",
         "(07) 1231-4690"
        ],
        [
         "Fernando Souza",
         "892.410.536-15",
         "fernando@exemplo.net",
         "(41) 5901-0871"
        ],
        [
         "Juliana da Luz",
         "124.309.578-41",
         "juliana@exemplo.net",
         "(08) 1694-2716"
        ],
        [
         "Luiz Gustavo das Neves",
         "594.386.217-09",
         "luiz@exemplo.net",
         "(55) 5111-7472"
        ],
        [
         "Joaquim Cardoso",
         "697.543.021-70",
         "joaquim@exemplo.net",
         "(55) 4198-4769"
        ],
        [
         "Evelyn Fernandes",
         "385.169.742-19",
         "evelyn@exemplo.net",
         "(55) 3192-0105"
        ],
        [
         "Vitor Farias",
         "560.429.183-89",
         "vitor@exemplo.net",
         "(55) 2153-7746"
        ],
        [
         "Davi Lucas Farias",
         "376.280.194-04",
         "davi@exemplo.net",
         "(51) 0741-6481"
        ],
        [
         "Rebeca Martins",
         "182.347.059-97",
         "rebeca@exemplo.net",
         "(55) 0219-1107"
        ],
        [
         "Lucca Martins",
         "692.348.517-73",
         "lucca@exemplo.net",
         "(02) 1543-9888"
        ],
        [
         "Eloah Viana",
         "064.597.182-02",
         "eloah@exemplo.net",
         "(41) 3541-8881"
        ],
        [
         "Heitor da Conceição",
         "928.704.136-96",
         "heitor@exemplo.net",
         "(55) 3184-0826"
        ],
        [
         "Davi Lucca Lima",
         "572.083.146-08",
         "davi@exemplo.net",
         "(06) 1043-5573"
        ],
        [
         "Davi Luiz Freitas",
         "589.316.240-42",
         "davi@exemplo.net",
         "(71) 6148-4936"
        ],
        [
         "Raul Fernandes",
         "563.189.047-00",
         "raul@exemplo.net",
         "(02) 1943-0509"
        ],
        [
         "Luna da Mota",
         "328.974.051-04",
         "luna@exemplo.net",
         "(08) 4517-2037"
        ],
        [
         "Laís Ramos",
         "457.608.391-01",
         "laís@exemplo.net",
         "(04) 1078-6158"
        ],
        [
         "Letícia Moura",
         "697.125.830-40",
         "letícia@exemplo.net",
         "(55) 8480-6548"
        ],
        [
         "Maysa Cavalcanti",
         "943.062.517-99",
         "maysa@exemplo.net",
         "(55) 7163-1702"
        ],
        [
         "Júlia Sales",
         "764.908.312-87",
         "júlia@exemplo.net",
         "(61) 6351-2735"
        ],
        [
         "Lara da Cruz",
         "974.603.851-66",
         "lara@exemplo.net",
         "(55) 2194-8917"
        ],
        [
         "Eloah Freitas",
         "345.917.802-79",
         "eloah@exemplo.net",
         "(11) 0090-4166"
        ],
        [
         "João Pedro Rodrigues",
         "812.509.734-14",
         "joão@exemplo.net",
         "(55) 5113-6882"
        ],
        [
         "Erick Viana",
         "365.729.480-56",
         "erick@exemplo.net",
         "(55) 0114-0460"
        ],
        [
         "Diego da Mota",
         "456.937.102-70",
         "diego@exemplo.net",
         "(11) 7144-1058"
        ],
        [
         "Isabella Costela",
         "946.723.850-00",
         "isabella@exemplo.net",
         "(55) 1103-8504"
        ],
        [
         "Vitória Barbosa",
         "984.013.765-48",
         "vitória@exemplo.net",
         "(01) 1170-0694"
        ],
        [
         "Maria Alice Farias",
         "803.576.492-65",
         "maria@exemplo.net",
         "(55) 8127-9398"
        ],
        [
         "Paulo Cunha",
         "897.652.130-77",
         "paulo@exemplo.net",
         "(55) 0710-0106"
        ],
        [
         "Maria Cecília da Costa",
         "329.486.017-03",
         "maria@exemplo.net",
         "(03) 0072-9580"
        ],
        [
         "João Miguel Vieira",
         "204.987.531-23",
         "joão@exemplo.net",
         "(03) 1741-9859"
        ],
        [
         "Nina Almeida",
         "674.398.501-57",
         "nina@exemplo.net",
         "(04) 1665-4063"
        ],
        [
         "Luiz Gustavo Lima",
         "753.196.028-12",
         "luiz@exemplo.net",
         "(55) 0614-9669"
        ],
        [
         "Maria Vitória Jesus",
         "586.493.021-06",
         "maria@exemplo.net",
         "(55) 0840-1923"
        ],
        [
         "Kevin Novaes",
         "928.403.516-33",
         "kevin@exemplo.net",
         "(55) 8465-0851"
        ],
        [
         "Letícia da Rosa",
         "026.974.513-07",
         "letícia@exemplo.net",
         "(08) 0029-2318"
        ],
        [
         "Isabelly Farias",
         "259.748.301-05",
         "isabelly@exemplo.net",
         "(55) 5162-2587"
        ],
        [
         "Juan Duarte",
         "156.438.920-06",
         "juan@exemplo.net",
         "(11) 2290-1514"
        ],
        [
         "Maitê Campos",
         "795.084.632-10",
         "maitê@exemplo.net",
         "(81) 0610-2497"
        ],
        [
         "Clarice Mendes",
         "680.371.249-40",
         "clarice@exemplo.net",
         "(07) 1340-8323"
        ],
        [
         "João Gabriel Teixeira",
         "065.941.783-93",
         "joão@exemplo.net",
         "(55) 8167-5560"
        ],
        [
         "Eloah Peixoto",
         "791.382.645-28",
         "eloah@exemplo.net",
         "(55) 7122-8768"
        ],
        [
         "Felipe Correia",
         "792.835.016-59",
         "felipe@exemplo.net",
         "(55) 0710-0021"
        ],
        [
         "Maitê Rezende",
         "219.468.350-05",
         "maitê@exemplo.net",
         "(09) 0051-7627"
        ],
        [
         "João Moraes",
         "192.375.648-64",
         "joão@exemplo.net",
         "(03) 1581-9322"
        ],
        [
         "Isadora Cunha",
         "580.913.276-68",
         "isadora@exemplo.net",
         "(09) 0003-8313"
        ],
        [
         "Ana Vitória Pereira",
         "427.305.698-47",
         "ana@exemplo.net",
         "(05) 0092-0024"
        ],
        [
         "João Guilherme Barros",
         "297.308.164-50",
         "joão@exemplo.net",
         "(04) 1422-1410"
        ],
        [
         "Vitor Hugo Nunes",
         "380.469.725-92",
         "vitor@exemplo.net",
         "(08) 0091-8937"
        ],
        [
         "Clara Ribeiro",
         "219.053.746-07",
         "clara@exemplo.net",
         "(05) 1441-2374"
        ],
        [
         "Manuela da Cruz",
         "935.271.806-21",
         "manuela@exemplo.net",
         "(55) 6146-9111"
        ],
        [
         "Felipe Fogaça",
         "301.249.578-97",
         "felipe@exemplo.net",
         "(05) 0009-0615"
        ],
        [
         "Enzo Castro",
         "450.867.312-08",
         "enzo@exemplo.net",
         "(21) 0987-2655"
        ],
        [
         "Igor Azevedo",
         "140.539.826-42",
         "igor@exemplo.net",
         "(51) 5662-5534"
        ],
        [
         "Davi Lucas da Rocha",
         "083.612.457-07",
         "davi@exemplo.net",
         "(02) 1025-7385"
        ],
        [
         "Raquel Silveira",
         "509.213.687-12",
         "raquel@exemplo.net",
         "(55) 2145-0400"
        ],
        [
         "Ana Lívia Peixoto",
         "189.247.560-01",
         "ana@exemplo.net",
         "(03) 0063-5473"
        ],
        [
         "Emanuel Rezende",
         "791.082.435-14",
         "emanuel@exemplo.net",
         "(61) 8720-3403"
        ],
        [
         "Vitor Hugo da Costa",
         "950.718.463-57",
         "vitor@exemplo.net",
         "(03) 0051-7063"
        ],
        [
         "Ana Sophia Fernandes",
         "237.806.519-12",
         "ana@exemplo.net",
         "(31) 9548-5078"
        ],
        [
         "Mariana da Mota",
         "263.795.810-30",
         "mariana@exemplo.net",
         "(55) 0119-2598"
        ],
        [
         "Clarice Costela",
         "728.435.601-44",
         "clarice@exemplo.net",
         "(02) 1050-6027"
        ],
        [
         "Sophia Porto",
         "340.261.598-33",
         "sophia@exemplo.net",
         "(55) 0818-7866"
        ],
        [
         "Juliana Duarte",
         "587.120.396-59",
         "juliana@exemplo.net",
         "(55) 5178-3627"
        ],
        [
         "Vinicius da Rosa",
         "973.104.586-48",
         "vinicius@exemplo.net",
         "(05) 1778-3698"
        ],
        [
         "Igor Ribeiro",
         "496.712.503-43",
         "igor@exemplo.net",
         "(55) 6110-4037"
        ],
        [
         "Marcela Ramos",
         "138.695.420-98",
         "marcela@exemplo.net",
         "(06) 1255-1320"
        ],
        [
         "Clarice Peixoto",
         "285.690.731-86",
         "clarice@exemplo.net",
         "(84) 9185-4619"
        ],
        [
         "Daniela Costela",
         "861.490.527-02",
         "daniela@exemplo.net",
         "(55) 0516-3248"
        ],
        [
         "Valentina Cunha",
         "803.294.761-22",
         "valentina@exemplo.net",
         "(41) 6836-2084"
        ],
        [
         "Ana Nogueira",
         "821.903.456-42",
         "ana@exemplo.net",
         "(84) 9771-5271"
        ],
        [
         "Isabel Rezende",
         "619.054.732-06",
         "isabel@exemplo.net",
         "(55) 0417-6059"
        ],
        [
         "Isabella Campos",
         "341.708.529-23",
         "isabella@exemplo.net",
         "(08) 1485-3323"
        ],
        [
         "Mirella Pereira",
         "175.204.638-26",
         "mirella@exemplo.net",
         "(55) 0716-7731"
        ],
        [
         "Breno Azevedo",
         "617.438.920-04",
         "breno@exemplo.net",
         "(08) 1029-3498"
        ],
        [
         "Stella Fogaça",
         "873.210.956-30",
         "stella@exemplo.net",
         "(09) 0027-1957"
        ],
        [
         "Luiz Gustavo Pereira",
         "695.823.170-86",
         "luiz@exemplo.net",
         "(55) 0610-0417"
        ],
        [
         "Paulo Rocha",
         "821.659.470-49",
         "paulo@exemplo.net",
         "(55) 0711-5987"
        ],
        [
         "Gabriel Dias",
         "762.041.358-80",
         "gabriel@exemplo.net",
         "(55) 2149-7155"
        ],
        [
         "Caio Santos",
         "827.549.361-73",
         "caio@exemplo.net",
         "(08) 0030-1749"
        ],
        [
         "Caroline da Mota",
         "925.408.361-51",
         "caroline@exemplo.net",
         "(05) 1337-8110"
        ],
        [
         "Theo Barbosa",
         "816.054.397-20",
         "theo@exemplo.net",
         "(06) 1771-3233"
        ],
        [
         "Murilo Ribeiro",
         "618.342.509-51",
         "murilo@exemplo.net",
         "(55) 0716-9413"
        ],
        [
         "Vitor Hugo Silveira",
         "091.862.435-51",
         "vitor@exemplo.net",
         "(55) 0817-2799"
        ],
        [
         "Cauã Araújo",
         "723.698.150-86",
         "cauã@exemplo.net",
         "(11) 2786-1235"
        ],
        [
         "Sophie Souza",
         "089.126.734-40",
         "sophie@exemplo.net",
         "(55) 0219-5501"
        ],
        [
         "Clara Nunes",
         "397.028.614-03",
         "clara@exemplo.net",
         "(55) 8493-1877"
        ],
        [
         "Joaquim Gonçalves",
         "197.520.436-07",
         "joaquim@exemplo.net",
         "(55) 8481-9191"
        ],
        [
         "Thiago Silveira",
         "238.640.597-47",
         "thiago@exemplo.net",
         "(04) 1443-2530"
        ],
        [
         "Ana Júlia Campos",
         "653.021.947-16",
         "ana@exemplo.net",
         "(55) 0518-5461"
        ],
        [
         "Isabel da Cruz",
         "506.428.139-06",
         "isabel@exemplo.net",
         "(07) 1630-8589"
        ],
        [
         "Brenda da Rocha",
         "186.073.952-03",
         "brenda@exemplo.net",
         "(55) 0413-9695"
        ],
        [
         "Nathan Nascimento",
         "854.973.126-91",
         "nathan@exemplo.net",
         "(01) 1804-8858"
        ],
        [
         "Ian Pinto",
         "012.365.897-77",
         "ian@exemplo.net",
         "(81) 9725-9068"
        ],
        [
         "Maria Silva",
         "219.756.480-30",
         "maria@exemplo.net",
         "(11) 4903-7448"
        ],
        [
         "Nicole Almeida",
         "745.281.369-37",
         "nicole@exemplo.net",
         "(55) 0842-4498"
        ],
        [
         "Diogo Cardoso",
         "049.157.863-66",
         "diogo@exemplo.net",
         "(21) 0393-7198"
        ],
        [
         "Ana Vitória Ribeiro",
         "518.397.206-03",
         "ana@exemplo.net",
         "(55) 8480-9581"
        ],
        [
         "Benjamin Moreira",
         "769.508.231-77",
         "benjamin@exemplo.net",
         "(03) 0083-5382"
        ],
        [
         "Kaique Gomes",
         "674.281.539-64",
         "kaique@exemplo.net",
         "(55) 0817-5515"
        ],
        [
         "Enrico Aragão",
         "728.345.916-28",
         "enrico@exemplo.net",
         "(21) 0255-1171"
        ],
        [
         "Pietra Peixoto",
         "752.368.491-28",
         "pietra@exemplo.net",
         "(03) 0034-2148"
        ],
        [
         "Francisco Correia",
         "394.580.716-66",
         "francisco@exemplo.net",
         "(08) 1782-0916"
        ],
        [
         "Olivia Rodrigues",
         "840.593.716-10",
         "olivia@exemplo.net",
         "(55) 0715-3545"
        ],
        [
         "Igor Farias",
         "756.829.013-12",
         "igor@exemplo.net",
         "(84) 9514-8576"
        ],
        [
         "Murilo Pires",
         "816.905.274-20",
         "murilo@exemplo.net",
         "(55) 7105-7964"
        ],
        [
         "Calebe da Rocha",
         "716.853.920-59",
         "calebe@exemplo.net",
         "(81) 6019-1529"
        ],
        [
         "Evelyn da Conceição",
         "410.578.632-62",
         "evelyn@exemplo.net",
         "(07) 1844-7243"
        ],
        [
         "Raul Cardoso",
         "037.548.691-75",
         "raul@exemplo.net",
         "(31) 4959-9678"
        ],
        [
         "Ana Carolina Novaes",
         "905.683.174-75",
         "ana@exemplo.net",
         "(55) 0519-5134"
        ],
        [
         "Giovanna das Neves",
         "708.921.634-96",
         "giovanna@exemplo.net",
         "(01) 1772-4359"
        ],
        [
         "Nicole da Paz",
         "027.154.369-80",
         "nicole@exemplo.net",
         "(04) 1594-4680"
        ],
        [
         "Valentina da Mata",
         "279.140.368-03",
         "valentina@exemplo.net",
         "(31) 1155-4114"
        ],
        [
         "Erick Caldeira",
         "327.691.845-55",
         "erick@exemplo.net",
         "(03) 0063-2857"
        ],
        [
         "Fernando da Costa",
         "230.796.814-87",
         "fernando@exemplo.net",
         "(55) 4146-4376"
        ],
        [
         "Catarina Ramos",
         "296.374.015-80",
         "catarina@exemplo.net",
         "(55) 4189-9082"
        ],
        [
         "Larissa Monteiro",
         "631.840.927-04",
         "larissa@exemplo.net",
         "(21) 0855-5454"
        ],
        [
         "Francisco da Cruz",
         "957.802.614-58",
         "francisco@exemplo.net",
         "(55) 0113-9528"
        ],
        [
         "João Felipe Azevedo",
         "480.713.596-10",
         "joão@exemplo.net",
         "(55) 6184-0141"
        ],
        [
         "Caio das Neves",
         "479.180.356-66",
         "caio@exemplo.net",
         "(11) 6548-2480"
        ],
        [
         "Gabrielly Araújo",
         "612.974.530-34",
         "gabrielly@exemplo.net",
         "(55) 8116-2689"
        ],
        [
         "Samuel Silveira",
         "168.593.420-05",
         "samuel@exemplo.net",
         "(55) 0842-1699"
        ],
        [
         "Heloísa Aragão",
         "652.047.189-58",
         "heloísa@exemplo.net",
         "(81) 4197-9778"
        ],
        [
         "Lívia Freitas",
         "451.906.273-06",
         "lívia@exemplo.net",
         "(05) 0070-8789"
        ],
        [
         "Daniela Nogueira",
         "071.849.236-69",
         "daniela@exemplo.net",
         "(31) 2593-7299"
        ],
        [
         "Rafael Jesus",
         "273.680.915-77",
         "rafael@exemplo.net",
         "(08) 1664-2536"
        ],
        [
         "Thiago Duarte",
         "043.819.752-60",
         "thiago@exemplo.net",
         "(08) 0017-9924"
        ],
        [
         "Yasmin Aragão",
         "923.407.618-40",
         "yasmin@exemplo.net",
         "(07) 1465-3750"
        ],
        [
         "Felipe Correia",
         "137.526.948-82",
         "felipe@exemplo.net",
         "(55) 0815-4246"
        ],
        [
         "Gustavo Henrique Cardoso",
         "831.496.207-40",
         "gustavo@exemplo.net",
         "(55) 2135-4435"
        ],
        [
         "Giovanna da Mata",
         "571.480.932-79",
         "giovanna@exemplo.net",
         "(08) 4723-1958"
        ],
        [
         "André Cunha",
         "306.971.428-50",
         "andré@exemplo.net",
         "(01) 1539-5092"
        ],
        [
         "Vitor Hugo Cunha",
         "903.526.187-95",
         "vitor@exemplo.net",
         "(04) 1337-1593"
        ],
        [
         "Luiz Gustavo Alves",
         "415.932.760-52",
         "luiz@exemplo.net",
         "(55) 2139-1060"
        ],
        [
         "Rodrigo Campos",
         "027.863.195-95",
         "rodrigo@exemplo.net",
         "(61) 9707-5630"
        ],
        [
         "Emanuelly Caldeira",
         "784.163.250-90",
         "emanuelly@exemplo.net",
         "(55) 1163-1767"
        ],
        [
         "Breno Jesus",
         "937.160.485-93",
         "breno@exemplo.net",
         "(55) 3131-6984"
        ],
        [
         "Pietra Carvalho",
         "968.572.430-00",
         "pietra@exemplo.net",
         "(81) 2877-0965"
        ],
        [
         "Emilly da Luz",
         "639.871.054-10",
         "emilly@exemplo.net",
         "(55) 3102-9628"
        ],
        [
         "Mariane Ribeiro",
         "463.917.582-55",
         "mariane@exemplo.net",
         "(55) 6153-8328"
        ],
        [
         "Stephany Vieira",
         "592.316.840-51",
         "stephany@exemplo.net",
         "(04) 1267-4971"
        ],
        [
         "Ana Luiza Barros",
         "568.410.792-30",
         "ana@exemplo.net",
         "(08) 0078-1852"
        ],
        [
         "Benjamin Rezende",
         "745.981.602-76",
         "benjamin@exemplo.net",
         "(06) 1946-8779"
        ],
        [
         "Felipe Nogueira",
         "980.532.467-29",
         "felipe@exemplo.net",
         "(03) 0036-6709"
        ],
        [
         "Vicente Nunes",
         "836.912.074-13",
         "vicente@exemplo.net",
         "(55) 0717-1991"
        ],
        [
         "Ana Laura Melo",
         "920.514.873-32",
         "ana@exemplo.net",
         "(03) 1240-1528"
        ],
        [
         "Ryan Ramos",
         "921.568.403-42",
         "ryan@exemplo.net",
         "(41) 9908-1258"
        ],
        [
         "Davi Lucas Ramos",
         "802.745.163-90",
         "davi@exemplo.net",
         "(55) 0118-9162"
        ],
        [
         "Lucas Lopes",
         "409.572.618-02",
         "lucas@exemplo.net",
         "(55) 3135-6558"
        ],
        [
         "Ana Carolina Gomes",
         "853.406.297-83",
         "ana@exemplo.net",
         "(55) 8135-0291"
        ],
        [
         "Esther Sales",
         "501.963.427-16",
         "esther@exemplo.net",
         "(55) 0514-5476"
        ],
        [
         "Elisa da Rosa",
         "893.061.574-01",
         "elisa@exemplo.net",
         "(08) 1580-8584"
        ],
        [
         "Laís Peixoto",
         "958.046.712-94",
         "laís@exemplo.net",
         "(21) 6965-3594"
        ],
        [
         "Gustavo Henrique Freitas",
         "915.470.368-93",
         "gustavo@exemplo.net",
         "(04) 1471-6372"
        ],
        [
         "Sabrina Rezende",
         "409.751.283-88",
         "sabrina@exemplo.net",
         "(11) 9460-8606"
        ],
        [
         "Raul Vieira",
         "743.568.209-83",
         "raul@exemplo.net",
         "(55) 8463-7162"
        ],
        [
         "Pedro Lucas Ramos",
         "698.301.527-40",
         "pedro@exemplo.net",
         "(55) 1130-1612"
        ],
        [
         "Sophie Farias",
         "568.307.492-47",
         "sophie@exemplo.net",
         "(05) 0002-8337"
        ],
        [
         "Heloísa Nunes",
         "259.046.718-49",
         "heloísa@exemplo.net",
         "(11) 3253-3359"
        ],
        [
         "Alícia Gomes",
         "061.435.879-57",
         "alícia@exemplo.net",
         "(81) 6522-8691"
        ],
        [
         "Juan Costela",
         "981.470.326-50",
         "juan@exemplo.net",
         "(55) 0310-8281"
        ],
        [
         "Clara Caldeira",
         "314.650.287-90",
         "clara@exemplo.net",
         "(55) 4112-1805"
        ],
        [
         "Daniela da Rosa",
         "205.138.947-05",
         "daniela@exemplo.net",
         "(11) 9800-0292"
        ],
        [
         "Kaique Melo",
         "645.290.318-70",
         "kaique@exemplo.net",
         "(55) 3170-2139"
        ],
        [
         "Elisa Moreira",
         "784.965.230-47",
         "elisa@exemplo.net",
         "(08) 4989-0789"
        ],
        [
         "Raquel Aragão",
         "613.794.850-10",
         "raquel@exemplo.net",
         "(31) 2322-5572"
        ],
        [
         "Breno Araújo",
         "375.641.028-53",
         "breno@exemplo.net",
         "(55) 5153-4202"
        ],
        [
         "Bruno Martins",
         "456.239.701-25",
         "bruno@exemplo.net",
         "(03) 0089-2678"
        ],
        [
         "Raul Moreira",
         "579.063.184-39",
         "raul@exemplo.net",
         "(61) 5655-9542"
        ],
        [
         "Alana da Mota",
         "658.270.149-58",
         "alana@exemplo.net",
         "(06) 1941-9762"
        ],
        [
         "Stella da Costa",
         "825.013.794-97",
         "stella@exemplo.net",
         "(01) 1609-3446"
        ],
        [
         "Beatriz Nascimento",
         "931.042.765-52",
         "beatriz@exemplo.net",
         "(55) 0317-0620"
        ],
        [
         "Pedro Miguel Cardoso",
         "783.150.962-30",
         "pedro@exemplo.net",
         "(05) 1297-2047"
        ],
        [
         "João Guilherme da Cunha",
         "105.246.798-94",
         "joão@exemplo.net",
         "(08) 1974-5487"
        ],
        [
         "Breno Nogueira",
         "167.420.385-35",
         "breno@exemplo.net",
         "(51) 9613-4613"
        ],
        [
         "Nina Araújo",
         "973.268.145-46",
         "nina@exemplo.net",
         "(55) 0419-2056"
        ],
        [
         "Esther Dias",
         "176.839.245-55",
         "esther@exemplo.net",
         "(03) 0007-2678"
        ],
        [
         "Igor Nogueira",
         "162.935.840-15",
         "igor@exemplo.net",
         "(55) 0814-1077"
        ],
        [
         "Eloah Almeida",
         "978.230.465-47",
         "eloah@exemplo.net",
         "(55) 1199-5495"
        ],
        [
         "Isis Gomes",
         "704.286.953-29",
         "isis@exemplo.net",
         "(08) 0017-1492"
        ],
        [
         "Luiz Felipe Aragão",
         "756.931.482-46",
         "luiz@exemplo.net",
         "(55) 7198-9946"
        ],
        [
         "Kevin Rocha",
         "798.601.423-78",
         "kevin@exemplo.net",
         "(55) 4101-8152"
        ],
        [
         "Kamilly Carvalho",
         "507.316.984-01",
         "kamilly@exemplo.net",
         "(51) 1934-3726"
        ],
        [
         "Luiz Gustavo Correia",
         "435.708.621-35",
         "luiz@exemplo.net",
         "(11) 2310-7969"
        ],
        [
         "Marcela Silva",
         "410.953.678-20",
         "marcela@exemplo.net",
         "(81) 4916-4422"
        ],
        [
         "Luiz Gustavo Porto",
         "024.531.879-88",
         "luiz@exemplo.net",
         "(55) 0616-2873"
        ],
        [
         "Kaique Cunha",
         "842.596.170-01",
         "kaique@exemplo.net",
         "(08) 1952-4448"
        ],
        [
         "Brenda Cardoso",
         "512.497.386-28",
         "brenda@exemplo.net",
         "(11) 1442-4878"
        ],
        [
         "Guilherme Almeida",
         "850.126.934-42",
         "guilherme@exemplo.net",
         "(01) 1379-1511"
        ],
        [
         "Daniela Mendes",
         "385.619.742-73",
         "daniela@exemplo.net",
         "(08) 0094-7374"
        ],
        [
         "Marcos Vinicius Silveira",
         "714.052.863-26",
         "marcos@exemplo.net",
         "(55) 5134-9534"
        ],
        [
         "Alice Lima",
         "591.423.678-91",
         "alice@exemplo.net",
         "(81) 5923-4846"
        ],
        [
         "Emanuelly Souza",
         "270.163.859-30",
         "emanuelly@exemplo.net",
         "(51) 4619-4375"
        ],
        [
         "Amanda Souza",
         "049.382.167-87",
         "amanda@exemplo.net",
         "(55) 0712-5219"
        ],
        [
         "Kamilly Viana",
         "805.379.126-30",
         "kamilly@exemplo.net",
         "(31) 3710-4536"
        ],
        [
         "João Pedro Pires",
         "126.935.487-64",
         "joão@exemplo.net",
         "(05) 0087-2089"
        ],
        [
         "Emilly da Mata",
         "938.540.176-93",
         "emilly@exemplo.net",
         "(04) 1892-1935"
        ],
        [
         "Gustavo Henrique Gonçalves",
         "365.480.971-57",
         "gustavo@exemplo.net",
         "(04) 1980-8652"
        ],
        [
         "Murilo Costela",
         "362.147.598-28",
         "murilo@exemplo.net",
         "(02) 1671-8180"
        ],
        [
         "Lucas da Costa",
         "253.148.079-04",
         "lucas@exemplo.net",
         "(55) 0842-7577"
        ],
        [
         "Letícia Lopes",
         "538.049.721-79",
         "letícia@exemplo.net",
         "(55) 0119-9980"
        ],
        [
         "Helena Silveira",
         "670.581.324-53",
         "helena@exemplo.net",
         "(81) 8935-8605"
        ],
        [
         "Gabriela da Paz",
         "207.348.951-60",
         "gabriela@exemplo.net",
         "(55) 0841-2963"
        ],
        [
         "Francisco Silva",
         "389.105.276-68",
         "francisco@exemplo.net",
         "(61) 8190-7941"
        ],
        [
         "Luiz Henrique Aragão",
         "629.310.857-40",
         "luiz@exemplo.net",
         "(61) 2933-3697"
        ],
        [
         "Caroline Moraes",
         "827.195.340-05",
         "caroline@exemplo.net",
         "(55) 2163-6986"
        ],
        [
         "Benjamin Silva",
         "186.293.457-64",
         "benjamin@exemplo.net",
         "(08) 4038-7780"
        ],
        [
         "João Vitor da Paz",
         "948.632.051-98",
         "joão@exemplo.net",
         "(05) 0010-4129"
        ],
        [
         "Guilherme Pinto",
         "431.962.587-00",
         "guilherme@exemplo.net",
         "(41) 6014-0415"
        ],
        [
         "Paulo Martins",
         "925.401.863-51",
         "paulo@exemplo.net",
         "(55) 0817-7328"
        ],
        [
         "Ana Carolina Ramos",
         "631.498.507-20",
         "ana@exemplo.net",
         "(05) 0088-3895"
        ],
        [
         "Agatha Nogueira",
         "806.129.453-24",
         "agatha@exemplo.net",
         "(03) 1355-2634"
        ],
        [
         "André Novaes",
         "420.189.763-03",
         "andré@exemplo.net",
         "(55) 5170-9271"
        ]
       ],
       "datasetInfos": [],
       "dbfsResultPath": null,
       "isJsonSchema": true,
       "metadata": {},
       "overflow": false,
       "plotOptions": {
        "customPlotOptions": {},
        "displayType": "table",
        "pivotAggregation": null,
        "pivotColumns": null,
        "xColumns": null,
        "yColumns": null
       },
       "removedWidgets": [],
       "schema": [
        {
         "metadata": "{}",
         "name": "Nome",
         "type": "\"string\""
        },
        {
         "metadata": "{}",
         "name": "CPF",
         "type": "\"string\""
        },
        {
         "metadata": "{}",
         "name": "Email",
         "type": "\"string\""
        },
        {
         "metadata": "{}",
         "name": "Telefone",
         "type": "\"string\""
        }
       ],
       "type": "table"
      }
     },
     "output_type": "display_data"
    }
   ],
   "source": [
    "display(delta_clientes)"
   ]
  }
 ],
 "metadata": {
  "application/vnd.databricks.v1+notebook": {
   "dashboards": [],
   "environmentMetadata": null,
   "language": "python",
   "notebookMetadata": {
    "pythonIndentUnit": 4
   },
   "notebookName": "clientes_df2024-08-17 09:53:16",
   "widgets": {}
  }
 },
 "nbformat": 4,
 "nbformat_minor": 0
}
